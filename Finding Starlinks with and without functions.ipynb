{
 "cells": [
  {
   "cell_type": "code",
   "execution_count": null,
   "id": "6a6b4de0-58d8-4f6c-b462-f0e3d66b48b9",
   "metadata": {},
   "outputs": [],
   "source": []
  },
  {
   "cell_type": "code",
   "execution_count": 1,
   "id": "3cf17b4b",
   "metadata": {},
   "outputs": [
    {
     "name": "stdout",
     "output_type": "stream",
     "text": [
      "Collecting pyvo\n",
      "  Downloading pyvo-1.7-py3-none-any.whl (1.1 MB)\n",
      "     ---------------------------------------- 1.1/1.1 MB 301.6 kB/s eta 0:00:00\n",
      "Requirement already satisfied: astropy>=4.2 in c:\\users\\asus\\anaconda3\\lib\\site-packages (from pyvo) (5.1)\n",
      "Requirement already satisfied: requests in c:\\users\\asus\\anaconda3\\lib\\site-packages (from pyvo) (2.28.1)\n",
      "Requirement already satisfied: packaging>=19.0 in c:\\users\\asus\\anaconda3\\lib\\site-packages (from astropy>=4.2->pyvo) (21.3)\n",
      "Requirement already satisfied: numpy>=1.18 in c:\\users\\asus\\anaconda3\\lib\\site-packages (from astropy>=4.2->pyvo) (1.21.5)\n",
      "Requirement already satisfied: PyYAML>=3.13 in c:\\users\\asus\\anaconda3\\lib\\site-packages (from astropy>=4.2->pyvo) (6.0)\n",
      "Requirement already satisfied: pyerfa>=2.0 in c:\\users\\asus\\anaconda3\\lib\\site-packages (from astropy>=4.2->pyvo) (2.0.0)\n",
      "Requirement already satisfied: charset-normalizer<3,>=2 in c:\\users\\asus\\anaconda3\\lib\\site-packages (from requests->pyvo) (2.0.4)\n",
      "Requirement already satisfied: idna<4,>=2.5 in c:\\users\\asus\\anaconda3\\lib\\site-packages (from requests->pyvo) (3.3)\n",
      "Requirement already satisfied: urllib3<1.27,>=1.21.1 in c:\\users\\asus\\anaconda3\\lib\\site-packages (from requests->pyvo) (1.26.11)\n",
      "Requirement already satisfied: certifi>=2017.4.17 in c:\\users\\asus\\anaconda3\\lib\\site-packages (from requests->pyvo) (2022.9.14)\n",
      "Requirement already satisfied: pyparsing!=3.0.5,>=2.0.2 in c:\\users\\asus\\anaconda3\\lib\\site-packages (from packaging>=19.0->astropy>=4.2->pyvo) (3.0.9)\n",
      "Installing collected packages: pyvo\n",
      "Successfully installed pyvo-1.7\n",
      "Note: you may need to restart the kernel to use updated packages.\n"
     ]
    }
   ],
   "source": [
    "pip install pyvo"
   ]
  },
  {
   "cell_type": "code",
   "execution_count": 1,
   "id": "870c9801",
   "metadata": {
    "scrolled": true
   },
   "outputs": [
    {
     "name": "stdout",
     "output_type": "stream",
     "text": [
      "Requirement already satisfied: ipympl in c:\\users\\asus\\anaconda3\\lib\\site-packages (0.9.7)\n",
      "Requirement already satisfied: traitlets<6 in c:\\users\\asus\\anaconda3\\lib\\site-packages (from ipympl) (5.1.1)\n",
      "Requirement already satisfied: ipywidgets<9,>=7.6.0 in c:\\users\\asus\\anaconda3\\lib\\site-packages (from ipympl) (7.6.5)\n",
      "Requirement already satisfied: pillow in c:\\users\\asus\\anaconda3\\lib\\site-packages (from ipympl) (9.2.0)\n",
      "Requirement already satisfied: numpy in c:\\users\\asus\\anaconda3\\lib\\site-packages (from ipympl) (1.21.5)\n",
      "Requirement already satisfied: matplotlib<4,>=3.5.0 in c:\\users\\asus\\anaconda3\\lib\\site-packages (from ipympl) (3.5.2)\n",
      "Requirement already satisfied: ipython<10 in c:\\users\\asus\\anaconda3\\lib\\site-packages (from ipympl) (7.31.1)\n",
      "Requirement already satisfied: matplotlib-inline in c:\\users\\asus\\anaconda3\\lib\\site-packages (from ipython<10->ipympl) (0.1.6)\n",
      "Requirement already satisfied: decorator in c:\\users\\asus\\anaconda3\\lib\\site-packages (from ipython<10->ipympl) (5.1.1)\n",
      "Requirement already satisfied: setuptools>=18.5 in c:\\users\\asus\\anaconda3\\lib\\site-packages (from ipython<10->ipympl) (63.4.1)\n",
      "Requirement already satisfied: prompt-toolkit!=3.0.0,!=3.0.1,<3.1.0,>=2.0.0 in c:\\users\\asus\\anaconda3\\lib\\site-packages (from ipython<10->ipympl) (3.0.20)\n",
      "Requirement already satisfied: backcall in c:\\users\\asus\\anaconda3\\lib\\site-packages (from ipython<10->ipympl) (0.2.0)\n",
      "Requirement already satisfied: pickleshare in c:\\users\\asus\\anaconda3\\lib\\site-packages (from ipython<10->ipympl) (0.7.5)\n",
      "Requirement already satisfied: jedi>=0.16 in c:\\users\\asus\\anaconda3\\lib\\site-packages (from ipython<10->ipympl) (0.18.1)\n",
      "Requirement already satisfied: colorama in c:\\users\\asus\\anaconda3\\lib\\site-packages (from ipython<10->ipympl) (0.4.5)\n",
      "Requirement already satisfied: pygments in c:\\users\\asus\\anaconda3\\lib\\site-packages (from ipython<10->ipympl) (2.11.2)\n",
      "Requirement already satisfied: ipykernel>=4.5.1 in c:\\users\\asus\\anaconda3\\lib\\site-packages (from ipywidgets<9,>=7.6.0->ipympl) (6.15.2)\n",
      "Requirement already satisfied: nbformat>=4.2.0 in c:\\users\\asus\\anaconda3\\lib\\site-packages (from ipywidgets<9,>=7.6.0->ipympl) (5.5.0)\n",
      "Requirement already satisfied: ipython-genutils~=0.2.0 in c:\\users\\asus\\anaconda3\\lib\\site-packages (from ipywidgets<9,>=7.6.0->ipympl) (0.2.0)\n",
      "Requirement already satisfied: jupyterlab-widgets>=1.0.0 in c:\\users\\asus\\anaconda3\\lib\\site-packages (from ipywidgets<9,>=7.6.0->ipympl) (1.0.0)\n",
      "Requirement already satisfied: widgetsnbextension~=3.5.0 in c:\\users\\asus\\anaconda3\\lib\\site-packages (from ipywidgets<9,>=7.6.0->ipympl) (3.5.2)\n",
      "Requirement already satisfied: fonttools>=4.22.0 in c:\\users\\asus\\anaconda3\\lib\\site-packages (from matplotlib<4,>=3.5.0->ipympl) (4.25.0)\n",
      "Requirement already satisfied: cycler>=0.10 in c:\\users\\asus\\anaconda3\\lib\\site-packages (from matplotlib<4,>=3.5.0->ipympl) (0.11.0)\n",
      "Requirement already satisfied: pyparsing>=2.2.1 in c:\\users\\asus\\anaconda3\\lib\\site-packages (from matplotlib<4,>=3.5.0->ipympl) (3.0.9)\n",
      "Requirement already satisfied: kiwisolver>=1.0.1 in c:\\users\\asus\\anaconda3\\lib\\site-packages (from matplotlib<4,>=3.5.0->ipympl) (1.4.2)\n",
      "Requirement already satisfied: python-dateutil>=2.7 in c:\\users\\asus\\anaconda3\\lib\\site-packages (from matplotlib<4,>=3.5.0->ipympl) (2.8.2)\n",
      "Requirement already satisfied: packaging>=20.0 in c:\\users\\asus\\anaconda3\\lib\\site-packages (from matplotlib<4,>=3.5.0->ipympl) (21.3)\n",
      "Requirement already satisfied: psutil in c:\\users\\asus\\anaconda3\\lib\\site-packages (from ipykernel>=4.5.1->ipywidgets<9,>=7.6.0->ipympl) (5.9.0)\n",
      "Requirement already satisfied: pyzmq>=17 in c:\\users\\asus\\anaconda3\\lib\\site-packages (from ipykernel>=4.5.1->ipywidgets<9,>=7.6.0->ipympl) (23.2.0)\n",
      "Requirement already satisfied: jupyter-client>=6.1.12 in c:\\users\\asus\\anaconda3\\lib\\site-packages (from ipykernel>=4.5.1->ipywidgets<9,>=7.6.0->ipympl) (7.3.4)\n",
      "Requirement already satisfied: nest-asyncio in c:\\users\\asus\\anaconda3\\lib\\site-packages (from ipykernel>=4.5.1->ipywidgets<9,>=7.6.0->ipympl) (1.5.5)\n",
      "Requirement already satisfied: debugpy>=1.0 in c:\\users\\asus\\anaconda3\\lib\\site-packages (from ipykernel>=4.5.1->ipywidgets<9,>=7.6.0->ipympl) (1.5.1)\n",
      "Requirement already satisfied: tornado>=6.1 in c:\\users\\asus\\anaconda3\\lib\\site-packages (from ipykernel>=4.5.1->ipywidgets<9,>=7.6.0->ipympl) (6.1)\n",
      "Requirement already satisfied: parso<0.9.0,>=0.8.0 in c:\\users\\asus\\anaconda3\\lib\\site-packages (from jedi>=0.16->ipython<10->ipympl) (0.8.3)\n",
      "Requirement already satisfied: jsonschema>=2.6 in c:\\users\\asus\\anaconda3\\lib\\site-packages (from nbformat>=4.2.0->ipywidgets<9,>=7.6.0->ipympl) (4.16.0)\n",
      "Requirement already satisfied: fastjsonschema in c:\\users\\asus\\anaconda3\\lib\\site-packages (from nbformat>=4.2.0->ipywidgets<9,>=7.6.0->ipympl) (2.16.2)\n",
      "Requirement already satisfied: jupyter_core in c:\\users\\asus\\anaconda3\\lib\\site-packages (from nbformat>=4.2.0->ipywidgets<9,>=7.6.0->ipympl) (4.11.1)\n",
      "Requirement already satisfied: wcwidth in c:\\users\\asus\\anaconda3\\lib\\site-packages (from prompt-toolkit!=3.0.0,!=3.0.1,<3.1.0,>=2.0.0->ipython<10->ipympl) (0.2.5)\n",
      "Requirement already satisfied: six>=1.5 in c:\\users\\asus\\anaconda3\\lib\\site-packages (from python-dateutil>=2.7->matplotlib<4,>=3.5.0->ipympl) (1.16.0)\n",
      "Requirement already satisfied: notebook>=4.4.1 in c:\\users\\asus\\anaconda3\\lib\\site-packages (from widgetsnbextension~=3.5.0->ipywidgets<9,>=7.6.0->ipympl) (6.4.12)\n",
      "Requirement already satisfied: attrs>=17.4.0 in c:\\users\\asus\\anaconda3\\lib\\site-packages (from jsonschema>=2.6->nbformat>=4.2.0->ipywidgets<9,>=7.6.0->ipympl) (21.4.0)\n",
      "Requirement already satisfied: pyrsistent!=0.17.0,!=0.17.1,!=0.17.2,>=0.14.0 in c:\\users\\asus\\anaconda3\\lib\\site-packages (from jsonschema>=2.6->nbformat>=4.2.0->ipywidgets<9,>=7.6.0->ipympl) (0.18.0)\n",
      "Requirement already satisfied: entrypoints in c:\\users\\asus\\anaconda3\\lib\\site-packages (from jupyter-client>=6.1.12->ipykernel>=4.5.1->ipywidgets<9,>=7.6.0->ipympl) (0.4)\n",
      "Requirement already satisfied: pywin32>=1.0 in c:\\users\\asus\\anaconda3\\lib\\site-packages (from jupyter_core->nbformat>=4.2.0->ipywidgets<9,>=7.6.0->ipympl) (302)\n",
      "Requirement already satisfied: Send2Trash>=1.8.0 in c:\\users\\asus\\anaconda3\\lib\\site-packages (from notebook>=4.4.1->widgetsnbextension~=3.5.0->ipywidgets<9,>=7.6.0->ipympl) (1.8.0)\n",
      "Requirement already satisfied: prometheus-client in c:\\users\\asus\\anaconda3\\lib\\site-packages (from notebook>=4.4.1->widgetsnbextension~=3.5.0->ipywidgets<9,>=7.6.0->ipympl) (0.14.1)\n",
      "Requirement already satisfied: argon2-cffi in c:\\users\\asus\\anaconda3\\lib\\site-packages (from notebook>=4.4.1->widgetsnbextension~=3.5.0->ipywidgets<9,>=7.6.0->ipympl) (21.3.0)\n",
      "Requirement already satisfied: nbconvert>=5 in c:\\users\\asus\\anaconda3\\lib\\site-packages (from notebook>=4.4.1->widgetsnbextension~=3.5.0->ipywidgets<9,>=7.6.0->ipympl) (6.4.4)\n",
      "Requirement already satisfied: jinja2 in c:\\users\\asus\\anaconda3\\lib\\site-packages (from notebook>=4.4.1->widgetsnbextension~=3.5.0->ipywidgets<9,>=7.6.0->ipympl) (2.11.3)\n",
      "Requirement already satisfied: terminado>=0.8.3 in c:\\users\\asus\\anaconda3\\lib\\site-packages (from notebook>=4.4.1->widgetsnbextension~=3.5.0->ipywidgets<9,>=7.6.0->ipympl) (0.13.1)\n",
      "Requirement already satisfied: mistune<2,>=0.8.1 in c:\\users\\asus\\anaconda3\\lib\\site-packages (from nbconvert>=5->notebook>=4.4.1->widgetsnbextension~=3.5.0->ipywidgets<9,>=7.6.0->ipympl) (0.8.4)\n",
      "Requirement already satisfied: testpath in c:\\users\\asus\\anaconda3\\lib\\site-packages (from nbconvert>=5->notebook>=4.4.1->widgetsnbextension~=3.5.0->ipywidgets<9,>=7.6.0->ipympl) (0.6.0)\n",
      "Requirement already satisfied: defusedxml in c:\\users\\asus\\anaconda3\\lib\\site-packages (from nbconvert>=5->notebook>=4.4.1->widgetsnbextension~=3.5.0->ipywidgets<9,>=7.6.0->ipympl) (0.7.1)\n",
      "Requirement already satisfied: nbclient<0.6.0,>=0.5.0 in c:\\users\\asus\\anaconda3\\lib\\site-packages (from nbconvert>=5->notebook>=4.4.1->widgetsnbextension~=3.5.0->ipywidgets<9,>=7.6.0->ipympl) (0.5.13)\n",
      "Requirement already satisfied: pandocfilters>=1.4.1 in c:\\users\\asus\\anaconda3\\lib\\site-packages (from nbconvert>=5->notebook>=4.4.1->widgetsnbextension~=3.5.0->ipywidgets<9,>=7.6.0->ipympl) (1.5.0)\n",
      "Requirement already satisfied: jupyterlab-pygments in c:\\users\\asus\\anaconda3\\lib\\site-packages (from nbconvert>=5->notebook>=4.4.1->widgetsnbextension~=3.5.0->ipywidgets<9,>=7.6.0->ipympl) (0.1.2)\n",
      "Requirement already satisfied: beautifulsoup4 in c:\\users\\asus\\anaconda3\\lib\\site-packages (from nbconvert>=5->notebook>=4.4.1->widgetsnbextension~=3.5.0->ipywidgets<9,>=7.6.0->ipympl) (4.11.1)\n",
      "Requirement already satisfied: bleach in c:\\users\\asus\\anaconda3\\lib\\site-packages (from nbconvert>=5->notebook>=4.4.1->widgetsnbextension~=3.5.0->ipywidgets<9,>=7.6.0->ipympl) (4.1.0)\n",
      "Requirement already satisfied: MarkupSafe>=0.23 in c:\\users\\asus\\anaconda3\\lib\\site-packages (from jinja2->notebook>=4.4.1->widgetsnbextension~=3.5.0->ipywidgets<9,>=7.6.0->ipympl) (2.0.1)\n",
      "Requirement already satisfied: pywinpty>=1.1.0 in c:\\users\\asus\\anaconda3\\lib\\site-packages (from terminado>=0.8.3->notebook>=4.4.1->widgetsnbextension~=3.5.0->ipywidgets<9,>=7.6.0->ipympl) (2.0.2)\n",
      "Requirement already satisfied: argon2-cffi-bindings in c:\\users\\asus\\anaconda3\\lib\\site-packages (from argon2-cffi->notebook>=4.4.1->widgetsnbextension~=3.5.0->ipywidgets<9,>=7.6.0->ipympl) (21.2.0)\n",
      "Requirement already satisfied: cffi>=1.0.1 in c:\\users\\asus\\anaconda3\\lib\\site-packages (from argon2-cffi-bindings->argon2-cffi->notebook>=4.4.1->widgetsnbextension~=3.5.0->ipywidgets<9,>=7.6.0->ipympl) (1.15.1)\n",
      "Requirement already satisfied: soupsieve>1.2 in c:\\users\\asus\\anaconda3\\lib\\site-packages (from beautifulsoup4->nbconvert>=5->notebook>=4.4.1->widgetsnbextension~=3.5.0->ipywidgets<9,>=7.6.0->ipympl) (2.3.1)\n",
      "Requirement already satisfied: webencodings in c:\\users\\asus\\anaconda3\\lib\\site-packages (from bleach->nbconvert>=5->notebook>=4.4.1->widgetsnbextension~=3.5.0->ipywidgets<9,>=7.6.0->ipympl) (0.5.1)\n",
      "Requirement already satisfied: pycparser in c:\\users\\asus\\anaconda3\\lib\\site-packages (from cffi>=1.0.1->argon2-cffi-bindings->argon2-cffi->notebook>=4.4.1->widgetsnbextension~=3.5.0->ipywidgets<9,>=7.6.0->ipympl) (2.21)\n",
      "Note: you may need to restart the kernel to use updated packages.\n"
     ]
    }
   ],
   "source": [
    "pip install ipympl"
   ]
  },
  {
   "cell_type": "code",
   "execution_count": 2,
   "id": "566e3b09",
   "metadata": {},
   "outputs": [],
   "source": [
    "%matplotlib notebook"
   ]
  },
  {
   "cell_type": "code",
   "execution_count": 1,
   "id": "52a2dfea",
   "metadata": {},
   "outputs": [],
   "source": [
    "#Libraries\n",
    "import astropy.units as u\n",
    "from astropy.time import Time\n",
    "from astropy.coordinates import EarthLocation, Angle\n",
    "from astropy.coordinates import SkyCoord\n",
    "from astropy.wcs import WCS\n",
    "\n",
    "import matplotlib.pyplot as plt\n",
    "import numpy as np\n",
    "import requests\n",
    "from matplotlib.colors import Normalize\n",
    "from matplotlib.cm import ScalarMappable\n",
    "from matplotlib.patches import Polygon\n",
    "import plotly.graph_objects as go\n",
    "import plotly.io as pio\n",
    "pio.renderers.default = \"notebook\"\n",
    "import pandas as pd\n",
    "\n",
    "from tqdm import tqdm\n",
    "import requests\n",
    "\n",
    "from pyvo.dal import sia  #new! for what? Simple Image Access\n"
   ]
  },
  {
   "cell_type": "code",
   "execution_count": 2,
   "id": "4803c4d5",
   "metadata": {},
   "outputs": [],
   "source": [
    "telemetry1 = pd.read_csv('decam_telemetry_20230817.csv.gz')\n",
    "streaks1 = pd.read_csv('streaks_augmented_20230817.csv.gz')"
   ]
  },
  {
   "cell_type": "code",
   "execution_count": 3,
   "id": "c7b31cf7",
   "metadata": {},
   "outputs": [
    {
     "data": {
      "text/html": [
       "<div>\n",
       "<style scoped>\n",
       "    .dataframe tbody tr th:only-of-type {\n",
       "        vertical-align: middle;\n",
       "    }\n",
       "\n",
       "    .dataframe tbody tr th {\n",
       "        vertical-align: top;\n",
       "    }\n",
       "\n",
       "    .dataframe thead th {\n",
       "        text-align: right;\n",
       "    }\n",
       "</style>\n",
       "<table border=\"1\" class=\"dataframe\">\n",
       "  <thead>\n",
       "    <tr style=\"text-align: right;\">\n",
       "      <th></th>\n",
       "      <th>EXPNUM</th>\n",
       "      <th>BAND</th>\n",
       "      <th>TELESCOP</th>\n",
       "      <th>OBSERVAT</th>\n",
       "      <th>INSTRUME</th>\n",
       "      <th>OBS-LONG</th>\n",
       "      <th>OBS-LAT</th>\n",
       "      <th>OBS-ELEV</th>\n",
       "      <th>TELEQUIN</th>\n",
       "      <th>TIMESYS</th>\n",
       "      <th>DATE-OBS</th>\n",
       "      <th>TIME-OBS</th>\n",
       "      <th>DARKTIME</th>\n",
       "      <th>EXPTIME</th>\n",
       "      <th>RA</th>\n",
       "      <th>DEC</th>\n",
       "      <th>AZ</th>\n",
       "      <th>ZD</th>\n",
       "    </tr>\n",
       "  </thead>\n",
       "  <tbody>\n",
       "    <tr>\n",
       "      <th>0</th>\n",
       "      <td>140520</td>\n",
       "      <td>r</td>\n",
       "      <td>CTIO 4.0-m telescope</td>\n",
       "      <td>CTIO</td>\n",
       "      <td>DECam</td>\n",
       "      <td>70.8149</td>\n",
       "      <td>-30.1661</td>\n",
       "      <td>2215</td>\n",
       "      <td>2000</td>\n",
       "      <td>UTC</td>\n",
       "      <td>2012-10-20 00:25:35.429106</td>\n",
       "      <td>00:25:35.429106</td>\n",
       "      <td>2.10353</td>\n",
       "      <td>1.0</td>\n",
       "      <td>22:08:24.000</td>\n",
       "      <td>-32:59:17.599</td>\n",
       "      <td>116.2500</td>\n",
       "      <td>7.09</td>\n",
       "    </tr>\n",
       "    <tr>\n",
       "      <th>1</th>\n",
       "      <td>140521</td>\n",
       "      <td>r</td>\n",
       "      <td>CTIO 4.0-m telescope</td>\n",
       "      <td>CTIO</td>\n",
       "      <td>DECam</td>\n",
       "      <td>70.8149</td>\n",
       "      <td>-30.1661</td>\n",
       "      <td>2215</td>\n",
       "      <td>2000</td>\n",
       "      <td>UTC</td>\n",
       "      <td>2012-10-20 00:29:50.667562</td>\n",
       "      <td>00:29:50.667562</td>\n",
       "      <td>2.09597</td>\n",
       "      <td>1.0</td>\n",
       "      <td>22:08:23.970</td>\n",
       "      <td>-32:55:57.799</td>\n",
       "      <td>118.9300</td>\n",
       "      <td>6.25</td>\n",
       "    </tr>\n",
       "    <tr>\n",
       "      <th>2</th>\n",
       "      <td>140522</td>\n",
       "      <td>u</td>\n",
       "      <td>CTIO 4.0-m telescope</td>\n",
       "      <td>CTIO</td>\n",
       "      <td>DECam</td>\n",
       "      <td>70.8149</td>\n",
       "      <td>-30.1661</td>\n",
       "      <td>2215</td>\n",
       "      <td>2000</td>\n",
       "      <td>UTC</td>\n",
       "      <td>2012-10-20 00:46:16.576959</td>\n",
       "      <td>00:46:16.576959</td>\n",
       "      <td>31.09820</td>\n",
       "      <td>30.0</td>\n",
       "      <td>18:03:35.240</td>\n",
       "      <td>-30:02:00.600</td>\n",
       "      <td>254.2700</td>\n",
       "      <td>50.20</td>\n",
       "    </tr>\n",
       "    <tr>\n",
       "      <th>3</th>\n",
       "      <td>140523</td>\n",
       "      <td>u</td>\n",
       "      <td>CTIO 4.0-m telescope</td>\n",
       "      <td>CTIO</td>\n",
       "      <td>DECam</td>\n",
       "      <td>70.8149</td>\n",
       "      <td>-30.1661</td>\n",
       "      <td>2215</td>\n",
       "      <td>2000</td>\n",
       "      <td>UTC</td>\n",
       "      <td>2012-10-20 00:47:44.370016</td>\n",
       "      <td>00:47:44.370016</td>\n",
       "      <td>31.09300</td>\n",
       "      <td>30.0</td>\n",
       "      <td>18:03:35.250</td>\n",
       "      <td>-30:02:00.802</td>\n",
       "      <td>254.1500</td>\n",
       "      <td>50.50</td>\n",
       "    </tr>\n",
       "    <tr>\n",
       "      <th>4</th>\n",
       "      <td>140524</td>\n",
       "      <td>u</td>\n",
       "      <td>CTIO 4.0-m telescope</td>\n",
       "      <td>CTIO</td>\n",
       "      <td>DECam</td>\n",
       "      <td>70.8149</td>\n",
       "      <td>-30.1661</td>\n",
       "      <td>2215</td>\n",
       "      <td>2000</td>\n",
       "      <td>UTC</td>\n",
       "      <td>2012-10-20 00:49:47.211636</td>\n",
       "      <td>00:49:47.211636</td>\n",
       "      <td>31.09170</td>\n",
       "      <td>30.0</td>\n",
       "      <td>18:03:35.240</td>\n",
       "      <td>-30:02:00.802</td>\n",
       "      <td>253.9900</td>\n",
       "      <td>50.93</td>\n",
       "    </tr>\n",
       "    <tr>\n",
       "      <th>...</th>\n",
       "      <td>...</td>\n",
       "      <td>...</td>\n",
       "      <td>...</td>\n",
       "      <td>...</td>\n",
       "      <td>...</td>\n",
       "      <td>...</td>\n",
       "      <td>...</td>\n",
       "      <td>...</td>\n",
       "      <td>...</td>\n",
       "      <td>...</td>\n",
       "      <td>...</td>\n",
       "      <td>...</td>\n",
       "      <td>...</td>\n",
       "      <td>...</td>\n",
       "      <td>...</td>\n",
       "      <td>...</td>\n",
       "      <td>...</td>\n",
       "      <td>...</td>\n",
       "    </tr>\n",
       "    <tr>\n",
       "      <th>506513</th>\n",
       "      <td>1228730</td>\n",
       "      <td>g</td>\n",
       "      <td>CTIO 4.0-m telescope</td>\n",
       "      <td>CTIO</td>\n",
       "      <td>DECam</td>\n",
       "      <td>70.8149</td>\n",
       "      <td>-30.1661</td>\n",
       "      <td>2215</td>\n",
       "      <td>2000</td>\n",
       "      <td>UTC</td>\n",
       "      <td>2023-08-03 08:42:53.917964</td>\n",
       "      <td>08:42:53.917964</td>\n",
       "      <td>81.10140</td>\n",
       "      <td>80.0</td>\n",
       "      <td>03:30:36.090</td>\n",
       "      <td>-28:05:58.200</td>\n",
       "      <td>97.1620</td>\n",
       "      <td>36.05</td>\n",
       "    </tr>\n",
       "    <tr>\n",
       "      <th>506514</th>\n",
       "      <td>1228731</td>\n",
       "      <td>r</td>\n",
       "      <td>CTIO 4.0-m telescope</td>\n",
       "      <td>CTIO</td>\n",
       "      <td>DECam</td>\n",
       "      <td>70.8149</td>\n",
       "      <td>-30.1661</td>\n",
       "      <td>2215</td>\n",
       "      <td>2000</td>\n",
       "      <td>UTC</td>\n",
       "      <td>2023-08-03 08:44:44.058111</td>\n",
       "      <td>08:44:44.058111</td>\n",
       "      <td>71.12170</td>\n",
       "      <td>70.0</td>\n",
       "      <td>03:30:36.079</td>\n",
       "      <td>-28:05:58.200</td>\n",
       "      <td>97.0003</td>\n",
       "      <td>35.66</td>\n",
       "    </tr>\n",
       "    <tr>\n",
       "      <th>506515</th>\n",
       "      <td>1228732</td>\n",
       "      <td>r</td>\n",
       "      <td>CTIO 4.0-m telescope</td>\n",
       "      <td>CTIO</td>\n",
       "      <td>DECam</td>\n",
       "      <td>70.8149</td>\n",
       "      <td>-30.1661</td>\n",
       "      <td>2215</td>\n",
       "      <td>2000</td>\n",
       "      <td>UTC</td>\n",
       "      <td>2023-08-03 08:46:22.681357</td>\n",
       "      <td>08:46:22.681357</td>\n",
       "      <td>71.10870</td>\n",
       "      <td>70.0</td>\n",
       "      <td>03:30:36.090</td>\n",
       "      <td>-28:05:58.200</td>\n",
       "      <td>96.8515</td>\n",
       "      <td>35.30</td>\n",
       "    </tr>\n",
       "    <tr>\n",
       "      <th>506516</th>\n",
       "      <td>1228733</td>\n",
       "      <td>i</td>\n",
       "      <td>CTIO 4.0-m telescope</td>\n",
       "      <td>CTIO</td>\n",
       "      <td>DECam</td>\n",
       "      <td>70.8149</td>\n",
       "      <td>-30.1661</td>\n",
       "      <td>2215</td>\n",
       "      <td>2000</td>\n",
       "      <td>UTC</td>\n",
       "      <td>2023-08-03 08:48:02.549261</td>\n",
       "      <td>08:48:02.549261</td>\n",
       "      <td>91.09020</td>\n",
       "      <td>90.0</td>\n",
       "      <td>03:30:36.112</td>\n",
       "      <td>-28:05:58.099</td>\n",
       "      <td>96.7036</td>\n",
       "      <td>34.94</td>\n",
       "    </tr>\n",
       "    <tr>\n",
       "      <th>506517</th>\n",
       "      <td>1228734</td>\n",
       "      <td>i</td>\n",
       "      <td>CTIO 4.0-m telescope</td>\n",
       "      <td>CTIO</td>\n",
       "      <td>DECam</td>\n",
       "      <td>70.8149</td>\n",
       "      <td>-30.1661</td>\n",
       "      <td>2215</td>\n",
       "      <td>2000</td>\n",
       "      <td>UTC</td>\n",
       "      <td>2023-08-03 08:50:01.864095</td>\n",
       "      <td>08:50:01.864095</td>\n",
       "      <td>91.12910</td>\n",
       "      <td>90.0</td>\n",
       "      <td>03:30:36.112</td>\n",
       "      <td>-28:05:58.099</td>\n",
       "      <td>96.5253</td>\n",
       "      <td>34.52</td>\n",
       "    </tr>\n",
       "  </tbody>\n",
       "</table>\n",
       "<p>506518 rows × 18 columns</p>\n",
       "</div>"
      ],
      "text/plain": [
       "         EXPNUM BAND              TELESCOP OBSERVAT INSTRUME  OBS-LONG  \\\n",
       "0        140520    r  CTIO 4.0-m telescope     CTIO    DECam   70.8149   \n",
       "1        140521    r  CTIO 4.0-m telescope     CTIO    DECam   70.8149   \n",
       "2        140522    u  CTIO 4.0-m telescope     CTIO    DECam   70.8149   \n",
       "3        140523    u  CTIO 4.0-m telescope     CTIO    DECam   70.8149   \n",
       "4        140524    u  CTIO 4.0-m telescope     CTIO    DECam   70.8149   \n",
       "...         ...  ...                   ...      ...      ...       ...   \n",
       "506513  1228730    g  CTIO 4.0-m telescope     CTIO    DECam   70.8149   \n",
       "506514  1228731    r  CTIO 4.0-m telescope     CTIO    DECam   70.8149   \n",
       "506515  1228732    r  CTIO 4.0-m telescope     CTIO    DECam   70.8149   \n",
       "506516  1228733    i  CTIO 4.0-m telescope     CTIO    DECam   70.8149   \n",
       "506517  1228734    i  CTIO 4.0-m telescope     CTIO    DECam   70.8149   \n",
       "\n",
       "        OBS-LAT  OBS-ELEV  TELEQUIN TIMESYS                    DATE-OBS  \\\n",
       "0      -30.1661      2215      2000     UTC  2012-10-20 00:25:35.429106   \n",
       "1      -30.1661      2215      2000     UTC  2012-10-20 00:29:50.667562   \n",
       "2      -30.1661      2215      2000     UTC  2012-10-20 00:46:16.576959   \n",
       "3      -30.1661      2215      2000     UTC  2012-10-20 00:47:44.370016   \n",
       "4      -30.1661      2215      2000     UTC  2012-10-20 00:49:47.211636   \n",
       "...         ...       ...       ...     ...                         ...   \n",
       "506513 -30.1661      2215      2000     UTC  2023-08-03 08:42:53.917964   \n",
       "506514 -30.1661      2215      2000     UTC  2023-08-03 08:44:44.058111   \n",
       "506515 -30.1661      2215      2000     UTC  2023-08-03 08:46:22.681357   \n",
       "506516 -30.1661      2215      2000     UTC  2023-08-03 08:48:02.549261   \n",
       "506517 -30.1661      2215      2000     UTC  2023-08-03 08:50:01.864095   \n",
       "\n",
       "               TIME-OBS  DARKTIME  EXPTIME            RA            DEC  \\\n",
       "0       00:25:35.429106   2.10353      1.0  22:08:24.000  -32:59:17.599   \n",
       "1       00:29:50.667562   2.09597      1.0  22:08:23.970  -32:55:57.799   \n",
       "2       00:46:16.576959  31.09820     30.0  18:03:35.240  -30:02:00.600   \n",
       "3       00:47:44.370016  31.09300     30.0  18:03:35.250  -30:02:00.802   \n",
       "4       00:49:47.211636  31.09170     30.0  18:03:35.240  -30:02:00.802   \n",
       "...                 ...       ...      ...           ...            ...   \n",
       "506513  08:42:53.917964  81.10140     80.0  03:30:36.090  -28:05:58.200   \n",
       "506514  08:44:44.058111  71.12170     70.0  03:30:36.079  -28:05:58.200   \n",
       "506515  08:46:22.681357  71.10870     70.0  03:30:36.090  -28:05:58.200   \n",
       "506516  08:48:02.549261  91.09020     90.0  03:30:36.112  -28:05:58.099   \n",
       "506517  08:50:01.864095  91.12910     90.0  03:30:36.112  -28:05:58.099   \n",
       "\n",
       "              AZ     ZD  \n",
       "0       116.2500   7.09  \n",
       "1       118.9300   6.25  \n",
       "2       254.2700  50.20  \n",
       "3       254.1500  50.50  \n",
       "4       253.9900  50.93  \n",
       "...          ...    ...  \n",
       "506513   97.1620  36.05  \n",
       "506514   97.0003  35.66  \n",
       "506515   96.8515  35.30  \n",
       "506516   96.7036  34.94  \n",
       "506517   96.5253  34.52  \n",
       "\n",
       "[506518 rows x 18 columns]"
      ]
     },
     "execution_count": 3,
     "metadata": {},
     "output_type": "execute_result"
    }
   ],
   "source": [
    "telemetry1"
   ]
  },
  {
   "cell_type": "code",
   "execution_count": 4,
   "id": "e7501d44",
   "metadata": {
    "scrolled": true
   },
   "outputs": [
    {
     "data": {
      "text/html": [
       "<div>\n",
       "<style scoped>\n",
       "    .dataframe tbody tr th:only-of-type {\n",
       "        vertical-align: middle;\n",
       "    }\n",
       "\n",
       "    .dataframe tbody tr th {\n",
       "        vertical-align: top;\n",
       "    }\n",
       "\n",
       "    .dataframe thead th {\n",
       "        text-align: right;\n",
       "    }\n",
       "</style>\n",
       "<table border=\"1\" class=\"dataframe\">\n",
       "  <thead>\n",
       "    <tr style=\"text-align: right;\">\n",
       "      <th></th>\n",
       "      <th>filename</th>\n",
       "      <th>rnum</th>\n",
       "      <th>ra_1</th>\n",
       "      <th>ra_2</th>\n",
       "      <th>ra_3</th>\n",
       "      <th>ra_4</th>\n",
       "      <th>dec_1</th>\n",
       "      <th>dec_2</th>\n",
       "      <th>dec_3</th>\n",
       "      <th>dec_4</th>\n",
       "      <th>expnum</th>\n",
       "      <th>ccdnum</th>\n",
       "      <th>band</th>\n",
       "    </tr>\n",
       "  </thead>\n",
       "  <tbody>\n",
       "    <tr>\n",
       "      <th>0</th>\n",
       "      <td>D00145425_g_c03_r4148p01_hstreak.fits</td>\n",
       "      <td>3</td>\n",
       "      <td>1.159330</td>\n",
       "      <td>1.160919</td>\n",
       "      <td>1.164310</td>\n",
       "      <td>1.162720</td>\n",
       "      <td>-28.724241</td>\n",
       "      <td>-28.724212</td>\n",
       "      <td>-28.857155</td>\n",
       "      <td>-28.857183</td>\n",
       "      <td>145425</td>\n",
       "      <td>3</td>\n",
       "      <td>g</td>\n",
       "    </tr>\n",
       "    <tr>\n",
       "      <th>1</th>\n",
       "      <td>D00145425_g_c06_r4148p01_hstreak.fits</td>\n",
       "      <td>1</td>\n",
       "      <td>0.986677</td>\n",
       "      <td>0.986711</td>\n",
       "      <td>0.644209</td>\n",
       "      <td>0.644186</td>\n",
       "      <td>-29.032018</td>\n",
       "      <td>-29.034283</td>\n",
       "      <td>-29.037208</td>\n",
       "      <td>-29.034944</td>\n",
       "      <td>145425</td>\n",
       "      <td>6</td>\n",
       "      <td>g</td>\n",
       "    </tr>\n",
       "    <tr>\n",
       "      <th>2</th>\n",
       "      <td>D00145425_g_c09_r4148p01_hstreak.fits</td>\n",
       "      <td>1</td>\n",
       "      <td>0.452852</td>\n",
       "      <td>0.452942</td>\n",
       "      <td>0.109842</td>\n",
       "      <td>0.109782</td>\n",
       "      <td>-29.193042</td>\n",
       "      <td>-29.199694</td>\n",
       "      <td>-29.203265</td>\n",
       "      <td>-29.196615</td>\n",
       "      <td>145425</td>\n",
       "      <td>9</td>\n",
       "      <td>g</td>\n",
       "    </tr>\n",
       "    <tr>\n",
       "      <th>3</th>\n",
       "      <td>D00145425_g_c15_r4148p01_hstreak.fits</td>\n",
       "      <td>1</td>\n",
       "      <td>0.286716</td>\n",
       "      <td>0.286812</td>\n",
       "      <td>0.630816</td>\n",
       "      <td>0.630741</td>\n",
       "      <td>-29.363308</td>\n",
       "      <td>-29.358405</td>\n",
       "      <td>-29.362739</td>\n",
       "      <td>-29.367644</td>\n",
       "      <td>145425</td>\n",
       "      <td>15</td>\n",
       "      <td>g</td>\n",
       "    </tr>\n",
       "    <tr>\n",
       "      <th>4</th>\n",
       "      <td>D00145425_g_c16_r4148p01_hstreak.fits</td>\n",
       "      <td>1</td>\n",
       "      <td>0.985852</td>\n",
       "      <td>0.987446</td>\n",
       "      <td>0.987211</td>\n",
       "      <td>0.985615</td>\n",
       "      <td>-29.216748</td>\n",
       "      <td>-29.216752</td>\n",
       "      <td>-29.366385</td>\n",
       "      <td>-29.366381</td>\n",
       "      <td>145425</td>\n",
       "      <td>16</td>\n",
       "      <td>g</td>\n",
       "    </tr>\n",
       "    <tr>\n",
       "      <th>...</th>\n",
       "      <td>...</td>\n",
       "      <td>...</td>\n",
       "      <td>...</td>\n",
       "      <td>...</td>\n",
       "      <td>...</td>\n",
       "      <td>...</td>\n",
       "      <td>...</td>\n",
       "      <td>...</td>\n",
       "      <td>...</td>\n",
       "      <td>...</td>\n",
       "      <td>...</td>\n",
       "      <td>...</td>\n",
       "      <td>...</td>\n",
       "    </tr>\n",
       "    <tr>\n",
       "      <th>879115</th>\n",
       "      <td>D01223535_g_c05_r6224p01_hstreak.fits</td>\n",
       "      <td>1</td>\n",
       "      <td>323.500201</td>\n",
       "      <td>323.502653</td>\n",
       "      <td>323.444690</td>\n",
       "      <td>323.442238</td>\n",
       "      <td>-17.828499</td>\n",
       "      <td>-17.830897</td>\n",
       "      <td>-17.884254</td>\n",
       "      <td>-17.881855</td>\n",
       "      <td>1223535</td>\n",
       "      <td>5</td>\n",
       "      <td>g</td>\n",
       "    </tr>\n",
       "    <tr>\n",
       "      <th>879116</th>\n",
       "      <td>D01223535_g_c31_r6224p01_hstreak.fits</td>\n",
       "      <td>1</td>\n",
       "      <td>324.355544</td>\n",
       "      <td>324.369908</td>\n",
       "      <td>324.372363</td>\n",
       "      <td>324.357994</td>\n",
       "      <td>-18.392109</td>\n",
       "      <td>-18.391941</td>\n",
       "      <td>-18.541070</td>\n",
       "      <td>-18.541235</td>\n",
       "      <td>1223535</td>\n",
       "      <td>31</td>\n",
       "      <td>g</td>\n",
       "    </tr>\n",
       "    <tr>\n",
       "      <th>879117</th>\n",
       "      <td>D01223535_g_c56_r6224p01_hstreak.fits</td>\n",
       "      <td>1</td>\n",
       "      <td>322.914589</td>\n",
       "      <td>322.934330</td>\n",
       "      <td>322.849385</td>\n",
       "      <td>322.829651</td>\n",
       "      <td>-19.193809</td>\n",
       "      <td>-19.210870</td>\n",
       "      <td>-19.298406</td>\n",
       "      <td>-19.281342</td>\n",
       "      <td>1223535</td>\n",
       "      <td>56</td>\n",
       "      <td>g</td>\n",
       "    </tr>\n",
       "    <tr>\n",
       "      <th>879118</th>\n",
       "      <td>D01223535_g_c58_r6224p01_hstreak.fits</td>\n",
       "      <td>1</td>\n",
       "      <td>323.771850</td>\n",
       "      <td>323.783894</td>\n",
       "      <td>323.835739</td>\n",
       "      <td>323.823696</td>\n",
       "      <td>-19.214779</td>\n",
       "      <td>-19.204086</td>\n",
       "      <td>-19.255903</td>\n",
       "      <td>-19.266598</td>\n",
       "      <td>1223535</td>\n",
       "      <td>58</td>\n",
       "      <td>g</td>\n",
       "    </tr>\n",
       "    <tr>\n",
       "      <th>879119</th>\n",
       "      <td>D01223535_g_c59_r6224p01_hstreak.fits</td>\n",
       "      <td>1</td>\n",
       "      <td>323.878330</td>\n",
       "      <td>323.890982</td>\n",
       "      <td>323.836373</td>\n",
       "      <td>323.823717</td>\n",
       "      <td>-19.203540</td>\n",
       "      <td>-19.214870</td>\n",
       "      <td>-19.269001</td>\n",
       "      <td>-19.257671</td>\n",
       "      <td>1223535</td>\n",
       "      <td>59</td>\n",
       "      <td>g</td>\n",
       "    </tr>\n",
       "  </tbody>\n",
       "</table>\n",
       "<p>879120 rows × 13 columns</p>\n",
       "</div>"
      ],
      "text/plain": [
       "                                     filename  rnum        ra_1        ra_2  \\\n",
       "0       D00145425_g_c03_r4148p01_hstreak.fits     3    1.159330    1.160919   \n",
       "1       D00145425_g_c06_r4148p01_hstreak.fits     1    0.986677    0.986711   \n",
       "2       D00145425_g_c09_r4148p01_hstreak.fits     1    0.452852    0.452942   \n",
       "3       D00145425_g_c15_r4148p01_hstreak.fits     1    0.286716    0.286812   \n",
       "4       D00145425_g_c16_r4148p01_hstreak.fits     1    0.985852    0.987446   \n",
       "...                                       ...   ...         ...         ...   \n",
       "879115  D01223535_g_c05_r6224p01_hstreak.fits     1  323.500201  323.502653   \n",
       "879116  D01223535_g_c31_r6224p01_hstreak.fits     1  324.355544  324.369908   \n",
       "879117  D01223535_g_c56_r6224p01_hstreak.fits     1  322.914589  322.934330   \n",
       "879118  D01223535_g_c58_r6224p01_hstreak.fits     1  323.771850  323.783894   \n",
       "879119  D01223535_g_c59_r6224p01_hstreak.fits     1  323.878330  323.890982   \n",
       "\n",
       "              ra_3        ra_4      dec_1      dec_2      dec_3      dec_4  \\\n",
       "0         1.164310    1.162720 -28.724241 -28.724212 -28.857155 -28.857183   \n",
       "1         0.644209    0.644186 -29.032018 -29.034283 -29.037208 -29.034944   \n",
       "2         0.109842    0.109782 -29.193042 -29.199694 -29.203265 -29.196615   \n",
       "3         0.630816    0.630741 -29.363308 -29.358405 -29.362739 -29.367644   \n",
       "4         0.987211    0.985615 -29.216748 -29.216752 -29.366385 -29.366381   \n",
       "...            ...         ...        ...        ...        ...        ...   \n",
       "879115  323.444690  323.442238 -17.828499 -17.830897 -17.884254 -17.881855   \n",
       "879116  324.372363  324.357994 -18.392109 -18.391941 -18.541070 -18.541235   \n",
       "879117  322.849385  322.829651 -19.193809 -19.210870 -19.298406 -19.281342   \n",
       "879118  323.835739  323.823696 -19.214779 -19.204086 -19.255903 -19.266598   \n",
       "879119  323.836373  323.823717 -19.203540 -19.214870 -19.269001 -19.257671   \n",
       "\n",
       "         expnum  ccdnum band  \n",
       "0        145425       3    g  \n",
       "1        145425       6    g  \n",
       "2        145425       9    g  \n",
       "3        145425      15    g  \n",
       "4        145425      16    g  \n",
       "...         ...     ...  ...  \n",
       "879115  1223535       5    g  \n",
       "879116  1223535      31    g  \n",
       "879117  1223535      56    g  \n",
       "879118  1223535      58    g  \n",
       "879119  1223535      59    g  \n",
       "\n",
       "[879120 rows x 13 columns]"
      ]
     },
     "execution_count": 4,
     "metadata": {},
     "output_type": "execute_result"
    }
   ],
   "source": [
    "streaks1"
   ]
  },
  {
   "cell_type": "markdown",
   "id": "e689723a",
   "metadata": {},
   "source": [
    "### July 22\n",
    "Take each RA and DEC to the list :p"
   ]
  },
  {
   "cell_type": "code",
   "execution_count": 5,
   "id": "7a707cb4",
   "metadata": {},
   "outputs": [
    {
     "data": {
      "text/html": [
       "<div>\n",
       "<style scoped>\n",
       "    .dataframe tbody tr th:only-of-type {\n",
       "        vertical-align: middle;\n",
       "    }\n",
       "\n",
       "    .dataframe tbody tr th {\n",
       "        vertical-align: top;\n",
       "    }\n",
       "\n",
       "    .dataframe thead th {\n",
       "        text-align: right;\n",
       "    }\n",
       "</style>\n",
       "<table border=\"1\" class=\"dataframe\">\n",
       "  <thead>\n",
       "    <tr style=\"text-align: right;\">\n",
       "      <th></th>\n",
       "      <th>EXPNUM</th>\n",
       "      <th>BAND</th>\n",
       "      <th>TELESCOP</th>\n",
       "      <th>OBSERVAT</th>\n",
       "      <th>INSTRUME</th>\n",
       "      <th>OBS-LONG</th>\n",
       "      <th>OBS-LAT</th>\n",
       "      <th>OBS-ELEV</th>\n",
       "      <th>TELEQUIN</th>\n",
       "      <th>TIMESYS</th>\n",
       "      <th>DATE-OBS</th>\n",
       "      <th>TIME-OBS</th>\n",
       "      <th>DARKTIME</th>\n",
       "      <th>EXPTIME</th>\n",
       "      <th>RA</th>\n",
       "      <th>DEC</th>\n",
       "      <th>AZ</th>\n",
       "      <th>ZD</th>\n",
       "    </tr>\n",
       "  </thead>\n",
       "  <tbody>\n",
       "    <tr>\n",
       "      <th>401619</th>\n",
       "      <td>958013</td>\n",
       "      <td>i</td>\n",
       "      <td>CTIO 4.0-m telescope</td>\n",
       "      <td>CTIO</td>\n",
       "      <td>DECam</td>\n",
       "      <td>70.8149</td>\n",
       "      <td>-30.1661</td>\n",
       "      <td>2215</td>\n",
       "      <td>2000</td>\n",
       "      <td>UTC</td>\n",
       "      <td>2020-11-26 07:21:51.110828</td>\n",
       "      <td>07:21:51.110828</td>\n",
       "      <td>91.2403</td>\n",
       "      <td>90.0</td>\n",
       "      <td>09:51:16.708</td>\n",
       "      <td>-08:58:26.299</td>\n",
       "      <td>71.3041</td>\n",
       "      <td>45.17</td>\n",
       "    </tr>\n",
       "  </tbody>\n",
       "</table>\n",
       "</div>"
      ],
      "text/plain": [
       "        EXPNUM BAND              TELESCOP OBSERVAT INSTRUME  OBS-LONG  \\\n",
       "401619  958013    i  CTIO 4.0-m telescope     CTIO    DECam   70.8149   \n",
       "\n",
       "        OBS-LAT  OBS-ELEV  TELEQUIN TIMESYS                    DATE-OBS  \\\n",
       "401619 -30.1661      2215      2000     UTC  2020-11-26 07:21:51.110828   \n",
       "\n",
       "               TIME-OBS  DARKTIME  EXPTIME            RA            DEC  \\\n",
       "401619  07:21:51.110828   91.2403     90.0  09:51:16.708  -08:58:26.299   \n",
       "\n",
       "             AZ     ZD  \n",
       "401619  71.3041  45.17  "
      ]
     },
     "execution_count": 5,
     "metadata": {},
     "output_type": "execute_result"
    }
   ],
   "source": [
    "#telemetry1['EXPNUM'==958013]\n",
    "telemetry1.loc[telemetry1['EXPNUM']==958013]"
   ]
  },
  {
   "cell_type": "code",
   "execution_count": 6,
   "id": "f321d5ab",
   "metadata": {
    "scrolled": true
   },
   "outputs": [
    {
     "name": "stdout",
     "output_type": "stream",
     "text": [
      "['09:51:16.708'] ['-08:58:26.299']\n"
     ]
    }
   ],
   "source": [
    "row_958013 = telemetry1.loc[telemetry1['EXPNUM']==958013]\n",
    "ra = row_958013['RA']\n",
    "dec = row_958013['DEC']\n",
    "print(ra.values, dec.values)"
   ]
  },
  {
   "cell_type": "code",
   "execution_count": 5,
   "id": "71b57745",
   "metadata": {},
   "outputs": [
    {
     "ename": "NameError",
     "evalue": "name 'row_958013' is not defined",
     "output_type": "error",
     "traceback": [
      "\u001b[1;31m---------------------------------------------------------------------------\u001b[0m",
      "\u001b[1;31mNameError\u001b[0m                                 Traceback (most recent call last)",
      "Cell \u001b[1;32mIn[5], line 1\u001b[0m\n\u001b[1;32m----> 1\u001b[0m coord \u001b[38;5;241m=\u001b[39m SkyCoord(ra\u001b[38;5;241m=\u001b[39mrow_958013[\u001b[38;5;124m'\u001b[39m\u001b[38;5;124mRA\u001b[39m\u001b[38;5;124m'\u001b[39m]\u001b[38;5;241m.\u001b[39mvalues[\u001b[38;5;241m0\u001b[39m], dec\u001b[38;5;241m=\u001b[39mrow_958013[\u001b[38;5;124m'\u001b[39m\u001b[38;5;124mDEC\u001b[39m\u001b[38;5;124m'\u001b[39m]\u001b[38;5;241m.\u001b[39mvalues[\u001b[38;5;241m0\u001b[39m], unit\u001b[38;5;241m=\u001b[39mu\u001b[38;5;241m.\u001b[39mdeg)\n\u001b[0;32m      2\u001b[0m \u001b[38;5;28mprint\u001b[39m(coord\u001b[38;5;241m.\u001b[39micrs\u001b[38;5;241m.\u001b[39mra\u001b[38;5;241m.\u001b[39mvalue, coord\u001b[38;5;241m.\u001b[39micrs\u001b[38;5;241m.\u001b[39mdec\u001b[38;5;241m.\u001b[39mvalue)\n",
      "\u001b[1;31mNameError\u001b[0m: name 'row_958013' is not defined"
     ]
    }
   ],
   "source": [
    "coord = SkyCoord(ra=row_958013['RA'].values[0], dec=row_958013['DEC'].values[0], unit=u.deg)\n",
    "print(coord.icrs.ra.value, coord.icrs.dec.value)"
   ]
  },
  {
   "cell_type": "code",
   "execution_count": 6,
   "id": "5a53bb90",
   "metadata": {},
   "outputs": [
    {
     "data": {
      "text/plain": [
       "Index(['EXPNUM', 'BAND', 'TELESCOP', 'OBSERVAT', 'INSTRUME', 'OBS-LONG',\n",
       "       'OBS-LAT', 'OBS-ELEV', 'TELEQUIN', 'TIMESYS', 'DATE-OBS', 'TIME-OBS',\n",
       "       'DARKTIME', 'EXPTIME', 'RA', 'DEC', 'AZ', 'ZD'],\n",
       "      dtype='object')"
      ]
     },
     "execution_count": 6,
     "metadata": {},
     "output_type": "execute_result"
    }
   ],
   "source": [
    "telemetry1.columns"
   ]
  },
  {
   "cell_type": "code",
   "execution_count": 5,
   "id": "943c1dfd",
   "metadata": {},
   "outputs": [],
   "source": [
    "expnum_counts = streaks1['expnum'].value_counts()\n",
    "#expnums_mas_8 = expnum_counts[expnum_counts > 8].index\n",
    "expnums_mas_3 = expnum_counts[expnum_counts > 3].index\n",
    "streaks_filtradas = streaks1[streaks1['expnum'].isin(expnums_mas_3)]\n",
    "telemetry1_filtrado = telemetry1[telemetry1['EXPNUM'].isin(streaks_filtradas['expnum'])]"
   ]
  },
  {
   "cell_type": "code",
   "execution_count": 6,
   "id": "a1eca5a5",
   "metadata": {
    "scrolled": true
   },
   "outputs": [
    {
     "data": {
      "text/html": [
       "<div>\n",
       "<style scoped>\n",
       "    .dataframe tbody tr th:only-of-type {\n",
       "        vertical-align: middle;\n",
       "    }\n",
       "\n",
       "    .dataframe tbody tr th {\n",
       "        vertical-align: top;\n",
       "    }\n",
       "\n",
       "    .dataframe thead th {\n",
       "        text-align: right;\n",
       "    }\n",
       "</style>\n",
       "<table border=\"1\" class=\"dataframe\">\n",
       "  <thead>\n",
       "    <tr style=\"text-align: right;\">\n",
       "      <th></th>\n",
       "      <th>filename</th>\n",
       "      <th>rnum</th>\n",
       "      <th>ra_1</th>\n",
       "      <th>ra_2</th>\n",
       "      <th>ra_3</th>\n",
       "      <th>ra_4</th>\n",
       "      <th>dec_1</th>\n",
       "      <th>dec_2</th>\n",
       "      <th>dec_3</th>\n",
       "      <th>dec_4</th>\n",
       "      <th>expnum</th>\n",
       "      <th>ccdnum</th>\n",
       "      <th>band</th>\n",
       "    </tr>\n",
       "  </thead>\n",
       "  <tbody>\n",
       "    <tr>\n",
       "      <th>0</th>\n",
       "      <td>D00145425_g_c03_r4148p01_hstreak.fits</td>\n",
       "      <td>3</td>\n",
       "      <td>1.159330</td>\n",
       "      <td>1.160919</td>\n",
       "      <td>1.164310</td>\n",
       "      <td>1.162720</td>\n",
       "      <td>-28.724241</td>\n",
       "      <td>-28.724212</td>\n",
       "      <td>-28.857155</td>\n",
       "      <td>-28.857183</td>\n",
       "      <td>145425</td>\n",
       "      <td>3</td>\n",
       "      <td>g</td>\n",
       "    </tr>\n",
       "    <tr>\n",
       "      <th>1</th>\n",
       "      <td>D00145425_g_c06_r4148p01_hstreak.fits</td>\n",
       "      <td>1</td>\n",
       "      <td>0.986677</td>\n",
       "      <td>0.986711</td>\n",
       "      <td>0.644209</td>\n",
       "      <td>0.644186</td>\n",
       "      <td>-29.032018</td>\n",
       "      <td>-29.034283</td>\n",
       "      <td>-29.037208</td>\n",
       "      <td>-29.034944</td>\n",
       "      <td>145425</td>\n",
       "      <td>6</td>\n",
       "      <td>g</td>\n",
       "    </tr>\n",
       "    <tr>\n",
       "      <th>2</th>\n",
       "      <td>D00145425_g_c09_r4148p01_hstreak.fits</td>\n",
       "      <td>1</td>\n",
       "      <td>0.452852</td>\n",
       "      <td>0.452942</td>\n",
       "      <td>0.109842</td>\n",
       "      <td>0.109782</td>\n",
       "      <td>-29.193042</td>\n",
       "      <td>-29.199694</td>\n",
       "      <td>-29.203265</td>\n",
       "      <td>-29.196615</td>\n",
       "      <td>145425</td>\n",
       "      <td>9</td>\n",
       "      <td>g</td>\n",
       "    </tr>\n",
       "    <tr>\n",
       "      <th>3</th>\n",
       "      <td>D00145425_g_c15_r4148p01_hstreak.fits</td>\n",
       "      <td>1</td>\n",
       "      <td>0.286716</td>\n",
       "      <td>0.286812</td>\n",
       "      <td>0.630816</td>\n",
       "      <td>0.630741</td>\n",
       "      <td>-29.363308</td>\n",
       "      <td>-29.358405</td>\n",
       "      <td>-29.362739</td>\n",
       "      <td>-29.367644</td>\n",
       "      <td>145425</td>\n",
       "      <td>15</td>\n",
       "      <td>g</td>\n",
       "    </tr>\n",
       "    <tr>\n",
       "      <th>4</th>\n",
       "      <td>D00145425_g_c16_r4148p01_hstreak.fits</td>\n",
       "      <td>1</td>\n",
       "      <td>0.985852</td>\n",
       "      <td>0.987446</td>\n",
       "      <td>0.987211</td>\n",
       "      <td>0.985615</td>\n",
       "      <td>-29.216748</td>\n",
       "      <td>-29.216752</td>\n",
       "      <td>-29.366385</td>\n",
       "      <td>-29.366381</td>\n",
       "      <td>145425</td>\n",
       "      <td>16</td>\n",
       "      <td>g</td>\n",
       "    </tr>\n",
       "    <tr>\n",
       "      <th>...</th>\n",
       "      <td>...</td>\n",
       "      <td>...</td>\n",
       "      <td>...</td>\n",
       "      <td>...</td>\n",
       "      <td>...</td>\n",
       "      <td>...</td>\n",
       "      <td>...</td>\n",
       "      <td>...</td>\n",
       "      <td>...</td>\n",
       "      <td>...</td>\n",
       "      <td>...</td>\n",
       "      <td>...</td>\n",
       "      <td>...</td>\n",
       "    </tr>\n",
       "    <tr>\n",
       "      <th>879115</th>\n",
       "      <td>D01223535_g_c05_r6224p01_hstreak.fits</td>\n",
       "      <td>1</td>\n",
       "      <td>323.500201</td>\n",
       "      <td>323.502653</td>\n",
       "      <td>323.444690</td>\n",
       "      <td>323.442238</td>\n",
       "      <td>-17.828499</td>\n",
       "      <td>-17.830897</td>\n",
       "      <td>-17.884254</td>\n",
       "      <td>-17.881855</td>\n",
       "      <td>1223535</td>\n",
       "      <td>5</td>\n",
       "      <td>g</td>\n",
       "    </tr>\n",
       "    <tr>\n",
       "      <th>879116</th>\n",
       "      <td>D01223535_g_c31_r6224p01_hstreak.fits</td>\n",
       "      <td>1</td>\n",
       "      <td>324.355544</td>\n",
       "      <td>324.369908</td>\n",
       "      <td>324.372363</td>\n",
       "      <td>324.357994</td>\n",
       "      <td>-18.392109</td>\n",
       "      <td>-18.391941</td>\n",
       "      <td>-18.541070</td>\n",
       "      <td>-18.541235</td>\n",
       "      <td>1223535</td>\n",
       "      <td>31</td>\n",
       "      <td>g</td>\n",
       "    </tr>\n",
       "    <tr>\n",
       "      <th>879117</th>\n",
       "      <td>D01223535_g_c56_r6224p01_hstreak.fits</td>\n",
       "      <td>1</td>\n",
       "      <td>322.914589</td>\n",
       "      <td>322.934330</td>\n",
       "      <td>322.849385</td>\n",
       "      <td>322.829651</td>\n",
       "      <td>-19.193809</td>\n",
       "      <td>-19.210870</td>\n",
       "      <td>-19.298406</td>\n",
       "      <td>-19.281342</td>\n",
       "      <td>1223535</td>\n",
       "      <td>56</td>\n",
       "      <td>g</td>\n",
       "    </tr>\n",
       "    <tr>\n",
       "      <th>879118</th>\n",
       "      <td>D01223535_g_c58_r6224p01_hstreak.fits</td>\n",
       "      <td>1</td>\n",
       "      <td>323.771850</td>\n",
       "      <td>323.783894</td>\n",
       "      <td>323.835739</td>\n",
       "      <td>323.823696</td>\n",
       "      <td>-19.214779</td>\n",
       "      <td>-19.204086</td>\n",
       "      <td>-19.255903</td>\n",
       "      <td>-19.266598</td>\n",
       "      <td>1223535</td>\n",
       "      <td>58</td>\n",
       "      <td>g</td>\n",
       "    </tr>\n",
       "    <tr>\n",
       "      <th>879119</th>\n",
       "      <td>D01223535_g_c59_r6224p01_hstreak.fits</td>\n",
       "      <td>1</td>\n",
       "      <td>323.878330</td>\n",
       "      <td>323.890982</td>\n",
       "      <td>323.836373</td>\n",
       "      <td>323.823717</td>\n",
       "      <td>-19.203540</td>\n",
       "      <td>-19.214870</td>\n",
       "      <td>-19.269001</td>\n",
       "      <td>-19.257671</td>\n",
       "      <td>1223535</td>\n",
       "      <td>59</td>\n",
       "      <td>g</td>\n",
       "    </tr>\n",
       "  </tbody>\n",
       "</table>\n",
       "<p>764125 rows × 13 columns</p>\n",
       "</div>"
      ],
      "text/plain": [
       "                                     filename  rnum        ra_1        ra_2  \\\n",
       "0       D00145425_g_c03_r4148p01_hstreak.fits     3    1.159330    1.160919   \n",
       "1       D00145425_g_c06_r4148p01_hstreak.fits     1    0.986677    0.986711   \n",
       "2       D00145425_g_c09_r4148p01_hstreak.fits     1    0.452852    0.452942   \n",
       "3       D00145425_g_c15_r4148p01_hstreak.fits     1    0.286716    0.286812   \n",
       "4       D00145425_g_c16_r4148p01_hstreak.fits     1    0.985852    0.987446   \n",
       "...                                       ...   ...         ...         ...   \n",
       "879115  D01223535_g_c05_r6224p01_hstreak.fits     1  323.500201  323.502653   \n",
       "879116  D01223535_g_c31_r6224p01_hstreak.fits     1  324.355544  324.369908   \n",
       "879117  D01223535_g_c56_r6224p01_hstreak.fits     1  322.914589  322.934330   \n",
       "879118  D01223535_g_c58_r6224p01_hstreak.fits     1  323.771850  323.783894   \n",
       "879119  D01223535_g_c59_r6224p01_hstreak.fits     1  323.878330  323.890982   \n",
       "\n",
       "              ra_3        ra_4      dec_1      dec_2      dec_3      dec_4  \\\n",
       "0         1.164310    1.162720 -28.724241 -28.724212 -28.857155 -28.857183   \n",
       "1         0.644209    0.644186 -29.032018 -29.034283 -29.037208 -29.034944   \n",
       "2         0.109842    0.109782 -29.193042 -29.199694 -29.203265 -29.196615   \n",
       "3         0.630816    0.630741 -29.363308 -29.358405 -29.362739 -29.367644   \n",
       "4         0.987211    0.985615 -29.216748 -29.216752 -29.366385 -29.366381   \n",
       "...            ...         ...        ...        ...        ...        ...   \n",
       "879115  323.444690  323.442238 -17.828499 -17.830897 -17.884254 -17.881855   \n",
       "879116  324.372363  324.357994 -18.392109 -18.391941 -18.541070 -18.541235   \n",
       "879117  322.849385  322.829651 -19.193809 -19.210870 -19.298406 -19.281342   \n",
       "879118  323.835739  323.823696 -19.214779 -19.204086 -19.255903 -19.266598   \n",
       "879119  323.836373  323.823717 -19.203540 -19.214870 -19.269001 -19.257671   \n",
       "\n",
       "         expnum  ccdnum band  \n",
       "0        145425       3    g  \n",
       "1        145425       6    g  \n",
       "2        145425       9    g  \n",
       "3        145425      15    g  \n",
       "4        145425      16    g  \n",
       "...         ...     ...  ...  \n",
       "879115  1223535       5    g  \n",
       "879116  1223535      31    g  \n",
       "879117  1223535      56    g  \n",
       "879118  1223535      58    g  \n",
       "879119  1223535      59    g  \n",
       "\n",
       "[764125 rows x 13 columns]"
      ]
     },
     "execution_count": 6,
     "metadata": {},
     "output_type": "execute_result"
    }
   ],
   "source": [
    "streaks_filtradas"
   ]
  },
  {
   "cell_type": "code",
   "execution_count": 7,
   "id": "a462b681",
   "metadata": {},
   "outputs": [
    {
     "data": {
      "text/html": [
       "<div>\n",
       "<style scoped>\n",
       "    .dataframe tbody tr th:only-of-type {\n",
       "        vertical-align: middle;\n",
       "    }\n",
       "\n",
       "    .dataframe tbody tr th {\n",
       "        vertical-align: top;\n",
       "    }\n",
       "\n",
       "    .dataframe thead th {\n",
       "        text-align: right;\n",
       "    }\n",
       "</style>\n",
       "<table border=\"1\" class=\"dataframe\">\n",
       "  <thead>\n",
       "    <tr style=\"text-align: right;\">\n",
       "      <th></th>\n",
       "      <th>EXPNUM</th>\n",
       "      <th>BAND</th>\n",
       "      <th>TELESCOP</th>\n",
       "      <th>OBSERVAT</th>\n",
       "      <th>INSTRUME</th>\n",
       "      <th>OBS-LONG</th>\n",
       "      <th>OBS-LAT</th>\n",
       "      <th>OBS-ELEV</th>\n",
       "      <th>TELEQUIN</th>\n",
       "      <th>TIMESYS</th>\n",
       "      <th>DATE-OBS</th>\n",
       "      <th>TIME-OBS</th>\n",
       "      <th>DARKTIME</th>\n",
       "      <th>EXPTIME</th>\n",
       "      <th>RA</th>\n",
       "      <th>DEC</th>\n",
       "      <th>AZ</th>\n",
       "      <th>ZD</th>\n",
       "    </tr>\n",
       "  </thead>\n",
       "  <tbody>\n",
       "    <tr>\n",
       "      <th>1849</th>\n",
       "      <td>145434</td>\n",
       "      <td>z</td>\n",
       "      <td>CTIO 4.0-m telescope</td>\n",
       "      <td>CTIO</td>\n",
       "      <td>DECam</td>\n",
       "      <td>70.8149</td>\n",
       "      <td>-30.1661</td>\n",
       "      <td>2215</td>\n",
       "      <td>2000</td>\n",
       "      <td>UTC</td>\n",
       "      <td>2012-11-02 04:53:58.963709</td>\n",
       "      <td>04:53:58.963709</td>\n",
       "      <td>31.1660</td>\n",
       "      <td>30.0</td>\n",
       "      <td>00:03:06.361</td>\n",
       "      <td>-29:47:35.696</td>\n",
       "      <td>259.1000</td>\n",
       "      <td>37.55</td>\n",
       "    </tr>\n",
       "    <tr>\n",
       "      <th>1856</th>\n",
       "      <td>145505</td>\n",
       "      <td>r</td>\n",
       "      <td>CTIO 4.0-m telescope</td>\n",
       "      <td>CTIO</td>\n",
       "      <td>DECam</td>\n",
       "      <td>70.8149</td>\n",
       "      <td>-30.1661</td>\n",
       "      <td>2215</td>\n",
       "      <td>2000</td>\n",
       "      <td>UTC</td>\n",
       "      <td>2012-11-02 06:18:03.596634</td>\n",
       "      <td>06:18:03.596634</td>\n",
       "      <td>61.1374</td>\n",
       "      <td>60.0</td>\n",
       "      <td>02:24:27.068</td>\n",
       "      <td>-04:16:03.299</td>\n",
       "      <td>307.0800</td>\n",
       "      <td>37.89</td>\n",
       "    </tr>\n",
       "    <tr>\n",
       "      <th>1857</th>\n",
       "      <td>145506</td>\n",
       "      <td>i</td>\n",
       "      <td>CTIO 4.0-m telescope</td>\n",
       "      <td>CTIO</td>\n",
       "      <td>DECam</td>\n",
       "      <td>70.8149</td>\n",
       "      <td>-30.1661</td>\n",
       "      <td>2215</td>\n",
       "      <td>2000</td>\n",
       "      <td>UTC</td>\n",
       "      <td>2012-11-02 06:19:34.192876</td>\n",
       "      <td>06:19:34.192876</td>\n",
       "      <td>111.1910</td>\n",
       "      <td>110.0</td>\n",
       "      <td>02:24:27.061</td>\n",
       "      <td>-04:16:03.500</td>\n",
       "      <td>306.7000</td>\n",
       "      <td>38.12</td>\n",
       "    </tr>\n",
       "    <tr>\n",
       "      <th>1858</th>\n",
       "      <td>145507</td>\n",
       "      <td>i</td>\n",
       "      <td>CTIO 4.0-m telescope</td>\n",
       "      <td>CTIO</td>\n",
       "      <td>DECam</td>\n",
       "      <td>70.8149</td>\n",
       "      <td>-30.1661</td>\n",
       "      <td>2215</td>\n",
       "      <td>2000</td>\n",
       "      <td>UTC</td>\n",
       "      <td>2012-11-02 06:21:55.581522</td>\n",
       "      <td>06:21:55.581522</td>\n",
       "      <td>111.1170</td>\n",
       "      <td>110.0</td>\n",
       "      <td>02:23:42.961</td>\n",
       "      <td>-04:15:07.398</td>\n",
       "      <td>305.7800</td>\n",
       "      <td>38.70</td>\n",
       "    </tr>\n",
       "    <tr>\n",
       "      <th>1859</th>\n",
       "      <td>145508</td>\n",
       "      <td>z</td>\n",
       "      <td>CTIO 4.0-m telescope</td>\n",
       "      <td>CTIO</td>\n",
       "      <td>DECam</td>\n",
       "      <td>70.8149</td>\n",
       "      <td>-30.1661</td>\n",
       "      <td>2215</td>\n",
       "      <td>2000</td>\n",
       "      <td>UTC</td>\n",
       "      <td>2012-11-02 06:24:15.881703</td>\n",
       "      <td>06:24:15.881703</td>\n",
       "      <td>241.1170</td>\n",
       "      <td>240.0</td>\n",
       "      <td>02:23:42.900</td>\n",
       "      <td>-04:15:08.298</td>\n",
       "      <td>305.1700</td>\n",
       "      <td>39.08</td>\n",
       "    </tr>\n",
       "    <tr>\n",
       "      <th>...</th>\n",
       "      <td>...</td>\n",
       "      <td>...</td>\n",
       "      <td>...</td>\n",
       "      <td>...</td>\n",
       "      <td>...</td>\n",
       "      <td>...</td>\n",
       "      <td>...</td>\n",
       "      <td>...</td>\n",
       "      <td>...</td>\n",
       "      <td>...</td>\n",
       "      <td>...</td>\n",
       "      <td>...</td>\n",
       "      <td>...</td>\n",
       "      <td>...</td>\n",
       "      <td>...</td>\n",
       "      <td>...</td>\n",
       "      <td>...</td>\n",
       "      <td>...</td>\n",
       "    </tr>\n",
       "    <tr>\n",
       "      <th>504522</th>\n",
       "      <td>1223531</td>\n",
       "      <td>g</td>\n",
       "      <td>CTIO 4.0-m telescope</td>\n",
       "      <td>CTIO</td>\n",
       "      <td>DECam</td>\n",
       "      <td>70.8149</td>\n",
       "      <td>-30.1661</td>\n",
       "      <td>2215</td>\n",
       "      <td>2000</td>\n",
       "      <td>UTC</td>\n",
       "      <td>2023-07-21 04:31:20.267482</td>\n",
       "      <td>04:31:20.267482</td>\n",
       "      <td>91.0796</td>\n",
       "      <td>90.0</td>\n",
       "      <td>21:35:26.250</td>\n",
       "      <td>-23:10:46.700</td>\n",
       "      <td>81.3260</td>\n",
       "      <td>26.43</td>\n",
       "    </tr>\n",
       "    <tr>\n",
       "      <th>504523</th>\n",
       "      <td>1223532</td>\n",
       "      <td>g</td>\n",
       "      <td>CTIO 4.0-m telescope</td>\n",
       "      <td>CTIO</td>\n",
       "      <td>DECam</td>\n",
       "      <td>70.8149</td>\n",
       "      <td>-30.1661</td>\n",
       "      <td>2215</td>\n",
       "      <td>2000</td>\n",
       "      <td>UTC</td>\n",
       "      <td>2023-07-21 04:33:18.720174</td>\n",
       "      <td>04:33:18.720174</td>\n",
       "      <td>91.0856</td>\n",
       "      <td>90.0</td>\n",
       "      <td>21:32:30.502</td>\n",
       "      <td>-21:38:18.200</td>\n",
       "      <td>77.0527</td>\n",
       "      <td>25.96</td>\n",
       "    </tr>\n",
       "    <tr>\n",
       "      <th>504524</th>\n",
       "      <td>1223533</td>\n",
       "      <td>g</td>\n",
       "      <td>CTIO 4.0-m telescope</td>\n",
       "      <td>CTIO</td>\n",
       "      <td>DECam</td>\n",
       "      <td>70.8149</td>\n",
       "      <td>-30.1661</td>\n",
       "      <td>2215</td>\n",
       "      <td>2000</td>\n",
       "      <td>UTC</td>\n",
       "      <td>2023-07-21 04:35:19.212277</td>\n",
       "      <td>04:35:19.212277</td>\n",
       "      <td>91.1041</td>\n",
       "      <td>90.0</td>\n",
       "      <td>21:29:40.132</td>\n",
       "      <td>-20:06:01.501</td>\n",
       "      <td>72.7274</td>\n",
       "      <td>25.63</td>\n",
       "    </tr>\n",
       "    <tr>\n",
       "      <th>504525</th>\n",
       "      <td>1223534</td>\n",
       "      <td>g</td>\n",
       "      <td>CTIO 4.0-m telescope</td>\n",
       "      <td>CTIO</td>\n",
       "      <td>DECam</td>\n",
       "      <td>70.8149</td>\n",
       "      <td>-30.1661</td>\n",
       "      <td>2215</td>\n",
       "      <td>2000</td>\n",
       "      <td>UTC</td>\n",
       "      <td>2023-07-21 04:37:18.092169</td>\n",
       "      <td>04:37:18.092169</td>\n",
       "      <td>91.1129</td>\n",
       "      <td>90.0</td>\n",
       "      <td>21:36:50.839</td>\n",
       "      <td>-20:04:59.099</td>\n",
       "      <td>73.9834</td>\n",
       "      <td>26.71</td>\n",
       "    </tr>\n",
       "    <tr>\n",
       "      <th>504526</th>\n",
       "      <td>1223535</td>\n",
       "      <td>g</td>\n",
       "      <td>CTIO 4.0-m telescope</td>\n",
       "      <td>CTIO</td>\n",
       "      <td>DECam</td>\n",
       "      <td>70.8149</td>\n",
       "      <td>-30.1661</td>\n",
       "      <td>2215</td>\n",
       "      <td>2000</td>\n",
       "      <td>UTC</td>\n",
       "      <td>2023-07-21 04:39:17.941009</td>\n",
       "      <td>04:39:17.941009</td>\n",
       "      <td>91.0940</td>\n",
       "      <td>90.0</td>\n",
       "      <td>21:34:00.689</td>\n",
       "      <td>-18:32:55.702</td>\n",
       "      <td>69.7555</td>\n",
       "      <td>26.48</td>\n",
       "    </tr>\n",
       "  </tbody>\n",
       "</table>\n",
       "<p>75201 rows × 18 columns</p>\n",
       "</div>"
      ],
      "text/plain": [
       "         EXPNUM BAND              TELESCOP OBSERVAT INSTRUME  OBS-LONG  \\\n",
       "1849     145434    z  CTIO 4.0-m telescope     CTIO    DECam   70.8149   \n",
       "1856     145505    r  CTIO 4.0-m telescope     CTIO    DECam   70.8149   \n",
       "1857     145506    i  CTIO 4.0-m telescope     CTIO    DECam   70.8149   \n",
       "1858     145507    i  CTIO 4.0-m telescope     CTIO    DECam   70.8149   \n",
       "1859     145508    z  CTIO 4.0-m telescope     CTIO    DECam   70.8149   \n",
       "...         ...  ...                   ...      ...      ...       ...   \n",
       "504522  1223531    g  CTIO 4.0-m telescope     CTIO    DECam   70.8149   \n",
       "504523  1223532    g  CTIO 4.0-m telescope     CTIO    DECam   70.8149   \n",
       "504524  1223533    g  CTIO 4.0-m telescope     CTIO    DECam   70.8149   \n",
       "504525  1223534    g  CTIO 4.0-m telescope     CTIO    DECam   70.8149   \n",
       "504526  1223535    g  CTIO 4.0-m telescope     CTIO    DECam   70.8149   \n",
       "\n",
       "        OBS-LAT  OBS-ELEV  TELEQUIN TIMESYS                    DATE-OBS  \\\n",
       "1849   -30.1661      2215      2000     UTC  2012-11-02 04:53:58.963709   \n",
       "1856   -30.1661      2215      2000     UTC  2012-11-02 06:18:03.596634   \n",
       "1857   -30.1661      2215      2000     UTC  2012-11-02 06:19:34.192876   \n",
       "1858   -30.1661      2215      2000     UTC  2012-11-02 06:21:55.581522   \n",
       "1859   -30.1661      2215      2000     UTC  2012-11-02 06:24:15.881703   \n",
       "...         ...       ...       ...     ...                         ...   \n",
       "504522 -30.1661      2215      2000     UTC  2023-07-21 04:31:20.267482   \n",
       "504523 -30.1661      2215      2000     UTC  2023-07-21 04:33:18.720174   \n",
       "504524 -30.1661      2215      2000     UTC  2023-07-21 04:35:19.212277   \n",
       "504525 -30.1661      2215      2000     UTC  2023-07-21 04:37:18.092169   \n",
       "504526 -30.1661      2215      2000     UTC  2023-07-21 04:39:17.941009   \n",
       "\n",
       "               TIME-OBS  DARKTIME  EXPTIME            RA            DEC  \\\n",
       "1849    04:53:58.963709   31.1660     30.0  00:03:06.361  -29:47:35.696   \n",
       "1856    06:18:03.596634   61.1374     60.0  02:24:27.068  -04:16:03.299   \n",
       "1857    06:19:34.192876  111.1910    110.0  02:24:27.061  -04:16:03.500   \n",
       "1858    06:21:55.581522  111.1170    110.0  02:23:42.961  -04:15:07.398   \n",
       "1859    06:24:15.881703  241.1170    240.0  02:23:42.900  -04:15:08.298   \n",
       "...                 ...       ...      ...           ...            ...   \n",
       "504522  04:31:20.267482   91.0796     90.0  21:35:26.250  -23:10:46.700   \n",
       "504523  04:33:18.720174   91.0856     90.0  21:32:30.502  -21:38:18.200   \n",
       "504524  04:35:19.212277   91.1041     90.0  21:29:40.132  -20:06:01.501   \n",
       "504525  04:37:18.092169   91.1129     90.0  21:36:50.839  -20:04:59.099   \n",
       "504526  04:39:17.941009   91.0940     90.0  21:34:00.689  -18:32:55.702   \n",
       "\n",
       "              AZ     ZD  \n",
       "1849    259.1000  37.55  \n",
       "1856    307.0800  37.89  \n",
       "1857    306.7000  38.12  \n",
       "1858    305.7800  38.70  \n",
       "1859    305.1700  39.08  \n",
       "...          ...    ...  \n",
       "504522   81.3260  26.43  \n",
       "504523   77.0527  25.96  \n",
       "504524   72.7274  25.63  \n",
       "504525   73.9834  26.71  \n",
       "504526   69.7555  26.48  \n",
       "\n",
       "[75201 rows x 18 columns]"
      ]
     },
     "execution_count": 7,
     "metadata": {},
     "output_type": "execute_result"
    }
   ],
   "source": [
    "telemetry1_filtrado"
   ]
  },
  {
   "cell_type": "code",
   "execution_count": 8,
   "id": "8a3c86e6",
   "metadata": {
    "scrolled": true
   },
   "outputs": [
    {
     "data": {
      "text/plain": [
       "expnum\n",
       "146084     61\n",
       "146086     61\n",
       "146085     61\n",
       "146082     61\n",
       "146083     61\n",
       "           ..\n",
       "563488      4\n",
       "1033561     4\n",
       "563493      4\n",
       "563500      4\n",
       "425829      4\n",
       "Name: count, Length: 78284, dtype: int64"
      ]
     },
     "execution_count": 8,
     "metadata": {},
     "output_type": "execute_result"
    }
   ],
   "source": [
    "expnum_counts[expnum_counts > 3] # How many times that exposure appear in the dataset"
   ]
  },
  {
   "cell_type": "code",
   "execution_count": 9,
   "id": "ec5157f5",
   "metadata": {},
   "outputs": [],
   "source": [
    "#expnums_mas_8 = expnum_counts[expnum_counts > 8].index.tolist() # Which are those exposures that have more than 8 streaks\n",
    "#print(expnums_mas_8)\n",
    "expnums_mas_3 = expnum_counts[expnum_counts > 3].index.tolist() # Which are those exposures that have more than 3 streaks\n"
   ]
  },
  {
   "cell_type": "code",
   "execution_count": 15,
   "id": "fa77ce3a",
   "metadata": {},
   "outputs": [],
   "source": [
    "#expnumtry = telemetry1_filtrado['EXPNUM'].unique()  # Usaria toooooodos los datos filtrados :p\n",
    "#expnumtry = telemetry1_filtrado['EXPNUM'].drop_duplicates().sample(10)     # Usando los datos filtrados\n",
    "                                                                      # , random_state=42) # Random exposures\n",
    "expnumtry = telemetry1['EXPNUM'].drop_duplicates().sample(500)  # Usando una muestra de los datos sin filtrar, para ver si hay mas starlinks con menos de 8 streaks"
   ]
  },
  {
   "cell_type": "code",
   "execution_count": 16,
   "id": "eadc5f4b",
   "metadata": {},
   "outputs": [],
   "source": [
    "site = EarthLocation.of_site('ctio')"
   ]
  },
  {
   "cell_type": "code",
   "execution_count": 17,
   "id": "58f347aa",
   "metadata": {},
   "outputs": [],
   "source": [
    "# Contenedores de resultados\n",
    "expnum_starlink   = []   # exposures que tuvieron al menos 1 STARLINK\n",
    "satmap_starlink   = []   # lista de nombres Starlink para cada exposure\n",
    "satmap_completo   = {}  \n",
    "todos_satelites = {} \n",
    "starlinks_en_exp = []\n",
    "fov_radius=1"
   ]
  },
  {
   "cell_type": "code",
   "execution_count": 18,
   "id": "9741bb48",
   "metadata": {
    "scrolled": true
   },
   "outputs": [
    {
     "name": "stderr",
     "output_type": "stream",
     "text": [
      "Buscando STARLINKs:   0%|                                                                             | 0/500 [00:00<?, ?it/s]"
     ]
    },
    {
     "name": "stdout",
     "output_type": "stream",
     "text": [
      "Running query for expnum876723\n"
     ]
    },
    {
     "name": "stderr",
     "output_type": "stream",
     "text": [
      "Buscando STARLINKs:   0%|▏                                                                  | 1/500 [00:34<4:50:53, 34.98s/it]"
     ]
    },
    {
     "name": "stdout",
     "output_type": "stream",
     "text": [
      "876723 []\n",
      "Running query for expnum516482\n"
     ]
    },
    {
     "name": "stderr",
     "output_type": "stream",
     "text": [
      "Buscando STARLINKs:   0%|▎                                                                  | 2/500 [00:55<3:39:27, 26.44s/it]"
     ]
    },
    {
     "name": "stdout",
     "output_type": "stream",
     "text": [
      "516482 []\n",
      "Running query for expnum657139\n"
     ]
    },
    {
     "name": "stderr",
     "output_type": "stream",
     "text": [
      "Buscando STARLINKs:   1%|▍                                                                  | 3/500 [01:19<3:31:11, 25.50s/it]"
     ]
    },
    {
     "name": "stdout",
     "output_type": "stream",
     "text": [
      "657139 []\n",
      "Running query for expnum388159\n"
     ]
    },
    {
     "name": "stderr",
     "output_type": "stream",
     "text": [
      "Buscando STARLINKs:   1%|▌                                                                  | 4/500 [01:43<3:24:27, 24.73s/it]"
     ]
    },
    {
     "name": "stdout",
     "output_type": "stream",
     "text": [
      "388159 []\n",
      "Running query for expnum319658\n"
     ]
    },
    {
     "name": "stderr",
     "output_type": "stream",
     "text": [
      "Buscando STARLINKs:   1%|▋                                                                  | 5/500 [02:07<3:22:57, 24.60s/it]"
     ]
    },
    {
     "name": "stdout",
     "output_type": "stream",
     "text": [
      "319658 []\n",
      "Running query for expnum943793\n"
     ]
    },
    {
     "name": "stderr",
     "output_type": "stream",
     "text": [
      "Buscando STARLINKs:   1%|▊                                                                  | 6/500 [02:46<4:01:50, 29.37s/it]"
     ]
    },
    {
     "name": "stdout",
     "output_type": "stream",
     "text": [
      "943793 []\n",
      "Running query for expnum634064\n"
     ]
    },
    {
     "name": "stderr",
     "output_type": "stream",
     "text": [
      "Buscando STARLINKs:   1%|▉                                                                  | 7/500 [03:06<3:37:34, 26.48s/it]"
     ]
    },
    {
     "name": "stdout",
     "output_type": "stream",
     "text": [
      "634064 []\n",
      "Running query for expnum1040330\n"
     ]
    },
    {
     "name": "stderr",
     "output_type": "stream",
     "text": [
      "Buscando STARLINKs:   2%|█                                                                  | 8/500 [03:36<3:46:05, 27.57s/it]"
     ]
    },
    {
     "name": "stdout",
     "output_type": "stream",
     "text": [
      "1040330 ['STARLINK-1103 (44921)', 'STARLINK-1551 (46075)']\n",
      "Running query for expnum1063531\n"
     ]
    },
    {
     "name": "stderr",
     "output_type": "stream",
     "text": [
      "Buscando STARLINKs:   2%|█▏                                                                 | 9/500 [03:53<3:16:38, 24.03s/it]"
     ]
    },
    {
     "name": "stdout",
     "output_type": "stream",
     "text": [
      "1063531 []\n",
      "Running query for expnum780258\n"
     ]
    },
    {
     "name": "stderr",
     "output_type": "stream",
     "text": [
      "Buscando STARLINKs:   2%|█▎                                                                | 10/500 [04:20<3:25:29, 25.16s/it]"
     ]
    },
    {
     "name": "stdout",
     "output_type": "stream",
     "text": [
      "780258 []\n",
      "Running query for expnum299285\n"
     ]
    },
    {
     "name": "stderr",
     "output_type": "stream",
     "text": [
      "Buscando STARLINKs:   2%|█▍                                                                | 11/500 [04:43<3:18:12, 24.32s/it]"
     ]
    },
    {
     "name": "stdout",
     "output_type": "stream",
     "text": [
      "299285 []\n",
      "Running query for expnum1191188\n"
     ]
    },
    {
     "name": "stderr",
     "output_type": "stream",
     "text": [
      "Buscando STARLINKs:   2%|█▌                                                                | 12/500 [05:08<3:21:24, 24.76s/it]"
     ]
    },
    {
     "name": "stdout",
     "output_type": "stream",
     "text": [
      "1191188 []\n",
      "Running query for expnum857734\n"
     ]
    },
    {
     "name": "stderr",
     "output_type": "stream",
     "text": [
      "Buscando STARLINKs:   3%|█▋                                                                | 13/500 [05:41<3:39:49, 27.08s/it]"
     ]
    },
    {
     "name": "stdout",
     "output_type": "stream",
     "text": [
      "857734 []\n",
      "Running query for expnum977343\n"
     ]
    },
    {
     "name": "stderr",
     "output_type": "stream",
     "text": [
      "Buscando STARLINKs:   3%|█▊                                                                | 14/500 [06:01<3:22:59, 25.06s/it]"
     ]
    },
    {
     "name": "stdout",
     "output_type": "stream",
     "text": [
      "977343 []\n",
      "Running query for expnum267248\n"
     ]
    },
    {
     "name": "stderr",
     "output_type": "stream",
     "text": [
      "Buscando STARLINKs:   3%|█▉                                                                | 15/500 [06:25<3:18:12, 24.52s/it]"
     ]
    },
    {
     "name": "stdout",
     "output_type": "stream",
     "text": [
      "267248 []\n",
      "Running query for expnum443467\n"
     ]
    },
    {
     "name": "stderr",
     "output_type": "stream",
     "text": [
      "Buscando STARLINKs:   3%|██                                                                | 16/500 [06:48<3:15:22, 24.22s/it]"
     ]
    },
    {
     "name": "stdout",
     "output_type": "stream",
     "text": [
      "443467 []\n",
      "Running query for expnum596549\n"
     ]
    },
    {
     "name": "stderr",
     "output_type": "stream",
     "text": [
      "Buscando STARLINKs:   3%|██▏                                                               | 17/500 [07:11<3:12:40, 23.94s/it]"
     ]
    },
    {
     "name": "stdout",
     "output_type": "stream",
     "text": [
      "596549 []\n",
      "Running query for expnum365056\n"
     ]
    },
    {
     "name": "stderr",
     "output_type": "stream",
     "text": [
      "Buscando STARLINKs:   4%|██▍                                                               | 18/500 [07:42<3:27:28, 25.83s/it]"
     ]
    },
    {
     "name": "stdout",
     "output_type": "stream",
     "text": [
      "365056 []\n",
      "Running query for expnum547262\n"
     ]
    },
    {
     "name": "stderr",
     "output_type": "stream",
     "text": [
      "Buscando STARLINKs:   4%|██▌                                                               | 19/500 [08:06<3:23:01, 25.33s/it]"
     ]
    },
    {
     "name": "stdout",
     "output_type": "stream",
     "text": [
      "547262 []\n",
      "Running query for expnum846824\n"
     ]
    },
    {
     "name": "stderr",
     "output_type": "stream",
     "text": [
      "Buscando STARLINKs:   4%|██▋                                                               | 20/500 [08:46<3:58:19, 29.79s/it]"
     ]
    },
    {
     "name": "stdout",
     "output_type": "stream",
     "text": [
      "846824 []\n",
      "Running query for expnum1104872\n"
     ]
    },
    {
     "name": "stderr",
     "output_type": "stream",
     "text": [
      "Buscando STARLINKs:   4%|██▊                                                               | 21/500 [09:21<4:09:27, 31.25s/it]"
     ]
    },
    {
     "name": "stdout",
     "output_type": "stream",
     "text": [
      "1104872 []\n",
      "Running query for expnum759706\n"
     ]
    },
    {
     "name": "stderr",
     "output_type": "stream",
     "text": [
      "Buscando STARLINKs:   4%|██▉                                                               | 22/500 [09:55<4:15:37, 32.09s/it]"
     ]
    },
    {
     "name": "stdout",
     "output_type": "stream",
     "text": [
      "759706 []\n",
      "Running query for expnum523477\n"
     ]
    },
    {
     "name": "stderr",
     "output_type": "stream",
     "text": [
      "Buscando STARLINKs:   5%|███                                                               | 23/500 [10:16<3:49:55, 28.92s/it]"
     ]
    },
    {
     "name": "stdout",
     "output_type": "stream",
     "text": [
      "523477 []\n",
      "Running query for expnum388112\n"
     ]
    },
    {
     "name": "stderr",
     "output_type": "stream",
     "text": [
      "Buscando STARLINKs:   5%|███▏                                                              | 24/500 [10:40<3:36:52, 27.34s/it]"
     ]
    },
    {
     "name": "stdout",
     "output_type": "stream",
     "text": [
      "388112 []\n",
      "Running query for expnum523443\n"
     ]
    },
    {
     "name": "stderr",
     "output_type": "stream",
     "text": [
      "Buscando STARLINKs:   5%|███▎                                                              | 25/500 [10:45<2:44:20, 20.76s/it]"
     ]
    },
    {
     "name": "stdout",
     "output_type": "stream",
     "text": [
      "523443 []\n",
      "Running query for expnum961335\n"
     ]
    },
    {
     "name": "stderr",
     "output_type": "stream",
     "text": [
      "Buscando STARLINKs:   5%|███▍                                                              | 26/500 [11:04<2:40:06, 20.27s/it]"
     ]
    },
    {
     "name": "stdout",
     "output_type": "stream",
     "text": [
      "961335 []\n",
      "Running query for expnum885640\n"
     ]
    },
    {
     "name": "stderr",
     "output_type": "stream",
     "text": [
      "Buscando STARLINKs:   5%|███▌                                                              | 27/500 [11:39<3:14:13, 24.64s/it]"
     ]
    },
    {
     "name": "stdout",
     "output_type": "stream",
     "text": [
      "885640 []\n",
      "Running query for expnum1009485\n"
     ]
    },
    {
     "name": "stderr",
     "output_type": "stream",
     "text": [
      "Buscando STARLINKs:   6%|███▋                                                              | 28/500 [12:02<3:08:30, 23.96s/it]"
     ]
    },
    {
     "name": "stdout",
     "output_type": "stream",
     "text": [
      "1009485 []\n",
      "Running query for expnum723356\n"
     ]
    },
    {
     "name": "stderr",
     "output_type": "stream",
     "text": [
      "Buscando STARLINKs:   6%|███▊                                                              | 29/500 [12:31<3:20:03, 25.48s/it]"
     ]
    },
    {
     "name": "stdout",
     "output_type": "stream",
     "text": [
      "723356 []\n",
      "Running query for expnum581854\n"
     ]
    },
    {
     "name": "stderr",
     "output_type": "stream",
     "text": [
      "Buscando STARLINKs:   6%|███▉                                                              | 30/500 [12:53<3:12:09, 24.53s/it]"
     ]
    },
    {
     "name": "stdout",
     "output_type": "stream",
     "text": [
      "581854 []\n",
      "Running query for expnum379917\n"
     ]
    },
    {
     "name": "stderr",
     "output_type": "stream",
     "text": [
      "Buscando STARLINKs:   6%|████                                                              | 31/500 [13:11<2:56:55, 22.63s/it]"
     ]
    },
    {
     "name": "stdout",
     "output_type": "stream",
     "text": [
      "379917 []\n",
      "Running query for expnum227429\n"
     ]
    },
    {
     "name": "stderr",
     "output_type": "stream",
     "text": [
      "Buscando STARLINKs:   6%|████▏                                                             | 32/500 [13:34<2:58:12, 22.85s/it]"
     ]
    },
    {
     "name": "stdout",
     "output_type": "stream",
     "text": [
      "227429 []\n",
      "Running query for expnum195923\n"
     ]
    },
    {
     "name": "stderr",
     "output_type": "stream",
     "text": [
      "Buscando STARLINKs:   7%|████▎                                                             | 33/500 [13:57<2:56:11, 22.64s/it]"
     ]
    },
    {
     "name": "stdout",
     "output_type": "stream",
     "text": [
      "195923 []\n",
      "Running query for expnum662920\n"
     ]
    },
    {
     "name": "stderr",
     "output_type": "stream",
     "text": [
      "Buscando STARLINKs:   7%|████▍                                                             | 34/500 [14:27<3:13:44, 24.95s/it]"
     ]
    },
    {
     "name": "stdout",
     "output_type": "stream",
     "text": [
      "662920 []\n",
      "Running query for expnum711044\n"
     ]
    },
    {
     "name": "stderr",
     "output_type": "stream",
     "text": [
      "Buscando STARLINKs:   7%|████▌                                                             | 35/500 [14:53<3:16:25, 25.35s/it]"
     ]
    },
    {
     "name": "stdout",
     "output_type": "stream",
     "text": [
      "711044 []\n",
      "Running query for expnum1000476\n"
     ]
    },
    {
     "name": "stderr",
     "output_type": "stream",
     "text": [
      "Buscando STARLINKs:   7%|████▊                                                             | 36/500 [15:04<2:42:10, 20.97s/it]"
     ]
    },
    {
     "name": "stdout",
     "output_type": "stream",
     "text": [
      "1000476 []\n",
      "Running query for expnum868117\n"
     ]
    },
    {
     "name": "stderr",
     "output_type": "stream",
     "text": [
      "Buscando STARLINKs:   7%|████▉                                                             | 37/500 [15:37<3:09:07, 24.51s/it]"
     ]
    },
    {
     "name": "stdout",
     "output_type": "stream",
     "text": [
      "868117 []\n",
      "Running query for expnum1116470\n"
     ]
    },
    {
     "name": "stderr",
     "output_type": "stream",
     "text": [
      "Buscando STARLINKs:   8%|█████                                                             | 38/500 [16:06<3:20:20, 26.02s/it]"
     ]
    },
    {
     "name": "stdout",
     "output_type": "stream",
     "text": [
      "1116470 []\n",
      "Running query for expnum1108541\n"
     ]
    },
    {
     "name": "stderr",
     "output_type": "stream",
     "text": [
      "Buscando STARLINKs:   8%|█████▏                                                            | 39/500 [16:18<2:47:22, 21.78s/it]"
     ]
    },
    {
     "name": "stdout",
     "output_type": "stream",
     "text": [
      "1108541 ['STARLINK-1275 (45407)', 'STARLINK-2379 (47798)', 'STARLINK-3138 (49430)']\n",
      "Running query for expnum266614\n"
     ]
    },
    {
     "name": "stderr",
     "output_type": "stream",
     "text": [
      "Buscando STARLINKs:   8%|█████▎                                                            | 40/500 [16:41<2:50:35, 22.25s/it]"
     ]
    },
    {
     "name": "stdout",
     "output_type": "stream",
     "text": [
      "266614 []\n",
      "Running query for expnum292542\n"
     ]
    },
    {
     "name": "stderr",
     "output_type": "stream",
     "text": [
      "Buscando STARLINKs:   8%|█████▍                                                            | 41/500 [17:04<2:49:40, 22.18s/it]"
     ]
    },
    {
     "name": "stdout",
     "output_type": "stream",
     "text": [
      "292542 []\n",
      "Running query for expnum348237\n"
     ]
    },
    {
     "name": "stderr",
     "output_type": "stream",
     "text": [
      "Buscando STARLINKs:   8%|█████▌                                                            | 42/500 [17:27<2:52:59, 22.66s/it]"
     ]
    },
    {
     "name": "stdout",
     "output_type": "stream",
     "text": [
      "348237 []\n",
      "Running query for expnum448712\n"
     ]
    },
    {
     "name": "stderr",
     "output_type": "stream",
     "text": [
      "Buscando STARLINKs:   9%|█████▋                                                            | 43/500 [17:55<3:03:07, 24.04s/it]"
     ]
    },
    {
     "name": "stdout",
     "output_type": "stream",
     "text": [
      "448712 []\n",
      "Running query for expnum165521\n"
     ]
    },
    {
     "name": "stderr",
     "output_type": "stream",
     "text": [
      "Buscando STARLINKs:   9%|█████▊                                                            | 44/500 [18:16<2:56:31, 23.23s/it]"
     ]
    },
    {
     "name": "stdout",
     "output_type": "stream",
     "text": [
      "165521 []\n",
      "Running query for expnum908196\n"
     ]
    },
    {
     "name": "stderr",
     "output_type": "stream",
     "text": [
      "Buscando STARLINKs:   9%|█████▉                                                            | 45/500 [18:49<3:18:09, 26.13s/it]"
     ]
    },
    {
     "name": "stdout",
     "output_type": "stream",
     "text": [
      "908196 []\n",
      "Running query for expnum1119859\n"
     ]
    },
    {
     "name": "stderr",
     "output_type": "stream",
     "text": [
      "Buscando STARLINKs:   9%|██████                                                            | 46/500 [19:02<2:47:36, 22.15s/it]"
     ]
    },
    {
     "name": "stdout",
     "output_type": "stream",
     "text": [
      "1119859 []\n",
      "Running query for expnum1135189\n"
     ]
    },
    {
     "name": "stderr",
     "output_type": "stream",
     "text": [
      "Buscando STARLINKs:   9%|██████▏                                                           | 47/500 [19:27<2:55:12, 23.21s/it]"
     ]
    },
    {
     "name": "stdout",
     "output_type": "stream",
     "text": [
      "1135189 ['STARLINK-1061 (44766)']\n",
      "Running query for expnum1185213\n"
     ]
    },
    {
     "name": "stderr",
     "output_type": "stream",
     "text": [
      "Buscando STARLINKs:  10%|██████▎                                                           | 48/500 [19:56<3:08:11, 24.98s/it]"
     ]
    },
    {
     "name": "stdout",
     "output_type": "stream",
     "text": [
      "1185213 ['STARLINK-2592 (48408)']\n",
      "Running query for expnum985192\n"
     ]
    },
    {
     "name": "stderr",
     "output_type": "stream",
     "text": [
      "Buscando STARLINKs:  10%|██████▍                                                           | 49/500 [20:15<2:53:49, 23.13s/it]"
     ]
    },
    {
     "name": "stdout",
     "output_type": "stream",
     "text": [
      "985192 []\n",
      "Running query for expnum318136\n"
     ]
    },
    {
     "name": "stderr",
     "output_type": "stream",
     "text": [
      "Buscando STARLINKs:  10%|██████▌                                                           | 50/500 [20:38<2:51:35, 22.88s/it]"
     ]
    },
    {
     "name": "stdout",
     "output_type": "stream",
     "text": [
      "318136 []\n",
      "Running query for expnum1071511\n"
     ]
    },
    {
     "name": "stderr",
     "output_type": "stream",
     "text": [
      "Buscando STARLINKs:  10%|██████▋                                                           | 51/500 [21:00<2:49:51, 22.70s/it]"
     ]
    },
    {
     "name": "stdout",
     "output_type": "stream",
     "text": [
      "1071511 []\n",
      "Running query for expnum451541\n"
     ]
    },
    {
     "name": "stderr",
     "output_type": "stream",
     "text": [
      "Buscando STARLINKs:  10%|██████▊                                                           | 52/500 [21:11<2:24:29, 19.35s/it]"
     ]
    },
    {
     "name": "stdout",
     "output_type": "stream",
     "text": [
      "451541 []\n",
      "Running query for expnum831650\n"
     ]
    },
    {
     "name": "stderr",
     "output_type": "stream",
     "text": [
      "Buscando STARLINKs:  11%|██████▉                                                           | 53/500 [21:51<3:09:00, 25.37s/it]"
     ]
    },
    {
     "name": "stdout",
     "output_type": "stream",
     "text": [
      "831650 []\n",
      "Running query for expnum789635\n"
     ]
    },
    {
     "name": "stderr",
     "output_type": "stream",
     "text": [
      "Buscando STARLINKs:  11%|███████▏                                                          | 54/500 [22:25<3:27:32, 27.92s/it]"
     ]
    },
    {
     "name": "stdout",
     "output_type": "stream",
     "text": [
      "789635 []\n",
      "Running query for expnum903105\n"
     ]
    },
    {
     "name": "stderr",
     "output_type": "stream",
     "text": [
      "Buscando STARLINKs:  11%|███████▎                                                          | 55/500 [23:01<3:45:10, 30.36s/it]"
     ]
    },
    {
     "name": "stdout",
     "output_type": "stream",
     "text": [
      "903105 []\n",
      "Running query for expnum1224660\n"
     ]
    },
    {
     "name": "stderr",
     "output_type": "stream",
     "text": [
      "Buscando STARLINKs:  11%|███████▍                                                          | 56/500 [23:36<3:56:14, 31.93s/it]"
     ]
    },
    {
     "name": "stdout",
     "output_type": "stream",
     "text": [
      "1224660 ['STARLINK-2407 (47822)', 'STARLINK-4589 (53746)']\n",
      "Running query for expnum660108\n"
     ]
    },
    {
     "name": "stderr",
     "output_type": "stream",
     "text": [
      "Buscando STARLINKs:  11%|███████▌                                                          | 57/500 [24:06<3:51:31, 31.36s/it]"
     ]
    },
    {
     "name": "stdout",
     "output_type": "stream",
     "text": [
      "660108 []\n",
      "Running query for expnum944886\n"
     ]
    },
    {
     "name": "stderr",
     "output_type": "stream",
     "text": [
      "Buscando STARLINKs:  12%|███████▋                                                          | 58/500 [25:02<4:44:13, 38.58s/it]"
     ]
    },
    {
     "name": "stdout",
     "output_type": "stream",
     "text": [
      "944886 []\n",
      "Running query for expnum426829\n"
     ]
    },
    {
     "name": "stderr",
     "output_type": "stream",
     "text": [
      "Buscando STARLINKs:  12%|███████▊                                                          | 59/500 [25:32<4:25:15, 36.09s/it]"
     ]
    },
    {
     "name": "stdout",
     "output_type": "stream",
     "text": [
      "426829 []\n",
      "Running query for expnum568215\n"
     ]
    },
    {
     "name": "stderr",
     "output_type": "stream",
     "text": [
      "Buscando STARLINKs:  12%|███████▉                                                          | 60/500 [25:59<4:04:47, 33.38s/it]"
     ]
    },
    {
     "name": "stdout",
     "output_type": "stream",
     "text": [
      "568215 []\n",
      "Running query for expnum730895\n"
     ]
    },
    {
     "name": "stderr",
     "output_type": "stream",
     "text": [
      "Buscando STARLINKs:  12%|████████                                                          | 61/500 [26:29<3:57:24, 32.45s/it]"
     ]
    },
    {
     "name": "stdout",
     "output_type": "stream",
     "text": [
      "730895 []\n",
      "Running query for expnum200972\n"
     ]
    },
    {
     "name": "stderr",
     "output_type": "stream",
     "text": [
      "Buscando STARLINKs:  12%|████████▏                                                         | 62/500 [26:52<3:35:50, 29.57s/it]"
     ]
    },
    {
     "name": "stdout",
     "output_type": "stream",
     "text": [
      "200972 []\n",
      "Running query for expnum984831\n"
     ]
    },
    {
     "name": "stderr",
     "output_type": "stream",
     "text": [
      "Buscando STARLINKs:  13%|████████▎                                                         | 63/500 [27:15<3:21:00, 27.60s/it]"
     ]
    },
    {
     "name": "stdout",
     "output_type": "stream",
     "text": [
      "984831 ['STARLINK-1032 (44737)', 'STARLINK-1034 (44739)']\n",
      "Running query for expnum1012865\n"
     ]
    },
    {
     "name": "stderr",
     "output_type": "stream",
     "text": [
      "Buscando STARLINKs:  13%|████████▍                                                         | 64/500 [27:36<3:05:13, 25.49s/it]"
     ]
    },
    {
     "name": "stdout",
     "output_type": "stream",
     "text": [
      "1012865 []\n",
      "Running query for expnum1071291\n"
     ]
    },
    {
     "name": "stderr",
     "output_type": "stream",
     "text": [
      "Buscando STARLINKs:  13%|████████▌                                                         | 65/500 [27:56<2:52:22, 23.78s/it]"
     ]
    },
    {
     "name": "stdout",
     "output_type": "stream",
     "text": [
      "1071291 []\n",
      "Running query for expnum350082\n"
     ]
    },
    {
     "name": "stderr",
     "output_type": "stream",
     "text": [
      "Buscando STARLINKs:  13%|████████▋                                                         | 66/500 [28:27<3:09:12, 26.16s/it]"
     ]
    },
    {
     "name": "stdout",
     "output_type": "stream",
     "text": [
      "350082 []\n",
      "Running query for expnum165080\n"
     ]
    },
    {
     "name": "stderr",
     "output_type": "stream",
     "text": [
      "Buscando STARLINKs:  13%|████████▊                                                         | 67/500 [28:48<2:57:02, 24.53s/it]"
     ]
    },
    {
     "name": "stdout",
     "output_type": "stream",
     "text": [
      "165080 []\n",
      "Running query for expnum777175\n"
     ]
    },
    {
     "name": "stderr",
     "output_type": "stream",
     "text": [
      "Buscando STARLINKs:  14%|████████▉                                                         | 68/500 [29:21<3:14:38, 27.03s/it]"
     ]
    },
    {
     "name": "stdout",
     "output_type": "stream",
     "text": [
      "777175 []\n",
      "Running query for expnum411650\n"
     ]
    },
    {
     "name": "stderr",
     "output_type": "stream",
     "text": [
      "Buscando STARLINKs:  14%|█████████                                                         | 69/500 [29:41<2:59:14, 24.95s/it]"
     ]
    },
    {
     "name": "stdout",
     "output_type": "stream",
     "text": [
      "411650 []\n",
      "Running query for expnum356019\n"
     ]
    },
    {
     "name": "stderr",
     "output_type": "stream",
     "text": [
      "Buscando STARLINKs:  14%|█████████▏                                                        | 70/500 [29:53<2:31:28, 21.14s/it]"
     ]
    },
    {
     "name": "stdout",
     "output_type": "stream",
     "text": [
      "356019 []\n",
      "Running query for expnum959772\n"
     ]
    },
    {
     "name": "stderr",
     "output_type": "stream",
     "text": [
      "Buscando STARLINKs:  14%|█████████▎                                                        | 71/500 [30:08<2:17:25, 19.22s/it]"
     ]
    },
    {
     "name": "stdout",
     "output_type": "stream",
     "text": [
      "959772 ['STARLINK-1495 (45761)']\n",
      "Running query for expnum1105882\n"
     ]
    },
    {
     "name": "stderr",
     "output_type": "stream",
     "text": [
      "Buscando STARLINKs:  14%|█████████▌                                                        | 72/500 [30:32<2:26:45, 20.57s/it]"
     ]
    },
    {
     "name": "stdout",
     "output_type": "stream",
     "text": [
      "1105882 []\n",
      "Running query for expnum859365\n"
     ]
    },
    {
     "name": "stderr",
     "output_type": "stream",
     "text": [
      "Buscando STARLINKs:  15%|█████████▋                                                        | 73/500 [31:07<2:58:50, 25.13s/it]"
     ]
    },
    {
     "name": "stdout",
     "output_type": "stream",
     "text": [
      "859365 []\n",
      "Running query for expnum796111\n"
     ]
    },
    {
     "name": "stderr",
     "output_type": "stream",
     "text": [
      "Buscando STARLINKs:  15%|█████████▊                                                        | 74/500 [31:40<3:14:39, 27.42s/it]"
     ]
    },
    {
     "name": "stdout",
     "output_type": "stream",
     "text": [
      "796111 []\n",
      "Running query for expnum627861\n"
     ]
    },
    {
     "name": "stderr",
     "output_type": "stream",
     "text": [
      "Buscando STARLINKs:  15%|█████████▉                                                        | 75/500 [32:07<3:12:13, 27.14s/it]"
     ]
    },
    {
     "name": "stdout",
     "output_type": "stream",
     "text": [
      "627861 []\n",
      "Running query for expnum749238\n"
     ]
    },
    {
     "name": "stderr",
     "output_type": "stream",
     "text": [
      "Buscando STARLINKs:  15%|██████████                                                        | 76/500 [32:36<3:16:00, 27.74s/it]"
     ]
    },
    {
     "name": "stdout",
     "output_type": "stream",
     "text": [
      "749238 []\n",
      "Running query for expnum232652\n"
     ]
    },
    {
     "name": "stderr",
     "output_type": "stream",
     "text": [
      "Buscando STARLINKs:  15%|██████████▏                                                       | 77/500 [33:00<3:08:09, 26.69s/it]"
     ]
    },
    {
     "name": "stdout",
     "output_type": "stream",
     "text": [
      "232652 []\n",
      "Running query for expnum694290\n"
     ]
    },
    {
     "name": "stderr",
     "output_type": "stream",
     "text": [
      "Buscando STARLINKs:  16%|██████████▎                                                       | 78/500 [33:30<3:15:11, 27.75s/it]"
     ]
    },
    {
     "name": "stdout",
     "output_type": "stream",
     "text": [
      "694290 []\n",
      "Running query for expnum747702\n"
     ]
    },
    {
     "name": "stderr",
     "output_type": "stream",
     "text": [
      "Buscando STARLINKs:  16%|██████████▍                                                       | 79/500 [33:38<2:31:50, 21.64s/it]"
     ]
    },
    {
     "name": "stdout",
     "output_type": "stream",
     "text": [
      "747702 []\n",
      "Running query for expnum315024\n"
     ]
    },
    {
     "name": "stderr",
     "output_type": "stream",
     "text": [
      "Buscando STARLINKs:  16%|██████████▌                                                       | 80/500 [34:00<2:32:52, 21.84s/it]"
     ]
    },
    {
     "name": "stdout",
     "output_type": "stream",
     "text": [
      "315024 []\n",
      "Running query for expnum164728\n"
     ]
    },
    {
     "name": "stderr",
     "output_type": "stream",
     "text": [
      "Buscando STARLINKs:  16%|██████████▋                                                       | 81/500 [34:24<2:36:44, 22.45s/it]"
     ]
    },
    {
     "name": "stdout",
     "output_type": "stream",
     "text": [
      "164728 []\n",
      "Running query for expnum769152\n"
     ]
    },
    {
     "name": "stderr",
     "output_type": "stream",
     "text": [
      "Buscando STARLINKs:  16%|██████████▊                                                       | 82/500 [34:51<2:47:00, 23.97s/it]"
     ]
    },
    {
     "name": "stdout",
     "output_type": "stream",
     "text": [
      "769152 []\n",
      "Running query for expnum406554\n"
     ]
    },
    {
     "name": "stderr",
     "output_type": "stream",
     "text": [
      "Buscando STARLINKs:  17%|██████████▉                                                       | 83/500 [35:12<2:39:14, 22.91s/it]"
     ]
    },
    {
     "name": "stdout",
     "output_type": "stream",
     "text": [
      "406554 []\n",
      "Running query for expnum867432\n"
     ]
    },
    {
     "name": "stderr",
     "output_type": "stream",
     "text": [
      "Buscando STARLINKs:  17%|███████████                                                       | 84/500 [35:45<2:59:25, 25.88s/it]"
     ]
    },
    {
     "name": "stdout",
     "output_type": "stream",
     "text": [
      "867432 []\n",
      "Running query for expnum673770\n"
     ]
    },
    {
     "name": "stderr",
     "output_type": "stream",
     "text": [
      "Buscando STARLINKs:  17%|███████████▏                                                      | 85/500 [36:12<3:01:46, 26.28s/it]"
     ]
    },
    {
     "name": "stdout",
     "output_type": "stream",
     "text": [
      "673770 []\n",
      "Running query for expnum472565\n"
     ]
    },
    {
     "name": "stderr",
     "output_type": "stream",
     "text": [
      "Buscando STARLINKs:  17%|███████████▎                                                      | 86/500 [36:37<2:59:15, 25.98s/it]"
     ]
    },
    {
     "name": "stdout",
     "output_type": "stream",
     "text": [
      "472565 []\n",
      "Running query for expnum514574\n"
     ]
    },
    {
     "name": "stderr",
     "output_type": "stream",
     "text": [
      "Buscando STARLINKs:  17%|███████████▍                                                      | 87/500 [36:59<2:50:29, 24.77s/it]"
     ]
    },
    {
     "name": "stdout",
     "output_type": "stream",
     "text": [
      "514574 []\n",
      "Running query for expnum678275\n"
     ]
    },
    {
     "name": "stderr",
     "output_type": "stream",
     "text": [
      "Buscando STARLINKs:  18%|███████████▌                                                      | 88/500 [37:20<2:42:49, 23.71s/it]"
     ]
    },
    {
     "name": "stdout",
     "output_type": "stream",
     "text": [
      "678275 []\n",
      "Running query for expnum808264\n"
     ]
    },
    {
     "name": "stderr",
     "output_type": "stream",
     "text": [
      "Buscando STARLINKs:  18%|███████████▋                                                      | 89/500 [37:54<3:02:22, 26.62s/it]"
     ]
    },
    {
     "name": "stdout",
     "output_type": "stream",
     "text": [
      "808264 []\n",
      "Running query for expnum834272\n"
     ]
    },
    {
     "name": "stderr",
     "output_type": "stream",
     "text": [
      "Buscando STARLINKs:  18%|███████████▉                                                      | 90/500 [38:32<3:25:14, 30.04s/it]"
     ]
    },
    {
     "name": "stdout",
     "output_type": "stream",
     "text": [
      "834272 []\n",
      "Running query for expnum191724\n"
     ]
    },
    {
     "name": "stderr",
     "output_type": "stream",
     "text": [
      "Buscando STARLINKs:  18%|████████████                                                      | 91/500 [38:56<3:13:12, 28.34s/it]"
     ]
    },
    {
     "name": "stdout",
     "output_type": "stream",
     "text": [
      "191724 []\n",
      "Running query for expnum857417\n"
     ]
    },
    {
     "name": "stderr",
     "output_type": "stream",
     "text": [
      "Buscando STARLINKs:  18%|████████████▏                                                     | 92/500 [39:26<3:14:57, 28.67s/it]"
     ]
    },
    {
     "name": "stdout",
     "output_type": "stream",
     "text": [
      "857417 []\n",
      "Running query for expnum459931\n"
     ]
    },
    {
     "name": "stderr",
     "output_type": "stream",
     "text": [
      "Buscando STARLINKs:  19%|████████████▍                                                     | 94/500 [39:45<2:02:29, 18.10s/it]"
     ]
    },
    {
     "name": "stdout",
     "output_type": "stream",
     "text": [
      "459931 []\n",
      "Running query for expnum190417\n",
      "⚠️ Error en expnum 190417: HTTPSConnectionPool(host='dev.satchecker.cps.iau.noirlab.edu', port=443): Max retries exceeded with url: /fov/satellite-passes/?latitude=-30.1661&longitude=70.8149&elevation=2215&start_time_jd=2456377.6759819244&duration=30.0&ra=10.650016111111112&dec=-36.516666111111114&fov_radius=1&group_by=satellite (Caused by NameResolutionError(\"<urllib3.connection.HTTPSConnection object at 0x00000255B615EAD0>: Failed to resolve 'dev.satchecker.cps.iau.noirlab.edu' ([Errno 11001] getaddrinfo failed)\"))\n",
      "Running query for expnum1043261\n"
     ]
    },
    {
     "name": "stderr",
     "output_type": "stream",
     "text": [
      "Buscando STARLINKs:  19%|████████████▌                                                     | 95/500 [40:07<2:11:30, 19.48s/it]"
     ]
    },
    {
     "name": "stdout",
     "output_type": "stream",
     "text": [
      "1043261 []\n",
      "Running query for expnum480272\n"
     ]
    },
    {
     "name": "stderr",
     "output_type": "stream",
     "text": [
      "Buscando STARLINKs:  19%|████████████▋                                                     | 96/500 [40:30<2:18:16, 20.53s/it]"
     ]
    },
    {
     "name": "stdout",
     "output_type": "stream",
     "text": [
      "480272 []\n",
      "Running query for expnum690170\n"
     ]
    },
    {
     "name": "stderr",
     "output_type": "stream",
     "text": [
      "Buscando STARLINKs:  19%|████████████▊                                                     | 97/500 [41:00<2:36:59, 23.37s/it]"
     ]
    },
    {
     "name": "stdout",
     "output_type": "stream",
     "text": [
      "690170 []\n",
      "Running query for expnum607327\n"
     ]
    },
    {
     "name": "stderr",
     "output_type": "stream",
     "text": [
      "Buscando STARLINKs:  20%|████████████▉                                                     | 98/500 [41:24<2:37:17, 23.48s/it]"
     ]
    },
    {
     "name": "stdout",
     "output_type": "stream",
     "text": [
      "607327 []\n",
      "Running query for expnum623354\n"
     ]
    },
    {
     "name": "stderr",
     "output_type": "stream",
     "text": [
      "Buscando STARLINKs:  20%|█████████████                                                     | 99/500 [41:48<2:37:09, 23.51s/it]"
     ]
    },
    {
     "name": "stdout",
     "output_type": "stream",
     "text": [
      "623354 []\n",
      "Running query for expnum508123\n"
     ]
    },
    {
     "name": "stderr",
     "output_type": "stream",
     "text": [
      "Buscando STARLINKs:  20%|█████████████                                                    | 100/500 [42:12<2:37:29, 23.62s/it]"
     ]
    },
    {
     "name": "stdout",
     "output_type": "stream",
     "text": [
      "508123 []\n",
      "Running query for expnum1111833\n"
     ]
    },
    {
     "name": "stderr",
     "output_type": "stream",
     "text": [
      "Buscando STARLINKs:  20%|█████████████▏                                                   | 101/500 [42:35<2:37:14, 23.65s/it]"
     ]
    },
    {
     "name": "stdout",
     "output_type": "stream",
     "text": [
      "1111833 []\n",
      "Running query for expnum858877\n"
     ]
    },
    {
     "name": "stderr",
     "output_type": "stream",
     "text": [
      "Buscando STARLINKs:  20%|█████████████▎                                                   | 102/500 [42:49<2:17:27, 20.72s/it]"
     ]
    },
    {
     "name": "stdout",
     "output_type": "stream",
     "text": [
      "858877 []\n",
      "Running query for expnum417823\n"
     ]
    },
    {
     "name": "stderr",
     "output_type": "stream",
     "text": [
      "Buscando STARLINKs:  21%|█████████████▍                                                   | 103/500 [43:13<2:22:13, 21.50s/it]"
     ]
    },
    {
     "name": "stdout",
     "output_type": "stream",
     "text": [
      "417823 []\n",
      "Running query for expnum797053\n"
     ]
    },
    {
     "name": "stderr",
     "output_type": "stream",
     "text": [
      "Buscando STARLINKs:  21%|█████████████▌                                                   | 104/500 [43:42<2:36:55, 23.78s/it]"
     ]
    },
    {
     "name": "stdout",
     "output_type": "stream",
     "text": [
      "797053 []\n",
      "Running query for expnum904327\n"
     ]
    },
    {
     "name": "stderr",
     "output_type": "stream",
     "text": [
      "Buscando STARLINKs:  21%|█████████████▋                                                   | 105/500 [44:17<3:00:13, 27.38s/it]"
     ]
    },
    {
     "name": "stdout",
     "output_type": "stream",
     "text": [
      "904327 []\n",
      "Running query for expnum257953\n"
     ]
    },
    {
     "name": "stderr",
     "output_type": "stream",
     "text": [
      "Buscando STARLINKs:  21%|█████████████▊                                                   | 106/500 [44:42<2:54:03, 26.51s/it]"
     ]
    },
    {
     "name": "stdout",
     "output_type": "stream",
     "text": [
      "257953 []\n",
      "Running query for expnum1190672\n"
     ]
    },
    {
     "name": "stderr",
     "output_type": "stream",
     "text": [
      "Buscando STARLINKs:  21%|█████████████▉                                                   | 107/500 [45:11<2:58:23, 27.24s/it]"
     ]
    },
    {
     "name": "stdout",
     "output_type": "stream",
     "text": [
      "1190672 []\n",
      "Running query for expnum253188\n"
     ]
    },
    {
     "name": "stderr",
     "output_type": "stream",
     "text": [
      "Buscando STARLINKs:  22%|██████████████                                                   | 108/500 [45:24<2:31:07, 23.13s/it]"
     ]
    },
    {
     "name": "stdout",
     "output_type": "stream",
     "text": [
      "253188 []\n",
      "Running query for expnum366278\n"
     ]
    },
    {
     "name": "stderr",
     "output_type": "stream",
     "text": [
      "Buscando STARLINKs:  22%|██████████████▏                                                  | 109/500 [45:48<2:31:34, 23.26s/it]"
     ]
    },
    {
     "name": "stdout",
     "output_type": "stream",
     "text": [
      "366278 []\n",
      "Running query for expnum573755\n"
     ]
    },
    {
     "name": "stderr",
     "output_type": "stream",
     "text": [
      "Buscando STARLINKs:  22%|██████████████▎                                                  | 110/500 [46:13<2:33:55, 23.68s/it]"
     ]
    },
    {
     "name": "stdout",
     "output_type": "stream",
     "text": [
      "573755 []\n",
      "Running query for expnum255603\n"
     ]
    },
    {
     "name": "stderr",
     "output_type": "stream",
     "text": [
      "Buscando STARLINKs:  22%|██████████████▍                                                  | 111/500 [46:17<1:56:35, 17.98s/it]"
     ]
    },
    {
     "name": "stdout",
     "output_type": "stream",
     "text": [
      "255603 []\n",
      "Running query for expnum981951\n"
     ]
    },
    {
     "name": "stderr",
     "output_type": "stream",
     "text": [
      "Buscando STARLINKs:  22%|██████████████▌                                                  | 112/500 [46:43<2:11:50, 20.39s/it]"
     ]
    },
    {
     "name": "stdout",
     "output_type": "stream",
     "text": [
      "981951 ['STARLINK-1699 (46548)']\n",
      "Running query for expnum401238\n"
     ]
    },
    {
     "name": "stderr",
     "output_type": "stream",
     "text": [
      "Buscando STARLINKs:  23%|██████████████▋                                                  | 113/500 [47:04<2:11:30, 20.39s/it]"
     ]
    },
    {
     "name": "stdout",
     "output_type": "stream",
     "text": [
      "401238 []\n",
      "Running query for expnum709874\n"
     ]
    },
    {
     "name": "stderr",
     "output_type": "stream",
     "text": [
      "Buscando STARLINKs:  23%|██████████████▊                                                  | 114/500 [47:33<2:27:24, 22.91s/it]"
     ]
    },
    {
     "name": "stdout",
     "output_type": "stream",
     "text": [
      "709874 []\n",
      "Running query for expnum681305\n"
     ]
    },
    {
     "name": "stderr",
     "output_type": "stream",
     "text": [
      "Buscando STARLINKs:  23%|██████████████▉                                                  | 115/500 [48:03<2:40:49, 25.06s/it]"
     ]
    },
    {
     "name": "stdout",
     "output_type": "stream",
     "text": [
      "681305 []\n",
      "Running query for expnum237321\n"
     ]
    },
    {
     "name": "stderr",
     "output_type": "stream",
     "text": [
      "Buscando STARLINKs:  23%|███████████████                                                  | 116/500 [48:23<2:31:34, 23.68s/it]"
     ]
    },
    {
     "name": "stdout",
     "output_type": "stream",
     "text": [
      "237321 []\n",
      "Running query for expnum449090\n"
     ]
    },
    {
     "name": "stderr",
     "output_type": "stream",
     "text": [
      "Buscando STARLINKs:  23%|███████████████▏                                                 | 117/500 [48:49<2:35:55, 24.43s/it]"
     ]
    },
    {
     "name": "stdout",
     "output_type": "stream",
     "text": [
      "449090 []\n",
      "Running query for expnum432766\n"
     ]
    },
    {
     "name": "stderr",
     "output_type": "stream",
     "text": [
      "Buscando STARLINKs:  24%|███████████████▎                                                 | 118/500 [49:15<2:37:23, 24.72s/it]"
     ]
    },
    {
     "name": "stdout",
     "output_type": "stream",
     "text": [
      "432766 []\n",
      "Running query for expnum960460\n"
     ]
    },
    {
     "name": "stderr",
     "output_type": "stream",
     "text": [
      "Buscando STARLINKs:  24%|███████████████▍                                                 | 119/500 [49:29<2:17:54, 21.72s/it]"
     ]
    },
    {
     "name": "stdout",
     "output_type": "stream",
     "text": [
      "960460 []\n",
      "Running query for expnum632973\n"
     ]
    },
    {
     "name": "stderr",
     "output_type": "stream",
     "text": [
      "Buscando STARLINKs:  24%|███████████████▌                                                 | 120/500 [49:54<2:23:24, 22.64s/it]"
     ]
    },
    {
     "name": "stdout",
     "output_type": "stream",
     "text": [
      "632973 []\n",
      "Running query for expnum956293\n"
     ]
    },
    {
     "name": "stderr",
     "output_type": "stream",
     "text": [
      "Buscando STARLINKs:  24%|███████████████▋                                                 | 121/500 [50:37<3:00:29, 28.57s/it]"
     ]
    },
    {
     "name": "stdout",
     "output_type": "stream",
     "text": [
      "956293 []\n",
      "Running query for expnum649861\n"
     ]
    },
    {
     "name": "stderr",
     "output_type": "stream",
     "text": [
      "Buscando STARLINKs:  24%|███████████████▊                                                 | 122/500 [51:03<2:55:28, 27.85s/it]"
     ]
    },
    {
     "name": "stdout",
     "output_type": "stream",
     "text": [
      "649861 []\n",
      "Running query for expnum1054799\n"
     ]
    },
    {
     "name": "stderr",
     "output_type": "stream",
     "text": [
      "Buscando STARLINKs:  25%|███████████████▉                                                 | 123/500 [51:25<2:44:46, 26.22s/it]"
     ]
    },
    {
     "name": "stdout",
     "output_type": "stream",
     "text": [
      "1054799 ['STARLINK-2319 (47790)']\n",
      "Running query for expnum252345\n"
     ]
    },
    {
     "name": "stderr",
     "output_type": "stream",
     "text": [
      "Buscando STARLINKs:  25%|████████████████                                                 | 124/500 [51:48<2:37:38, 25.15s/it]"
     ]
    },
    {
     "name": "stdout",
     "output_type": "stream",
     "text": [
      "252345 []\n",
      "Running query for expnum624082\n"
     ]
    },
    {
     "name": "stderr",
     "output_type": "stream",
     "text": [
      "Buscando STARLINKs:  25%|████████████████▎                                                | 125/500 [52:09<2:29:47, 23.97s/it]"
     ]
    },
    {
     "name": "stdout",
     "output_type": "stream",
     "text": [
      "624082 []\n",
      "Running query for expnum645466\n"
     ]
    },
    {
     "name": "stderr",
     "output_type": "stream",
     "text": [
      "Buscando STARLINKs:  25%|████████████████▍                                                | 126/500 [52:27<2:17:52, 22.12s/it]"
     ]
    },
    {
     "name": "stdout",
     "output_type": "stream",
     "text": [
      "645466 []\n",
      "Running query for expnum302901\n"
     ]
    },
    {
     "name": "stderr",
     "output_type": "stream",
     "text": [
      "Buscando STARLINKs:  25%|████████████████▌                                                | 127/500 [52:53<2:24:49, 23.30s/it]"
     ]
    },
    {
     "name": "stdout",
     "output_type": "stream",
     "text": [
      "302901 []\n",
      "Running query for expnum1078921\n"
     ]
    },
    {
     "name": "stderr",
     "output_type": "stream",
     "text": [
      "Buscando STARLINKs:  26%|████████████████▋                                                | 128/500 [53:11<2:15:31, 21.86s/it]"
     ]
    },
    {
     "name": "stdout",
     "output_type": "stream",
     "text": [
      "1078921 ['STARLINK-1377 (45547)', 'STARLINK-3108 (49439)']\n",
      "Running query for expnum1112937\n"
     ]
    },
    {
     "name": "stderr",
     "output_type": "stream",
     "text": [
      "Buscando STARLINKs:  26%|████████████████▊                                                | 129/500 [53:36<2:20:11, 22.67s/it]"
     ]
    },
    {
     "name": "stdout",
     "output_type": "stream",
     "text": [
      "1112937 ['STARLINK-3852 (52345)']\n",
      "Running query for expnum1134279\n"
     ]
    },
    {
     "name": "stderr",
     "output_type": "stream",
     "text": [
      "Buscando STARLINKs:  26%|█████████████████                                                | 131/500 [54:01<1:41:02, 16.43s/it]"
     ]
    },
    {
     "name": "stdout",
     "output_type": "stream",
     "text": [
      "1134279 []\n",
      "Running query for expnum1000793\n",
      "⚠️ Error en expnum 1000793: HTTPSConnectionPool(host='dev.satchecker.cps.iau.noirlab.edu', port=443): Max retries exceeded with url: /fov/satellite-passes/?latitude=-30.1661&longitude=70.8149&elevation=2215&start_time_jd=2459358.807148369&duration=50.0&ra=18.059408055555558&dec=-29.530526944444443&fov_radius=1&group_by=satellite (Caused by NameResolutionError(\"<urllib3.connection.HTTPSConnection object at 0x00000255B615FED0>: Failed to resolve 'dev.satchecker.cps.iau.noirlab.edu' ([Errno 11001] getaddrinfo failed)\"))\n",
      "Running query for expnum1076601\n"
     ]
    },
    {
     "name": "stderr",
     "output_type": "stream",
     "text": [
      "Buscando STARLINKs:  26%|█████████████████▏                                               | 132/500 [54:17<1:39:39, 16.25s/it]"
     ]
    },
    {
     "name": "stdout",
     "output_type": "stream",
     "text": [
      "1076601 ['STARLINK-1050 (44755)', 'STARLINK-1328 (45576)']\n",
      "Running query for expnum791779\n"
     ]
    },
    {
     "name": "stderr",
     "output_type": "stream",
     "text": [
      "Buscando STARLINKs:  27%|█████████████████▎                                               | 133/500 [54:47<2:04:19, 20.32s/it]"
     ]
    },
    {
     "name": "stdout",
     "output_type": "stream",
     "text": [
      "791779 []\n",
      "Running query for expnum916525\n"
     ]
    },
    {
     "name": "stderr",
     "output_type": "stream",
     "text": [
      "Buscando STARLINKs:  27%|█████████████████▍                                               | 134/500 [55:26<2:38:00, 25.90s/it]"
     ]
    },
    {
     "name": "stdout",
     "output_type": "stream",
     "text": [
      "916525 []\n",
      "Running query for expnum582087\n"
     ]
    },
    {
     "name": "stderr",
     "output_type": "stream",
     "text": [
      "Buscando STARLINKs:  27%|█████████████████▌                                               | 135/500 [55:49<2:33:09, 25.18s/it]"
     ]
    },
    {
     "name": "stdout",
     "output_type": "stream",
     "text": [
      "582087 []\n",
      "Running query for expnum856062\n"
     ]
    },
    {
     "name": "stderr",
     "output_type": "stream",
     "text": [
      "Buscando STARLINKs:  27%|█████████████████▋                                               | 136/500 [56:24<2:49:44, 27.98s/it]"
     ]
    },
    {
     "name": "stdout",
     "output_type": "stream",
     "text": [
      "856062 []\n",
      "Running query for expnum744108\n"
     ]
    },
    {
     "name": "stderr",
     "output_type": "stream",
     "text": [
      "Buscando STARLINKs:  27%|█████████████████▊                                               | 137/500 [56:53<2:51:41, 28.38s/it]"
     ]
    },
    {
     "name": "stdout",
     "output_type": "stream",
     "text": [
      "744108 []\n",
      "Running query for expnum1086083\n"
     ]
    },
    {
     "name": "stderr",
     "output_type": "stream",
     "text": [
      "Buscando STARLINKs:  28%|█████████████████▉                                               | 138/500 [57:07<2:25:57, 24.19s/it]"
     ]
    },
    {
     "name": "stdout",
     "output_type": "stream",
     "text": [
      "1086083 []\n",
      "Running query for expnum653677\n"
     ]
    },
    {
     "name": "stderr",
     "output_type": "stream",
     "text": [
      "Buscando STARLINKs:  28%|██████████████████                                               | 139/500 [57:30<2:22:56, 23.76s/it]"
     ]
    },
    {
     "name": "stdout",
     "output_type": "stream",
     "text": [
      "653677 []\n",
      "Running query for expnum547176\n"
     ]
    },
    {
     "name": "stderr",
     "output_type": "stream",
     "text": [
      "Buscando STARLINKs:  28%|██████████████████▏                                              | 140/500 [57:55<2:23:34, 23.93s/it]"
     ]
    },
    {
     "name": "stdout",
     "output_type": "stream",
     "text": [
      "547176 []\n",
      "Running query for expnum1165873\n"
     ]
    },
    {
     "name": "stderr",
     "output_type": "stream",
     "text": [
      "Buscando STARLINKs:  28%|██████████████████▎                                              | 141/500 [58:26<2:35:48, 26.04s/it]"
     ]
    },
    {
     "name": "stdout",
     "output_type": "stream",
     "text": [
      "1165873 ['STARLINK-1917 (46767)', 'STARLINK-3612 (51770)', 'STARLINK-5190 (54092)']\n",
      "Running query for expnum324817\n"
     ]
    },
    {
     "name": "stderr",
     "output_type": "stream",
     "text": [
      "Buscando STARLINKs:  28%|██████████████████▍                                              | 142/500 [58:52<2:35:47, 26.11s/it]"
     ]
    },
    {
     "name": "stdout",
     "output_type": "stream",
     "text": [
      "324817 []\n",
      "Running query for expnum314360\n"
     ]
    },
    {
     "name": "stderr",
     "output_type": "stream",
     "text": [
      "Buscando STARLINKs:  29%|██████████████████▌                                              | 143/500 [59:11<2:22:48, 24.00s/it]"
     ]
    },
    {
     "name": "stdout",
     "output_type": "stream",
     "text": [
      "314360 []\n",
      "Running query for expnum689712\n"
     ]
    },
    {
     "name": "stderr",
     "output_type": "stream",
     "text": [
      "Buscando STARLINKs:  29%|██████████████████▋                                              | 144/500 [59:39<2:30:16, 25.33s/it]"
     ]
    },
    {
     "name": "stdout",
     "output_type": "stream",
     "text": [
      "689712 []\n",
      "Running query for expnum466711\n"
     ]
    },
    {
     "name": "stderr",
     "output_type": "stream",
     "text": [
      "Buscando STARLINKs:  29%|██████████████████▎                                            | 145/500 [1:00:06<2:32:00, 25.69s/it]"
     ]
    },
    {
     "name": "stdout",
     "output_type": "stream",
     "text": [
      "466711 []\n",
      "Running query for expnum234124\n"
     ]
    },
    {
     "name": "stderr",
     "output_type": "stream",
     "text": [
      "Buscando STARLINKs:  29%|██████████████████▍                                            | 146/500 [1:00:27<2:23:40, 24.35s/it]"
     ]
    },
    {
     "name": "stdout",
     "output_type": "stream",
     "text": [
      "234124 []\n",
      "Running query for expnum726787\n"
     ]
    },
    {
     "name": "stderr",
     "output_type": "stream",
     "text": [
      "Buscando STARLINKs:  29%|██████████████████▌                                            | 147/500 [1:00:54<2:27:21, 25.05s/it]"
     ]
    },
    {
     "name": "stdout",
     "output_type": "stream",
     "text": [
      "726787 []\n",
      "Running query for expnum839995\n"
     ]
    },
    {
     "name": "stderr",
     "output_type": "stream",
     "text": [
      "Buscando STARLINKs:  30%|██████████████████▋                                            | 148/500 [1:01:33<2:51:25, 29.22s/it]"
     ]
    },
    {
     "name": "stdout",
     "output_type": "stream",
     "text": [
      "839995 []\n",
      "Running query for expnum621672\n"
     ]
    },
    {
     "name": "stderr",
     "output_type": "stream",
     "text": [
      "Buscando STARLINKs:  30%|██████████████████▊                                            | 149/500 [1:02:00<2:47:52, 28.70s/it]"
     ]
    },
    {
     "name": "stdout",
     "output_type": "stream",
     "text": [
      "621672 []\n",
      "Running query for expnum1110650\n"
     ]
    },
    {
     "name": "stderr",
     "output_type": "stream",
     "text": [
      "Buscando STARLINKs:  30%|██████████████████▉                                            | 150/500 [1:02:21<2:33:39, 26.34s/it]"
     ]
    },
    {
     "name": "stdout",
     "output_type": "stream",
     "text": [
      "1110650 ['STARLINK-2044 (47660)', 'STARLINK-3370 (51127)']\n",
      "Running query for expnum212410\n"
     ]
    },
    {
     "name": "stderr",
     "output_type": "stream",
     "text": [
      "Buscando STARLINKs:  30%|███████████████████                                            | 151/500 [1:02:45<2:28:24, 25.51s/it]"
     ]
    },
    {
     "name": "stdout",
     "output_type": "stream",
     "text": [
      "212410 []\n",
      "Running query for expnum380311\n"
     ]
    },
    {
     "name": "stderr",
     "output_type": "stream",
     "text": [
      "Buscando STARLINKs:  30%|███████████████████▏                                           | 152/500 [1:03:12<2:31:23, 26.10s/it]"
     ]
    },
    {
     "name": "stdout",
     "output_type": "stream",
     "text": [
      "380311 []\n",
      "Running query for expnum274126\n"
     ]
    },
    {
     "name": "stderr",
     "output_type": "stream",
     "text": [
      "Buscando STARLINKs:  31%|███████████████████▎                                           | 153/500 [1:03:34<2:22:57, 24.72s/it]"
     ]
    },
    {
     "name": "stdout",
     "output_type": "stream",
     "text": [
      "274126 []\n",
      "Running query for expnum549968\n"
     ]
    },
    {
     "name": "stderr",
     "output_type": "stream",
     "text": [
      "Buscando STARLINKs:  31%|███████████████████▍                                           | 154/500 [1:03:57<2:19:42, 24.23s/it]"
     ]
    },
    {
     "name": "stdout",
     "output_type": "stream",
     "text": [
      "549968 []\n",
      "Running query for expnum986895\n"
     ]
    },
    {
     "name": "stderr",
     "output_type": "stream",
     "text": [
      "Buscando STARLINKs:  31%|███████████████████▌                                           | 155/500 [1:04:17<2:12:52, 23.11s/it]"
     ]
    },
    {
     "name": "stdout",
     "output_type": "stream",
     "text": [
      "986895 []\n",
      "Running query for expnum252139\n"
     ]
    },
    {
     "name": "stderr",
     "output_type": "stream",
     "text": [
      "Buscando STARLINKs:  31%|███████████████████▋                                           | 156/500 [1:04:42<2:16:09, 23.75s/it]"
     ]
    },
    {
     "name": "stdout",
     "output_type": "stream",
     "text": [
      "252139 []\n",
      "Running query for expnum694174\n"
     ]
    },
    {
     "name": "stderr",
     "output_type": "stream",
     "text": [
      "Buscando STARLINKs:  31%|███████████████████▊                                           | 157/500 [1:05:12<2:25:58, 25.53s/it]"
     ]
    },
    {
     "name": "stdout",
     "output_type": "stream",
     "text": [
      "694174 []\n",
      "Running query for expnum1021487\n"
     ]
    },
    {
     "name": "stderr",
     "output_type": "stream",
     "text": [
      "Buscando STARLINKs:  32%|███████████████████▉                                           | 158/500 [1:05:33<2:17:05, 24.05s/it]"
     ]
    },
    {
     "name": "stdout",
     "output_type": "stream",
     "text": [
      "1021487 []\n",
      "Running query for expnum276377\n"
     ]
    },
    {
     "name": "stderr",
     "output_type": "stream",
     "text": [
      "Buscando STARLINKs:  32%|████████████████████                                           | 159/500 [1:05:40<1:48:44, 19.13s/it]"
     ]
    },
    {
     "name": "stdout",
     "output_type": "stream",
     "text": [
      "276377 []\n",
      "Running query for expnum669545\n"
     ]
    },
    {
     "name": "stderr",
     "output_type": "stream",
     "text": [
      "Buscando STARLINKs:  32%|████████████████████▏                                          | 160/500 [1:06:14<2:13:41, 23.59s/it]"
     ]
    },
    {
     "name": "stdout",
     "output_type": "stream",
     "text": [
      "669545 []\n",
      "Running query for expnum376389\n"
     ]
    },
    {
     "name": "stderr",
     "output_type": "stream",
     "text": [
      "Buscando STARLINKs:  32%|████████████████████▎                                          | 161/500 [1:06:25<1:51:35, 19.75s/it]"
     ]
    },
    {
     "name": "stdout",
     "output_type": "stream",
     "text": [
      "376389 []\n",
      "Running query for expnum600071\n"
     ]
    },
    {
     "name": "stderr",
     "output_type": "stream",
     "text": [
      "Buscando STARLINKs:  32%|████████████████████▍                                          | 162/500 [1:06:53<2:04:50, 22.16s/it]"
     ]
    },
    {
     "name": "stdout",
     "output_type": "stream",
     "text": [
      "600071 []\n",
      "Running query for expnum1189827\n"
     ]
    },
    {
     "name": "stderr",
     "output_type": "stream",
     "text": [
      "Buscando STARLINKs:  33%|████████████████████▌                                          | 163/500 [1:07:25<2:21:29, 25.19s/it]"
     ]
    },
    {
     "name": "stdout",
     "output_type": "stream",
     "text": [
      "1189827 ['STARLINK-1625 (46131)']\n",
      "Running query for expnum685834\n"
     ]
    },
    {
     "name": "stderr",
     "output_type": "stream",
     "text": [
      "Buscando STARLINKs:  33%|████████████████████▋                                          | 164/500 [1:07:49<2:19:07, 24.85s/it]"
     ]
    },
    {
     "name": "stdout",
     "output_type": "stream",
     "text": [
      "685834 []\n",
      "Running query for expnum699123\n"
     ]
    },
    {
     "name": "stderr",
     "output_type": "stream",
     "text": [
      "Buscando STARLINKs:  33%|████████████████████▊                                          | 165/500 [1:08:09<2:10:29, 23.37s/it]"
     ]
    },
    {
     "name": "stdout",
     "output_type": "stream",
     "text": [
      "699123 []\n",
      "Running query for expnum1125097\n"
     ]
    },
    {
     "name": "stderr",
     "output_type": "stream",
     "text": [
      "Buscando STARLINKs:  33%|████████████████████▉                                          | 166/500 [1:08:26<1:59:40, 21.50s/it]"
     ]
    },
    {
     "name": "stdout",
     "output_type": "stream",
     "text": [
      "1125097 ['STARLINK-4149 (53290)', 'STARLINK-4165 (53286)', 'STARLINK-4173 (53285)', 'STARLINK-4176 (53289)']\n",
      "Running query for expnum869531\n"
     ]
    },
    {
     "name": "stderr",
     "output_type": "stream",
     "text": [
      "Buscando STARLINKs:  33%|█████████████████████                                          | 167/500 [1:09:01<2:20:58, 25.40s/it]"
     ]
    },
    {
     "name": "stdout",
     "output_type": "stream",
     "text": [
      "869531 []\n",
      "Running query for expnum514454\n"
     ]
    },
    {
     "name": "stderr",
     "output_type": "stream",
     "text": [
      "Buscando STARLINKs:  34%|█████████████████████▏                                         | 168/500 [1:09:27<2:21:31, 25.58s/it]"
     ]
    },
    {
     "name": "stdout",
     "output_type": "stream",
     "text": [
      "514454 []\n",
      "Running query for expnum1115469\n"
     ]
    },
    {
     "name": "stderr",
     "output_type": "stream",
     "text": [
      "Buscando STARLINKs:  34%|█████████████████████▎                                         | 169/500 [1:09:47<2:12:57, 24.10s/it]"
     ]
    },
    {
     "name": "stdout",
     "output_type": "stream",
     "text": [
      "1115469 []\n",
      "Running query for expnum515676\n"
     ]
    },
    {
     "name": "stderr",
     "output_type": "stream",
     "text": [
      "Buscando STARLINKs:  34%|█████████████████████▍                                         | 170/500 [1:09:58<1:50:10, 20.03s/it]"
     ]
    },
    {
     "name": "stdout",
     "output_type": "stream",
     "text": [
      "515676 []\n",
      "Running query for expnum194146\n"
     ]
    },
    {
     "name": "stderr",
     "output_type": "stream",
     "text": [
      "Buscando STARLINKs:  34%|█████████████████████▌                                         | 171/500 [1:10:30<2:09:27, 23.61s/it]"
     ]
    },
    {
     "name": "stdout",
     "output_type": "stream",
     "text": [
      "194146 []\n",
      "Running query for expnum190478\n"
     ]
    },
    {
     "name": "stderr",
     "output_type": "stream",
     "text": [
      "Buscando STARLINKs:  34%|█████████████████████▋                                         | 172/500 [1:10:40<1:46:09, 19.42s/it]"
     ]
    },
    {
     "name": "stdout",
     "output_type": "stream",
     "text": [
      "190478 []\n",
      "Running query for expnum848285\n"
     ]
    },
    {
     "name": "stderr",
     "output_type": "stream",
     "text": [
      "Buscando STARLINKs:  35%|█████████████████████▊                                         | 173/500 [1:11:25<2:28:59, 27.34s/it]"
     ]
    },
    {
     "name": "stdout",
     "output_type": "stream",
     "text": [
      "848285 []\n",
      "Running query for expnum620370\n"
     ]
    },
    {
     "name": "stderr",
     "output_type": "stream",
     "text": [
      "Buscando STARLINKs:  35%|█████████████████████▉                                         | 174/500 [1:11:49<2:22:40, 26.26s/it]"
     ]
    },
    {
     "name": "stdout",
     "output_type": "stream",
     "text": [
      "620370 []\n",
      "Running query for expnum950681\n"
     ]
    },
    {
     "name": "stderr",
     "output_type": "stream",
     "text": [
      "Buscando STARLINKs:  35%|██████████████████████                                         | 175/500 [1:12:37<2:57:11, 32.71s/it]"
     ]
    },
    {
     "name": "stdout",
     "output_type": "stream",
     "text": [
      "950681 ['STARLINK-1113 (44926)']\n",
      "Running query for expnum828235\n"
     ]
    },
    {
     "name": "stderr",
     "output_type": "stream",
     "text": [
      "Buscando STARLINKs:  35%|██████████████████████▏                                        | 176/500 [1:13:10<2:57:59, 32.96s/it]"
     ]
    },
    {
     "name": "stdout",
     "output_type": "stream",
     "text": [
      "828235 []\n",
      "Running query for expnum665060\n"
     ]
    },
    {
     "name": "stderr",
     "output_type": "stream",
     "text": [
      "Buscando STARLINKs:  35%|██████████████████████▎                                        | 177/500 [1:13:40<2:51:34, 31.87s/it]"
     ]
    },
    {
     "name": "stdout",
     "output_type": "stream",
     "text": [
      "665060 []\n",
      "Running query for expnum1119876\n"
     ]
    },
    {
     "name": "stderr",
     "output_type": "stream",
     "text": [
      "Buscando STARLINKs:  36%|██████████████████████▍                                        | 178/500 [1:13:58<2:29:14, 27.81s/it]"
     ]
    },
    {
     "name": "stdout",
     "output_type": "stream",
     "text": [
      "1119876 []\n",
      "Running query for expnum794589\n"
     ]
    },
    {
     "name": "stderr",
     "output_type": "stream",
     "text": [
      "Buscando STARLINKs:  36%|██████████████████████▌                                        | 179/500 [1:14:27<2:29:46, 27.99s/it]"
     ]
    },
    {
     "name": "stdout",
     "output_type": "stream",
     "text": [
      "794589 []\n",
      "Running query for expnum719636\n"
     ]
    },
    {
     "name": "stderr",
     "output_type": "stream",
     "text": [
      "Buscando STARLINKs:  36%|██████████████████████▋                                        | 180/500 [1:14:54<2:28:06, 27.77s/it]"
     ]
    },
    {
     "name": "stdout",
     "output_type": "stream",
     "text": [
      "719636 []\n",
      "Running query for expnum1222051\n"
     ]
    },
    {
     "name": "stderr",
     "output_type": "stream",
     "text": [
      "Buscando STARLINKs:  36%|██████████████████████▊                                        | 181/500 [1:15:07<2:04:32, 23.42s/it]"
     ]
    },
    {
     "name": "stdout",
     "output_type": "stream",
     "text": [
      "1222051 []\n",
      "Running query for expnum1085683\n"
     ]
    },
    {
     "name": "stderr",
     "output_type": "stream",
     "text": [
      "Buscando STARLINKs:  36%|██████████████████████▉                                        | 182/500 [1:15:20<1:48:08, 20.40s/it]"
     ]
    },
    {
     "name": "stdout",
     "output_type": "stream",
     "text": [
      "1085683 ['STARLINK-1919 (46769)']\n",
      "Running query for expnum579031\n"
     ]
    },
    {
     "name": "stderr",
     "output_type": "stream",
     "text": [
      "Buscando STARLINKs:  37%|███████████████████████                                        | 183/500 [1:15:45<1:53:56, 21.57s/it]"
     ]
    },
    {
     "name": "stdout",
     "output_type": "stream",
     "text": [
      "579031 []\n",
      "Running query for expnum685793\n"
     ]
    },
    {
     "name": "stderr",
     "output_type": "stream",
     "text": [
      "Buscando STARLINKs:  37%|███████████████████████▏                                       | 184/500 [1:16:10<1:59:33, 22.70s/it]"
     ]
    },
    {
     "name": "stdout",
     "output_type": "stream",
     "text": [
      "685793 []\n",
      "Running query for expnum173788\n"
     ]
    },
    {
     "name": "stderr",
     "output_type": "stream",
     "text": [
      "Buscando STARLINKs:  37%|███████████████████████▎                                       | 185/500 [1:16:37<2:06:15, 24.05s/it]"
     ]
    },
    {
     "name": "stdout",
     "output_type": "stream",
     "text": [
      "173788 []\n",
      "Running query for expnum251732\n"
     ]
    },
    {
     "name": "stderr",
     "output_type": "stream",
     "text": [
      "Buscando STARLINKs:  37%|███████████████████████▍                                       | 186/500 [1:17:01<2:06:08, 24.10s/it]"
     ]
    },
    {
     "name": "stdout",
     "output_type": "stream",
     "text": [
      "251732 []\n",
      "Running query for expnum566075\n"
     ]
    },
    {
     "name": "stderr",
     "output_type": "stream",
     "text": [
      "Buscando STARLINKs:  37%|███████████████████████▌                                       | 187/500 [1:17:22<2:00:07, 23.03s/it]"
     ]
    },
    {
     "name": "stdout",
     "output_type": "stream",
     "text": [
      "566075 []\n",
      "Running query for expnum143798\n"
     ]
    },
    {
     "name": "stderr",
     "output_type": "stream",
     "text": [
      "Buscando STARLINKs:  38%|███████████████████████▋                                       | 188/500 [1:17:46<2:00:58, 23.26s/it]"
     ]
    },
    {
     "name": "stdout",
     "output_type": "stream",
     "text": [
      "143798 []\n",
      "Running query for expnum854430\n"
     ]
    },
    {
     "name": "stderr",
     "output_type": "stream",
     "text": [
      "Buscando STARLINKs:  38%|███████████████████████▊                                       | 189/500 [1:18:14<2:08:18, 24.75s/it]"
     ]
    },
    {
     "name": "stdout",
     "output_type": "stream",
     "text": [
      "854430 []\n",
      "Running query for expnum427295\n"
     ]
    },
    {
     "name": "stderr",
     "output_type": "stream",
     "text": [
      "Buscando STARLINKs:  38%|███████████████████████▉                                       | 190/500 [1:18:38<2:06:36, 24.51s/it]"
     ]
    },
    {
     "name": "stdout",
     "output_type": "stream",
     "text": [
      "427295 []\n",
      "Running query for expnum215883\n"
     ]
    },
    {
     "name": "stderr",
     "output_type": "stream",
     "text": [
      "Buscando STARLINKs:  38%|████████████████████████                                       | 191/500 [1:18:58<1:59:41, 23.24s/it]"
     ]
    },
    {
     "name": "stdout",
     "output_type": "stream",
     "text": [
      "215883 []\n",
      "Running query for expnum374826\n"
     ]
    },
    {
     "name": "stderr",
     "output_type": "stream",
     "text": [
      "Buscando STARLINKs:  38%|████████████████████████▏                                      | 192/500 [1:19:15<1:49:55, 21.41s/it]"
     ]
    },
    {
     "name": "stdout",
     "output_type": "stream",
     "text": [
      "374826 []\n",
      "Running query for expnum577449\n"
     ]
    },
    {
     "name": "stderr",
     "output_type": "stream",
     "text": [
      "Buscando STARLINKs:  39%|████████████████████████▎                                      | 193/500 [1:19:24<1:29:39, 17.52s/it]"
     ]
    },
    {
     "name": "stdout",
     "output_type": "stream",
     "text": [
      "577449 []\n",
      "Running query for expnum582865\n"
     ]
    },
    {
     "name": "stderr",
     "output_type": "stream",
     "text": [
      "Buscando STARLINKs:  39%|████████████████████████▍                                      | 194/500 [1:19:39<1:25:46, 16.82s/it]"
     ]
    },
    {
     "name": "stdout",
     "output_type": "stream",
     "text": [
      "582865 []\n",
      "Running query for expnum1131664\n"
     ]
    },
    {
     "name": "stderr",
     "output_type": "stream",
     "text": [
      "Buscando STARLINKs:  39%|████████████████████████▌                                      | 195/500 [1:19:58<1:29:24, 17.59s/it]"
     ]
    },
    {
     "name": "stdout",
     "output_type": "stream",
     "text": [
      "1131664 []\n",
      "Running query for expnum266135\n"
     ]
    },
    {
     "name": "stderr",
     "output_type": "stream",
     "text": [
      "Buscando STARLINKs:  39%|████████████████████████▋                                      | 196/500 [1:20:22<1:37:40, 19.28s/it]"
     ]
    },
    {
     "name": "stdout",
     "output_type": "stream",
     "text": [
      "266135 []\n",
      "Running query for expnum390620\n"
     ]
    },
    {
     "name": "stderr",
     "output_type": "stream",
     "text": [
      "Buscando STARLINKs:  39%|████████████████████████▊                                      | 197/500 [1:20:42<1:38:53, 19.58s/it]"
     ]
    },
    {
     "name": "stdout",
     "output_type": "stream",
     "text": [
      "390620 []\n",
      "Running query for expnum1088570\n"
     ]
    },
    {
     "name": "stderr",
     "output_type": "stream",
     "text": [
      "Buscando STARLINKs:  40%|████████████████████████▉                                      | 198/500 [1:20:57<1:31:28, 18.17s/it]"
     ]
    },
    {
     "name": "stdout",
     "output_type": "stream",
     "text": [
      "1088570 []\n",
      "Running query for expnum522151\n"
     ]
    },
    {
     "name": "stderr",
     "output_type": "stream",
     "text": [
      "Buscando STARLINKs:  40%|█████████████████████████                                      | 199/500 [1:21:18<1:36:25, 19.22s/it]"
     ]
    },
    {
     "name": "stdout",
     "output_type": "stream",
     "text": [
      "522151 []\n",
      "Running query for expnum218545\n"
     ]
    },
    {
     "name": "stderr",
     "output_type": "stream",
     "text": [
      "Buscando STARLINKs:  40%|█████████████████████████▏                                     | 200/500 [1:21:36<1:33:31, 18.71s/it]"
     ]
    },
    {
     "name": "stdout",
     "output_type": "stream",
     "text": [
      "218545 []\n",
      "Running query for expnum653816\n"
     ]
    },
    {
     "name": "stderr",
     "output_type": "stream",
     "text": [
      "Buscando STARLINKs:  40%|█████████████████████████▎                                     | 201/500 [1:21:59<1:39:37, 19.99s/it]"
     ]
    },
    {
     "name": "stdout",
     "output_type": "stream",
     "text": [
      "653816 []\n",
      "Running query for expnum699275\n"
     ]
    },
    {
     "name": "stderr",
     "output_type": "stream",
     "text": [
      "Buscando STARLINKs:  40%|█████████████████████████▍                                     | 202/500 [1:22:20<1:41:18, 20.40s/it]"
     ]
    },
    {
     "name": "stdout",
     "output_type": "stream",
     "text": [
      "699275 []\n",
      "Running query for expnum552932\n"
     ]
    },
    {
     "name": "stderr",
     "output_type": "stream",
     "text": [
      "Buscando STARLINKs:  41%|█████████████████████████▌                                     | 203/500 [1:22:43<1:45:04, 21.23s/it]"
     ]
    },
    {
     "name": "stdout",
     "output_type": "stream",
     "text": [
      "552932 []\n",
      "Running query for expnum735762\n"
     ]
    },
    {
     "name": "stderr",
     "output_type": "stream",
     "text": [
      "Buscando STARLINKs:  41%|█████████████████████████▋                                     | 204/500 [1:23:23<2:11:28, 26.65s/it]"
     ]
    },
    {
     "name": "stdout",
     "output_type": "stream",
     "text": [
      "735762 []\n",
      "Running query for expnum748411\n"
     ]
    },
    {
     "name": "stderr",
     "output_type": "stream",
     "text": [
      "Buscando STARLINKs:  41%|█████████████████████████▊                                     | 205/500 [1:23:48<2:09:13, 26.28s/it]"
     ]
    },
    {
     "name": "stdout",
     "output_type": "stream",
     "text": [
      "748411 []\n",
      "Running query for expnum468261\n"
     ]
    },
    {
     "name": "stderr",
     "output_type": "stream",
     "text": [
      "Buscando STARLINKs:  41%|█████████████████████████▉                                     | 206/500 [1:24:13<2:06:40, 25.85s/it]"
     ]
    },
    {
     "name": "stdout",
     "output_type": "stream",
     "text": [
      "468261 []\n",
      "Running query for expnum229695\n"
     ]
    },
    {
     "name": "stderr",
     "output_type": "stream",
     "text": [
      "Buscando STARLINKs:  41%|██████████████████████████                                     | 207/500 [1:24:33<1:57:50, 24.13s/it]"
     ]
    },
    {
     "name": "stdout",
     "output_type": "stream",
     "text": [
      "229695 []\n",
      "Running query for expnum350177\n"
     ]
    },
    {
     "name": "stderr",
     "output_type": "stream",
     "text": [
      "Buscando STARLINKs:  42%|██████████████████████████▏                                    | 208/500 [1:24:55<1:54:23, 23.51s/it]"
     ]
    },
    {
     "name": "stdout",
     "output_type": "stream",
     "text": [
      "350177 []\n",
      "Running query for expnum810518\n"
     ]
    },
    {
     "name": "stderr",
     "output_type": "stream",
     "text": [
      "Buscando STARLINKs:  42%|██████████████████████████▎                                    | 209/500 [1:25:21<1:57:06, 24.14s/it]"
     ]
    },
    {
     "name": "stdout",
     "output_type": "stream",
     "text": [
      "810518 []\n",
      "Running query for expnum1110288\n"
     ]
    },
    {
     "name": "stderr",
     "output_type": "stream",
     "text": [
      "Buscando STARLINKs:  42%|██████████████████████████▍                                    | 210/500 [1:25:41<1:50:59, 22.97s/it]"
     ]
    },
    {
     "name": "stdout",
     "output_type": "stream",
     "text": [
      "1110288 []\n",
      "Running query for expnum437220\n"
     ]
    },
    {
     "name": "stderr",
     "output_type": "stream",
     "text": [
      "Buscando STARLINKs:  42%|██████████████████████████▌                                    | 211/500 [1:26:09<1:58:05, 24.52s/it]"
     ]
    },
    {
     "name": "stdout",
     "output_type": "stream",
     "text": [
      "437220 []\n",
      "Running query for expnum981414\n"
     ]
    },
    {
     "name": "stderr",
     "output_type": "stream",
     "text": [
      "Buscando STARLINKs:  42%|██████████████████████████▋                                    | 212/500 [1:26:25<1:45:24, 21.96s/it]"
     ]
    },
    {
     "name": "stdout",
     "output_type": "stream",
     "text": [
      "981414 []\n",
      "Running query for expnum1025152\n"
     ]
    },
    {
     "name": "stderr",
     "output_type": "stream",
     "text": [
      "Buscando STARLINKs:  43%|██████████████████████████▊                                    | 213/500 [1:26:42<1:37:26, 20.37s/it]"
     ]
    },
    {
     "name": "stdout",
     "output_type": "stream",
     "text": [
      "1025152 []\n",
      "Running query for expnum386749\n"
     ]
    },
    {
     "name": "stderr",
     "output_type": "stream",
     "text": [
      "Buscando STARLINKs:  43%|██████████████████████████▉                                    | 214/500 [1:27:02<1:37:16, 20.41s/it]"
     ]
    },
    {
     "name": "stdout",
     "output_type": "stream",
     "text": [
      "386749 []\n",
      "Running query for expnum563950\n"
     ]
    },
    {
     "name": "stderr",
     "output_type": "stream",
     "text": [
      "Buscando STARLINKs:  43%|███████████████████████████                                    | 215/500 [1:27:25<1:40:04, 21.07s/it]"
     ]
    },
    {
     "name": "stdout",
     "output_type": "stream",
     "text": [
      "563950 []\n",
      "Running query for expnum900876\n"
     ]
    },
    {
     "name": "stderr",
     "output_type": "stream",
     "text": [
      "Buscando STARLINKs:  43%|███████████████████████████▏                                   | 216/500 [1:27:56<1:54:09, 24.12s/it]"
     ]
    },
    {
     "name": "stdout",
     "output_type": "stream",
     "text": [
      "900876 []\n",
      "Running query for expnum578267\n"
     ]
    },
    {
     "name": "stderr",
     "output_type": "stream",
     "text": [
      "Buscando STARLINKs:  43%|███████████████████████████▎                                   | 217/500 [1:28:05<1:31:36, 19.42s/it]"
     ]
    },
    {
     "name": "stdout",
     "output_type": "stream",
     "text": [
      "578267 []\n",
      "Running query for expnum989230\n"
     ]
    },
    {
     "name": "stderr",
     "output_type": "stream",
     "text": [
      "Buscando STARLINKs:  44%|███████████████████████████▍                                   | 218/500 [1:28:17<1:21:38, 17.37s/it]"
     ]
    },
    {
     "name": "stdout",
     "output_type": "stream",
     "text": [
      "989230 []\n",
      "Running query for expnum965724\n"
     ]
    },
    {
     "name": "stderr",
     "output_type": "stream",
     "text": [
      "Buscando STARLINKs:  44%|███████████████████████████▌                                   | 219/500 [1:28:23<1:05:18, 13.94s/it]"
     ]
    },
    {
     "name": "stdout",
     "output_type": "stream",
     "text": [
      "965724 []\n",
      "Running query for expnum743707\n"
     ]
    },
    {
     "name": "stderr",
     "output_type": "stream",
     "text": [
      "Buscando STARLINKs:  44%|███████████████████████████▋                                   | 220/500 [1:28:52<1:26:13, 18.48s/it]"
     ]
    },
    {
     "name": "stdout",
     "output_type": "stream",
     "text": [
      "743707 []\n",
      "Running query for expnum1112539\n"
     ]
    },
    {
     "name": "stderr",
     "output_type": "stream",
     "text": [
      "Buscando STARLINKs:  44%|███████████████████████████▊                                   | 221/500 [1:28:58<1:08:17, 14.69s/it]"
     ]
    },
    {
     "name": "stdout",
     "output_type": "stream",
     "text": [
      "1112539 []\n",
      "Running query for expnum1056701\n"
     ]
    },
    {
     "name": "stderr",
     "output_type": "stream",
     "text": [
      "Buscando STARLINKs:  44%|███████████████████████████▉                                   | 222/500 [1:29:11<1:05:59, 14.24s/it]"
     ]
    },
    {
     "name": "stdout",
     "output_type": "stream",
     "text": [
      "1056701 []\n",
      "Running query for expnum694671\n"
     ]
    },
    {
     "name": "stderr",
     "output_type": "stream",
     "text": [
      "Buscando STARLINKs:  45%|████████████████████████████                                   | 223/500 [1:29:40<1:25:15, 18.47s/it]"
     ]
    },
    {
     "name": "stdout",
     "output_type": "stream",
     "text": [
      "694671 []\n",
      "Running query for expnum678925\n"
     ]
    },
    {
     "name": "stderr",
     "output_type": "stream",
     "text": [
      "Buscando STARLINKs:  45%|████████████████████████████▏                                  | 224/500 [1:30:05<1:34:29, 20.54s/it]"
     ]
    },
    {
     "name": "stdout",
     "output_type": "stream",
     "text": [
      "678925 []\n",
      "Running query for expnum386798\n"
     ]
    },
    {
     "name": "stderr",
     "output_type": "stream",
     "text": [
      "Buscando STARLINKs:  45%|████████████████████████████▎                                  | 225/500 [1:30:11<1:14:32, 16.26s/it]"
     ]
    },
    {
     "name": "stdout",
     "output_type": "stream",
     "text": [
      "386798 []\n",
      "Running query for expnum1100136\n"
     ]
    },
    {
     "name": "stderr",
     "output_type": "stream",
     "text": [
      "Buscando STARLINKs:  45%|████████████████████████████▍                                  | 226/500 [1:30:21<1:05:38, 14.37s/it]"
     ]
    },
    {
     "name": "stdout",
     "output_type": "stream",
     "text": [
      "1100136 []\n",
      "Running query for expnum801824\n"
     ]
    },
    {
     "name": "stderr",
     "output_type": "stream",
     "text": [
      "Buscando STARLINKs:  45%|████████████████████████████▌                                  | 227/500 [1:30:46<1:20:05, 17.60s/it]"
     ]
    },
    {
     "name": "stdout",
     "output_type": "stream",
     "text": [
      "801824 []\n",
      "Running query for expnum835448\n"
     ]
    },
    {
     "name": "stderr",
     "output_type": "stream",
     "text": [
      "Buscando STARLINKs:  46%|████████████████████████████▋                                  | 228/500 [1:31:21<1:42:56, 22.71s/it]"
     ]
    },
    {
     "name": "stdout",
     "output_type": "stream",
     "text": [
      "835448 []\n",
      "Running query for expnum252956\n"
     ]
    },
    {
     "name": "stderr",
     "output_type": "stream",
     "text": [
      "Buscando STARLINKs:  46%|████████████████████████████▊                                  | 229/500 [1:31:44<1:42:51, 22.77s/it]"
     ]
    },
    {
     "name": "stdout",
     "output_type": "stream",
     "text": [
      "252956 []\n",
      "Running query for expnum986695\n"
     ]
    },
    {
     "name": "stderr",
     "output_type": "stream",
     "text": [
      "Buscando STARLINKs:  46%|████████████████████████████▉                                  | 230/500 [1:32:00<1:33:21, 20.75s/it]"
     ]
    },
    {
     "name": "stdout",
     "output_type": "stream",
     "text": [
      "986695 []\n",
      "Running query for expnum988453\n"
     ]
    },
    {
     "name": "stderr",
     "output_type": "stream",
     "text": [
      "Buscando STARLINKs:  46%|█████████████████████████████                                  | 231/500 [1:32:05<1:11:51, 16.03s/it]"
     ]
    },
    {
     "name": "stdout",
     "output_type": "stream",
     "text": [
      "988453 []\n",
      "Running query for expnum1055930\n"
     ]
    },
    {
     "name": "stderr",
     "output_type": "stream",
     "text": [
      "Buscando STARLINKs:  46%|██████████████████████████████▏                                  | 232/500 [1:32:11<58:20, 13.06s/it]"
     ]
    },
    {
     "name": "stdout",
     "output_type": "stream",
     "text": [
      "1055930 []\n",
      "Running query for expnum169001\n"
     ]
    },
    {
     "name": "stderr",
     "output_type": "stream",
     "text": [
      "Buscando STARLINKs:  47%|█████████████████████████████▎                                 | 233/500 [1:32:34<1:11:05, 15.97s/it]"
     ]
    },
    {
     "name": "stdout",
     "output_type": "stream",
     "text": [
      "169001 []\n",
      "Running query for expnum763725\n"
     ]
    },
    {
     "name": "stderr",
     "output_type": "stream",
     "text": [
      "Buscando STARLINKs:  47%|█████████████████████████████▍                                 | 234/500 [1:33:03<1:28:14, 19.90s/it]"
     ]
    },
    {
     "name": "stdout",
     "output_type": "stream",
     "text": [
      "763725 []\n",
      "Running query for expnum834837\n"
     ]
    },
    {
     "name": "stderr",
     "output_type": "stream",
     "text": [
      "Buscando STARLINKs:  47%|█████████████████████████████▌                                 | 235/500 [1:33:11<1:11:47, 16.25s/it]"
     ]
    },
    {
     "name": "stdout",
     "output_type": "stream",
     "text": [
      "834837 []\n",
      "Running query for expnum996154\n"
     ]
    },
    {
     "name": "stderr",
     "output_type": "stream",
     "text": [
      "Buscando STARLINKs:  47%|█████████████████████████████▋                                 | 236/500 [1:33:21<1:04:01, 14.55s/it]"
     ]
    },
    {
     "name": "stdout",
     "output_type": "stream",
     "text": [
      "996154 []\n",
      "Running query for expnum1016784\n"
     ]
    },
    {
     "name": "stderr",
     "output_type": "stream",
     "text": [
      "Buscando STARLINKs:  47%|█████████████████████████████▊                                 | 237/500 [1:33:38<1:06:51, 15.25s/it]"
     ]
    },
    {
     "name": "stdout",
     "output_type": "stream",
     "text": [
      "1016784 []\n",
      "Running query for expnum410180\n"
     ]
    },
    {
     "name": "stderr",
     "output_type": "stream",
     "text": [
      "Buscando STARLINKs:  48%|█████████████████████████████▉                                 | 238/500 [1:33:59<1:13:47, 16.90s/it]"
     ]
    },
    {
     "name": "stdout",
     "output_type": "stream",
     "text": [
      "410180 []\n",
      "Running query for expnum191296\n"
     ]
    },
    {
     "name": "stderr",
     "output_type": "stream",
     "text": [
      "Buscando STARLINKs:  48%|██████████████████████████████                                 | 239/500 [1:34:19<1:18:03, 17.94s/it]"
     ]
    },
    {
     "name": "stdout",
     "output_type": "stream",
     "text": [
      "191296 []\n",
      "Running query for expnum1074004\n"
     ]
    },
    {
     "name": "stderr",
     "output_type": "stream",
     "text": [
      "Buscando STARLINKs:  48%|██████████████████████████████▏                                | 240/500 [1:34:34<1:14:01, 17.08s/it]"
     ]
    },
    {
     "name": "stdout",
     "output_type": "stream",
     "text": [
      "1074004 ['STARLINK-3118 (49140)']\n",
      "Running query for expnum731164\n"
     ]
    },
    {
     "name": "stderr",
     "output_type": "stream",
     "text": [
      "Buscando STARLINKs:  48%|██████████████████████████████▎                                | 241/500 [1:35:01<1:26:13, 19.97s/it]"
     ]
    },
    {
     "name": "stdout",
     "output_type": "stream",
     "text": [
      "731164 []\n",
      "Running query for expnum603309\n"
     ]
    },
    {
     "name": "stderr",
     "output_type": "stream",
     "text": [
      "Buscando STARLINKs:  48%|██████████████████████████████▍                                | 242/500 [1:35:25<1:31:33, 21.29s/it]"
     ]
    },
    {
     "name": "stdout",
     "output_type": "stream",
     "text": [
      "603309 []\n",
      "Running query for expnum442249\n"
     ]
    },
    {
     "name": "stderr",
     "output_type": "stream",
     "text": [
      "Buscando STARLINKs:  49%|██████████████████████████████▌                                | 243/500 [1:35:54<1:41:06, 23.60s/it]"
     ]
    },
    {
     "name": "stdout",
     "output_type": "stream",
     "text": [
      "442249 []\n",
      "Running query for expnum716140\n"
     ]
    },
    {
     "name": "stderr",
     "output_type": "stream",
     "text": [
      "Buscando STARLINKs:  49%|██████████████████████████████▋                                | 244/500 [1:36:19<1:42:09, 23.94s/it]"
     ]
    },
    {
     "name": "stdout",
     "output_type": "stream",
     "text": [
      "716140 []\n",
      "Running query for expnum880409\n"
     ]
    },
    {
     "name": "stderr",
     "output_type": "stream",
     "text": [
      "Buscando STARLINKs:  49%|██████████████████████████████▊                                | 245/500 [1:36:49<1:49:03, 25.66s/it]"
     ]
    },
    {
     "name": "stdout",
     "output_type": "stream",
     "text": [
      "880409 []\n",
      "Running query for expnum985088\n"
     ]
    },
    {
     "name": "stderr",
     "output_type": "stream",
     "text": [
      "Buscando STARLINKs:  49%|██████████████████████████████▉                                | 246/500 [1:37:07<1:39:36, 23.53s/it]"
     ]
    },
    {
     "name": "stdout",
     "output_type": "stream",
     "text": [
      "985088 []\n",
      "Running query for expnum171375\n"
     ]
    },
    {
     "name": "stderr",
     "output_type": "stream",
     "text": [
      "Buscando STARLINKs:  49%|███████████████████████████████                                | 247/500 [1:37:28<1:35:16, 22.59s/it]"
     ]
    },
    {
     "name": "stdout",
     "output_type": "stream",
     "text": [
      "171375 []\n",
      "Running query for expnum741424\n"
     ]
    },
    {
     "name": "stderr",
     "output_type": "stream",
     "text": [
      "Buscando STARLINKs:  50%|███████████████████████████████▏                               | 248/500 [1:37:58<1:43:58, 24.76s/it]"
     ]
    },
    {
     "name": "stdout",
     "output_type": "stream",
     "text": [
      "741424 []\n",
      "Running query for expnum759106\n"
     ]
    },
    {
     "name": "stderr",
     "output_type": "stream",
     "text": [
      "Buscando STARLINKs:  50%|███████████████████████████████▎                               | 249/500 [1:38:28<1:51:10, 26.58s/it]"
     ]
    },
    {
     "name": "stdout",
     "output_type": "stream",
     "text": [
      "759106 []\n",
      "Running query for expnum1211938\n"
     ]
    },
    {
     "name": "stderr",
     "output_type": "stream",
     "text": [
      "Buscando STARLINKs:  50%|███████████████████████████████▌                               | 250/500 [1:38:50<1:43:56, 24.95s/it]"
     ]
    },
    {
     "name": "stdout",
     "output_type": "stream",
     "text": [
      "1211938 []\n",
      "Running query for expnum634524\n"
     ]
    },
    {
     "name": "stderr",
     "output_type": "stream",
     "text": [
      "Buscando STARLINKs:  50%|███████████████████████████████▋                               | 251/500 [1:39:09<1:37:04, 23.39s/it]"
     ]
    },
    {
     "name": "stdout",
     "output_type": "stream",
     "text": [
      "634524 []\n",
      "Running query for expnum380440\n"
     ]
    },
    {
     "name": "stderr",
     "output_type": "stream",
     "text": [
      "Buscando STARLINKs:  50%|███████████████████████████████▊                               | 252/500 [1:39:30<1:33:33, 22.64s/it]"
     ]
    },
    {
     "name": "stdout",
     "output_type": "stream",
     "text": [
      "380440 []\n",
      "Running query for expnum1082496\n"
     ]
    },
    {
     "name": "stderr",
     "output_type": "stream",
     "text": [
      "Buscando STARLINKs:  51%|███████████████████████████████▉                               | 253/500 [1:39:48<1:27:23, 21.23s/it]"
     ]
    },
    {
     "name": "stdout",
     "output_type": "stream",
     "text": [
      "1082496 []\n",
      "Running query for expnum154169\n"
     ]
    },
    {
     "name": "stderr",
     "output_type": "stream",
     "text": [
      "Buscando STARLINKs:  51%|████████████████████████████████                               | 254/500 [1:40:10<1:28:07, 21.49s/it]"
     ]
    },
    {
     "name": "stdout",
     "output_type": "stream",
     "text": [
      "154169 []\n",
      "Running query for expnum274216\n"
     ]
    },
    {
     "name": "stderr",
     "output_type": "stream",
     "text": [
      "Buscando STARLINKs:  51%|████████████████████████████████▏                              | 255/500 [1:40:34<1:30:32, 22.18s/it]"
     ]
    },
    {
     "name": "stdout",
     "output_type": "stream",
     "text": [
      "274216 []\n",
      "Running query for expnum417262\n"
     ]
    },
    {
     "name": "stderr",
     "output_type": "stream",
     "text": [
      "Buscando STARLINKs:  51%|████████████████████████████████▎                              | 256/500 [1:40:59<1:33:29, 22.99s/it]"
     ]
    },
    {
     "name": "stdout",
     "output_type": "stream",
     "text": [
      "417262 []\n",
      "Running query for expnum350586\n"
     ]
    },
    {
     "name": "stderr",
     "output_type": "stream",
     "text": [
      "Buscando STARLINKs:  51%|████████████████████████████████▍                              | 257/500 [1:41:31<1:43:47, 25.63s/it]"
     ]
    },
    {
     "name": "stdout",
     "output_type": "stream",
     "text": [
      "350586 []\n",
      "Running query for expnum274912\n"
     ]
    },
    {
     "name": "stderr",
     "output_type": "stream",
     "text": [
      "Buscando STARLINKs:  52%|████████████████████████████████▌                              | 258/500 [1:41:42<1:25:58, 21.32s/it]"
     ]
    },
    {
     "name": "stdout",
     "output_type": "stream",
     "text": [
      "274912 []\n",
      "Running query for expnum1082747\n"
     ]
    },
    {
     "name": "stderr",
     "output_type": "stream",
     "text": [
      "Buscando STARLINKs:  52%|████████████████████████████████▋                              | 259/500 [1:41:55<1:16:12, 18.97s/it]"
     ]
    },
    {
     "name": "stdout",
     "output_type": "stream",
     "text": [
      "1082747 []\n",
      "Running query for expnum349209\n"
     ]
    },
    {
     "name": "stderr",
     "output_type": "stream",
     "text": [
      "Buscando STARLINKs:  52%|████████████████████████████████▊                              | 260/500 [1:42:03<1:01:49, 15.46s/it]"
     ]
    },
    {
     "name": "stdout",
     "output_type": "stream",
     "text": [
      "349209 []\n",
      "Running query for expnum745663\n"
     ]
    },
    {
     "name": "stderr",
     "output_type": "stream",
     "text": [
      "Buscando STARLINKs:  52%|████████████████████████████████▉                              | 261/500 [1:42:39<1:26:52, 21.81s/it]"
     ]
    },
    {
     "name": "stdout",
     "output_type": "stream",
     "text": [
      "745663 []\n",
      "Running query for expnum533683\n"
     ]
    },
    {
     "name": "stderr",
     "output_type": "stream",
     "text": [
      "Buscando STARLINKs:  52%|█████████████████████████████████                              | 262/500 [1:43:02<1:27:55, 22.17s/it]"
     ]
    },
    {
     "name": "stdout",
     "output_type": "stream",
     "text": [
      "533683 []\n",
      "Running query for expnum359607\n"
     ]
    },
    {
     "name": "stderr",
     "output_type": "stream",
     "text": [
      "Buscando STARLINKs:  53%|█████████████████████████████████▏                             | 263/500 [1:43:20<1:21:43, 20.69s/it]"
     ]
    },
    {
     "name": "stdout",
     "output_type": "stream",
     "text": [
      "359607 []\n",
      "Running query for expnum223559\n"
     ]
    },
    {
     "name": "stderr",
     "output_type": "stream",
     "text": [
      "Buscando STARLINKs:  53%|█████████████████████████████████▎                             | 264/500 [1:43:44<1:25:15, 21.68s/it]"
     ]
    },
    {
     "name": "stdout",
     "output_type": "stream",
     "text": [
      "223559 []\n",
      "Running query for expnum1227123\n"
     ]
    },
    {
     "name": "stderr",
     "output_type": "stream",
     "text": [
      "Buscando STARLINKs:  53%|█████████████████████████████████▍                             | 265/500 [1:44:17<1:39:06, 25.30s/it]"
     ]
    },
    {
     "name": "stdout",
     "output_type": "stream",
     "text": [
      "1227123 ['STARLINK-2675 (48470)', 'STARLINK-2683 (48462)', 'STARLINK-3771 (52293)', 'STARLINK-4134 (53254)', 'STARLINK-4540 (53428)', 'STARLINK-5687 (55473)']\n",
      "Running query for expnum417465\n"
     ]
    },
    {
     "name": "stderr",
     "output_type": "stream",
     "text": [
      "Buscando STARLINKs:  53%|█████████████████████████████████▌                             | 266/500 [1:44:27<1:20:54, 20.75s/it]"
     ]
    },
    {
     "name": "stdout",
     "output_type": "stream",
     "text": [
      "417465 []\n",
      "Running query for expnum1133373\n"
     ]
    },
    {
     "name": "stderr",
     "output_type": "stream",
     "text": [
      "Buscando STARLINKs:  53%|█████████████████████████████████▋                             | 267/500 [1:44:59<1:33:09, 23.99s/it]"
     ]
    },
    {
     "name": "stdout",
     "output_type": "stream",
     "text": [
      "1133373 []\n",
      "Running query for expnum207516\n"
     ]
    },
    {
     "name": "stderr",
     "output_type": "stream",
     "text": [
      "Buscando STARLINKs:  54%|█████████████████████████████████▊                             | 268/500 [1:45:21<1:30:44, 23.47s/it]"
     ]
    },
    {
     "name": "stdout",
     "output_type": "stream",
     "text": [
      "207516 []\n",
      "Running query for expnum822657\n"
     ]
    },
    {
     "name": "stderr",
     "output_type": "stream",
     "text": [
      "Buscando STARLINKs:  54%|█████████████████████████████████▉                             | 269/500 [1:46:05<1:53:16, 29.42s/it]"
     ]
    },
    {
     "name": "stdout",
     "output_type": "stream",
     "text": [
      "822657 []\n",
      "Running query for expnum992542\n"
     ]
    },
    {
     "name": "stderr",
     "output_type": "stream",
     "text": [
      "Buscando STARLINKs:  54%|██████████████████████████████████                             | 270/500 [1:46:25<1:42:54, 26.84s/it]"
     ]
    },
    {
     "name": "stdout",
     "output_type": "stream",
     "text": [
      "992542 []\n",
      "Running query for expnum457278\n"
     ]
    },
    {
     "name": "stderr",
     "output_type": "stream",
     "text": [
      "Buscando STARLINKs:  54%|██████████████████████████████████▏                            | 271/500 [1:46:58<1:49:38, 28.73s/it]"
     ]
    },
    {
     "name": "stdout",
     "output_type": "stream",
     "text": [
      "457278 []\n",
      "Running query for expnum468190\n"
     ]
    },
    {
     "name": "stderr",
     "output_type": "stream",
     "text": [
      "Buscando STARLINKs:  54%|██████████████████████████████████▎                            | 272/500 [1:47:21<1:41:37, 26.74s/it]"
     ]
    },
    {
     "name": "stdout",
     "output_type": "stream",
     "text": [
      "468190 []\n",
      "Running query for expnum645337\n"
     ]
    },
    {
     "name": "stderr",
     "output_type": "stream",
     "text": [
      "Buscando STARLINKs:  55%|██████████████████████████████████▍                            | 273/500 [1:47:50<1:44:29, 27.62s/it]"
     ]
    },
    {
     "name": "stdout",
     "output_type": "stream",
     "text": [
      "645337 []\n",
      "Running query for expnum562847\n"
     ]
    },
    {
     "name": "stderr",
     "output_type": "stream",
     "text": [
      "Buscando STARLINKs:  55%|██████████████████████████████████▌                            | 274/500 [1:48:22<1:48:20, 28.76s/it]"
     ]
    },
    {
     "name": "stdout",
     "output_type": "stream",
     "text": [
      "562847 []\n",
      "Running query for expnum898724\n"
     ]
    },
    {
     "name": "stderr",
     "output_type": "stream",
     "text": [
      "Buscando STARLINKs:  55%|██████████████████████████████████▋                            | 275/500 [1:48:59<1:57:38, 31.37s/it]"
     ]
    },
    {
     "name": "stdout",
     "output_type": "stream",
     "text": [
      "898724 []\n",
      "Running query for expnum673103\n"
     ]
    },
    {
     "name": "stderr",
     "output_type": "stream",
     "text": [
      "Buscando STARLINKs:  55%|██████████████████████████████████▊                            | 276/500 [1:49:33<1:59:41, 32.06s/it]"
     ]
    },
    {
     "name": "stdout",
     "output_type": "stream",
     "text": [
      "673103 []\n",
      "Running query for expnum369818\n"
     ]
    },
    {
     "name": "stderr",
     "output_type": "stream",
     "text": [
      "Buscando STARLINKs:  55%|██████████████████████████████████▉                            | 277/500 [1:50:01<1:54:52, 30.91s/it]"
     ]
    },
    {
     "name": "stdout",
     "output_type": "stream",
     "text": [
      "369818 []\n",
      "Running query for expnum234820\n"
     ]
    },
    {
     "name": "stderr",
     "output_type": "stream",
     "text": [
      "Buscando STARLINKs:  56%|███████████████████████████████████                            | 278/500 [1:50:26<1:47:32, 29.07s/it]"
     ]
    },
    {
     "name": "stdout",
     "output_type": "stream",
     "text": [
      "234820 []\n",
      "Running query for expnum690450\n"
     ]
    },
    {
     "name": "stderr",
     "output_type": "stream",
     "text": [
      "Buscando STARLINKs:  56%|███████████████████████████████████▏                           | 279/500 [1:50:58<1:50:53, 30.11s/it]"
     ]
    },
    {
     "name": "stdout",
     "output_type": "stream",
     "text": [
      "690450 []\n",
      "Running query for expnum704790\n"
     ]
    },
    {
     "name": "stderr",
     "output_type": "stream",
     "text": [
      "Buscando STARLINKs:  56%|███████████████████████████████████▎                           | 280/500 [1:51:31<1:53:14, 30.88s/it]"
     ]
    },
    {
     "name": "stdout",
     "output_type": "stream",
     "text": [
      "704790 []\n",
      "Running query for expnum267628\n"
     ]
    },
    {
     "name": "stderr",
     "output_type": "stream",
     "text": [
      "Buscando STARLINKs:  56%|███████████████████████████████████▍                           | 281/500 [1:51:56<1:45:44, 28.97s/it]"
     ]
    },
    {
     "name": "stdout",
     "output_type": "stream",
     "text": [
      "267628 []\n",
      "Running query for expnum232191\n"
     ]
    },
    {
     "name": "stderr",
     "output_type": "stream",
     "text": [
      "Buscando STARLINKs:  56%|███████████████████████████████████▌                           | 282/500 [1:52:05<1:24:10, 23.17s/it]"
     ]
    },
    {
     "name": "stdout",
     "output_type": "stream",
     "text": [
      "232191 []\n",
      "Running query for expnum657976\n"
     ]
    },
    {
     "name": "stderr",
     "output_type": "stream",
     "text": [
      "Buscando STARLINKs:  57%|███████████████████████████████████▋                           | 283/500 [1:52:31<1:26:11, 23.83s/it]"
     ]
    },
    {
     "name": "stdout",
     "output_type": "stream",
     "text": [
      "657976 []\n",
      "Running query for expnum387858\n"
     ]
    },
    {
     "name": "stderr",
     "output_type": "stream",
     "text": [
      "Buscando STARLINKs:  57%|███████████████████████████████████▊                           | 284/500 [1:52:54<1:25:11, 23.67s/it]"
     ]
    },
    {
     "name": "stdout",
     "output_type": "stream",
     "text": [
      "387858 []\n",
      "Running query for expnum1104239\n"
     ]
    },
    {
     "name": "stderr",
     "output_type": "stream",
     "text": [
      "Buscando STARLINKs:  57%|███████████████████████████████████▉                           | 285/500 [1:53:30<1:37:54, 27.32s/it]"
     ]
    },
    {
     "name": "stdout",
     "output_type": "stream",
     "text": [
      "1104239 []\n",
      "Running query for expnum1180735\n"
     ]
    },
    {
     "name": "stderr",
     "output_type": "stream",
     "text": [
      "Buscando STARLINKs:  57%|████████████████████████████████████                           | 286/500 [1:54:05<1:45:27, 29.57s/it]"
     ]
    },
    {
     "name": "stdout",
     "output_type": "stream",
     "text": [
      "1180735 []\n",
      "Running query for expnum863401\n"
     ]
    },
    {
     "name": "stderr",
     "output_type": "stream",
     "text": [
      "Buscando STARLINKs:  57%|████████████████████████████████████▏                          | 287/500 [1:54:40<1:51:00, 31.27s/it]"
     ]
    },
    {
     "name": "stdout",
     "output_type": "stream",
     "text": [
      "863401 []\n",
      "Running query for expnum737014\n"
     ]
    },
    {
     "name": "stderr",
     "output_type": "stream",
     "text": [
      "Buscando STARLINKs:  58%|████████████████████████████████████▎                          | 288/500 [1:55:20<1:59:59, 33.96s/it]"
     ]
    },
    {
     "name": "stdout",
     "output_type": "stream",
     "text": [
      "737014 []\n",
      "Running query for expnum1097932\n"
     ]
    },
    {
     "name": "stderr",
     "output_type": "stream",
     "text": [
      "Buscando STARLINKs:  58%|████████████████████████████████████▍                          | 289/500 [1:55:24<1:28:08, 25.06s/it]"
     ]
    },
    {
     "name": "stdout",
     "output_type": "stream",
     "text": [
      "1097932 []\n",
      "Running query for expnum191827\n"
     ]
    },
    {
     "name": "stderr",
     "output_type": "stream",
     "text": [
      "Buscando STARLINKs:  58%|████████████████████████████████████▌                          | 290/500 [1:55:51<1:29:11, 25.48s/it]"
     ]
    },
    {
     "name": "stdout",
     "output_type": "stream",
     "text": [
      "191827 []\n",
      "Running query for expnum315353\n"
     ]
    },
    {
     "name": "stderr",
     "output_type": "stream",
     "text": [
      "Buscando STARLINKs:  58%|████████████████████████████████████▋                          | 291/500 [1:56:23<1:36:19, 27.65s/it]"
     ]
    },
    {
     "name": "stdout",
     "output_type": "stream",
     "text": [
      "315353 []\n",
      "Running query for expnum776808\n"
     ]
    },
    {
     "name": "stderr",
     "output_type": "stream",
     "text": [
      "Buscando STARLINKs:  58%|████████████████████████████████████▊                          | 292/500 [1:56:54<1:38:51, 28.52s/it]"
     ]
    },
    {
     "name": "stdout",
     "output_type": "stream",
     "text": [
      "776808 []\n",
      "Running query for expnum653764\n"
     ]
    },
    {
     "name": "stderr",
     "output_type": "stream",
     "text": [
      "Buscando STARLINKs:  59%|████████████████████████████████████▉                          | 293/500 [1:57:20<1:35:29, 27.68s/it]"
     ]
    },
    {
     "name": "stdout",
     "output_type": "stream",
     "text": [
      "653764 []\n",
      "Running query for expnum324041\n"
     ]
    },
    {
     "name": "stderr",
     "output_type": "stream",
     "text": [
      "Buscando STARLINKs:  59%|█████████████████████████████████████                          | 294/500 [1:57:40<1:27:32, 25.50s/it]"
     ]
    },
    {
     "name": "stdout",
     "output_type": "stream",
     "text": [
      "324041 []\n",
      "Running query for expnum343450\n"
     ]
    },
    {
     "name": "stderr",
     "output_type": "stream",
     "text": [
      "Buscando STARLINKs:  59%|█████████████████████████████████████▏                         | 295/500 [1:58:07<1:28:51, 26.01s/it]"
     ]
    },
    {
     "name": "stdout",
     "output_type": "stream",
     "text": [
      "343450 []\n",
      "Running query for expnum625955\n"
     ]
    },
    {
     "name": "stderr",
     "output_type": "stream",
     "text": [
      "Buscando STARLINKs:  59%|█████████████████████████████████████▎                         | 296/500 [1:58:40<1:34:51, 27.90s/it]"
     ]
    },
    {
     "name": "stdout",
     "output_type": "stream",
     "text": [
      "625955 []\n",
      "Running query for expnum771840\n"
     ]
    },
    {
     "name": "stderr",
     "output_type": "stream",
     "text": [
      "Buscando STARLINKs:  59%|█████████████████████████████████████▍                         | 297/500 [1:59:02<1:28:34, 26.18s/it]"
     ]
    },
    {
     "name": "stdout",
     "output_type": "stream",
     "text": [
      "771840 []\n",
      "Running query for expnum1184785\n"
     ]
    },
    {
     "name": "stderr",
     "output_type": "stream",
     "text": [
      "Buscando STARLINKs:  60%|█████████████████████████████████████▌                         | 298/500 [1:59:32<1:31:59, 27.32s/it]"
     ]
    },
    {
     "name": "stdout",
     "output_type": "stream",
     "text": [
      "1184785 []\n",
      "Running query for expnum788164\n"
     ]
    },
    {
     "name": "stderr",
     "output_type": "stream",
     "text": [
      "Buscando STARLINKs:  60%|█████████████████████████████████████▋                         | 299/500 [2:00:01<1:32:58, 27.75s/it]"
     ]
    },
    {
     "name": "stdout",
     "output_type": "stream",
     "text": [
      "788164 []\n",
      "Running query for expnum869547\n"
     ]
    },
    {
     "name": "stderr",
     "output_type": "stream",
     "text": [
      "Buscando STARLINKs:  60%|█████████████████████████████████████▊                         | 300/500 [2:00:38<1:42:27, 30.74s/it]"
     ]
    },
    {
     "name": "stdout",
     "output_type": "stream",
     "text": [
      "869547 []\n",
      "Running query for expnum582872\n"
     ]
    },
    {
     "name": "stderr",
     "output_type": "stream",
     "text": [
      "Buscando STARLINKs:  60%|█████████████████████████████████████▉                         | 301/500 [2:01:07<1:40:02, 30.16s/it]"
     ]
    },
    {
     "name": "stdout",
     "output_type": "stream",
     "text": [
      "582872 []\n",
      "Running query for expnum1215983\n"
     ]
    },
    {
     "name": "stderr",
     "output_type": "stream",
     "text": [
      "Buscando STARLINKs:  60%|██████████████████████████████████████                         | 302/500 [2:01:40<1:42:44, 31.14s/it]"
     ]
    },
    {
     "name": "stdout",
     "output_type": "stream",
     "text": [
      "1215983 ['STARLINK-2094 (47375)']\n",
      "Running query for expnum696430\n"
     ]
    },
    {
     "name": "stderr",
     "output_type": "stream",
     "text": [
      "Buscando STARLINKs:  61%|██████████████████████████████████████▏                        | 303/500 [2:02:14<1:44:28, 31.82s/it]"
     ]
    },
    {
     "name": "stdout",
     "output_type": "stream",
     "text": [
      "696430 []\n",
      "Running query for expnum282547\n"
     ]
    },
    {
     "name": "stderr",
     "output_type": "stream",
     "text": [
      "Buscando STARLINKs:  61%|██████████████████████████████████████▎                        | 304/500 [2:02:38<1:36:43, 29.61s/it]"
     ]
    },
    {
     "name": "stdout",
     "output_type": "stream",
     "text": [
      "282547 []\n",
      "Running query for expnum1057443\n"
     ]
    },
    {
     "name": "stderr",
     "output_type": "stream",
     "text": [
      "Buscando STARLINKs:  61%|██████████████████████████████████████▍                        | 305/500 [2:02:58<1:26:09, 26.51s/it]"
     ]
    },
    {
     "name": "stdout",
     "output_type": "stream",
     "text": [
      "1057443 ['STARLINK-2185 (47767)']\n",
      "Running query for expnum454967\n"
     ]
    },
    {
     "name": "stderr",
     "output_type": "stream",
     "text": [
      "Buscando STARLINKs:  61%|██████████████████████████████████████▌                        | 306/500 [2:03:29<1:30:00, 27.84s/it]"
     ]
    },
    {
     "name": "stdout",
     "output_type": "stream",
     "text": [
      "454967 []\n",
      "Running query for expnum754605\n"
     ]
    },
    {
     "name": "stderr",
     "output_type": "stream",
     "text": [
      "Buscando STARLINKs:  61%|██████████████████████████████████████▋                        | 307/500 [2:03:58<1:30:39, 28.18s/it]"
     ]
    },
    {
     "name": "stdout",
     "output_type": "stream",
     "text": [
      "754605 []\n",
      "Running query for expnum502994\n"
     ]
    },
    {
     "name": "stderr",
     "output_type": "stream",
     "text": [
      "Buscando STARLINKs:  62%|██████████████████████████████████████▊                        | 308/500 [2:04:26<1:29:57, 28.11s/it]"
     ]
    },
    {
     "name": "stdout",
     "output_type": "stream",
     "text": [
      "502994 []\n",
      "Running query for expnum614134\n"
     ]
    },
    {
     "name": "stderr",
     "output_type": "stream",
     "text": [
      "Buscando STARLINKs:  62%|██████████████████████████████████████▉                        | 309/500 [2:04:51<1:26:38, 27.22s/it]"
     ]
    },
    {
     "name": "stdout",
     "output_type": "stream",
     "text": [
      "614134 []\n",
      "Running query for expnum207603\n"
     ]
    },
    {
     "name": "stderr",
     "output_type": "stream",
     "text": [
      "Buscando STARLINKs:  62%|███████████████████████████████████████                        | 310/500 [2:05:14<1:22:57, 26.20s/it]"
     ]
    },
    {
     "name": "stdout",
     "output_type": "stream",
     "text": [
      "207603 []\n",
      "Running query for expnum876230\n"
     ]
    },
    {
     "name": "stderr",
     "output_type": "stream",
     "text": [
      "Buscando STARLINKs:  62%|███████████████████████████████████████▏                       | 311/500 [2:05:47<1:28:49, 28.20s/it]"
     ]
    },
    {
     "name": "stdout",
     "output_type": "stream",
     "text": [
      "876230 []\n",
      "Running query for expnum1074544\n"
     ]
    },
    {
     "name": "stderr",
     "output_type": "stream",
     "text": [
      "Buscando STARLINKs:  62%|███████████████████████████████████████▎                       | 312/500 [2:06:10<1:22:52, 26.45s/it]"
     ]
    },
    {
     "name": "stdout",
     "output_type": "stream",
     "text": [
      "1074544 ['STARLINK-1262 (45366)']\n",
      "Running query for expnum607657\n"
     ]
    },
    {
     "name": "stderr",
     "output_type": "stream",
     "text": [
      "Buscando STARLINKs:  63%|███████████████████████████████████████▍                       | 313/500 [2:06:30<1:16:24, 24.52s/it]"
     ]
    },
    {
     "name": "stdout",
     "output_type": "stream",
     "text": [
      "607657 []\n",
      "Running query for expnum635304\n"
     ]
    },
    {
     "name": "stderr",
     "output_type": "stream",
     "text": [
      "Buscando STARLINKs:  63%|███████████████████████████████████████▌                       | 314/500 [2:06:50<1:12:22, 23.35s/it]"
     ]
    },
    {
     "name": "stdout",
     "output_type": "stream",
     "text": [
      "635304 []\n",
      "Running query for expnum529799\n"
     ]
    },
    {
     "name": "stderr",
     "output_type": "stream",
     "text": [
      "Buscando STARLINKs:  63%|███████████████████████████████████████▋                       | 315/500 [2:07:14<1:12:43, 23.59s/it]"
     ]
    },
    {
     "name": "stdout",
     "output_type": "stream",
     "text": [
      "529799 []\n",
      "Running query for expnum717374\n"
     ]
    },
    {
     "name": "stderr",
     "output_type": "stream",
     "text": [
      "Buscando STARLINKs:  63%|███████████████████████████████████████▊                       | 316/500 [2:07:45<1:18:31, 25.61s/it]"
     ]
    },
    {
     "name": "stdout",
     "output_type": "stream",
     "text": [
      "717374 []\n",
      "Running query for expnum990766\n"
     ]
    },
    {
     "name": "stderr",
     "output_type": "stream",
     "text": [
      "Buscando STARLINKs:  63%|███████████████████████████████████████▉                       | 317/500 [2:08:06<1:13:44, 24.18s/it]"
     ]
    },
    {
     "name": "stdout",
     "output_type": "stream",
     "text": [
      "990766 []\n",
      "Running query for expnum856566\n"
     ]
    },
    {
     "name": "stderr",
     "output_type": "stream",
     "text": [
      "Buscando STARLINKs:  64%|████████████████████████████████████████                       | 318/500 [2:08:41<1:23:45, 27.61s/it]"
     ]
    },
    {
     "name": "stdout",
     "output_type": "stream",
     "text": [
      "856566 []\n",
      "Running query for expnum1189811\n"
     ]
    },
    {
     "name": "stderr",
     "output_type": "stream",
     "text": [
      "Buscando STARLINKs:  64%|████████████████████████████████████████▏                      | 319/500 [2:09:15<1:28:31, 29.34s/it]"
     ]
    },
    {
     "name": "stdout",
     "output_type": "stream",
     "text": [
      "1189811 ['STARLINK-4174 (53276)', 'STARLINK-4799 (53860)']\n",
      "Running query for expnum1122419\n"
     ]
    },
    {
     "name": "stderr",
     "output_type": "stream",
     "text": [
      "Buscando STARLINKs:  64%|████████████████████████████████████████▎                      | 320/500 [2:09:45<1:29:09, 29.72s/it]"
     ]
    },
    {
     "name": "stdout",
     "output_type": "stream",
     "text": [
      "1122419 []\n",
      "Running query for expnum807389\n"
     ]
    },
    {
     "name": "stderr",
     "output_type": "stream",
     "text": [
      "Buscando STARLINKs:  64%|████████████████████████████████████████▍                      | 321/500 [2:10:16<1:29:43, 30.07s/it]"
     ]
    },
    {
     "name": "stdout",
     "output_type": "stream",
     "text": [
      "807389 []\n",
      "Running query for expnum407966\n"
     ]
    },
    {
     "name": "stderr",
     "output_type": "stream",
     "text": [
      "Buscando STARLINKs:  64%|████████████████████████████████████████▌                      | 322/500 [2:10:43<1:26:10, 29.05s/it]"
     ]
    },
    {
     "name": "stdout",
     "output_type": "stream",
     "text": [
      "407966 []\n",
      "Running query for expnum510572\n"
     ]
    },
    {
     "name": "stderr",
     "output_type": "stream",
     "text": [
      "Buscando STARLINKs:  65%|████████████████████████████████████████▋                      | 323/500 [2:11:12<1:26:13, 29.23s/it]"
     ]
    },
    {
     "name": "stdout",
     "output_type": "stream",
     "text": [
      "510572 []\n",
      "Running query for expnum1051894\n"
     ]
    },
    {
     "name": "stderr",
     "output_type": "stream",
     "text": [
      "Buscando STARLINKs:  65%|████████████████████████████████████████▊                      | 324/500 [2:11:35<1:19:47, 27.20s/it]"
     ]
    },
    {
     "name": "stdout",
     "output_type": "stream",
     "text": [
      "1051894 []\n",
      "Running query for expnum1011517\n"
     ]
    },
    {
     "name": "stderr",
     "output_type": "stream",
     "text": [
      "Buscando STARLINKs:  65%|████████████████████████████████████████▉                      | 325/500 [2:11:57<1:14:42, 25.61s/it]"
     ]
    },
    {
     "name": "stdout",
     "output_type": "stream",
     "text": [
      "1011517 []\n",
      "Running query for expnum424350\n"
     ]
    },
    {
     "name": "stderr",
     "output_type": "stream",
     "text": [
      "Buscando STARLINKs:  65%|█████████████████████████████████████████                      | 326/500 [2:12:25<1:16:41, 26.45s/it]"
     ]
    },
    {
     "name": "stdout",
     "output_type": "stream",
     "text": [
      "424350 []\n",
      "Running query for expnum656082\n"
     ]
    },
    {
     "name": "stderr",
     "output_type": "stream",
     "text": [
      "Buscando STARLINKs:  65%|█████████████████████████████████████████▏                     | 327/500 [2:13:00<1:23:52, 29.09s/it]"
     ]
    },
    {
     "name": "stdout",
     "output_type": "stream",
     "text": [
      "656082 []\n",
      "Running query for expnum635317\n"
     ]
    },
    {
     "name": "stderr",
     "output_type": "stream",
     "text": [
      "Buscando STARLINKs:  66%|█████████████████████████████████████████▎                     | 328/500 [2:13:24<1:18:29, 27.38s/it]"
     ]
    },
    {
     "name": "stdout",
     "output_type": "stream",
     "text": [
      "635317 []\n",
      "Running query for expnum340867\n"
     ]
    },
    {
     "name": "stderr",
     "output_type": "stream",
     "text": [
      "Buscando STARLINKs:  66%|█████████████████████████████████████████▍                     | 329/500 [2:13:53<1:19:44, 27.98s/it]"
     ]
    },
    {
     "name": "stdout",
     "output_type": "stream",
     "text": [
      "340867 []\n",
      "Running query for expnum731591\n"
     ]
    },
    {
     "name": "stderr",
     "output_type": "stream",
     "text": [
      "Buscando STARLINKs:  66%|█████████████████████████████████████████▌                     | 330/500 [2:14:26<1:23:09, 29.35s/it]"
     ]
    },
    {
     "name": "stdout",
     "output_type": "stream",
     "text": [
      "731591 []\n",
      "Running query for expnum641750\n"
     ]
    },
    {
     "name": "stderr",
     "output_type": "stream",
     "text": [
      "Buscando STARLINKs:  66%|█████████████████████████████████████████▋                     | 331/500 [2:14:47<1:15:54, 26.95s/it]"
     ]
    },
    {
     "name": "stdout",
     "output_type": "stream",
     "text": [
      "641750 []\n",
      "Running query for expnum425112\n"
     ]
    },
    {
     "name": "stderr",
     "output_type": "stream",
     "text": [
      "Buscando STARLINKs:  66%|█████████████████████████████████████████▊                     | 332/500 [2:15:02<1:04:56, 23.19s/it]"
     ]
    },
    {
     "name": "stdout",
     "output_type": "stream",
     "text": [
      "425112 []\n",
      "Running query for expnum831688\n"
     ]
    },
    {
     "name": "stderr",
     "output_type": "stream",
     "text": [
      "Buscando STARLINKs:  67%|█████████████████████████████████████████▉                     | 333/500 [2:15:42<1:19:17, 28.49s/it]"
     ]
    },
    {
     "name": "stdout",
     "output_type": "stream",
     "text": [
      "831688 []\n",
      "Running query for expnum777453\n"
     ]
    },
    {
     "name": "stderr",
     "output_type": "stream",
     "text": [
      "Buscando STARLINKs:  67%|██████████████████████████████████████████                     | 334/500 [2:16:14<1:21:03, 29.30s/it]"
     ]
    },
    {
     "name": "stdout",
     "output_type": "stream",
     "text": [
      "777453 []\n",
      "Running query for expnum1132086\n"
     ]
    },
    {
     "name": "stderr",
     "output_type": "stream",
     "text": [
      "Buscando STARLINKs:  67%|██████████████████████████████████████████▏                    | 335/500 [2:16:49<1:25:19, 31.02s/it]"
     ]
    },
    {
     "name": "stdout",
     "output_type": "stream",
     "text": [
      "1132086 ['STARLINK-1037 (44742)']\n",
      "Running query for expnum299461\n"
     ]
    },
    {
     "name": "stderr",
     "output_type": "stream",
     "text": [
      "Buscando STARLINKs:  67%|██████████████████████████████████████████▎                    | 336/500 [2:17:18<1:23:50, 30.67s/it]"
     ]
    },
    {
     "name": "stdout",
     "output_type": "stream",
     "text": [
      "299461 []\n",
      "Running query for expnum702185\n"
     ]
    },
    {
     "name": "stderr",
     "output_type": "stream",
     "text": [
      "Buscando STARLINKs:  67%|██████████████████████████████████████████▍                    | 337/500 [2:17:52<1:25:20, 31.41s/it]"
     ]
    },
    {
     "name": "stdout",
     "output_type": "stream",
     "text": [
      "702185 []\n",
      "Running query for expnum814504\n"
     ]
    },
    {
     "name": "stderr",
     "output_type": "stream",
     "text": [
      "Buscando STARLINKs:  68%|██████████████████████████████████████████▌                    | 338/500 [2:18:29<1:29:27, 33.13s/it]"
     ]
    },
    {
     "name": "stdout",
     "output_type": "stream",
     "text": [
      "814504 []\n",
      "Running query for expnum377518\n"
     ]
    },
    {
     "name": "stderr",
     "output_type": "stream",
     "text": [
      "Buscando STARLINKs:  68%|██████████████████████████████████████████▋                    | 339/500 [2:18:53<1:21:33, 30.39s/it]"
     ]
    },
    {
     "name": "stdout",
     "output_type": "stream",
     "text": [
      "377518 []\n",
      "Running query for expnum316973\n"
     ]
    },
    {
     "name": "stderr",
     "output_type": "stream",
     "text": [
      "Buscando STARLINKs:  68%|██████████████████████████████████████████▊                    | 340/500 [2:19:20<1:18:54, 29.59s/it]"
     ]
    },
    {
     "name": "stdout",
     "output_type": "stream",
     "text": [
      "316973 []\n",
      "Running query for expnum577885\n"
     ]
    },
    {
     "name": "stderr",
     "output_type": "stream",
     "text": [
      "Buscando STARLINKs:  68%|██████████████████████████████████████████▉                    | 341/500 [2:19:46<1:15:03, 28.32s/it]"
     ]
    },
    {
     "name": "stdout",
     "output_type": "stream",
     "text": [
      "577885 []\n",
      "Running query for expnum587739\n"
     ]
    },
    {
     "name": "stderr",
     "output_type": "stream",
     "text": [
      "Buscando STARLINKs:  68%|███████████████████████████████████████████                    | 342/500 [2:20:09<1:10:34, 26.80s/it]"
     ]
    },
    {
     "name": "stdout",
     "output_type": "stream",
     "text": [
      "587739 []\n",
      "Running query for expnum526479\n"
     ]
    },
    {
     "name": "stderr",
     "output_type": "stream",
     "text": [
      "Buscando STARLINKs:  69%|███████████████████████████████████████████▏                   | 343/500 [2:20:32<1:07:20, 25.73s/it]"
     ]
    },
    {
     "name": "stdout",
     "output_type": "stream",
     "text": [
      "526479 []\n",
      "Running query for expnum557639\n"
     ]
    },
    {
     "name": "stderr",
     "output_type": "stream",
     "text": [
      "Buscando STARLINKs:  69%|███████████████████████████████████████████▎                   | 344/500 [2:20:55<1:04:47, 24.92s/it]"
     ]
    },
    {
     "name": "stdout",
     "output_type": "stream",
     "text": [
      "557639 []\n",
      "Running query for expnum278906\n"
     ]
    },
    {
     "name": "stderr",
     "output_type": "stream",
     "text": [
      "Buscando STARLINKs:  69%|███████████████████████████████████████████▍                   | 345/500 [2:21:17<1:01:33, 23.83s/it]"
     ]
    },
    {
     "name": "stdout",
     "output_type": "stream",
     "text": [
      "278906 []\n",
      "Running query for expnum778968\n"
     ]
    },
    {
     "name": "stderr",
     "output_type": "stream",
     "text": [
      "Buscando STARLINKs:  69%|███████████████████████████████████████████▌                   | 346/500 [2:21:48<1:06:37, 25.96s/it]"
     ]
    },
    {
     "name": "stdout",
     "output_type": "stream",
     "text": [
      "778968 []\n",
      "Running query for expnum386217\n"
     ]
    },
    {
     "name": "stderr",
     "output_type": "stream",
     "text": [
      "Buscando STARLINKs:  69%|█████████████████████████████████████████████                    | 347/500 [2:22:05<59:42, 23.42s/it]"
     ]
    },
    {
     "name": "stdout",
     "output_type": "stream",
     "text": [
      "386217 []\n",
      "Running query for expnum693686\n"
     ]
    },
    {
     "name": "stderr",
     "output_type": "stream",
     "text": [
      "Buscando STARLINKs:  70%|███████████████████████████████████████████▊                   | 348/500 [2:22:40<1:07:42, 26.73s/it]"
     ]
    },
    {
     "name": "stdout",
     "output_type": "stream",
     "text": [
      "693686 []\n",
      "Running query for expnum641472\n"
     ]
    },
    {
     "name": "stderr",
     "output_type": "stream",
     "text": [
      "Buscando STARLINKs:  70%|███████████████████████████████████████████▉                   | 349/500 [2:23:07<1:07:27, 26.81s/it]"
     ]
    },
    {
     "name": "stdout",
     "output_type": "stream",
     "text": [
      "641472 []\n",
      "Running query for expnum476780\n"
     ]
    },
    {
     "name": "stderr",
     "output_type": "stream",
     "text": [
      "Buscando STARLINKs:  70%|████████████████████████████████████████████                   | 350/500 [2:23:31<1:05:30, 26.21s/it]"
     ]
    },
    {
     "name": "stdout",
     "output_type": "stream",
     "text": [
      "476780 []\n",
      "Running query for expnum656364\n"
     ]
    },
    {
     "name": "stderr",
     "output_type": "stream",
     "text": [
      "Buscando STARLINKs:  70%|████████████████████████████████████████████▏                  | 351/500 [2:23:56<1:04:10, 25.84s/it]"
     ]
    },
    {
     "name": "stdout",
     "output_type": "stream",
     "text": [
      "656364 []\n",
      "Running query for expnum822324\n"
     ]
    },
    {
     "name": "stderr",
     "output_type": "stream",
     "text": [
      "Buscando STARLINKs:  70%|████████████████████████████████████████████▎                  | 352/500 [2:24:36<1:13:54, 29.96s/it]"
     ]
    },
    {
     "name": "stdout",
     "output_type": "stream",
     "text": [
      "822324 []\n",
      "Running query for expnum674804\n"
     ]
    },
    {
     "name": "stderr",
     "output_type": "stream",
     "text": [
      "Buscando STARLINKs:  71%|████████████████████████████████████████████▍                  | 353/500 [2:25:07<1:14:35, 30.45s/it]"
     ]
    },
    {
     "name": "stdout",
     "output_type": "stream",
     "text": [
      "674804 []\n",
      "Running query for expnum830602\n"
     ]
    },
    {
     "name": "stderr",
     "output_type": "stream",
     "text": [
      "Buscando STARLINKs:  71%|████████████████████████████████████████████▌                  | 354/500 [2:25:46<1:20:00, 32.88s/it]"
     ]
    },
    {
     "name": "stdout",
     "output_type": "stream",
     "text": [
      "830602 []\n",
      "Running query for expnum846700\n"
     ]
    },
    {
     "name": "stderr",
     "output_type": "stream",
     "text": [
      "Buscando STARLINKs:  71%|████████████████████████████████████████████▋                  | 355/500 [2:26:29<1:26:26, 35.77s/it]"
     ]
    },
    {
     "name": "stdout",
     "output_type": "stream",
     "text": [
      "846700 []\n",
      "Running query for expnum423022\n"
     ]
    },
    {
     "name": "stderr",
     "output_type": "stream",
     "text": [
      "Buscando STARLINKs:  71%|████████████████████████████████████████████▊                  | 356/500 [2:26:49<1:14:42, 31.13s/it]"
     ]
    },
    {
     "name": "stdout",
     "output_type": "stream",
     "text": [
      "423022 []\n",
      "Running query for expnum765306\n"
     ]
    },
    {
     "name": "stderr",
     "output_type": "stream",
     "text": [
      "Buscando STARLINKs:  71%|████████████████████████████████████████████▉                  | 357/500 [2:27:23<1:16:10, 31.96s/it]"
     ]
    },
    {
     "name": "stdout",
     "output_type": "stream",
     "text": [
      "765306 []\n",
      "Running query for expnum634791\n"
     ]
    },
    {
     "name": "stderr",
     "output_type": "stream",
     "text": [
      "Buscando STARLINKs:  72%|█████████████████████████████████████████████                  | 358/500 [2:27:48<1:11:00, 30.01s/it]"
     ]
    },
    {
     "name": "stdout",
     "output_type": "stream",
     "text": [
      "634791 []\n",
      "Running query for expnum681093\n"
     ]
    },
    {
     "name": "stderr",
     "output_type": "stream",
     "text": [
      "Buscando STARLINKs:  72%|█████████████████████████████████████████████▏                 | 359/500 [2:28:14<1:07:35, 28.76s/it]"
     ]
    },
    {
     "name": "stdout",
     "output_type": "stream",
     "text": [
      "681093 []\n",
      "Running query for expnum745426\n"
     ]
    },
    {
     "name": "stderr",
     "output_type": "stream",
     "text": [
      "Buscando STARLINKs:  72%|█████████████████████████████████████████████▎                 | 360/500 [2:28:45<1:08:48, 29.49s/it]"
     ]
    },
    {
     "name": "stdout",
     "output_type": "stream",
     "text": [
      "745426 []\n",
      "Running query for expnum864431\n"
     ]
    },
    {
     "name": "stderr",
     "output_type": "stream",
     "text": [
      "Buscando STARLINKs:  72%|█████████████████████████████████████████████▍                 | 361/500 [2:29:20<1:11:54, 31.04s/it]"
     ]
    },
    {
     "name": "stdout",
     "output_type": "stream",
     "text": [
      "864431 []\n",
      "Running query for expnum1046449\n"
     ]
    },
    {
     "name": "stderr",
     "output_type": "stream",
     "text": [
      "Buscando STARLINKs:  72%|█████████████████████████████████████████████▌                 | 362/500 [2:29:46<1:08:05, 29.61s/it]"
     ]
    },
    {
     "name": "stdout",
     "output_type": "stream",
     "text": [
      "1046449 []\n",
      "Running query for expnum1169802\n"
     ]
    },
    {
     "name": "stderr",
     "output_type": "stream",
     "text": [
      "Buscando STARLINKs:  73%|█████████████████████████████████████████████▋                 | 363/500 [2:30:15<1:06:50, 29.28s/it]"
     ]
    },
    {
     "name": "stdout",
     "output_type": "stream",
     "text": [
      "1169802 ['STARLINK-1642 (46154)', 'STARLINK-1956 (47557)']\n",
      "Running query for expnum142104\n"
     ]
    },
    {
     "name": "stderr",
     "output_type": "stream",
     "text": [
      "Buscando STARLINKs:  73%|█████████████████████████████████████████████▊                 | 364/500 [2:30:44<1:06:29, 29.34s/it]"
     ]
    },
    {
     "name": "stdout",
     "output_type": "stream",
     "text": [
      "142104 []\n",
      "Running query for expnum924358\n"
     ]
    },
    {
     "name": "stderr",
     "output_type": "stream",
     "text": [
      "Buscando STARLINKs:  73%|█████████████████████████████████████████████▉                 | 365/500 [2:31:25<1:14:07, 32.94s/it]"
     ]
    },
    {
     "name": "stdout",
     "output_type": "stream",
     "text": [
      "924358 []\n",
      "Running query for expnum961241\n"
     ]
    },
    {
     "name": "stderr",
     "output_type": "stream",
     "text": [
      "Buscando STARLINKs:  73%|██████████████████████████████████████████████                 | 366/500 [2:31:44<1:04:05, 28.70s/it]"
     ]
    },
    {
     "name": "stdout",
     "output_type": "stream",
     "text": [
      "961241 []\n",
      "Running query for expnum1221709\n"
     ]
    },
    {
     "name": "stderr",
     "output_type": "stream",
     "text": [
      "Buscando STARLINKs:  73%|███████████████████████████████████████████████▋                 | 367/500 [2:32:07<59:27, 26.82s/it]"
     ]
    },
    {
     "name": "stdout",
     "output_type": "stream",
     "text": [
      "1221709 []\n",
      "Running query for expnum983529\n"
     ]
    },
    {
     "name": "stderr",
     "output_type": "stream",
     "text": [
      "Buscando STARLINKs:  74%|███████████████████████████████████████████████▊                 | 368/500 [2:32:30<56:33, 25.71s/it]"
     ]
    },
    {
     "name": "stdout",
     "output_type": "stream",
     "text": [
      "983529 []\n",
      "Running query for expnum470386\n"
     ]
    },
    {
     "name": "stderr",
     "output_type": "stream",
     "text": [
      "Buscando STARLINKs:  74%|███████████████████████████████████████████████▉                 | 369/500 [2:32:59<58:19, 26.71s/it]"
     ]
    },
    {
     "name": "stdout",
     "output_type": "stream",
     "text": [
      "470386 []\n",
      "Running query for expnum385101\n"
     ]
    },
    {
     "name": "stderr",
     "output_type": "stream",
     "text": [
      "Buscando STARLINKs:  74%|████████████████████████████████████████████████                 | 370/500 [2:33:20<54:21, 25.09s/it]"
     ]
    },
    {
     "name": "stdout",
     "output_type": "stream",
     "text": [
      "385101 []\n",
      "Running query for expnum637728\n"
     ]
    },
    {
     "name": "stderr",
     "output_type": "stream",
     "text": [
      "Buscando STARLINKs:  74%|████████████████████████████████████████████████▏                | 371/500 [2:33:44<53:24, 24.84s/it]"
     ]
    },
    {
     "name": "stdout",
     "output_type": "stream",
     "text": [
      "637728 []\n",
      "Running query for expnum320408\n"
     ]
    },
    {
     "name": "stderr",
     "output_type": "stream",
     "text": [
      "Buscando STARLINKs:  74%|████████████████████████████████████████████████▎                | 372/500 [2:34:09<53:05, 24.89s/it]"
     ]
    },
    {
     "name": "stdout",
     "output_type": "stream",
     "text": [
      "320408 []\n",
      "Running query for expnum910597\n"
     ]
    },
    {
     "name": "stderr",
     "output_type": "stream",
     "text": [
      "Buscando STARLINKs:  75%|████████████████████████████████████████████████▍                | 373/500 [2:34:43<57:52, 27.34s/it]"
     ]
    },
    {
     "name": "stdout",
     "output_type": "stream",
     "text": [
      "910597 []\n",
      "Running query for expnum1119951\n"
     ]
    },
    {
     "name": "stderr",
     "output_type": "stream",
     "text": [
      "Buscando STARLINKs:  75%|███████████████████████████████████████████████                | 374/500 [2:35:18<1:02:43, 29.87s/it]"
     ]
    },
    {
     "name": "stdout",
     "output_type": "stream",
     "text": [
      "1119951 ['STARLINK-1355 (45563)', 'STARLINK-2251 (48594)', 'STARLINK-2549 (48314)']\n",
      "Running query for expnum381825\n"
     ]
    },
    {
     "name": "stderr",
     "output_type": "stream",
     "text": [
      "Buscando STARLINKs:  75%|████████████████████████████████████████████████▊                | 375/500 [2:35:30<50:40, 24.32s/it]"
     ]
    },
    {
     "name": "stdout",
     "output_type": "stream",
     "text": [
      "381825 []\n",
      "Running query for expnum1019293\n"
     ]
    },
    {
     "name": "stderr",
     "output_type": "stream",
     "text": [
      "Buscando STARLINKs:  75%|████████████████████████████████████████████████▉                | 376/500 [2:35:51<48:09, 23.31s/it]"
     ]
    },
    {
     "name": "stdout",
     "output_type": "stream",
     "text": [
      "1019293 []\n",
      "Running query for expnum581545\n"
     ]
    },
    {
     "name": "stderr",
     "output_type": "stream",
     "text": [
      "Buscando STARLINKs:  75%|█████████████████████████████████████████████████                | 377/500 [2:36:16<49:00, 23.91s/it]"
     ]
    },
    {
     "name": "stdout",
     "output_type": "stream",
     "text": [
      "581545 []\n",
      "Running query for expnum229570\n"
     ]
    },
    {
     "name": "stderr",
     "output_type": "stream",
     "text": [
      "Buscando STARLINKs:  76%|█████████████████████████████████████████████████▏               | 378/500 [2:36:41<49:15, 24.23s/it]"
     ]
    },
    {
     "name": "stdout",
     "output_type": "stream",
     "text": [
      "229570 []\n",
      "Running query for expnum802540\n"
     ]
    },
    {
     "name": "stderr",
     "output_type": "stream",
     "text": [
      "Buscando STARLINKs:  76%|█████████████████████████████████████████████████▎               | 379/500 [2:37:12<52:46, 26.17s/it]"
     ]
    },
    {
     "name": "stdout",
     "output_type": "stream",
     "text": [
      "802540 []\n",
      "Running query for expnum590674\n"
     ]
    },
    {
     "name": "stderr",
     "output_type": "stream",
     "text": [
      "Buscando STARLINKs:  76%|█████████████████████████████████████████████████▍               | 380/500 [2:37:35<50:53, 25.45s/it]"
     ]
    },
    {
     "name": "stdout",
     "output_type": "stream",
     "text": [
      "590674 []\n",
      "Running query for expnum347039\n"
     ]
    },
    {
     "name": "stderr",
     "output_type": "stream",
     "text": [
      "Buscando STARLINKs:  76%|█████████████████████████████████████████████████▌               | 381/500 [2:38:02<51:18, 25.87s/it]"
     ]
    },
    {
     "name": "stdout",
     "output_type": "stream",
     "text": [
      "347039 []\n",
      "Running query for expnum584398\n"
     ]
    },
    {
     "name": "stderr",
     "output_type": "stream",
     "text": [
      "Buscando STARLINKs:  76%|█████████████████████████████████████████████████▋               | 382/500 [2:38:12<41:19, 21.01s/it]"
     ]
    },
    {
     "name": "stdout",
     "output_type": "stream",
     "text": [
      "584398 []\n",
      "Running query for expnum369483\n"
     ]
    },
    {
     "name": "stderr",
     "output_type": "stream",
     "text": [
      "Buscando STARLINKs:  77%|█████████████████████████████████████████████████▊               | 383/500 [2:38:34<41:47, 21.43s/it]"
     ]
    },
    {
     "name": "stdout",
     "output_type": "stream",
     "text": [
      "369483 []\n",
      "Running query for expnum642520\n"
     ]
    },
    {
     "name": "stderr",
     "output_type": "stream",
     "text": [
      "Buscando STARLINKs:  77%|█████████████████████████████████████████████████▉               | 384/500 [2:39:01<44:16, 22.90s/it]"
     ]
    },
    {
     "name": "stdout",
     "output_type": "stream",
     "text": [
      "642520 []\n",
      "Running query for expnum316956\n"
     ]
    },
    {
     "name": "stderr",
     "output_type": "stream",
     "text": [
      "Buscando STARLINKs:  77%|██████████████████████████████████████████████████               | 385/500 [2:39:30<47:28, 24.77s/it]"
     ]
    },
    {
     "name": "stdout",
     "output_type": "stream",
     "text": [
      "316956 []\n",
      "Running query for expnum869472\n"
     ]
    },
    {
     "name": "stderr",
     "output_type": "stream",
     "text": [
      "Buscando STARLINKs:  77%|██████████████████████████████████████████████████▏              | 386/500 [2:40:06<53:53, 28.36s/it]"
     ]
    },
    {
     "name": "stdout",
     "output_type": "stream",
     "text": [
      "869472 []\n",
      "Running query for expnum432735\n"
     ]
    },
    {
     "name": "stderr",
     "output_type": "stream",
     "text": [
      "Buscando STARLINKs:  77%|██████████████████████████████████████████████████▎              | 387/500 [2:40:33<52:10, 27.70s/it]"
     ]
    },
    {
     "name": "stdout",
     "output_type": "stream",
     "text": [
      "432735 []\n",
      "Running query for expnum1189817\n"
     ]
    },
    {
     "name": "stderr",
     "output_type": "stream",
     "text": [
      "Buscando STARLINKs:  78%|████████████████████████████████████████████████▉              | 388/500 [2:41:16<1:00:42, 32.52s/it]"
     ]
    },
    {
     "name": "stdout",
     "output_type": "stream",
     "text": [
      "1189817 ['STARLINK-2269 (48447)', 'STARLINK-3391 (51117)']\n",
      "Running query for expnum394013\n"
     ]
    },
    {
     "name": "stderr",
     "output_type": "stream",
     "text": [
      "Buscando STARLINKs:  78%|██████████████████████████████████████████████████▌              | 389/500 [2:41:36<52:44, 28.51s/it]"
     ]
    },
    {
     "name": "stdout",
     "output_type": "stream",
     "text": [
      "394013 []\n",
      "Running query for expnum888112\n"
     ]
    },
    {
     "name": "stderr",
     "output_type": "stream",
     "text": [
      "Buscando STARLINKs:  78%|██████████████████████████████████████████████████▋              | 390/500 [2:42:07<53:58, 29.45s/it]"
     ]
    },
    {
     "name": "stdout",
     "output_type": "stream",
     "text": [
      "888112 []\n",
      "Running query for expnum711034\n"
     ]
    },
    {
     "name": "stderr",
     "output_type": "stream",
     "text": [
      "Buscando STARLINKs:  78%|██████████████████████████████████████████████████▊              | 391/500 [2:42:36<53:13, 29.30s/it]"
     ]
    },
    {
     "name": "stdout",
     "output_type": "stream",
     "text": [
      "711034 []\n",
      "Running query for expnum210453\n"
     ]
    },
    {
     "name": "stderr",
     "output_type": "stream",
     "text": [
      "Buscando STARLINKs:  78%|██████████████████████████████████████████████████▉              | 392/500 [2:42:59<49:23, 27.44s/it]"
     ]
    },
    {
     "name": "stdout",
     "output_type": "stream",
     "text": [
      "210453 []\n",
      "Running query for expnum335389\n"
     ]
    },
    {
     "name": "stderr",
     "output_type": "stream",
     "text": [
      "Buscando STARLINKs:  79%|███████████████████████████████████████████████████              | 393/500 [2:43:28<49:35, 27.81s/it]"
     ]
    },
    {
     "name": "stdout",
     "output_type": "stream",
     "text": [
      "335389 []\n",
      "Running query for expnum702867\n"
     ]
    },
    {
     "name": "stderr",
     "output_type": "stream",
     "text": [
      "Buscando STARLINKs:  79%|███████████████████████████████████████████████████▏             | 394/500 [2:43:57<49:34, 28.07s/it]"
     ]
    },
    {
     "name": "stdout",
     "output_type": "stream",
     "text": [
      "702867 []\n",
      "Running query for expnum883171\n"
     ]
    },
    {
     "name": "stderr",
     "output_type": "stream",
     "text": [
      "Buscando STARLINKs:  79%|███████████████████████████████████████████████████▎             | 395/500 [2:44:20<46:30, 26.58s/it]"
     ]
    },
    {
     "name": "stdout",
     "output_type": "stream",
     "text": [
      "883171 []\n",
      "Running query for expnum226094\n"
     ]
    },
    {
     "name": "stderr",
     "output_type": "stream",
     "text": [
      "Buscando STARLINKs:  79%|███████████████████████████████████████████████████▍             | 396/500 [2:44:46<45:56, 26.51s/it]"
     ]
    },
    {
     "name": "stdout",
     "output_type": "stream",
     "text": [
      "226094 []\n",
      "Running query for expnum596861\n"
     ]
    },
    {
     "name": "stderr",
     "output_type": "stream",
     "text": [
      "Buscando STARLINKs:  79%|███████████████████████████████████████████████████▌             | 397/500 [2:45:13<45:46, 26.66s/it]"
     ]
    },
    {
     "name": "stdout",
     "output_type": "stream",
     "text": [
      "596861 []\n",
      "Running query for expnum429425\n"
     ]
    },
    {
     "name": "stderr",
     "output_type": "stream",
     "text": [
      "Buscando STARLINKs:  80%|███████████████████████████████████████████████████▋             | 398/500 [2:45:46<48:33, 28.56s/it]"
     ]
    },
    {
     "name": "stdout",
     "output_type": "stream",
     "text": [
      "429425 []\n",
      "Running query for expnum248029\n"
     ]
    },
    {
     "name": "stderr",
     "output_type": "stream",
     "text": [
      "Buscando STARLINKs:  80%|███████████████████████████████████████████████████▊             | 399/500 [2:46:12<46:41, 27.74s/it]"
     ]
    },
    {
     "name": "stdout",
     "output_type": "stream",
     "text": [
      "248029 []\n",
      "Running query for expnum1016298\n"
     ]
    },
    {
     "name": "stderr",
     "output_type": "stream",
     "text": [
      "Buscando STARLINKs:  80%|████████████████████████████████████████████████████             | 400/500 [2:46:46<49:18, 29.59s/it]"
     ]
    },
    {
     "name": "stdout",
     "output_type": "stream",
     "text": [
      "1016298 []\n",
      "Running query for expnum672620\n"
     ]
    },
    {
     "name": "stderr",
     "output_type": "stream",
     "text": [
      "Buscando STARLINKs:  80%|████████████████████████████████████████████████████▏            | 401/500 [2:47:18<50:20, 30.51s/it]"
     ]
    },
    {
     "name": "stdout",
     "output_type": "stream",
     "text": [
      "672620 []\n",
      "Running query for expnum1035471\n"
     ]
    },
    {
     "name": "stderr",
     "output_type": "stream",
     "text": [
      "Buscando STARLINKs:  80%|████████████████████████████████████████████████████▎            | 402/500 [2:47:40<45:41, 27.98s/it]"
     ]
    },
    {
     "name": "stdout",
     "output_type": "stream",
     "text": [
      "1035471 ['STARLINK-1971 (47572)']\n",
      "Running query for expnum335127\n"
     ]
    },
    {
     "name": "stderr",
     "output_type": "stream",
     "text": [
      "Buscando STARLINKs:  81%|████████████████████████████████████████████████████▍            | 403/500 [2:48:04<43:00, 26.60s/it]"
     ]
    },
    {
     "name": "stdout",
     "output_type": "stream",
     "text": [
      "335127 []\n",
      "Running query for expnum1166828\n"
     ]
    },
    {
     "name": "stderr",
     "output_type": "stream",
     "text": [
      "Buscando STARLINKs:  81%|████████████████████████████████████████████████████▌            | 404/500 [2:48:34<44:06, 27.57s/it]"
     ]
    },
    {
     "name": "stdout",
     "output_type": "stream",
     "text": [
      "1166828 []\n",
      "Running query for expnum319123\n"
     ]
    },
    {
     "name": "stderr",
     "output_type": "stream",
     "text": [
      "Buscando STARLINKs:  81%|████████████████████████████████████████████████████▋            | 405/500 [2:48:53<39:36, 25.02s/it]"
     ]
    },
    {
     "name": "stdout",
     "output_type": "stream",
     "text": [
      "319123 []\n",
      "Running query for expnum191596\n"
     ]
    },
    {
     "name": "stderr",
     "output_type": "stream",
     "text": [
      "Buscando STARLINKs:  81%|████████████████████████████████████████████████████▊            | 406/500 [2:49:16<38:18, 24.45s/it]"
     ]
    },
    {
     "name": "stdout",
     "output_type": "stream",
     "text": [
      "191596 []\n",
      "Running query for expnum378903\n"
     ]
    },
    {
     "name": "stderr",
     "output_type": "stream",
     "text": [
      "Buscando STARLINKs:  81%|████████████████████████████████████████████████████▉            | 407/500 [2:49:39<37:19, 24.08s/it]"
     ]
    },
    {
     "name": "stdout",
     "output_type": "stream",
     "text": [
      "378903 []\n",
      "Running query for expnum1074073\n"
     ]
    },
    {
     "name": "stderr",
     "output_type": "stream",
     "text": [
      "Buscando STARLINKs:  82%|█████████████████████████████████████████████████████            | 408/500 [2:50:02<36:15, 23.65s/it]"
     ]
    },
    {
     "name": "stdout",
     "output_type": "stream",
     "text": [
      "1074073 ['STARLINK-2439 (48104)']\n",
      "Running query for expnum766151\n"
     ]
    },
    {
     "name": "stderr",
     "output_type": "stream",
     "text": [
      "Buscando STARLINKs:  82%|█████████████████████████████████████████████████████▏           | 409/500 [2:50:35<40:17, 26.57s/it]"
     ]
    },
    {
     "name": "stdout",
     "output_type": "stream",
     "text": [
      "766151 []\n",
      "Running query for expnum584439\n"
     ]
    },
    {
     "name": "stderr",
     "output_type": "stream",
     "text": [
      "Buscando STARLINKs:  82%|█████████████████████████████████████████████████████▎           | 410/500 [2:50:55<36:54, 24.61s/it]"
     ]
    },
    {
     "name": "stdout",
     "output_type": "stream",
     "text": [
      "584439 []\n",
      "Running query for expnum957364\n"
     ]
    },
    {
     "name": "stderr",
     "output_type": "stream",
     "text": [
      "Buscando STARLINKs:  82%|█████████████████████████████████████████████████████▍           | 411/500 [2:51:46<48:03, 32.40s/it]"
     ]
    },
    {
     "name": "stdout",
     "output_type": "stream",
     "text": [
      "957364 ['STARLINK-1352 (45536)']\n",
      "Running query for expnum741648\n"
     ]
    },
    {
     "name": "stderr",
     "output_type": "stream",
     "text": [
      "Buscando STARLINKs:  82%|█████████████████████████████████████████████████████▌           | 412/500 [2:52:20<48:10, 32.85s/it]"
     ]
    },
    {
     "name": "stdout",
     "output_type": "stream",
     "text": [
      "741648 []\n",
      "Running query for expnum1013194\n"
     ]
    },
    {
     "name": "stderr",
     "output_type": "stream",
     "text": [
      "Buscando STARLINKs:  83%|█████████████████████████████████████████████████████▋           | 413/500 [2:52:43<43:26, 29.96s/it]"
     ]
    },
    {
     "name": "stdout",
     "output_type": "stream",
     "text": [
      "1013194 []\n",
      "Running query for expnum949482\n"
     ]
    },
    {
     "name": "stderr",
     "output_type": "stream",
     "text": [
      "Buscando STARLINKs:  83%|█████████████████████████████████████████████████████▊           | 414/500 [2:53:27<48:55, 34.13s/it]"
     ]
    },
    {
     "name": "stdout",
     "output_type": "stream",
     "text": [
      "949482 []\n",
      "Running query for expnum275251\n"
     ]
    },
    {
     "name": "stderr",
     "output_type": "stream",
     "text": [
      "Buscando STARLINKs:  83%|█████████████████████████████████████████████████████▉           | 415/500 [2:53:57<46:38, 32.93s/it]"
     ]
    },
    {
     "name": "stdout",
     "output_type": "stream",
     "text": [
      "275251 []\n",
      "Running query for expnum394241\n"
     ]
    },
    {
     "name": "stderr",
     "output_type": "stream",
     "text": [
      "Buscando STARLINKs:  83%|██████████████████████████████████████████████████████           | 416/500 [2:54:22<42:58, 30.69s/it]"
     ]
    },
    {
     "name": "stdout",
     "output_type": "stream",
     "text": [
      "394241 []\n",
      "Running query for expnum290102\n"
     ]
    },
    {
     "name": "stderr",
     "output_type": "stream",
     "text": [
      "Buscando STARLINKs:  83%|██████████████████████████████████████████████████████▏          | 417/500 [2:54:52<41:52, 30.27s/it]"
     ]
    },
    {
     "name": "stdout",
     "output_type": "stream",
     "text": [
      "290102 []\n",
      "Running query for expnum487178\n"
     ]
    },
    {
     "name": "stderr",
     "output_type": "stream",
     "text": [
      "Buscando STARLINKs:  84%|██████████████████████████████████████████████████████▎          | 418/500 [2:55:17<39:15, 28.72s/it]"
     ]
    },
    {
     "name": "stdout",
     "output_type": "stream",
     "text": [
      "487178 []\n",
      "Running query for expnum695270\n"
     ]
    },
    {
     "name": "stderr",
     "output_type": "stream",
     "text": [
      "Buscando STARLINKs:  84%|██████████████████████████████████████████████████████▍          | 419/500 [2:55:51<40:52, 30.27s/it]"
     ]
    },
    {
     "name": "stdout",
     "output_type": "stream",
     "text": [
      "695270 []\n",
      "Running query for expnum827688\n"
     ]
    },
    {
     "name": "stderr",
     "output_type": "stream",
     "text": [
      "Buscando STARLINKs:  84%|██████████████████████████████████████████████████████▌          | 420/500 [2:56:38<47:18, 35.49s/it]"
     ]
    },
    {
     "name": "stdout",
     "output_type": "stream",
     "text": [
      "827688 []\n",
      "Running query for expnum260443\n"
     ]
    },
    {
     "name": "stderr",
     "output_type": "stream",
     "text": [
      "Buscando STARLINKs:  84%|██████████████████████████████████████████████████████▋          | 421/500 [2:57:00<41:20, 31.39s/it]"
     ]
    },
    {
     "name": "stdout",
     "output_type": "stream",
     "text": [
      "260443 []\n",
      "Running query for expnum755147\n"
     ]
    },
    {
     "name": "stderr",
     "output_type": "stream",
     "text": [
      "Buscando STARLINKs:  84%|██████████████████████████████████████████████████████▊          | 422/500 [2:57:30<40:10, 30.90s/it]"
     ]
    },
    {
     "name": "stdout",
     "output_type": "stream",
     "text": [
      "755147 []\n",
      "Running query for expnum942907\n"
     ]
    },
    {
     "name": "stderr",
     "output_type": "stream",
     "text": [
      "Buscando STARLINKs:  85%|██████████████████████████████████████████████████████▉          | 423/500 [2:58:06<41:43, 32.52s/it]"
     ]
    },
    {
     "name": "stdout",
     "output_type": "stream",
     "text": [
      "942907 []\n",
      "Running query for expnum820170\n"
     ]
    },
    {
     "name": "stderr",
     "output_type": "stream",
     "text": [
      "Buscando STARLINKs:  85%|███████████████████████████████████████████████████████          | 424/500 [2:58:38<40:46, 32.19s/it]"
     ]
    },
    {
     "name": "stdout",
     "output_type": "stream",
     "text": [
      "820170 []\n",
      "Running query for expnum394523\n"
     ]
    },
    {
     "name": "stderr",
     "output_type": "stream",
     "text": [
      "Buscando STARLINKs:  85%|███████████████████████████████████████████████████████▎         | 425/500 [2:59:02<37:18, 29.85s/it]"
     ]
    },
    {
     "name": "stdout",
     "output_type": "stream",
     "text": [
      "394523 []\n",
      "Running query for expnum985785\n"
     ]
    },
    {
     "name": "stderr",
     "output_type": "stream",
     "text": [
      "Buscando STARLINKs:  85%|███████████████████████████████████████████████████████▍         | 426/500 [2:59:27<35:03, 28.43s/it]"
     ]
    },
    {
     "name": "stdout",
     "output_type": "stream",
     "text": [
      "985785 []\n",
      "Running query for expnum364640\n"
     ]
    },
    {
     "name": "stderr",
     "output_type": "stream",
     "text": [
      "Buscando STARLINKs:  85%|███████████████████████████████████████████████████████▌         | 427/500 [2:59:56<34:50, 28.64s/it]"
     ]
    },
    {
     "name": "stdout",
     "output_type": "stream",
     "text": [
      "364640 []\n",
      "Running query for expnum708595\n"
     ]
    },
    {
     "name": "stderr",
     "output_type": "stream",
     "text": [
      "Buscando STARLINKs:  86%|███████████████████████████████████████████████████████▋         | 428/500 [3:00:32<36:46, 30.64s/it]"
     ]
    },
    {
     "name": "stdout",
     "output_type": "stream",
     "text": [
      "708595 []\n",
      "Running query for expnum853121\n"
     ]
    },
    {
     "name": "stderr",
     "output_type": "stream",
     "text": [
      "Buscando STARLINKs:  86%|███████████████████████████████████████████████████████▊         | 429/500 [3:01:04<36:45, 31.06s/it]"
     ]
    },
    {
     "name": "stdout",
     "output_type": "stream",
     "text": [
      "853121 []\n",
      "Running query for expnum902558\n"
     ]
    },
    {
     "name": "stderr",
     "output_type": "stream",
     "text": [
      "Buscando STARLINKs:  86%|███████████████████████████████████████████████████████▉         | 430/500 [3:01:46<40:09, 34.42s/it]"
     ]
    },
    {
     "name": "stdout",
     "output_type": "stream",
     "text": [
      "902558 []\n",
      "Running query for expnum1200540\n"
     ]
    },
    {
     "name": "stderr",
     "output_type": "stream",
     "text": [
      "Buscando STARLINKs:  86%|████████████████████████████████████████████████████████         | 431/500 [3:02:17<38:35, 33.55s/it]"
     ]
    },
    {
     "name": "stdout",
     "output_type": "stream",
     "text": [
      "1200540 []\n",
      "Running query for expnum1043635\n"
     ]
    },
    {
     "name": "stderr",
     "output_type": "stream",
     "text": [
      "Buscando STARLINKs:  86%|████████████████████████████████████████████████████████▏        | 432/500 [3:02:36<32:49, 28.96s/it]"
     ]
    },
    {
     "name": "stdout",
     "output_type": "stream",
     "text": [
      "1043635 []\n",
      "Running query for expnum298954\n"
     ]
    },
    {
     "name": "stderr",
     "output_type": "stream",
     "text": [
      "Buscando STARLINKs:  87%|████████████████████████████████████████████████████████▎        | 433/500 [3:03:11<34:24, 30.82s/it]"
     ]
    },
    {
     "name": "stdout",
     "output_type": "stream",
     "text": [
      "298954 []\n",
      "Running query for expnum716878\n"
     ]
    },
    {
     "name": "stderr",
     "output_type": "stream",
     "text": [
      "Buscando STARLINKs:  87%|████████████████████████████████████████████████████████▍        | 434/500 [3:03:40<33:15, 30.23s/it]"
     ]
    },
    {
     "name": "stdout",
     "output_type": "stream",
     "text": [
      "716878 []\n",
      "Running query for expnum244013\n"
     ]
    },
    {
     "name": "stderr",
     "output_type": "stream",
     "text": [
      "Buscando STARLINKs:  87%|████████████████████████████████████████████████████████▌        | 435/500 [3:04:02<30:19, 28.00s/it]"
     ]
    },
    {
     "name": "stdout",
     "output_type": "stream",
     "text": [
      "244013 []\n",
      "Running query for expnum157021\n"
     ]
    },
    {
     "name": "stderr",
     "output_type": "stream",
     "text": [
      "Buscando STARLINKs:  87%|████████████████████████████████████████████████████████▋        | 436/500 [3:04:28<29:08, 27.31s/it]"
     ]
    },
    {
     "name": "stdout",
     "output_type": "stream",
     "text": [
      "157021 []\n",
      "Running query for expnum253205\n"
     ]
    },
    {
     "name": "stderr",
     "output_type": "stream",
     "text": [
      "Buscando STARLINKs:  87%|████████████████████████████████████████████████████████▊        | 437/500 [3:04:48<26:28, 25.22s/it]"
     ]
    },
    {
     "name": "stdout",
     "output_type": "stream",
     "text": [
      "253205 []\n",
      "Running query for expnum547765\n"
     ]
    },
    {
     "name": "stderr",
     "output_type": "stream",
     "text": [
      "Buscando STARLINKs:  88%|████████████████████████████████████████████████████████▉        | 438/500 [3:05:20<27:53, 26.99s/it]"
     ]
    },
    {
     "name": "stdout",
     "output_type": "stream",
     "text": [
      "547765 []\n",
      "Running query for expnum656908\n"
     ]
    },
    {
     "name": "stderr",
     "output_type": "stream",
     "text": [
      "Buscando STARLINKs:  88%|█████████████████████████████████████████████████████████        | 439/500 [3:05:45<26:54, 26.46s/it]"
     ]
    },
    {
     "name": "stdout",
     "output_type": "stream",
     "text": [
      "656908 []\n",
      "Running query for expnum273169\n"
     ]
    },
    {
     "name": "stderr",
     "output_type": "stream",
     "text": [
      "Buscando STARLINKs:  88%|█████████████████████████████████████████████████████████▏       | 440/500 [3:06:05<24:44, 24.74s/it]"
     ]
    },
    {
     "name": "stdout",
     "output_type": "stream",
     "text": [
      "273169 []\n",
      "Running query for expnum1013067\n"
     ]
    },
    {
     "name": "stderr",
     "output_type": "stream",
     "text": [
      "Buscando STARLINKs:  88%|█████████████████████████████████████████████████████████▎       | 441/500 [3:06:30<24:10, 24.59s/it]"
     ]
    },
    {
     "name": "stdout",
     "output_type": "stream",
     "text": [
      "1013067 []\n",
      "Running query for expnum890768\n"
     ]
    },
    {
     "name": "stderr",
     "output_type": "stream",
     "text": [
      "Buscando STARLINKs:  88%|█████████████████████████████████████████████████████████▍       | 442/500 [3:07:06<27:13, 28.17s/it]"
     ]
    },
    {
     "name": "stdout",
     "output_type": "stream",
     "text": [
      "890768 []\n",
      "Running query for expnum653930\n"
     ]
    },
    {
     "name": "stderr",
     "output_type": "stream",
     "text": [
      "Buscando STARLINKs:  89%|█████████████████████████████████████████████████████████▌       | 443/500 [3:07:28<24:54, 26.22s/it]"
     ]
    },
    {
     "name": "stdout",
     "output_type": "stream",
     "text": [
      "653930 []\n",
      "Running query for expnum176499\n"
     ]
    },
    {
     "name": "stderr",
     "output_type": "stream",
     "text": [
      "Buscando STARLINKs:  89%|█████████████████████████████████████████████████████████▋       | 444/500 [3:07:48<22:50, 24.48s/it]"
     ]
    },
    {
     "name": "stdout",
     "output_type": "stream",
     "text": [
      "176499 []\n",
      "Running query for expnum351685\n"
     ]
    },
    {
     "name": "stderr",
     "output_type": "stream",
     "text": [
      "Buscando STARLINKs:  89%|█████████████████████████████████████████████████████████▊       | 445/500 [3:08:18<23:51, 26.04s/it]"
     ]
    },
    {
     "name": "stdout",
     "output_type": "stream",
     "text": [
      "351685 []\n",
      "Running query for expnum939260\n"
     ]
    },
    {
     "name": "stderr",
     "output_type": "stream",
     "text": [
      "Buscando STARLINKs:  89%|█████████████████████████████████████████████████████████▉       | 446/500 [3:08:56<26:38, 29.60s/it]"
     ]
    },
    {
     "name": "stdout",
     "output_type": "stream",
     "text": [
      "939260 []\n",
      "Running query for expnum731432\n"
     ]
    },
    {
     "name": "stderr",
     "output_type": "stream",
     "text": [
      "Buscando STARLINKs:  89%|██████████████████████████████████████████████████████████       | 447/500 [3:09:33<28:04, 31.78s/it]"
     ]
    },
    {
     "name": "stdout",
     "output_type": "stream",
     "text": [
      "731432 []\n",
      "Running query for expnum526372\n"
     ]
    },
    {
     "name": "stderr",
     "output_type": "stream",
     "text": [
      "Buscando STARLINKs:  90%|██████████████████████████████████████████████████████████▏      | 448/500 [3:09:58<25:47, 29.77s/it]"
     ]
    },
    {
     "name": "stdout",
     "output_type": "stream",
     "text": [
      "526372 []\n",
      "Running query for expnum1194222\n"
     ]
    },
    {
     "name": "stderr",
     "output_type": "stream",
     "text": [
      "Buscando STARLINKs:  90%|██████████████████████████████████████████████████████████▎      | 449/500 [3:10:32<26:20, 30.99s/it]"
     ]
    },
    {
     "name": "stdout",
     "output_type": "stream",
     "text": [
      "1194222 []\n",
      "Running query for expnum1162423\n"
     ]
    },
    {
     "name": "stderr",
     "output_type": "stream",
     "text": [
      "Buscando STARLINKs:  90%|██████████████████████████████████████████████████████████▌      | 450/500 [3:10:56<24:08, 28.97s/it]"
     ]
    },
    {
     "name": "stdout",
     "output_type": "stream",
     "text": [
      "1162423 ['STARLINK-3356 (51133)']\n",
      "Running query for expnum533689\n"
     ]
    },
    {
     "name": "stderr",
     "output_type": "stream",
     "text": [
      "Buscando STARLINKs:  90%|██████████████████████████████████████████████████████████▋      | 451/500 [3:11:16<21:33, 26.39s/it]"
     ]
    },
    {
     "name": "stdout",
     "output_type": "stream",
     "text": [
      "533689 []\n",
      "Running query for expnum1166793\n"
     ]
    },
    {
     "name": "stderr",
     "output_type": "stream",
     "text": [
      "Buscando STARLINKs:  90%|██████████████████████████████████████████████████████████▊      | 452/500 [3:11:34<19:07, 23.90s/it]"
     ]
    },
    {
     "name": "stdout",
     "output_type": "stream",
     "text": [
      "1166793 ['STARLINK-1195 (45102)', 'STARLINK-3301 (50169)']\n",
      "Running query for expnum333569\n"
     ]
    },
    {
     "name": "stderr",
     "output_type": "stream",
     "text": [
      "Buscando STARLINKs:  91%|██████████████████████████████████████████████████████████▉      | 453/500 [3:12:02<19:40, 25.12s/it]"
     ]
    },
    {
     "name": "stdout",
     "output_type": "stream",
     "text": [
      "333569 []\n",
      "Running query for expnum1137825\n"
     ]
    },
    {
     "name": "stderr",
     "output_type": "stream",
     "text": [
      "Buscando STARLINKs:  91%|███████████████████████████████████████████████████████████      | 454/500 [3:12:28<19:21, 25.26s/it]"
     ]
    },
    {
     "name": "stdout",
     "output_type": "stream",
     "text": [
      "1137825 ['STARLINK-1233 (45214)', 'STARLINK-1245 (45215)', 'STARLINK-4341 (53052)']\n",
      "Running query for expnum144700\n"
     ]
    },
    {
     "name": "stderr",
     "output_type": "stream",
     "text": [
      "Buscando STARLINKs:  91%|███████████████████████████████████████████████████████████▏     | 455/500 [3:12:54<19:12, 25.61s/it]"
     ]
    },
    {
     "name": "stdout",
     "output_type": "stream",
     "text": [
      "144700 []\n",
      "Running query for expnum502342\n"
     ]
    },
    {
     "name": "stderr",
     "output_type": "stream",
     "text": [
      "Buscando STARLINKs:  91%|███████████████████████████████████████████████████████████▎     | 456/500 [3:13:25<19:53, 27.13s/it]"
     ]
    },
    {
     "name": "stdout",
     "output_type": "stream",
     "text": [
      "502342 []\n",
      "Running query for expnum551212\n"
     ]
    },
    {
     "name": "stderr",
     "output_type": "stream",
     "text": [
      "Buscando STARLINKs:  91%|███████████████████████████████████████████████████████████▍     | 457/500 [3:13:54<19:52, 27.73s/it]"
     ]
    },
    {
     "name": "stdout",
     "output_type": "stream",
     "text": [
      "551212 []\n",
      "Running query for expnum604394\n"
     ]
    },
    {
     "name": "stderr",
     "output_type": "stream",
     "text": [
      "Buscando STARLINKs:  92%|███████████████████████████████████████████████████████████▌     | 458/500 [3:14:21<19:12, 27.44s/it]"
     ]
    },
    {
     "name": "stdout",
     "output_type": "stream",
     "text": [
      "604394 []\n",
      "Running query for expnum698516\n"
     ]
    },
    {
     "name": "stderr",
     "output_type": "stream",
     "text": [
      "Buscando STARLINKs:  92%|███████████████████████████████████████████████████████████▋     | 459/500 [3:14:53<19:42, 28.85s/it]"
     ]
    },
    {
     "name": "stdout",
     "output_type": "stream",
     "text": [
      "698516 []\n",
      "Running query for expnum437943\n"
     ]
    },
    {
     "name": "stderr",
     "output_type": "stream",
     "text": [
      "Buscando STARLINKs:  92%|███████████████████████████████████████████████████████████▊     | 460/500 [3:15:23<19:25, 29.15s/it]"
     ]
    },
    {
     "name": "stdout",
     "output_type": "stream",
     "text": [
      "437943 []\n",
      "Running query for expnum609084\n"
     ]
    },
    {
     "name": "stderr",
     "output_type": "stream",
     "text": [
      "Buscando STARLINKs:  92%|███████████████████████████████████████████████████████████▉     | 461/500 [3:15:41<16:43, 25.74s/it]"
     ]
    },
    {
     "name": "stdout",
     "output_type": "stream",
     "text": [
      "609084 []\n",
      "Running query for expnum992118\n"
     ]
    },
    {
     "name": "stderr",
     "output_type": "stream",
     "text": [
      "Buscando STARLINKs:  92%|████████████████████████████████████████████████████████████     | 462/500 [3:16:05<16:00, 25.27s/it]"
     ]
    },
    {
     "name": "stdout",
     "output_type": "stream",
     "text": [
      "992118 []\n",
      "Running query for expnum295326\n"
     ]
    },
    {
     "name": "stderr",
     "output_type": "stream",
     "text": [
      "Buscando STARLINKs:  93%|████████████████████████████████████████████████████████████▏    | 463/500 [3:16:37<16:48, 27.26s/it]"
     ]
    },
    {
     "name": "stdout",
     "output_type": "stream",
     "text": [
      "295326 []\n",
      "Running query for expnum987998\n"
     ]
    },
    {
     "name": "stderr",
     "output_type": "stream",
     "text": [
      "Buscando STARLINKs:  93%|████████████████████████████████████████████████████████████▎    | 464/500 [3:16:45<12:50, 21.41s/it]"
     ]
    },
    {
     "name": "stdout",
     "output_type": "stream",
     "text": [
      "987998 []\n",
      "Running query for expnum673025\n"
     ]
    },
    {
     "name": "stderr",
     "output_type": "stream",
     "text": [
      "Buscando STARLINKs:  93%|████████████████████████████████████████████████████████████▍    | 465/500 [3:17:16<14:15, 24.45s/it]"
     ]
    },
    {
     "name": "stdout",
     "output_type": "stream",
     "text": [
      "673025 []\n",
      "Running query for expnum1125268\n"
     ]
    },
    {
     "name": "stderr",
     "output_type": "stream",
     "text": [
      "Buscando STARLINKs:  93%|████████████████████████████████████████████████████████████▌    | 466/500 [3:17:37<13:18, 23.49s/it]"
     ]
    },
    {
     "name": "stdout",
     "output_type": "stream",
     "text": [
      "1125268 ['STARLINK-2024 (47606)', 'STARLINK-2557 (48299)', 'STARLINK-3578 (51868)', 'STARLINK-3717 (52096)']\n",
      "Running query for expnum875306\n"
     ]
    },
    {
     "name": "stderr",
     "output_type": "stream",
     "text": [
      "Buscando STARLINKs:  93%|████████████████████████████████████████████████████████████▋    | 467/500 [3:18:11<14:36, 26.56s/it]"
     ]
    },
    {
     "name": "stdout",
     "output_type": "stream",
     "text": [
      "875306 []\n",
      "Running query for expnum545156\n"
     ]
    },
    {
     "name": "stderr",
     "output_type": "stream",
     "text": [
      "Buscando STARLINKs:  94%|████████████████████████████████████████████████████████████▊    | 468/500 [3:18:39<14:25, 27.06s/it]"
     ]
    },
    {
     "name": "stdout",
     "output_type": "stream",
     "text": [
      "545156 []\n",
      "Running query for expnum664032\n"
     ]
    },
    {
     "name": "stderr",
     "output_type": "stream",
     "text": [
      "Buscando STARLINKs:  94%|████████████████████████████████████████████████████████████▉    | 469/500 [3:19:07<14:05, 27.26s/it]"
     ]
    },
    {
     "name": "stdout",
     "output_type": "stream",
     "text": [
      "664032 []\n",
      "Running query for expnum382018\n"
     ]
    },
    {
     "name": "stderr",
     "output_type": "stream",
     "text": [
      "Buscando STARLINKs:  94%|█████████████████████████████████████████████████████████████    | 470/500 [3:19:30<13:00, 26.03s/it]"
     ]
    },
    {
     "name": "stdout",
     "output_type": "stream",
     "text": [
      "382018 []\n",
      "Running query for expnum681140\n"
     ]
    },
    {
     "name": "stderr",
     "output_type": "stream",
     "text": [
      "Buscando STARLINKs:  94%|█████████████████████████████████████████████████████████████▏   | 471/500 [3:19:56<12:36, 26.08s/it]"
     ]
    },
    {
     "name": "stdout",
     "output_type": "stream",
     "text": [
      "681140 []\n",
      "Running query for expnum702724\n"
     ]
    },
    {
     "name": "stderr",
     "output_type": "stream",
     "text": [
      "Buscando STARLINKs:  94%|█████████████████████████████████████████████████████████████▎   | 472/500 [3:20:29<13:01, 27.93s/it]"
     ]
    },
    {
     "name": "stdout",
     "output_type": "stream",
     "text": [
      "702724 []\n",
      "Running query for expnum584877\n"
     ]
    },
    {
     "name": "stderr",
     "output_type": "stream",
     "text": [
      "Buscando STARLINKs:  95%|█████████████████████████████████████████████████████████████▍   | 473/500 [3:20:53<12:05, 26.88s/it]"
     ]
    },
    {
     "name": "stdout",
     "output_type": "stream",
     "text": [
      "584877 []\n",
      "Running query for expnum142431\n"
     ]
    },
    {
     "name": "stderr",
     "output_type": "stream",
     "text": [
      "Buscando STARLINKs:  95%|█████████████████████████████████████████████████████████████▌   | 474/500 [3:21:21<11:45, 27.14s/it]"
     ]
    },
    {
     "name": "stdout",
     "output_type": "stream",
     "text": [
      "142431 []\n",
      "Running query for expnum694683\n"
     ]
    },
    {
     "name": "stderr",
     "output_type": "stream",
     "text": [
      "Buscando STARLINKs:  95%|█████████████████████████████████████████████████████████████▊   | 475/500 [3:21:46<11:02, 26.51s/it]"
     ]
    },
    {
     "name": "stdout",
     "output_type": "stream",
     "text": [
      "694683 []\n",
      "Running query for expnum425358\n"
     ]
    },
    {
     "name": "stderr",
     "output_type": "stream",
     "text": [
      "Buscando STARLINKs:  95%|█████████████████████████████████████████████████████████████▉   | 476/500 [3:22:15<10:54, 27.27s/it]"
     ]
    },
    {
     "name": "stdout",
     "output_type": "stream",
     "text": [
      "425358 []\n",
      "Running query for expnum497107\n"
     ]
    },
    {
     "name": "stderr",
     "output_type": "stream",
     "text": [
      "Buscando STARLINKs:  95%|██████████████████████████████████████████████████████████████   | 477/500 [3:22:42<10:27, 27.30s/it]"
     ]
    },
    {
     "name": "stdout",
     "output_type": "stream",
     "text": [
      "497107 []\n",
      "Running query for expnum313103\n"
     ]
    },
    {
     "name": "stderr",
     "output_type": "stream",
     "text": [
      "Buscando STARLINKs:  96%|██████████████████████████████████████████████████████████████▏  | 478/500 [3:23:07<09:41, 26.44s/it]"
     ]
    },
    {
     "name": "stdout",
     "output_type": "stream",
     "text": [
      "313103 []\n",
      "Running query for expnum746429\n"
     ]
    },
    {
     "name": "stderr",
     "output_type": "stream",
     "text": [
      "Buscando STARLINKs:  96%|██████████████████████████████████████████████████████████████▎  | 479/500 [3:23:44<10:23, 29.67s/it]"
     ]
    },
    {
     "name": "stdout",
     "output_type": "stream",
     "text": [
      "746429 []\n",
      "Running query for expnum851582\n"
     ]
    },
    {
     "name": "stderr",
     "output_type": "stream",
     "text": [
      "Buscando STARLINKs:  96%|██████████████████████████████████████████████████████████████▍  | 480/500 [3:24:18<10:19, 30.96s/it]"
     ]
    },
    {
     "name": "stdout",
     "output_type": "stream",
     "text": [
      "851582 []\n",
      "Running query for expnum142091\n"
     ]
    },
    {
     "name": "stderr",
     "output_type": "stream",
     "text": [
      "Buscando STARLINKs:  96%|██████████████████████████████████████████████████████████████▌  | 481/500 [3:24:25<07:31, 23.77s/it]"
     ]
    },
    {
     "name": "stdout",
     "output_type": "stream",
     "text": [
      "142091 []\n",
      "Running query for expnum1187891\n"
     ]
    },
    {
     "name": "stderr",
     "output_type": "stream",
     "text": [
      "Buscando STARLINKs:  96%|██████████████████████████████████████████████████████████████▋  | 482/500 [3:25:07<08:48, 29.38s/it]"
     ]
    },
    {
     "name": "stdout",
     "output_type": "stream",
     "text": [
      "1187891 []\n",
      "Running query for expnum477388\n"
     ]
    },
    {
     "name": "stderr",
     "output_type": "stream",
     "text": [
      "Buscando STARLINKs:  97%|██████████████████████████████████████████████████████████████▊  | 483/500 [3:25:33<08:00, 28.24s/it]"
     ]
    },
    {
     "name": "stdout",
     "output_type": "stream",
     "text": [
      "477388 []\n",
      "Running query for expnum378533\n"
     ]
    },
    {
     "name": "stderr",
     "output_type": "stream",
     "text": [
      "Buscando STARLINKs:  97%|██████████████████████████████████████████████████████████████▉  | 484/500 [3:25:56<07:06, 26.65s/it]"
     ]
    },
    {
     "name": "stdout",
     "output_type": "stream",
     "text": [
      "378533 []\n",
      "Running query for expnum292175\n"
     ]
    },
    {
     "name": "stderr",
     "output_type": "stream",
     "text": [
      "Buscando STARLINKs:  97%|███████████████████████████████████████████████████████████████  | 485/500 [3:26:18<06:17, 25.19s/it]"
     ]
    },
    {
     "name": "stdout",
     "output_type": "stream",
     "text": [
      "292175 []\n",
      "Running query for expnum703164\n"
     ]
    },
    {
     "name": "stderr",
     "output_type": "stream",
     "text": [
      "Buscando STARLINKs:  97%|███████████████████████████████████████████████████████████████▏ | 486/500 [3:26:47<06:09, 26.42s/it]"
     ]
    },
    {
     "name": "stdout",
     "output_type": "stream",
     "text": [
      "703164 []\n",
      "Running query for expnum747949\n"
     ]
    },
    {
     "name": "stderr",
     "output_type": "stream",
     "text": [
      "Buscando STARLINKs:  97%|███████████████████████████████████████████████████████████████▎ | 487/500 [3:26:58<04:41, 21.66s/it]"
     ]
    },
    {
     "name": "stdout",
     "output_type": "stream",
     "text": [
      "747949 []\n",
      "Running query for expnum260120\n"
     ]
    },
    {
     "name": "stderr",
     "output_type": "stream",
     "text": [
      "Buscando STARLINKs:  98%|███████████████████████████████████████████████████████████████▍ | 488/500 [3:27:19<04:20, 21.74s/it]"
     ]
    },
    {
     "name": "stdout",
     "output_type": "stream",
     "text": [
      "260120 []\n",
      "Running query for expnum1225447\n"
     ]
    },
    {
     "name": "stderr",
     "output_type": "stream",
     "text": [
      "Buscando STARLINKs:  98%|███████████████████████████████████████████████████████████████▌ | 489/500 [3:27:51<04:30, 24.64s/it]"
     ]
    },
    {
     "name": "stdout",
     "output_type": "stream",
     "text": [
      "1225447 []\n",
      "Running query for expnum783672\n"
     ]
    },
    {
     "name": "stderr",
     "output_type": "stream",
     "text": [
      "Buscando STARLINKs:  98%|███████████████████████████████████████████████████████████████▋ | 490/500 [3:28:24<04:31, 27.12s/it]"
     ]
    },
    {
     "name": "stdout",
     "output_type": "stream",
     "text": [
      "783672 []\n",
      "Running query for expnum977486\n"
     ]
    },
    {
     "name": "stderr",
     "output_type": "stream",
     "text": [
      "Buscando STARLINKs:  98%|███████████████████████████████████████████████████████████████▊ | 491/500 [3:28:45<03:48, 25.40s/it]"
     ]
    },
    {
     "name": "stdout",
     "output_type": "stream",
     "text": [
      "977486 []\n",
      "Running query for expnum780238\n"
     ]
    },
    {
     "name": "stderr",
     "output_type": "stream",
     "text": [
      "Buscando STARLINKs:  98%|███████████████████████████████████████████████████████████████▉ | 492/500 [3:29:01<02:59, 22.48s/it]"
     ]
    },
    {
     "name": "stdout",
     "output_type": "stream",
     "text": [
      "780238 []\n",
      "Running query for expnum200950\n"
     ]
    },
    {
     "name": "stderr",
     "output_type": "stream",
     "text": [
      "Buscando STARLINKs:  99%|████████████████████████████████████████████████████████████████ | 493/500 [3:29:21<02:33, 21.93s/it]"
     ]
    },
    {
     "name": "stdout",
     "output_type": "stream",
     "text": [
      "200950 []\n",
      "Running query for expnum422244\n"
     ]
    },
    {
     "name": "stderr",
     "output_type": "stream",
     "text": [
      "Buscando STARLINKs:  99%|████████████████████████████████████████████████████████████████▏| 494/500 [3:29:45<02:13, 22.33s/it]"
     ]
    },
    {
     "name": "stdout",
     "output_type": "stream",
     "text": [
      "422244 []\n",
      "Running query for expnum652812\n"
     ]
    },
    {
     "name": "stderr",
     "output_type": "stream",
     "text": [
      "Buscando STARLINKs:  99%|████████████████████████████████████████████████████████████████▎| 495/500 [3:30:09<01:54, 22.92s/it]"
     ]
    },
    {
     "name": "stdout",
     "output_type": "stream",
     "text": [
      "652812 []\n",
      "Running query for expnum334237\n"
     ]
    },
    {
     "name": "stderr",
     "output_type": "stream",
     "text": [
      "Buscando STARLINKs:  99%|████████████████████████████████████████████████████████████████▍| 496/500 [3:30:34<01:34, 23.67s/it]"
     ]
    },
    {
     "name": "stdout",
     "output_type": "stream",
     "text": [
      "334237 []\n",
      "Running query for expnum247131\n"
     ]
    },
    {
     "name": "stderr",
     "output_type": "stream",
     "text": [
      "Buscando STARLINKs:  99%|████████████████████████████████████████████████████████████████▌| 497/500 [3:30:56<01:09, 23.07s/it]"
     ]
    },
    {
     "name": "stdout",
     "output_type": "stream",
     "text": [
      "247131 []\n",
      "Running query for expnum1199112\n"
     ]
    },
    {
     "name": "stderr",
     "output_type": "stream",
     "text": [
      "Buscando STARLINKs: 100%|████████████████████████████████████████████████████████████████▋| 498/500 [3:31:21<00:47, 23.54s/it]"
     ]
    },
    {
     "name": "stdout",
     "output_type": "stream",
     "text": [
      "1199112 []\n",
      "Running query for expnum956054\n"
     ]
    },
    {
     "name": "stderr",
     "output_type": "stream",
     "text": [
      "Buscando STARLINKs: 100%|████████████████████████████████████████████████████████████████▊| 499/500 [3:32:04<00:29, 29.61s/it]"
     ]
    },
    {
     "name": "stdout",
     "output_type": "stream",
     "text": [
      "956054 []\n",
      "Running query for expnum686161\n"
     ]
    },
    {
     "name": "stderr",
     "output_type": "stream",
     "text": [
      "Buscando STARLINKs: 100%|█████████████████████████████████████████████████████████████████| 500/500 [3:32:34<00:00, 25.51s/it]"
     ]
    },
    {
     "name": "stdout",
     "output_type": "stream",
     "text": [
      "686161 []\n",
      "    EXPNUM                                          starlinks\n",
      "0  1040330     [STARLINK-1103 (44921), STARLINK-1551 (46075)]\n",
      "1  1108541  [STARLINK-1275 (45407), STARLINK-2379 (47798),...\n",
      "2  1135189                            [STARLINK-1061 (44766)]\n",
      "3  1185213                            [STARLINK-2592 (48408)]\n",
      "4  1224660     [STARLINK-2407 (47822), STARLINK-4589 (53746)]\n"
     ]
    },
    {
     "name": "stderr",
     "output_type": "stream",
     "text": [
      "\n"
     ]
    }
   ],
   "source": [
    "for exp in tqdm(expnumtry, desc=\"Buscando STARLINKs\"):\n",
    "    #fila = telemetry1_filtrado[telemetry1_filtrado['EXPNUM'] == exp].iloc[0] #row\n",
    "    fila = telemetry1[telemetry1['EXPNUM'] == exp].iloc[0] #row\n",
    "\n",
    "    #print(fila)\n",
    "    try:\n",
    "        ra = fila['RA']\n",
    "        dec = fila['DEC']\n",
    "        latitude = fila ['OBS-LAT']\n",
    "        longitude = fila['OBS-LONG']\n",
    "        elevation = fila['OBS-ELEV']\n",
    "        exptime = fila['EXPTIME']\n",
    "        timeobs = fila['TIME-OBS']\n",
    "        dateobs = fila['DATE-OBS']\n",
    "        duration = fila['EXPTIME']\n",
    "        start_time_jd = Time(fila['DATE-OBS']).jd\n",
    "\n",
    "        # Conversión de coordenadas y fecha\n",
    "        coord = SkyCoord(ra=fila['RA'], dec=fila['DEC'], unit=u.deg)\n",
    "        ra_center = coord.icrs.ra.value\n",
    "        dec_center = coord.icrs.dec.value\n",
    "        print(f\"Running query for expnum{exp}\")\n",
    "        \n",
    "        # URL para la API\n",
    "        url = f\"https://dev.satchecker.cps.iau.noirlab.edu/fov/satellite-passes/?latitude={latitude}&longitude={longitude}&elevation={elevation}&start_time_jd={start_time_jd}&duration={duration}&ra={ra_center}&dec={dec_center}&fov_radius={fov_radius}&group_by=satellite\"\n",
    "        response = requests.get(url, timeout=60)\n",
    "        response.raise_for_status()\n",
    "        data = response.json()['data']['satellites']            \n",
    "        \n",
    "        # Guardar todos los satélites si quieres\n",
    "        todos_satelites[exp] = list(data.keys())\n",
    "\n",
    "        # Filtrar Starlink\n",
    "        starlinks = [sat for sat in data if 'STARLINK' in sat.upper()]  # It was hard to find STARLINKs in a small sample, so I tried with COSMOS instead, they seem more common\n",
    "        print(exp, starlinks)\n",
    "        if starlinks:\n",
    "            expnum_starlink.append(exp)\n",
    "            starlinks_en_exp.append(starlinks)\n",
    "\n",
    "    except Exception as e:\n",
    "        print(f\"⚠️ Error en expnum {exp}: {e}\")\n",
    "        continue\n",
    "\n",
    "# Crear DataFrame con resultados\n",
    "df_starlink = pd.DataFrame({\n",
    "    'EXPNUM': expnum_starlink,\n",
    "    'starlinks': starlinks_en_exp\n",
    "})\n",
    "\n",
    "# Vista rápida\n",
    "print(df_starlink.head())"
   ]
  },
  {
   "cell_type": "code",
   "execution_count": 19,
   "id": "2997dec0",
   "metadata": {
    "scrolled": true
   },
   "outputs": [
    {
     "data": {
      "text/html": [
       "<div>\n",
       "<style scoped>\n",
       "    .dataframe tbody tr th:only-of-type {\n",
       "        vertical-align: middle;\n",
       "    }\n",
       "\n",
       "    .dataframe tbody tr th {\n",
       "        vertical-align: top;\n",
       "    }\n",
       "\n",
       "    .dataframe thead th {\n",
       "        text-align: right;\n",
       "    }\n",
       "</style>\n",
       "<table border=\"1\" class=\"dataframe\">\n",
       "  <thead>\n",
       "    <tr style=\"text-align: right;\">\n",
       "      <th></th>\n",
       "      <th>EXPNUM</th>\n",
       "      <th>starlinks</th>\n",
       "    </tr>\n",
       "  </thead>\n",
       "  <tbody>\n",
       "    <tr>\n",
       "      <th>0</th>\n",
       "      <td>1040330</td>\n",
       "      <td>[STARLINK-1103 (44921), STARLINK-1551 (46075)]</td>\n",
       "    </tr>\n",
       "    <tr>\n",
       "      <th>1</th>\n",
       "      <td>1108541</td>\n",
       "      <td>[STARLINK-1275 (45407), STARLINK-2379 (47798),...</td>\n",
       "    </tr>\n",
       "    <tr>\n",
       "      <th>2</th>\n",
       "      <td>1135189</td>\n",
       "      <td>[STARLINK-1061 (44766)]</td>\n",
       "    </tr>\n",
       "    <tr>\n",
       "      <th>3</th>\n",
       "      <td>1185213</td>\n",
       "      <td>[STARLINK-2592 (48408)]</td>\n",
       "    </tr>\n",
       "    <tr>\n",
       "      <th>4</th>\n",
       "      <td>1224660</td>\n",
       "      <td>[STARLINK-2407 (47822), STARLINK-4589 (53746)]</td>\n",
       "    </tr>\n",
       "    <tr>\n",
       "      <th>5</th>\n",
       "      <td>984831</td>\n",
       "      <td>[STARLINK-1032 (44737), STARLINK-1034 (44739)]</td>\n",
       "    </tr>\n",
       "    <tr>\n",
       "      <th>6</th>\n",
       "      <td>959772</td>\n",
       "      <td>[STARLINK-1495 (45761)]</td>\n",
       "    </tr>\n",
       "    <tr>\n",
       "      <th>7</th>\n",
       "      <td>981951</td>\n",
       "      <td>[STARLINK-1699 (46548)]</td>\n",
       "    </tr>\n",
       "    <tr>\n",
       "      <th>8</th>\n",
       "      <td>1054799</td>\n",
       "      <td>[STARLINK-2319 (47790)]</td>\n",
       "    </tr>\n",
       "    <tr>\n",
       "      <th>9</th>\n",
       "      <td>1078921</td>\n",
       "      <td>[STARLINK-1377 (45547), STARLINK-3108 (49439)]</td>\n",
       "    </tr>\n",
       "    <tr>\n",
       "      <th>10</th>\n",
       "      <td>1112937</td>\n",
       "      <td>[STARLINK-3852 (52345)]</td>\n",
       "    </tr>\n",
       "    <tr>\n",
       "      <th>11</th>\n",
       "      <td>1076601</td>\n",
       "      <td>[STARLINK-1050 (44755), STARLINK-1328 (45576)]</td>\n",
       "    </tr>\n",
       "    <tr>\n",
       "      <th>12</th>\n",
       "      <td>1165873</td>\n",
       "      <td>[STARLINK-1917 (46767), STARLINK-3612 (51770),...</td>\n",
       "    </tr>\n",
       "    <tr>\n",
       "      <th>13</th>\n",
       "      <td>1110650</td>\n",
       "      <td>[STARLINK-2044 (47660), STARLINK-3370 (51127)]</td>\n",
       "    </tr>\n",
       "    <tr>\n",
       "      <th>14</th>\n",
       "      <td>1189827</td>\n",
       "      <td>[STARLINK-1625 (46131)]</td>\n",
       "    </tr>\n",
       "    <tr>\n",
       "      <th>15</th>\n",
       "      <td>1125097</td>\n",
       "      <td>[STARLINK-4149 (53290), STARLINK-4165 (53286),...</td>\n",
       "    </tr>\n",
       "    <tr>\n",
       "      <th>16</th>\n",
       "      <td>950681</td>\n",
       "      <td>[STARLINK-1113 (44926)]</td>\n",
       "    </tr>\n",
       "    <tr>\n",
       "      <th>17</th>\n",
       "      <td>1085683</td>\n",
       "      <td>[STARLINK-1919 (46769)]</td>\n",
       "    </tr>\n",
       "    <tr>\n",
       "      <th>18</th>\n",
       "      <td>1074004</td>\n",
       "      <td>[STARLINK-3118 (49140)]</td>\n",
       "    </tr>\n",
       "    <tr>\n",
       "      <th>19</th>\n",
       "      <td>1227123</td>\n",
       "      <td>[STARLINK-2675 (48470), STARLINK-2683 (48462),...</td>\n",
       "    </tr>\n",
       "    <tr>\n",
       "      <th>20</th>\n",
       "      <td>1215983</td>\n",
       "      <td>[STARLINK-2094 (47375)]</td>\n",
       "    </tr>\n",
       "    <tr>\n",
       "      <th>21</th>\n",
       "      <td>1057443</td>\n",
       "      <td>[STARLINK-2185 (47767)]</td>\n",
       "    </tr>\n",
       "    <tr>\n",
       "      <th>22</th>\n",
       "      <td>1074544</td>\n",
       "      <td>[STARLINK-1262 (45366)]</td>\n",
       "    </tr>\n",
       "    <tr>\n",
       "      <th>23</th>\n",
       "      <td>1189811</td>\n",
       "      <td>[STARLINK-4174 (53276), STARLINK-4799 (53860)]</td>\n",
       "    </tr>\n",
       "    <tr>\n",
       "      <th>24</th>\n",
       "      <td>1132086</td>\n",
       "      <td>[STARLINK-1037 (44742)]</td>\n",
       "    </tr>\n",
       "    <tr>\n",
       "      <th>25</th>\n",
       "      <td>1169802</td>\n",
       "      <td>[STARLINK-1642 (46154), STARLINK-1956 (47557)]</td>\n",
       "    </tr>\n",
       "    <tr>\n",
       "      <th>26</th>\n",
       "      <td>1119951</td>\n",
       "      <td>[STARLINK-1355 (45563), STARLINK-2251 (48594),...</td>\n",
       "    </tr>\n",
       "    <tr>\n",
       "      <th>27</th>\n",
       "      <td>1189817</td>\n",
       "      <td>[STARLINK-2269 (48447), STARLINK-3391 (51117)]</td>\n",
       "    </tr>\n",
       "    <tr>\n",
       "      <th>28</th>\n",
       "      <td>1035471</td>\n",
       "      <td>[STARLINK-1971 (47572)]</td>\n",
       "    </tr>\n",
       "    <tr>\n",
       "      <th>29</th>\n",
       "      <td>1074073</td>\n",
       "      <td>[STARLINK-2439 (48104)]</td>\n",
       "    </tr>\n",
       "    <tr>\n",
       "      <th>30</th>\n",
       "      <td>957364</td>\n",
       "      <td>[STARLINK-1352 (45536)]</td>\n",
       "    </tr>\n",
       "    <tr>\n",
       "      <th>31</th>\n",
       "      <td>1162423</td>\n",
       "      <td>[STARLINK-3356 (51133)]</td>\n",
       "    </tr>\n",
       "    <tr>\n",
       "      <th>32</th>\n",
       "      <td>1166793</td>\n",
       "      <td>[STARLINK-1195 (45102), STARLINK-3301 (50169)]</td>\n",
       "    </tr>\n",
       "    <tr>\n",
       "      <th>33</th>\n",
       "      <td>1137825</td>\n",
       "      <td>[STARLINK-1233 (45214), STARLINK-1245 (45215),...</td>\n",
       "    </tr>\n",
       "    <tr>\n",
       "      <th>34</th>\n",
       "      <td>1125268</td>\n",
       "      <td>[STARLINK-2024 (47606), STARLINK-2557 (48299),...</td>\n",
       "    </tr>\n",
       "  </tbody>\n",
       "</table>\n",
       "</div>"
      ],
      "text/plain": [
       "     EXPNUM                                          starlinks\n",
       "0   1040330     [STARLINK-1103 (44921), STARLINK-1551 (46075)]\n",
       "1   1108541  [STARLINK-1275 (45407), STARLINK-2379 (47798),...\n",
       "2   1135189                            [STARLINK-1061 (44766)]\n",
       "3   1185213                            [STARLINK-2592 (48408)]\n",
       "4   1224660     [STARLINK-2407 (47822), STARLINK-4589 (53746)]\n",
       "5    984831     [STARLINK-1032 (44737), STARLINK-1034 (44739)]\n",
       "6    959772                            [STARLINK-1495 (45761)]\n",
       "7    981951                            [STARLINK-1699 (46548)]\n",
       "8   1054799                            [STARLINK-2319 (47790)]\n",
       "9   1078921     [STARLINK-1377 (45547), STARLINK-3108 (49439)]\n",
       "10  1112937                            [STARLINK-3852 (52345)]\n",
       "11  1076601     [STARLINK-1050 (44755), STARLINK-1328 (45576)]\n",
       "12  1165873  [STARLINK-1917 (46767), STARLINK-3612 (51770),...\n",
       "13  1110650     [STARLINK-2044 (47660), STARLINK-3370 (51127)]\n",
       "14  1189827                            [STARLINK-1625 (46131)]\n",
       "15  1125097  [STARLINK-4149 (53290), STARLINK-4165 (53286),...\n",
       "16   950681                            [STARLINK-1113 (44926)]\n",
       "17  1085683                            [STARLINK-1919 (46769)]\n",
       "18  1074004                            [STARLINK-3118 (49140)]\n",
       "19  1227123  [STARLINK-2675 (48470), STARLINK-2683 (48462),...\n",
       "20  1215983                            [STARLINK-2094 (47375)]\n",
       "21  1057443                            [STARLINK-2185 (47767)]\n",
       "22  1074544                            [STARLINK-1262 (45366)]\n",
       "23  1189811     [STARLINK-4174 (53276), STARLINK-4799 (53860)]\n",
       "24  1132086                            [STARLINK-1037 (44742)]\n",
       "25  1169802     [STARLINK-1642 (46154), STARLINK-1956 (47557)]\n",
       "26  1119951  [STARLINK-1355 (45563), STARLINK-2251 (48594),...\n",
       "27  1189817     [STARLINK-2269 (48447), STARLINK-3391 (51117)]\n",
       "28  1035471                            [STARLINK-1971 (47572)]\n",
       "29  1074073                            [STARLINK-2439 (48104)]\n",
       "30   957364                            [STARLINK-1352 (45536)]\n",
       "31  1162423                            [STARLINK-3356 (51133)]\n",
       "32  1166793     [STARLINK-1195 (45102), STARLINK-3301 (50169)]\n",
       "33  1137825  [STARLINK-1233 (45214), STARLINK-1245 (45215),...\n",
       "34  1125268  [STARLINK-2024 (47606), STARLINK-2557 (48299),..."
      ]
     },
     "execution_count": 19,
     "metadata": {},
     "output_type": "execute_result"
    }
   ],
   "source": [
    "df_starlink"
   ]
  },
  {
   "cell_type": "code",
   "execution_count": 21,
   "id": "54d3362f",
   "metadata": {},
   "outputs": [],
   "source": [
    "#todos_satelites"
   ]
  },
  {
   "cell_type": "markdown",
   "id": "21e680b3",
   "metadata": {},
   "source": [
    "#### Some exposures with Starlinks(from the more than 8 streaks)\n",
    "\n",
    "\t1011967\t[STARLINK-1963 (47564)] Not sure... Doesn't appear with the plot as STARLINK (At Alex's image, there are two satellites)\n",
    "\n",
    "\t1220859\t[STARLINK-3954 (52558)] Confirmed!  (Nothing at Alex's images)\n",
    "\n",
    "\t1103448\t[STARLINK-3738 (52117)] Not sure... Doesn't appear with the plot as STARLINK (At Alex's images looks amazing. 5 satellites)\n",
    "    \n",
    "    1114861 [STARLINK-1422 (45696)]\n",
    "    \n",
    "    1218180\t[STARLINK-3210 (49755)]\n",
    "    \n",
    "  #### news (using the full telemetry data)\n",
    "\n",
    "    1157371 [STARLINK-1569 (46039)',  'STARLINK-4093 (53157)',  'STARLINK-4257 (53184)']  Doesn't appear at the plot\n",
    "     \n",
    "    949790     [STARLINK-1255 (45399)]  Nothing at the plot\n",
    "\n",
    "    1170668\t[STARLINK-1601 (46120)]\n",
    " \n",
    "    1106509\t[STARLINK-3872 (52453)]\n",
    " \n",
    "    1033925\t[STARLINK-2559 (48298)]\n",
    "    \n",
    "    1132514\t[STARLINK-3106 (49164)]\n",
    "    \n",
    "\t1037961\t[STARLINK-1712 (46581)]\n",
    "    \n",
    "\t1226457\t[STARLINK-5145 (54008)]  One Starlink at the plot!\n",
    "        \n",
    "\t1085358\t[STARLINK-2176 (47758)]\n",
    "    \n",
    "\t1040356\t[STARLINK-2566 (48287), STARLINK-2605 (48392)]  Doesn't appear at the plot\n",
    "    \n",
    "\t1061946\t[STARLINK-1324 (45574)]\n",
    "    \n",
    "    1165186  [STARLINK-4599 (53631)]\n",
    "    \n",
    "    1161606  [STARLINK-4045 (53152)]\n",
    "    \n",
    "    1180245  [STARLINK-4137 (53031)]\n",
    "    \n",
    "    1021815  [STARLINK-1133 (45064)]\n",
    "    \n",
    "  \n",
    "    \n",
    "#### Errors    \n",
    "    \n",
    "Exposure 157280 have an error with the url\n",
    "\n",
    "Exposure 166858 have an error with the url\n",
    "\n",
    "#### Questions\n",
    "\n",
    "- It's possible that we are making a big restriction with the streaks restriction? (more than 8 streaks) \n",
    "- Are the STARLINK named with a different ID? Like SL?\n",
    "- What's the meaning of the numbers of each satellite? STARLINK - ##### (*****)\n",
    "\n",
    "\n",
    "Link of Search Satellite Database (it's correct?)\n",
    "\n",
    "https://www.n2yo.com/satellites/?c=52"
   ]
  },
  {
   "cell_type": "markdown",
   "id": "93d44228",
   "metadata": {},
   "source": [
    "## Implementing as function"
   ]
  },
  {
   "cell_type": "code",
   "execution_count": 21,
   "id": "ba4c9ef1",
   "metadata": {},
   "outputs": [
    {
     "name": "stdout",
     "output_type": "stream",
     "text": [
      "Angle\t EarthLocation\t Normalize\t Polygon\t ScalarMappable\t SkyCoord\t Time\t WCS\t coord\t \n",
      "data\t dateobs\t dec\t dec_center\t df_starlink\t duration\t elevation\t exp\t expnum_counts\t \n",
      "expnum_starlink\t expnums_mas_3\t expnumtry\t exptime\t fila\t fov_radius\t go\t latitude\t longitude\t \n",
      "np\t pd\t pio\t plt\t ra\t ra_center\t requests\t response\t satmap_completo\t \n",
      "satmap_starlink\t site\t starlinks\t starlinks_en_exp\t start_time_jd\t streaks1\t streaks_filtradas\t telemetry1\t telemetry1_filtrado\t \n",
      "timeobs\t todos_satelites\t tqdm\t u\t url\t \n"
     ]
    }
   ],
   "source": [
    "%who  \n",
    "\n",
    "#all variables avaiables"
   ]
  },
  {
   "cell_type": "code",
   "execution_count": 22,
   "id": "ab8903d8",
   "metadata": {},
   "outputs": [
    {
     "data": {
      "text/html": [
       "<div>\n",
       "<style scoped>\n",
       "    .dataframe tbody tr th:only-of-type {\n",
       "        vertical-align: middle;\n",
       "    }\n",
       "\n",
       "    .dataframe tbody tr th {\n",
       "        vertical-align: top;\n",
       "    }\n",
       "\n",
       "    .dataframe thead th {\n",
       "        text-align: right;\n",
       "    }\n",
       "</style>\n",
       "<table border=\"1\" class=\"dataframe\">\n",
       "  <thead>\n",
       "    <tr style=\"text-align: right;\">\n",
       "      <th></th>\n",
       "      <th>EXPNUM</th>\n",
       "      <th>BAND</th>\n",
       "      <th>TELESCOP</th>\n",
       "      <th>OBSERVAT</th>\n",
       "      <th>INSTRUME</th>\n",
       "      <th>OBS-LONG</th>\n",
       "      <th>OBS-LAT</th>\n",
       "      <th>OBS-ELEV</th>\n",
       "      <th>TELEQUIN</th>\n",
       "      <th>TIMESYS</th>\n",
       "      <th>DATE-OBS</th>\n",
       "      <th>TIME-OBS</th>\n",
       "      <th>DARKTIME</th>\n",
       "      <th>EXPTIME</th>\n",
       "      <th>RA</th>\n",
       "      <th>DEC</th>\n",
       "      <th>AZ</th>\n",
       "      <th>ZD</th>\n",
       "    </tr>\n",
       "  </thead>\n",
       "  <tbody>\n",
       "    <tr>\n",
       "      <th>0</th>\n",
       "      <td>140520</td>\n",
       "      <td>r</td>\n",
       "      <td>CTIO 4.0-m telescope</td>\n",
       "      <td>CTIO</td>\n",
       "      <td>DECam</td>\n",
       "      <td>70.8149</td>\n",
       "      <td>-30.1661</td>\n",
       "      <td>2215</td>\n",
       "      <td>2000</td>\n",
       "      <td>UTC</td>\n",
       "      <td>2012-10-20 00:25:35.429106</td>\n",
       "      <td>00:25:35.429106</td>\n",
       "      <td>2.10353</td>\n",
       "      <td>1.0</td>\n",
       "      <td>22:08:24.000</td>\n",
       "      <td>-32:59:17.599</td>\n",
       "      <td>116.2500</td>\n",
       "      <td>7.09</td>\n",
       "    </tr>\n",
       "    <tr>\n",
       "      <th>1</th>\n",
       "      <td>140521</td>\n",
       "      <td>r</td>\n",
       "      <td>CTIO 4.0-m telescope</td>\n",
       "      <td>CTIO</td>\n",
       "      <td>DECam</td>\n",
       "      <td>70.8149</td>\n",
       "      <td>-30.1661</td>\n",
       "      <td>2215</td>\n",
       "      <td>2000</td>\n",
       "      <td>UTC</td>\n",
       "      <td>2012-10-20 00:29:50.667562</td>\n",
       "      <td>00:29:50.667562</td>\n",
       "      <td>2.09597</td>\n",
       "      <td>1.0</td>\n",
       "      <td>22:08:23.970</td>\n",
       "      <td>-32:55:57.799</td>\n",
       "      <td>118.9300</td>\n",
       "      <td>6.25</td>\n",
       "    </tr>\n",
       "    <tr>\n",
       "      <th>2</th>\n",
       "      <td>140522</td>\n",
       "      <td>u</td>\n",
       "      <td>CTIO 4.0-m telescope</td>\n",
       "      <td>CTIO</td>\n",
       "      <td>DECam</td>\n",
       "      <td>70.8149</td>\n",
       "      <td>-30.1661</td>\n",
       "      <td>2215</td>\n",
       "      <td>2000</td>\n",
       "      <td>UTC</td>\n",
       "      <td>2012-10-20 00:46:16.576959</td>\n",
       "      <td>00:46:16.576959</td>\n",
       "      <td>31.09820</td>\n",
       "      <td>30.0</td>\n",
       "      <td>18:03:35.240</td>\n",
       "      <td>-30:02:00.600</td>\n",
       "      <td>254.2700</td>\n",
       "      <td>50.20</td>\n",
       "    </tr>\n",
       "    <tr>\n",
       "      <th>3</th>\n",
       "      <td>140523</td>\n",
       "      <td>u</td>\n",
       "      <td>CTIO 4.0-m telescope</td>\n",
       "      <td>CTIO</td>\n",
       "      <td>DECam</td>\n",
       "      <td>70.8149</td>\n",
       "      <td>-30.1661</td>\n",
       "      <td>2215</td>\n",
       "      <td>2000</td>\n",
       "      <td>UTC</td>\n",
       "      <td>2012-10-20 00:47:44.370016</td>\n",
       "      <td>00:47:44.370016</td>\n",
       "      <td>31.09300</td>\n",
       "      <td>30.0</td>\n",
       "      <td>18:03:35.250</td>\n",
       "      <td>-30:02:00.802</td>\n",
       "      <td>254.1500</td>\n",
       "      <td>50.50</td>\n",
       "    </tr>\n",
       "    <tr>\n",
       "      <th>4</th>\n",
       "      <td>140524</td>\n",
       "      <td>u</td>\n",
       "      <td>CTIO 4.0-m telescope</td>\n",
       "      <td>CTIO</td>\n",
       "      <td>DECam</td>\n",
       "      <td>70.8149</td>\n",
       "      <td>-30.1661</td>\n",
       "      <td>2215</td>\n",
       "      <td>2000</td>\n",
       "      <td>UTC</td>\n",
       "      <td>2012-10-20 00:49:47.211636</td>\n",
       "      <td>00:49:47.211636</td>\n",
       "      <td>31.09170</td>\n",
       "      <td>30.0</td>\n",
       "      <td>18:03:35.240</td>\n",
       "      <td>-30:02:00.802</td>\n",
       "      <td>253.9900</td>\n",
       "      <td>50.93</td>\n",
       "    </tr>\n",
       "    <tr>\n",
       "      <th>...</th>\n",
       "      <td>...</td>\n",
       "      <td>...</td>\n",
       "      <td>...</td>\n",
       "      <td>...</td>\n",
       "      <td>...</td>\n",
       "      <td>...</td>\n",
       "      <td>...</td>\n",
       "      <td>...</td>\n",
       "      <td>...</td>\n",
       "      <td>...</td>\n",
       "      <td>...</td>\n",
       "      <td>...</td>\n",
       "      <td>...</td>\n",
       "      <td>...</td>\n",
       "      <td>...</td>\n",
       "      <td>...</td>\n",
       "      <td>...</td>\n",
       "      <td>...</td>\n",
       "    </tr>\n",
       "    <tr>\n",
       "      <th>506513</th>\n",
       "      <td>1228730</td>\n",
       "      <td>g</td>\n",
       "      <td>CTIO 4.0-m telescope</td>\n",
       "      <td>CTIO</td>\n",
       "      <td>DECam</td>\n",
       "      <td>70.8149</td>\n",
       "      <td>-30.1661</td>\n",
       "      <td>2215</td>\n",
       "      <td>2000</td>\n",
       "      <td>UTC</td>\n",
       "      <td>2023-08-03 08:42:53.917964</td>\n",
       "      <td>08:42:53.917964</td>\n",
       "      <td>81.10140</td>\n",
       "      <td>80.0</td>\n",
       "      <td>03:30:36.090</td>\n",
       "      <td>-28:05:58.200</td>\n",
       "      <td>97.1620</td>\n",
       "      <td>36.05</td>\n",
       "    </tr>\n",
       "    <tr>\n",
       "      <th>506514</th>\n",
       "      <td>1228731</td>\n",
       "      <td>r</td>\n",
       "      <td>CTIO 4.0-m telescope</td>\n",
       "      <td>CTIO</td>\n",
       "      <td>DECam</td>\n",
       "      <td>70.8149</td>\n",
       "      <td>-30.1661</td>\n",
       "      <td>2215</td>\n",
       "      <td>2000</td>\n",
       "      <td>UTC</td>\n",
       "      <td>2023-08-03 08:44:44.058111</td>\n",
       "      <td>08:44:44.058111</td>\n",
       "      <td>71.12170</td>\n",
       "      <td>70.0</td>\n",
       "      <td>03:30:36.079</td>\n",
       "      <td>-28:05:58.200</td>\n",
       "      <td>97.0003</td>\n",
       "      <td>35.66</td>\n",
       "    </tr>\n",
       "    <tr>\n",
       "      <th>506515</th>\n",
       "      <td>1228732</td>\n",
       "      <td>r</td>\n",
       "      <td>CTIO 4.0-m telescope</td>\n",
       "      <td>CTIO</td>\n",
       "      <td>DECam</td>\n",
       "      <td>70.8149</td>\n",
       "      <td>-30.1661</td>\n",
       "      <td>2215</td>\n",
       "      <td>2000</td>\n",
       "      <td>UTC</td>\n",
       "      <td>2023-08-03 08:46:22.681357</td>\n",
       "      <td>08:46:22.681357</td>\n",
       "      <td>71.10870</td>\n",
       "      <td>70.0</td>\n",
       "      <td>03:30:36.090</td>\n",
       "      <td>-28:05:58.200</td>\n",
       "      <td>96.8515</td>\n",
       "      <td>35.30</td>\n",
       "    </tr>\n",
       "    <tr>\n",
       "      <th>506516</th>\n",
       "      <td>1228733</td>\n",
       "      <td>i</td>\n",
       "      <td>CTIO 4.0-m telescope</td>\n",
       "      <td>CTIO</td>\n",
       "      <td>DECam</td>\n",
       "      <td>70.8149</td>\n",
       "      <td>-30.1661</td>\n",
       "      <td>2215</td>\n",
       "      <td>2000</td>\n",
       "      <td>UTC</td>\n",
       "      <td>2023-08-03 08:48:02.549261</td>\n",
       "      <td>08:48:02.549261</td>\n",
       "      <td>91.09020</td>\n",
       "      <td>90.0</td>\n",
       "      <td>03:30:36.112</td>\n",
       "      <td>-28:05:58.099</td>\n",
       "      <td>96.7036</td>\n",
       "      <td>34.94</td>\n",
       "    </tr>\n",
       "    <tr>\n",
       "      <th>506517</th>\n",
       "      <td>1228734</td>\n",
       "      <td>i</td>\n",
       "      <td>CTIO 4.0-m telescope</td>\n",
       "      <td>CTIO</td>\n",
       "      <td>DECam</td>\n",
       "      <td>70.8149</td>\n",
       "      <td>-30.1661</td>\n",
       "      <td>2215</td>\n",
       "      <td>2000</td>\n",
       "      <td>UTC</td>\n",
       "      <td>2023-08-03 08:50:01.864095</td>\n",
       "      <td>08:50:01.864095</td>\n",
       "      <td>91.12910</td>\n",
       "      <td>90.0</td>\n",
       "      <td>03:30:36.112</td>\n",
       "      <td>-28:05:58.099</td>\n",
       "      <td>96.5253</td>\n",
       "      <td>34.52</td>\n",
       "    </tr>\n",
       "  </tbody>\n",
       "</table>\n",
       "<p>506518 rows × 18 columns</p>\n",
       "</div>"
      ],
      "text/plain": [
       "         EXPNUM BAND              TELESCOP OBSERVAT INSTRUME  OBS-LONG  \\\n",
       "0        140520    r  CTIO 4.0-m telescope     CTIO    DECam   70.8149   \n",
       "1        140521    r  CTIO 4.0-m telescope     CTIO    DECam   70.8149   \n",
       "2        140522    u  CTIO 4.0-m telescope     CTIO    DECam   70.8149   \n",
       "3        140523    u  CTIO 4.0-m telescope     CTIO    DECam   70.8149   \n",
       "4        140524    u  CTIO 4.0-m telescope     CTIO    DECam   70.8149   \n",
       "...         ...  ...                   ...      ...      ...       ...   \n",
       "506513  1228730    g  CTIO 4.0-m telescope     CTIO    DECam   70.8149   \n",
       "506514  1228731    r  CTIO 4.0-m telescope     CTIO    DECam   70.8149   \n",
       "506515  1228732    r  CTIO 4.0-m telescope     CTIO    DECam   70.8149   \n",
       "506516  1228733    i  CTIO 4.0-m telescope     CTIO    DECam   70.8149   \n",
       "506517  1228734    i  CTIO 4.0-m telescope     CTIO    DECam   70.8149   \n",
       "\n",
       "        OBS-LAT  OBS-ELEV  TELEQUIN TIMESYS                    DATE-OBS  \\\n",
       "0      -30.1661      2215      2000     UTC  2012-10-20 00:25:35.429106   \n",
       "1      -30.1661      2215      2000     UTC  2012-10-20 00:29:50.667562   \n",
       "2      -30.1661      2215      2000     UTC  2012-10-20 00:46:16.576959   \n",
       "3      -30.1661      2215      2000     UTC  2012-10-20 00:47:44.370016   \n",
       "4      -30.1661      2215      2000     UTC  2012-10-20 00:49:47.211636   \n",
       "...         ...       ...       ...     ...                         ...   \n",
       "506513 -30.1661      2215      2000     UTC  2023-08-03 08:42:53.917964   \n",
       "506514 -30.1661      2215      2000     UTC  2023-08-03 08:44:44.058111   \n",
       "506515 -30.1661      2215      2000     UTC  2023-08-03 08:46:22.681357   \n",
       "506516 -30.1661      2215      2000     UTC  2023-08-03 08:48:02.549261   \n",
       "506517 -30.1661      2215      2000     UTC  2023-08-03 08:50:01.864095   \n",
       "\n",
       "               TIME-OBS  DARKTIME  EXPTIME            RA            DEC  \\\n",
       "0       00:25:35.429106   2.10353      1.0  22:08:24.000  -32:59:17.599   \n",
       "1       00:29:50.667562   2.09597      1.0  22:08:23.970  -32:55:57.799   \n",
       "2       00:46:16.576959  31.09820     30.0  18:03:35.240  -30:02:00.600   \n",
       "3       00:47:44.370016  31.09300     30.0  18:03:35.250  -30:02:00.802   \n",
       "4       00:49:47.211636  31.09170     30.0  18:03:35.240  -30:02:00.802   \n",
       "...                 ...       ...      ...           ...            ...   \n",
       "506513  08:42:53.917964  81.10140     80.0  03:30:36.090  -28:05:58.200   \n",
       "506514  08:44:44.058111  71.12170     70.0  03:30:36.079  -28:05:58.200   \n",
       "506515  08:46:22.681357  71.10870     70.0  03:30:36.090  -28:05:58.200   \n",
       "506516  08:48:02.549261  91.09020     90.0  03:30:36.112  -28:05:58.099   \n",
       "506517  08:50:01.864095  91.12910     90.0  03:30:36.112  -28:05:58.099   \n",
       "\n",
       "              AZ     ZD  \n",
       "0       116.2500   7.09  \n",
       "1       118.9300   6.25  \n",
       "2       254.2700  50.20  \n",
       "3       254.1500  50.50  \n",
       "4       253.9900  50.93  \n",
       "...          ...    ...  \n",
       "506513   97.1620  36.05  \n",
       "506514   97.0003  35.66  \n",
       "506515   96.8515  35.30  \n",
       "506516   96.7036  34.94  \n",
       "506517   96.5253  34.52  \n",
       "\n",
       "[506518 rows x 18 columns]"
      ]
     },
     "execution_count": 22,
     "metadata": {},
     "output_type": "execute_result"
    }
   ],
   "source": [
    "telemetry1"
   ]
  },
  {
   "cell_type": "code",
   "execution_count": 23,
   "id": "9229642b",
   "metadata": {},
   "outputs": [
    {
     "data": {
      "text/html": [
       "<div>\n",
       "<style scoped>\n",
       "    .dataframe tbody tr th:only-of-type {\n",
       "        vertical-align: middle;\n",
       "    }\n",
       "\n",
       "    .dataframe tbody tr th {\n",
       "        vertical-align: top;\n",
       "    }\n",
       "\n",
       "    .dataframe thead th {\n",
       "        text-align: right;\n",
       "    }\n",
       "</style>\n",
       "<table border=\"1\" class=\"dataframe\">\n",
       "  <thead>\n",
       "    <tr style=\"text-align: right;\">\n",
       "      <th></th>\n",
       "      <th>filename</th>\n",
       "      <th>rnum</th>\n",
       "      <th>ra_1</th>\n",
       "      <th>ra_2</th>\n",
       "      <th>ra_3</th>\n",
       "      <th>ra_4</th>\n",
       "      <th>dec_1</th>\n",
       "      <th>dec_2</th>\n",
       "      <th>dec_3</th>\n",
       "      <th>dec_4</th>\n",
       "      <th>expnum</th>\n",
       "      <th>ccdnum</th>\n",
       "      <th>band</th>\n",
       "    </tr>\n",
       "  </thead>\n",
       "  <tbody>\n",
       "    <tr>\n",
       "      <th>0</th>\n",
       "      <td>D00145425_g_c03_r4148p01_hstreak.fits</td>\n",
       "      <td>3</td>\n",
       "      <td>1.159330</td>\n",
       "      <td>1.160919</td>\n",
       "      <td>1.164310</td>\n",
       "      <td>1.162720</td>\n",
       "      <td>-28.724241</td>\n",
       "      <td>-28.724212</td>\n",
       "      <td>-28.857155</td>\n",
       "      <td>-28.857183</td>\n",
       "      <td>145425</td>\n",
       "      <td>3</td>\n",
       "      <td>g</td>\n",
       "    </tr>\n",
       "    <tr>\n",
       "      <th>1</th>\n",
       "      <td>D00145425_g_c06_r4148p01_hstreak.fits</td>\n",
       "      <td>1</td>\n",
       "      <td>0.986677</td>\n",
       "      <td>0.986711</td>\n",
       "      <td>0.644209</td>\n",
       "      <td>0.644186</td>\n",
       "      <td>-29.032018</td>\n",
       "      <td>-29.034283</td>\n",
       "      <td>-29.037208</td>\n",
       "      <td>-29.034944</td>\n",
       "      <td>145425</td>\n",
       "      <td>6</td>\n",
       "      <td>g</td>\n",
       "    </tr>\n",
       "    <tr>\n",
       "      <th>2</th>\n",
       "      <td>D00145425_g_c09_r4148p01_hstreak.fits</td>\n",
       "      <td>1</td>\n",
       "      <td>0.452852</td>\n",
       "      <td>0.452942</td>\n",
       "      <td>0.109842</td>\n",
       "      <td>0.109782</td>\n",
       "      <td>-29.193042</td>\n",
       "      <td>-29.199694</td>\n",
       "      <td>-29.203265</td>\n",
       "      <td>-29.196615</td>\n",
       "      <td>145425</td>\n",
       "      <td>9</td>\n",
       "      <td>g</td>\n",
       "    </tr>\n",
       "    <tr>\n",
       "      <th>3</th>\n",
       "      <td>D00145425_g_c15_r4148p01_hstreak.fits</td>\n",
       "      <td>1</td>\n",
       "      <td>0.286716</td>\n",
       "      <td>0.286812</td>\n",
       "      <td>0.630816</td>\n",
       "      <td>0.630741</td>\n",
       "      <td>-29.363308</td>\n",
       "      <td>-29.358405</td>\n",
       "      <td>-29.362739</td>\n",
       "      <td>-29.367644</td>\n",
       "      <td>145425</td>\n",
       "      <td>15</td>\n",
       "      <td>g</td>\n",
       "    </tr>\n",
       "    <tr>\n",
       "      <th>4</th>\n",
       "      <td>D00145425_g_c16_r4148p01_hstreak.fits</td>\n",
       "      <td>1</td>\n",
       "      <td>0.985852</td>\n",
       "      <td>0.987446</td>\n",
       "      <td>0.987211</td>\n",
       "      <td>0.985615</td>\n",
       "      <td>-29.216748</td>\n",
       "      <td>-29.216752</td>\n",
       "      <td>-29.366385</td>\n",
       "      <td>-29.366381</td>\n",
       "      <td>145425</td>\n",
       "      <td>16</td>\n",
       "      <td>g</td>\n",
       "    </tr>\n",
       "    <tr>\n",
       "      <th>...</th>\n",
       "      <td>...</td>\n",
       "      <td>...</td>\n",
       "      <td>...</td>\n",
       "      <td>...</td>\n",
       "      <td>...</td>\n",
       "      <td>...</td>\n",
       "      <td>...</td>\n",
       "      <td>...</td>\n",
       "      <td>...</td>\n",
       "      <td>...</td>\n",
       "      <td>...</td>\n",
       "      <td>...</td>\n",
       "      <td>...</td>\n",
       "    </tr>\n",
       "    <tr>\n",
       "      <th>879115</th>\n",
       "      <td>D01223535_g_c05_r6224p01_hstreak.fits</td>\n",
       "      <td>1</td>\n",
       "      <td>323.500201</td>\n",
       "      <td>323.502653</td>\n",
       "      <td>323.444690</td>\n",
       "      <td>323.442238</td>\n",
       "      <td>-17.828499</td>\n",
       "      <td>-17.830897</td>\n",
       "      <td>-17.884254</td>\n",
       "      <td>-17.881855</td>\n",
       "      <td>1223535</td>\n",
       "      <td>5</td>\n",
       "      <td>g</td>\n",
       "    </tr>\n",
       "    <tr>\n",
       "      <th>879116</th>\n",
       "      <td>D01223535_g_c31_r6224p01_hstreak.fits</td>\n",
       "      <td>1</td>\n",
       "      <td>324.355544</td>\n",
       "      <td>324.369908</td>\n",
       "      <td>324.372363</td>\n",
       "      <td>324.357994</td>\n",
       "      <td>-18.392109</td>\n",
       "      <td>-18.391941</td>\n",
       "      <td>-18.541070</td>\n",
       "      <td>-18.541235</td>\n",
       "      <td>1223535</td>\n",
       "      <td>31</td>\n",
       "      <td>g</td>\n",
       "    </tr>\n",
       "    <tr>\n",
       "      <th>879117</th>\n",
       "      <td>D01223535_g_c56_r6224p01_hstreak.fits</td>\n",
       "      <td>1</td>\n",
       "      <td>322.914589</td>\n",
       "      <td>322.934330</td>\n",
       "      <td>322.849385</td>\n",
       "      <td>322.829651</td>\n",
       "      <td>-19.193809</td>\n",
       "      <td>-19.210870</td>\n",
       "      <td>-19.298406</td>\n",
       "      <td>-19.281342</td>\n",
       "      <td>1223535</td>\n",
       "      <td>56</td>\n",
       "      <td>g</td>\n",
       "    </tr>\n",
       "    <tr>\n",
       "      <th>879118</th>\n",
       "      <td>D01223535_g_c58_r6224p01_hstreak.fits</td>\n",
       "      <td>1</td>\n",
       "      <td>323.771850</td>\n",
       "      <td>323.783894</td>\n",
       "      <td>323.835739</td>\n",
       "      <td>323.823696</td>\n",
       "      <td>-19.214779</td>\n",
       "      <td>-19.204086</td>\n",
       "      <td>-19.255903</td>\n",
       "      <td>-19.266598</td>\n",
       "      <td>1223535</td>\n",
       "      <td>58</td>\n",
       "      <td>g</td>\n",
       "    </tr>\n",
       "    <tr>\n",
       "      <th>879119</th>\n",
       "      <td>D01223535_g_c59_r6224p01_hstreak.fits</td>\n",
       "      <td>1</td>\n",
       "      <td>323.878330</td>\n",
       "      <td>323.890982</td>\n",
       "      <td>323.836373</td>\n",
       "      <td>323.823717</td>\n",
       "      <td>-19.203540</td>\n",
       "      <td>-19.214870</td>\n",
       "      <td>-19.269001</td>\n",
       "      <td>-19.257671</td>\n",
       "      <td>1223535</td>\n",
       "      <td>59</td>\n",
       "      <td>g</td>\n",
       "    </tr>\n",
       "  </tbody>\n",
       "</table>\n",
       "<p>879120 rows × 13 columns</p>\n",
       "</div>"
      ],
      "text/plain": [
       "                                     filename  rnum        ra_1        ra_2  \\\n",
       "0       D00145425_g_c03_r4148p01_hstreak.fits     3    1.159330    1.160919   \n",
       "1       D00145425_g_c06_r4148p01_hstreak.fits     1    0.986677    0.986711   \n",
       "2       D00145425_g_c09_r4148p01_hstreak.fits     1    0.452852    0.452942   \n",
       "3       D00145425_g_c15_r4148p01_hstreak.fits     1    0.286716    0.286812   \n",
       "4       D00145425_g_c16_r4148p01_hstreak.fits     1    0.985852    0.987446   \n",
       "...                                       ...   ...         ...         ...   \n",
       "879115  D01223535_g_c05_r6224p01_hstreak.fits     1  323.500201  323.502653   \n",
       "879116  D01223535_g_c31_r6224p01_hstreak.fits     1  324.355544  324.369908   \n",
       "879117  D01223535_g_c56_r6224p01_hstreak.fits     1  322.914589  322.934330   \n",
       "879118  D01223535_g_c58_r6224p01_hstreak.fits     1  323.771850  323.783894   \n",
       "879119  D01223535_g_c59_r6224p01_hstreak.fits     1  323.878330  323.890982   \n",
       "\n",
       "              ra_3        ra_4      dec_1      dec_2      dec_3      dec_4  \\\n",
       "0         1.164310    1.162720 -28.724241 -28.724212 -28.857155 -28.857183   \n",
       "1         0.644209    0.644186 -29.032018 -29.034283 -29.037208 -29.034944   \n",
       "2         0.109842    0.109782 -29.193042 -29.199694 -29.203265 -29.196615   \n",
       "3         0.630816    0.630741 -29.363308 -29.358405 -29.362739 -29.367644   \n",
       "4         0.987211    0.985615 -29.216748 -29.216752 -29.366385 -29.366381   \n",
       "...            ...         ...        ...        ...        ...        ...   \n",
       "879115  323.444690  323.442238 -17.828499 -17.830897 -17.884254 -17.881855   \n",
       "879116  324.372363  324.357994 -18.392109 -18.391941 -18.541070 -18.541235   \n",
       "879117  322.849385  322.829651 -19.193809 -19.210870 -19.298406 -19.281342   \n",
       "879118  323.835739  323.823696 -19.214779 -19.204086 -19.255903 -19.266598   \n",
       "879119  323.836373  323.823717 -19.203540 -19.214870 -19.269001 -19.257671   \n",
       "\n",
       "         expnum  ccdnum band  \n",
       "0        145425       3    g  \n",
       "1        145425       6    g  \n",
       "2        145425       9    g  \n",
       "3        145425      15    g  \n",
       "4        145425      16    g  \n",
       "...         ...     ...  ...  \n",
       "879115  1223535       5    g  \n",
       "879116  1223535      31    g  \n",
       "879117  1223535      56    g  \n",
       "879118  1223535      58    g  \n",
       "879119  1223535      59    g  \n",
       "\n",
       "[879120 rows x 13 columns]"
      ]
     },
     "execution_count": 23,
     "metadata": {},
     "output_type": "execute_result"
    }
   ],
   "source": [
    "streaks1"
   ]
  },
  {
   "cell_type": "code",
   "execution_count": 24,
   "id": "cc107d5a",
   "metadata": {},
   "outputs": [],
   "source": [
    "def run_satchecker_fov_query(latitude, longitude, elevation, duration, start_time_jd, fov_radius, ra, dec):\n",
    "    \"\"\"Consulta SatChecker para satélites en el campo de visión/field of view(fov).\"\"\"\n",
    "    url = (\n",
    "        f\"https://dev.satchecker.cps.iau.noirlab.edu/fov/satellite-passes/?\"\n",
    "        f\"latitude={latitude}&longitude={longitude}&elevation={elevation}&\"\n",
    "        f\"start_time_jd={start_time_jd}&duration={duration}&ra={ra}&dec={dec}&\"\n",
    "        f\"fov_radius={fov_radius}&group_by=satellite\"\n",
    "    )\n",
    "\n",
    "    print(f\"\\nConsultando SatChecker con la siguiente URL:\\n{url}\") \n",
    "\n",
    "    try:\n",
    "        response = requests.get(url, timeout=60)\n",
    "        response.raise_for_status()\n",
    "        data = response.json()\n",
    "    except Exception as e:\n",
    "        print(\"Error al consultar el API:\", e)\n",
    "        return {}\n",
    "\n",
    "    if 'data' not in data or 'satellites' not in data['data']:\n",
    "        print(\"Respuesta sin datos de satélites.\")\n",
    "        return {}\n",
    "\n",
    "    sats = {\n",
    "        k: [[p['ra'], p['dec'], p['julian_date']] for p in v['positions']]\n",
    "        for k, v in data['data']['satellites'].items()\n",
    "    }\n",
    "\n",
    "    print(f\"Satélites encontrados: {list(sats.keys())}\")\n",
    "    return sats\n"
   ]
  },
  {
   "cell_type": "code",
   "execution_count": 25,
   "id": "1760ec21",
   "metadata": {},
   "outputs": [],
   "source": [
    "def find_satellites_in_decam_exp(EXPNUM, name='STARLINK', fov=1.0, verbose=True):\n",
    "    \"\"\"\n",
    "    Dada una exposición DECam (EXPNUM), consulta SatChecker y devuelve los satélites\n",
    "    cuyo nombre contenga 'name' (por defecto STARLINK) que cruzan el campo de visión.\n",
    "    \"\"\"\n",
    "    if EXPNUM not in telemetry1['EXPNUM'].values:  #verifica que exista el expnum\n",
    "        print(f\"EXPNUM {EXPNUM} no encontrado.\")\n",
    "        return {}\n",
    "\n",
    "    row = telemetry1[telemetry1['EXPNUM'] == EXPNUM].iloc[0]\n",
    "\n",
    "    #ubication and duration\n",
    "    latitude = row['OBS-LAT']\n",
    "    longitude = row['OBS-LONG']\n",
    "    elevation = row['OBS-ELEV']\n",
    "    duration = max(float(row['EXPTIME']), 1)\n",
    "    start_time_jd = Time(row['DATE-OBS']).jd\n",
    "\n",
    "    # Convierte automaticamente horas a grados, si se deja como hora, da error\n",
    "    try:\n",
    "        ra = Angle(row['RA'], unit='hourangle').degree if isinstance(row['RA'], str) else float(row['RA'])\n",
    "    except:\n",
    "        ra = float(row['RA'])\n",
    "\n",
    "    try:\n",
    "        dec = Angle(row['DEC'], unit='deg').degree if isinstance(row['DEC'], str) else float(row['DEC'])\n",
    "    except:\n",
    "        dec = float(row['DEC'])\n",
    "\n",
    "        \n",
    "    #SatChecker consult (defined previously)    \n",
    "    sats = run_satchecker_fov_query(latitude, longitude, elevation, duration, start_time_jd, fov, ra, dec)\n",
    "    if name:\n",
    "        named = {k: v for k, v in sats.items() if name.upper() in k.upper()}\n",
    "    else:\n",
    "        named = sats\n",
    "    \n",
    "    #Filtrando por nombres del satelite, each satelite is called k\n",
    "    named = {k: v for k, v in sats.items() if name.upper() in k.upper()}  # .upper para ponerlo todo en mayusculas\n",
    "        \n",
    "\n",
    "    # data resume\n",
    "    if verbose:\n",
    "        print(f\"\\nEXPNUM: {EXPNUM}\")\n",
    "        print(f\"DATE-OBS: {row['DATE-OBS']} | Duración: {duration:.1f} s\")\n",
    "        print(f\"RA: {ra:.3f} deg | DEC: {dec:.3f} deg | FOV: {fov}°\")\n",
    "        print(f\"{len(named)} satélites con nombre '{name}' encontrados.\\n\")\n",
    "\n",
    "    return named\n"
   ]
  },
  {
   "cell_type": "code",
   "execution_count": 26,
   "id": "08344762",
   "metadata": {},
   "outputs": [],
   "source": [
    "def plot_satellites_in_exposure(EXPNUM, name='STARLINK', fov_radius=1.0):\n",
    "    sats = find_satellites_in_decam_exp(EXPNUM, name=name, fov=fov_radius, verbose=True) # va a filtrar solo los starlink\n",
    "    \n",
    "    if not sats:   #si no hay starlinks, no los grafica\n",
    "        print(\"No se encontraron satélites para graficar.\")\n",
    "        return\n",
    "    \n",
    "    row = telemetry1[telemetry1['EXPNUM'] == EXPNUM].iloc[0]\n",
    "    \n",
    "    \n",
    "    #ra y dec en coordenadas amigables\n",
    "    coord = SkyCoord(ra=row['RA'], dec=row['DEC'], unit=(u.hourangle, u.deg)) if ':' in str(row['RA']) else SkyCoord(ra=float(row['RA'])*u.deg, dec=float(row['DEC'])*u.deg)\n",
    "    ra_center = coord.ra.deg\n",
    "    dec_center = coord.dec.deg\n",
    "    duration = float(row['EXPTIME'])\n",
    "    start_time_jd = Time(row['DATE-OBS']).jd\n",
    "\n",
    "    # Configuración de WCS (proyección del cielo en la gráfica)\n",
    "    wcs = WCS(naxis=2)\n",
    "    wcs.wcs.crpix = [0, 0]\n",
    "    wcs.wcs.crval = [ra_center, dec_center] #centro de la imagen\n",
    "    wcs.wcs.cdelt = [0.1, 0.1]  # zoom de la imagen/tamaño de pixel\n",
    "    wcs.wcs.ctype = ['RA---TAN', 'DEC--TAN']\n",
    "\n",
    "    # Plot\n",
    "    fig = plt.figure(figsize=(14, 10))\n",
    "    ax = fig.add_subplot(1, 1, 1, projection=wcs)\n",
    "\n",
    "    # Campo de visión\n",
    "    center = SkyCoord(ra=ra_center * u.deg, dec=dec_center * u.deg, frame='icrs')\n",
    "    angles = np.linspace(0, 360, 360) * u.deg\n",
    "    circle = center.directional_offset_by(angles, fov_radius * u.deg)\n",
    "    ax.plot(circle.ra.deg, circle.dec.deg, c='0.75', ls='--', label='FOV', transform=ax.get_transform('world'))\n",
    "\n",
    "    # Trayectorias de los satélites\n",
    "    for sat_name, path in sats.items():\n",
    "        ra = [p[0] for p in path]\n",
    "        dec = [p[1] for p in path]\n",
    "        times = [p[2] for p in path]\n",
    "\n",
    "        coords = SkyCoord(ra=ra * u.deg, dec=dec * u.deg)\n",
    "        ax.plot(coords.ra.deg, coords.dec.deg, transform=ax.get_transform('world'), label=sat_name)\n",
    "        ax.scatter(coords.ra.deg, coords.dec.deg, transform=ax.get_transform('world'), s=6)\n",
    "\n",
    "        # Etiquetar cada satélite\n",
    "        if coords.ra.deg[0] < coords.ra.deg[-1]:\n",
    "            ax.text(coords.ra.deg[0], coords.dec.deg[0], sat_name, transform=ax.get_transform('world'), fontsize=6)\n",
    "        else:\n",
    "            ax.text(coords.ra.deg[-1], coords.dec.deg[-1], sat_name, transform=ax.get_transform('world'), fontsize=6)\n",
    "\n",
    "    ax.set_aspect('equal')\n",
    "    ax.legend(bbox_to_anchor=(0.95, 1), loc='upper left', fontsize=6)\n",
    "    ax.set_xlabel('Right Ascension')\n",
    "    ax.set_ylabel('Declination')\n",
    "    ax.set_title(f'Satellite Passes at JD {start_time_jd:.4f} (duration {duration:.1f} s)')\n",
    "    ax.invert_xaxis()\n",
    "    ax.grid(True, linestyle='--', color='lightgray')\n",
    "\n",
    "    plt.show()\n"
   ]
  },
  {
   "cell_type": "code",
   "execution_count": 27,
   "id": "0f8efc6a",
   "metadata": {},
   "outputs": [
    {
     "name": "stdout",
     "output_type": "stream",
     "text": [
      "\n",
      "Consultando SatChecker con la siguiente URL:\n",
      "https://dev.satchecker.cps.iau.noirlab.edu/fov/satellite-passes/?latitude=-30.1661&longitude=70.8149&elevation=2215&start_time_jd=2460134.8357235077&duration=130.0&ra=7.874908333333334&dec=-43.008028055555556&fov_radius=1.0&group_by=satellite\n",
      "Satélites encontrados: []\n",
      "\n",
      "EXPNUM: 1220019\n",
      "DATE-OBS: 2023-07-09 08:03:26.511059 | Duración: 130.0 s\n",
      "RA: 7.875 deg | DEC: -43.008 deg | FOV: 1.0°\n",
      "0 satélites con nombre 'STARLINK' encontrados.\n",
      "\n",
      "No se encontraron satélites para graficar.\n"
     ]
    }
   ],
   "source": [
    "plot_satellites_in_exposure(1220019)"
   ]
  },
  {
   "cell_type": "code",
   "execution_count": null,
   "id": "42c45704",
   "metadata": {
    "scrolled": true
   },
   "outputs": [],
   "source": [
    "plot_satellites_in_exposure(1226457)"
   ]
  },
  {
   "cell_type": "code",
   "execution_count": null,
   "id": "2856fdfd",
   "metadata": {},
   "outputs": [],
   "source": [
    "plot_satellites_in_exposure(1040356)"
   ]
  },
  {
   "cell_type": "code",
   "execution_count": 136,
   "id": "3f7bcc43",
   "metadata": {},
   "outputs": [
    {
     "name": "stdout",
     "output_type": "stream",
     "text": [
      "\n",
      "Consultando SatChecker con la siguiente URL:\n",
      "https://dev.satchecker.cps.iau.noirlab.edu/fov/satellite-passes/?latitude=-30.1661&longitude=70.8149&elevation=2215&start_time_jd=2459947.7147467905&duration=50.0&ra=115.81062083333332&dec=-1.098806111111111&fov_radius=1.0&group_by=satellite\n",
      "Satélites encontrados: ['SL-14 R/B (15100)', 'STARLINK-3048 (49148)', 'STARLINK-3194 (49758)']\n",
      "\n",
      "EXPNUM: 1161606\n",
      "DATE-OBS: 2023-01-03 05:09:14.122691 | Duración: 50.0 s\n",
      "RA: 115.811 deg | DEC: -1.099 deg | FOV: 1.0°\n",
      "2 satélites con nombre 'STARLINK' encontrados.\n",
      "\n"
     ]
    },
    {
     "data": {
      "image/png": "[encoded data removed]",
      "text/plain": [
       "<Figure size 1400x1000 with 1 Axes>"
      ]
     },
     "metadata": {},
     "output_type": "display_data"
    }
   ],
   "source": [
    "plot_satellites_in_exposure(1161606)"
   ]
  },
  {
   "cell_type": "code",
   "execution_count": 137,
   "id": "a3470c3e",
   "metadata": {},
   "outputs": [
    {
     "name": "stdout",
     "output_type": "stream",
     "text": [
      "\n",
      "Consultando SatChecker con la siguiente URL:\n",
      "https://dev.satchecker.cps.iau.noirlab.edu/fov/satellite-passes/?latitude=-30.1661&longitude=70.8149&elevation=2215&start_time_jd=2459642.554146692&duration=100.0&ra=158.21890416666665&dec=-58.679386944444445&fov_radius=1.0&group_by=satellite\n",
      "Satélites encontrados: ['STARLINK-1700 (46549)', 'STARLINK-2344 (47885)']\n",
      "\n",
      "EXPNUM: 1085358\n",
      "DATE-OBS: 2022-03-04 01:17:58.27419 | Duración: 100.0 s\n",
      "RA: 158.219 deg | DEC: -58.679 deg | FOV: 1.0°\n",
      "2 satélites con nombre 'STARLINK' encontrados.\n",
      "\n"
     ]
    },
    {
     "data": {
      "image/png": "[encoded data removed]",
      "text/plain": [
       "<Figure size 1400x1000 with 1 Axes>"
      ]
     },
     "metadata": {},
     "output_type": "display_data"
    }
   ],
   "source": [
    "plot_satellites_in_exposure(1085358)"
   ]
  },
  {
   "cell_type": "code",
   "execution_count": 24,
   "id": "d9daaaea",
   "metadata": {},
   "outputs": [
    {
     "name": "stdout",
     "output_type": "stream",
     "text": [
      "\n",
      "Consultando SatChecker con la siguiente URL:\n",
      "https://dev.satchecker.cps.iau.noirlab.edu/fov/satellite-passes/?latitude=-30.1661&longitude=70.8149&elevation=2215&start_time_jd=2459739.911116933&duration=50.0&ra=22.748879166666665&dec=-14.293888055555556&fov_radius=1.0&group_by=satellite\n",
      "Satélites encontrados: []\n",
      "\n",
      "EXPNUM: 1103448\n",
      "DATE-OBS: 2022-06-09 09:52:00.503005 | Duración: 50.0 s\n",
      "RA: 22.749 deg | DEC: -14.294 deg | FOV: 1.0°\n",
      "0 satélites con nombre 'STARLINK' encontrados.\n",
      "\n",
      "No se encontraron satélites para graficar.\n"
     ]
    }
   ],
   "source": [
    "plot_satellites_in_exposure(1103448)"
   ]
  },
  {
   "cell_type": "code",
   "execution_count": 26,
   "id": "e311b3c3",
   "metadata": {},
   "outputs": [
    {
     "name": "stdout",
     "output_type": "stream",
     "text": [
      "\n",
      "Consultando SatChecker con la siguiente URL:\n",
      "https://dev.satchecker.cps.iau.noirlab.edu/fov/satellite-passes/?latitude=-30.1661&longitude=70.8149&elevation=2215&start_time_jd=2459739.911116933&duration=50.0&ra=22.748879166666665&dec=-14.293888055555556&fov_radius=1.0&group_by=satellite\n",
      "Satélites encontrados: []\n",
      "\n",
      "EXPNUM: 1103448\n",
      "DATE-OBS: 2022-06-09 09:52:00.503005 | Duración: 50.0 s\n",
      "RA: 22.749 deg | DEC: -14.294 deg | FOV: 1.0°\n",
      "0 satélites con nombre 'STARLINK' encontrados.\n",
      "\n"
     ]
    },
    {
     "data": {
      "text/plain": [
       "{}"
      ]
     },
     "execution_count": 26,
     "metadata": {},
     "output_type": "execute_result"
    }
   ],
   "source": [
    "find_satellites_in_decam_exp(1103448)"
   ]
  },
  {
   "cell_type": "markdown",
   "id": "d0b752b4",
   "metadata": {},
   "source": [
    "### Function but with all the satellites"
   ]
  },
  {
   "cell_type": "code",
   "execution_count": 34,
   "id": "514eca52",
   "metadata": {},
   "outputs": [],
   "source": [
    "def run_satchecker_fov_query(latitude, longitude, elevation, duration, start_time_jd, fov_radius, ra, dec):\n",
    "    \"\"\"Consulta SatChecker para satélites en el campo de visión (fov).\"\"\"\n",
    "  \n",
    "    url = (\n",
    "        f\"https://dev.satchecker.cps.iau.noirlab.edu/fov/satellite-passes/?\"\n",
    "        f\"latitude={latitude}&longitude={longitude}&elevation={elevation}&\"\n",
    "        f\"start_time_jd={start_time_jd}&duration={duration}&ra={ra}&dec={dec}&\"\n",
    "        f\"fov_radius={fov_radius}&group_by=satellite\"\n",
    "    )\n",
    "\n",
    "    print(f\"\\nConsultando SatChecker con la siguiente URL:\\n{url}\")\n",
    "\n",
    "    try:\n",
    "        response = requests.get(url, timeout=60)\n",
    "        response.raise_for_status()\n",
    "        data = response.json()\n",
    "    except Exception as e:\n",
    "        print(\"Error al consultar el API:\", e)\n",
    "        return {}\n",
    "\n",
    "    if 'data' not in data or 'satellites' not in data['data']:\n",
    "        print(\"Respuesta sin datos de satélites.\")\n",
    "        return {}\n",
    "\n",
    "    sats = {\n",
    "        k: [[p['ra'], p['dec'], p['julian_date']] for p in v['positions']]\n",
    "        for k, v in data['data']['satellites'].items()\n",
    "    }\n",
    "\n",
    "    print(f\"Satélites encontrados: {list(sats.keys())}\")\n",
    "    return sats\n"
   ]
  },
  {
   "cell_type": "code",
   "execution_count": 35,
   "id": "8a9e7b3b",
   "metadata": {},
   "outputs": [],
   "source": [
    "def find_satellites_in_decam_exp(EXPNUM, fov=1, verbose=True):\n",
    "    \"\"\"Dada una exposición DECam (EXPNUM), devuelve todos los satélites detectados en el FOV.\"\"\"\n",
    "    if EXPNUM not in telemetry1['EXPNUM'].values:\n",
    "        print(f\"EXPNUM {EXPNUM} no encontrado.\")\n",
    "        return {}\n",
    "\n",
    "    row = telemetry1[telemetry1['EXPNUM'] == EXPNUM].iloc[0]\n",
    "\n",
    "    latitude = row['OBS-LAT']\n",
    "    longitude = row['OBS-LONG']\n",
    "    elevation = row['OBS-ELEV']\n",
    "    duration = max(float(row['EXPTIME']), 1)\n",
    "    start_time_jd = Time(row['DATE-OBS']).jd\n",
    "\n",
    "    try:\n",
    "        ra = Angle(row['RA'], unit='hourangle').degree if isinstance(row['RA'], str) else float(row['RA'])\n",
    "    except:\n",
    "        ra = float(row['RA'])\n",
    "\n",
    "    try:\n",
    "        dec = Angle(row['DEC'], unit='deg').degree if isinstance(row['DEC'], str) else float(row['DEC'])\n",
    "    except:\n",
    "        dec = float(row['DEC'])\n",
    "\n",
    "    duration= duration*3\n",
    "    start_time_jd = (start_time_jd*u.day - duration*u.s).value\n",
    "    sats = run_satchecker_fov_query(latitude, longitude, elevation, duration, start_time_jd, fov, ra, dec)\n",
    "    \n",
    "    \n",
    "\n",
    "    if verbose:\n",
    "        print(f\"\\nEXPNUM: {EXPNUM}\")\n",
    "        print(f\"DATE-OBS: {row['DATE-OBS']} | Duración: {duration:.1f} s\")\n",
    "        print(f\"RA: {ra:.3f} deg | DEC: {dec:.3f} deg | FOV: {fov}°\")\n",
    "        print(f\"{len(sats)} satélites encontrados.\\n\")\n",
    "\n",
    "    return sats\n"
   ]
  },
  {
   "cell_type": "code",
   "execution_count": 36,
   "id": "5a261c49",
   "metadata": {},
   "outputs": [],
   "source": [
    "def plot_satellites_in_exposure(EXPNUM, fov_radius=1):\n",
    "    \"\"\"Grafica todos los satélites detectados en una exposición DECam.\"\"\"\n",
    "    sats = find_satellites_in_decam_exp(EXPNUM, fov=fov_radius, verbose=True)\n",
    "\n",
    "    if not sats:\n",
    "        print(\"No se encontraron satélites para graficar.\")\n",
    "        return\n",
    "\n",
    "    row = telemetry1[telemetry1['EXPNUM'] == EXPNUM].iloc[0]\n",
    "\n",
    "    coord = SkyCoord(\n",
    "        ra=row['RA'], dec=row['DEC'], unit=(u.hourangle, u.deg)\n",
    "    ) if ':' in str(row['RA']) else SkyCoord(\n",
    "        ra=float(row['RA'])*u.deg, dec=float(row['DEC'])*u.deg\n",
    "    )\n",
    "\n",
    "    ra_center = coord.ra.deg\n",
    "    dec_center = coord.dec.deg\n",
    "    duration = float(row['EXPTIME'])\n",
    "    start_time_jd = Time(row['DATE-OBS']).jd\n",
    "    duration= duration*3\n",
    "    start_time_jd = (start_time_jd*u.day - duration*u.s).value\n",
    "    \n",
    "    \n",
    "    # WCS\n",
    "    wcs = WCS(naxis=2)\n",
    "    wcs.wcs.crpix = [0, 0]\n",
    "    wcs.wcs.crval = [ra_center, dec_center]\n",
    "    wcs.wcs.cdelt = [0.1, 0.1]\n",
    "    wcs.wcs.ctype = ['RA---TAN', 'DEC--TAN']\n",
    "\n",
    "    fig = plt.figure(figsize=(14, 10))\n",
    "    ax = fig.add_subplot(1, 1, 1, projection=wcs)\n",
    "\n",
    "    # FOV\n",
    "    center = SkyCoord(ra=ra_center * u.deg, dec=dec_center * u.deg, frame='icrs')\n",
    "    angles = np.linspace(0, 360, 360) * u.deg\n",
    "    circle = center.directional_offset_by(angles, fov_radius * u.deg)\n",
    "    ax.plot(circle.ra.deg, circle.dec.deg, c='0.75', ls='--', label='FOV', transform=ax.get_transform('world'))\n",
    "\n",
    "    # Satélites\n",
    "    for sat_name, path in sats.items():\n",
    "        ra = [p[0] for p in path]\n",
    "        dec = [p[1] for p in path]\n",
    "\n",
    "        coords = SkyCoord(ra=ra * u.deg, dec=dec * u.deg)\n",
    "        ax.plot(coords.ra.deg, coords.dec.deg, transform=ax.get_transform('world'), label=sat_name)\n",
    "        ax.scatter(coords.ra.deg, coords.dec.deg, transform=ax.get_transform('world'), s=6)\n",
    "\n",
    "        # Etiqueta con el nombre\n",
    "        idx = 0 if coords.ra.deg[0] < coords.ra.deg[-1] else -1\n",
    "        ax.text(coords.ra.deg[idx], coords.dec.deg[idx], sat_name, transform=ax.get_transform('world'), fontsize=6)\n",
    "\n",
    "    ax.set_aspect('equal')\n",
    "    ax.legend(bbox_to_anchor=(0.95, 1), loc='upper left', fontsize=6)\n",
    "    ax.set_xlabel('Right Ascension')\n",
    "    ax.set_ylabel('Declination')\n",
    "    ax.set_title(f'Satellite Passes for {EXPNUM} at JD {start_time_jd:.4f} (duration {duration:.1f} s)')\n",
    "    ax.invert_xaxis()\n",
    "    ax.grid(True, linestyle='--', color='lightgray')\n",
    "\n",
    "    plt.draw()\n"
   ]
  },
  {
   "cell_type": "code",
   "execution_count": 37,
   "id": "ffc09730",
   "metadata": {},
   "outputs": [
    {
     "name": "stdout",
     "output_type": "stream",
     "text": [
      "\n",
      "Consultando SatChecker con la siguiente URL:\n",
      "https://dev.satchecker.cps.iau.noirlab.edu/fov/satellite-passes/?latitude=-30.1661&longitude=70.8149&elevation=2215&start_time_jd=2459893.736285483&duration=270.0&ra=48.45965833333333&dec=-14.602528055555554&fov_radius=1&group_by=satellite\n",
      "Satélites encontrados: ['CELESTIS 21/VARISAT 1C (52766)', 'COSMOS 1759 (16798)', 'COSMOS 796 (8612)', 'FOSSASAT2E11 (52750)', 'GLOBALSTAR M071 (31576)', 'OBJECT V (52751)', 'ONEWEB-0138 (47284)', 'ONEWEB-0317 (49103)', 'PLANETUM1 (52738)', 'SL-14 R/B (20671)', 'STARLINK-1282 (45409)', 'STARLINK-1350 (45535)', 'STARLINK-1549 (46074)', 'STARLINK-1560 (46036)', 'STARLINK-2275 (48600)', 'STARLINK-2537 (48301)', 'STARLINK-2646 (48642)', 'STARLINK-2648 (48679)', 'STARLINK-2734 (48657)', 'STARLINK-3688 (52310)', 'STARLINK-3722 (52089)', 'STARLINK-3765 (52295)', 'STARLINK-3791 (52269)', 'STARLINK-3930 (52568)', 'STARLINK-3933 (52538)', 'STARLINK-3955 (52561)', 'STARLINK-4254 (52998)', 'STARLINK-4296 (52995)', 'STARLINK-4304 (53414)', 'STARLINK-4538 (53430)']\n",
      "\n",
      "EXPNUM: 1149389\n",
      "DATE-OBS: 2022-11-10 05:44:45.065712 | Duración: 270.0 s\n",
      "RA: 48.460 deg | DEC: -14.603 deg | FOV: 1°\n",
      "30 satélites encontrados.\n",
      "\n"
     ]
    },
    {
     "data": {
      "application/javascript": [
       "/* Put everything inside the global mpl namespace */\n",
       "/* global mpl */\n",
       "window.mpl = {};\n",
       "\n",
       "mpl.get_websocket_type = function () {\n",
       "    if (typeof WebSocket !== 'undefined') {\n",
       "        return WebSocket;\n",
       "    } else if (typeof MozWebSocket !== 'undefined') {\n",
       "        return MozWebSocket;\n",
       "    } else {\n",
       "        alert(\n",
       "            'Your browser does not have WebSocket support. ' +\n",
       "                'Please try Chrome, Safari or Firefox ≥ 6. ' +\n",
       "                'Firefox 4 and 5 are also supported but you ' +\n",
       "                'have to enable WebSockets in about:config.'\n",
       "        );\n",
       "    }\n",
       "};\n",
       "\n",
       "mpl.figure = function (figure_id, websocket, ondownload, parent_element) {\n",
       "    this.id = figure_id;\n",
       "\n",
       "    this.ws = websocket;\n",
       "\n",
       "    this.supports_binary = this.ws.binaryType !== undefined;\n",
       "\n",
       "    if (!this.supports_binary) {\n",
       "        var warnings = document.getElementById('mpl-warnings');\n",
       "        if (warnings) {\n",
       "            warnings.style.display = 'block';\n",
       "            warnings.textContent =\n",
       "                'This browser does not support binary websocket messages. ' +\n",
       "                'Performance may be slow.';\n",
       "        }\n",
       "    }\n",
       "\n",
       "    this.imageObj = new Image();\n",
       "\n",
       "    this.context = undefined;\n",
       "    this.message = undefined;\n",
       "    this.canvas = undefined;\n",
       "    this.rubberband_canvas = undefined;\n",
       "    this.rubberband_context = undefined;\n",
       "    this.format_dropdown = undefined;\n",
       "\n",
       "    this.image_mode = 'full';\n",
       "\n",
       "    this.root = document.createElement('div');\n",
       "    this.root.setAttribute('style', 'display: inline-block');\n",
       "    this._root_extra_style(this.root);\n",
       "\n",
       "    parent_element.appendChild(this.root);\n",
       "\n",
       "    this._init_header(this);\n",
       "    this._init_canvas(this);\n",
       "    this._init_toolbar(this);\n",
       "\n",
       "    var fig = this;\n",
       "\n",
       "    this.waiting = false;\n",
       "\n",
       "    this.ws.onopen = function () {\n",
       "        fig.send_message('supports_binary', { value: fig.supports_binary });\n",
       "        fig.send_message('send_image_mode', {});\n",
       "        if (fig.ratio !== 1) {\n",
       "            fig.send_message('set_device_pixel_ratio', {\n",
       "                device_pixel_ratio: fig.ratio,\n",
       "            });\n",
       "        }\n",
       "        fig.send_message('refresh', {});\n",
       "    };\n",
       "\n",
       "    this.imageObj.onload = function () {\n",
       "        if (fig.image_mode === 'full') {\n",
       "            // Full images could contain transparency (where diff images\n",
       "            // almost always do), so we need to clear the canvas so that\n",
       "            // there is no ghosting.\n",
       "            fig.context.clearRect(0, 0, fig.canvas.width, fig.canvas.height);\n",
       "        }\n",
       "        fig.context.drawImage(fig.imageObj, 0, 0);\n",
       "    };\n",
       "\n",
       "    this.imageObj.onunload = function () {\n",
       "        fig.ws.close();\n",
       "    };\n",
       "\n",
       "    this.ws.onmessage = this._make_on_message_function(this);\n",
       "\n",
       "    this.ondownload = ondownload;\n",
       "};\n",
       "\n",
       "mpl.figure.prototype._init_header = function () {\n",
       "    var titlebar = document.createElement('div');\n",
       "    titlebar.classList =\n",
       "        'ui-dialog-titlebar ui-widget-header ui-corner-all ui-helper-clearfix';\n",
       "    var titletext = document.createElement('div');\n",
       "    titletext.classList = 'ui-dialog-title';\n",
       "    titletext.setAttribute(\n",
       "        'style',\n",
       "        'width: 100%; text-align: center; padding: 3px;'\n",
       "    );\n",
       "    titlebar.appendChild(titletext);\n",
       "    this.root.appendChild(titlebar);\n",
       "    this.header = titletext;\n",
       "};\n",
       "\n",
       "mpl.figure.prototype._canvas_extra_style = function (_canvas_div) {};\n",
       "\n",
       "mpl.figure.prototype._root_extra_style = function (_canvas_div) {};\n",
       "\n",
       "mpl.figure.prototype._init_canvas = function () {\n",
       "    var fig = this;\n",
       "\n",
       "    var canvas_div = (this.canvas_div = document.createElement('div'));\n",
       "    canvas_div.setAttribute(\n",
       "        'style',\n",
       "        'border: 1px solid #ddd;' +\n",
       "            'box-sizing: content-box;' +\n",
       "            'clear: both;' +\n",
       "            'min-height: 1px;' +\n",
       "            'min-width: 1px;' +\n",
       "            'outline: 0;' +\n",
       "            'overflow: hidden;' +\n",
       "            'position: relative;' +\n",
       "            'resize: both;'\n",
       "    );\n",
       "\n",
       "    function on_keyboard_event_closure(name) {\n",
       "        return function (event) {\n",
       "            return fig.key_event(event, name);\n",
       "        };\n",
       "    }\n",
       "\n",
       "    canvas_div.addEventListener(\n",
       "        'keydown',\n",
       "        on_keyboard_event_closure('key_press')\n",
       "    );\n",
       "    canvas_div.addEventListener(\n",
       "        'keyup',\n",
       "        on_keyboard_event_closure('key_release')\n",
       "    );\n",
       "\n",
       "    this._canvas_extra_style(canvas_div);\n",
       "    this.root.appendChild(canvas_div);\n",
       "\n",
       "    var canvas = (this.canvas = document.createElement('canvas'));\n",
       "    canvas.classList.add('mpl-canvas');\n",
       "    canvas.setAttribute('style', 'box-sizing: content-box;');\n",
       "\n",
       "    this.context = canvas.getContext('2d');\n",
       "\n",
       "    var backingStore =\n",
       "        this.context.backingStorePixelRatio ||\n",
       "        this.context.webkitBackingStorePixelRatio ||\n",
       "        this.context.mozBackingStorePixelRatio ||\n",
       "        this.context.msBackingStorePixelRatio ||\n",
       "        this.context.oBackingStorePixelRatio ||\n",
       "        this.context.backingStorePixelRatio ||\n",
       "        1;\n",
       "\n",
       "    this.ratio = (window.devicePixelRatio || 1) / backingStore;\n",
       "\n",
       "    var rubberband_canvas = (this.rubberband_canvas = document.createElement(\n",
       "        'canvas'\n",
       "    ));\n",
       "    rubberband_canvas.setAttribute(\n",
       "        'style',\n",
       "        'box-sizing: content-box; position: absolute; left: 0; top: 0; z-index: 1;'\n",
       "    );\n",
       "\n",
       "    // Apply a ponyfill if ResizeObserver is not implemented by browser.\n",
       "    if (this.ResizeObserver === undefined) {\n",
       "        if (window.ResizeObserver !== undefined) {\n",
       "            this.ResizeObserver = window.ResizeObserver;\n",
       "        } else {\n",
       "            var obs = _JSXTOOLS_RESIZE_OBSERVER({});\n",
       "            this.ResizeObserver = obs.ResizeObserver;\n",
       "        }\n",
       "    }\n",
       "\n",
       "    this.resizeObserverInstance = new this.ResizeObserver(function (entries) {\n",
       "        var nentries = entries.length;\n",
       "        for (var i = 0; i < nentries; i++) {\n",
       "            var entry = entries[i];\n",
       "            var width, height;\n",
       "            if (entry.contentBoxSize) {\n",
       "                if (entry.contentBoxSize instanceof Array) {\n",
       "                    // Chrome 84 implements new version of spec.\n",
       "                    width = entry.contentBoxSize[0].inlineSize;\n",
       "                    height = entry.contentBoxSize[0].blockSize;\n",
       "                } else {\n",
       "                    // Firefox implements old version of spec.\n",
       "                    width = entry.contentBoxSize.inlineSize;\n",
       "                    height = entry.contentBoxSize.blockSize;\n",
       "                }\n",
       "            } else {\n",
       "                // Chrome <84 implements even older version of spec.\n",
       "                width = entry.contentRect.width;\n",
       "                height = entry.contentRect.height;\n",
       "            }\n",
       "\n",
       "            // Keep the size of the canvas and rubber band canvas in sync with\n",
       "            // the canvas container.\n",
       "            if (entry.devicePixelContentBoxSize) {\n",
       "                // Chrome 84 implements new version of spec.\n",
       "                canvas.setAttribute(\n",
       "                    'width',\n",
       "                    entry.devicePixelContentBoxSize[0].inlineSize\n",
       "                );\n",
       "                canvas.setAttribute(\n",
       "                    'height',\n",
       "                    entry.devicePixelContentBoxSize[0].blockSize\n",
       "                );\n",
       "            } else {\n",
       "                canvas.setAttribute('width', width * fig.ratio);\n",
       "                canvas.setAttribute('height', height * fig.ratio);\n",
       "            }\n",
       "            canvas.setAttribute(\n",
       "                'style',\n",
       "                'width: ' + width + 'px; height: ' + height + 'px;'\n",
       "            );\n",
       "\n",
       "            rubberband_canvas.setAttribute('width', width);\n",
       "            rubberband_canvas.setAttribute('height', height);\n",
       "\n",
       "            // And update the size in Python. We ignore the initial 0/0 size\n",
       "            // that occurs as the element is placed into the DOM, which should\n",
       "            // otherwise not happen due to the minimum size styling.\n",
       "            if (fig.ws.readyState == 1 && width != 0 && height != 0) {\n",
       "                fig.request_resize(width, height);\n",
       "            }\n",
       "        }\n",
       "    });\n",
       "    this.resizeObserverInstance.observe(canvas_div);\n",
       "\n",
       "    function on_mouse_event_closure(name) {\n",
       "        return function (event) {\n",
       "            return fig.mouse_event(event, name);\n",
       "        };\n",
       "    }\n",
       "\n",
       "    rubberband_canvas.addEventListener(\n",
       "        'mousedown',\n",
       "        on_mouse_event_closure('button_press')\n",
       "    );\n",
       "    rubberband_canvas.addEventListener(\n",
       "        'mouseup',\n",
       "        on_mouse_event_closure('button_release')\n",
       "    );\n",
       "    rubberband_canvas.addEventListener(\n",
       "        'dblclick',\n",
       "        on_mouse_event_closure('dblclick')\n",
       "    );\n",
       "    // Throttle sequential mouse events to 1 every 20ms.\n",
       "    rubberband_canvas.addEventListener(\n",
       "        'mousemove',\n",
       "        on_mouse_event_closure('motion_notify')\n",
       "    );\n",
       "\n",
       "    rubberband_canvas.addEventListener(\n",
       "        'mouseenter',\n",
       "        on_mouse_event_closure('figure_enter')\n",
       "    );\n",
       "    rubberband_canvas.addEventListener(\n",
       "        'mouseleave',\n",
       "        on_mouse_event_closure('figure_leave')\n",
       "    );\n",
       "\n",
       "    canvas_div.addEventListener('wheel', function (event) {\n",
       "        if (event.deltaY < 0) {\n",
       "            event.step = 1;\n",
       "        } else {\n",
       "            event.step = -1;\n",
       "        }\n",
       "        on_mouse_event_closure('scroll')(event);\n",
       "    });\n",
       "\n",
       "    canvas_div.appendChild(canvas);\n",
       "    canvas_div.appendChild(rubberband_canvas);\n",
       "\n",
       "    this.rubberband_context = rubberband_canvas.getContext('2d');\n",
       "    this.rubberband_context.strokeStyle = '#000000';\n",
       "\n",
       "    this._resize_canvas = function (width, height, forward) {\n",
       "        if (forward) {\n",
       "            canvas_div.style.width = width + 'px';\n",
       "            canvas_div.style.height = height + 'px';\n",
       "        }\n",
       "    };\n",
       "\n",
       "    // Disable right mouse context menu.\n",
       "    this.rubberband_canvas.addEventListener('contextmenu', function (_e) {\n",
       "        event.preventDefault();\n",
       "        return false;\n",
       "    });\n",
       "\n",
       "    function set_focus() {\n",
       "        canvas.focus();\n",
       "        canvas_div.focus();\n",
       "    }\n",
       "\n",
       "    window.setTimeout(set_focus, 100);\n",
       "};\n",
       "\n",
       "mpl.figure.prototype._init_toolbar = function () {\n",
       "    var fig = this;\n",
       "\n",
       "    var toolbar = document.createElement('div');\n",
       "    toolbar.classList = 'mpl-toolbar';\n",
       "    this.root.appendChild(toolbar);\n",
       "\n",
       "    function on_click_closure(name) {\n",
       "        return function (_event) {\n",
       "            return fig.toolbar_button_onclick(name);\n",
       "        };\n",
       "    }\n",
       "\n",
       "    function on_mouseover_closure(tooltip) {\n",
       "        return function (event) {\n",
       "            if (!event.currentTarget.disabled) {\n",
       "                return fig.toolbar_button_onmouseover(tooltip);\n",
       "            }\n",
       "        };\n",
       "    }\n",
       "\n",
       "    fig.buttons = {};\n",
       "    var buttonGroup = document.createElement('div');\n",
       "    buttonGroup.classList = 'mpl-button-group';\n",
       "    for (var toolbar_ind in mpl.toolbar_items) {\n",
       "        var name = mpl.toolbar_items[toolbar_ind][0];\n",
       "        var tooltip = mpl.toolbar_items[toolbar_ind][1];\n",
       "        var image = mpl.toolbar_items[toolbar_ind][2];\n",
       "        var method_name = mpl.toolbar_items[toolbar_ind][3];\n",
       "\n",
       "        if (!name) {\n",
       "            /* Instead of a spacer, we start a new button group. */\n",
       "            if (buttonGroup.hasChildNodes()) {\n",
       "                toolbar.appendChild(buttonGroup);\n",
       "            }\n",
       "            buttonGroup = document.createElement('div');\n",
       "            buttonGroup.classList = 'mpl-button-group';\n",
       "            continue;\n",
       "        }\n",
       "\n",
       "        var button = (fig.buttons[name] = document.createElement('button'));\n",
       "        button.classList = 'mpl-widget';\n",
       "        button.setAttribute('role', 'button');\n",
       "        button.setAttribute('aria-disabled', 'false');\n",
       "        button.addEventListener('click', on_click_closure(method_name));\n",
       "        button.addEventListener('mouseover', on_mouseover_closure(tooltip));\n",
       "\n",
       "        var icon_img = document.createElement('img');\n",
       "        icon_img.src = '_images/' + image + '.png';\n",
       "        icon_img.srcset = '_images/' + image + '_large.png 2x';\n",
       "        icon_img.alt = tooltip;\n",
       "        button.appendChild(icon_img);\n",
       "\n",
       "        buttonGroup.appendChild(button);\n",
       "    }\n",
       "\n",
       "    if (buttonGroup.hasChildNodes()) {\n",
       "        toolbar.appendChild(buttonGroup);\n",
       "    }\n",
       "\n",
       "    var fmt_picker = document.createElement('select');\n",
       "    fmt_picker.classList = 'mpl-widget';\n",
       "    toolbar.appendChild(fmt_picker);\n",
       "    this.format_dropdown = fmt_picker;\n",
       "\n",
       "    for (var ind in mpl.extensions) {\n",
       "        var fmt = mpl.extensions[ind];\n",
       "        var option = document.createElement('option');\n",
       "        option.selected = fmt === mpl.default_extension;\n",
       "        option.innerHTML = fmt;\n",
       "        fmt_picker.appendChild(option);\n",
       "    }\n",
       "\n",
       "    var status_bar = document.createElement('span');\n",
       "    status_bar.classList = 'mpl-message';\n",
       "    toolbar.appendChild(status_bar);\n",
       "    this.message = status_bar;\n",
       "};\n",
       "\n",
       "mpl.figure.prototype.request_resize = function (x_pixels, y_pixels) {\n",
       "    // Request matplotlib to resize the figure. Matplotlib will then trigger a resize in the client,\n",
       "    // which will in turn request a refresh of the image.\n",
       "    this.send_message('resize', { width: x_pixels, height: y_pixels });\n",
       "};\n",
       "\n",
       "mpl.figure.prototype.send_message = function (type, properties) {\n",
       "    properties['type'] = type;\n",
       "    properties['figure_id'] = this.id;\n",
       "    this.ws.send(JSON.stringify(properties));\n",
       "};\n",
       "\n",
       "mpl.figure.prototype.send_draw_message = function () {\n",
       "    if (!this.waiting) {\n",
       "        this.waiting = true;\n",
       "        this.ws.send(JSON.stringify({ type: 'draw', figure_id: this.id }));\n",
       "    }\n",
       "};\n",
       "\n",
       "mpl.figure.prototype.handle_save = function (fig, _msg) {\n",
       "    var format_dropdown = fig.format_dropdown;\n",
       "    var format = format_dropdown.options[format_dropdown.selectedIndex].value;\n",
       "    fig.ondownload(fig, format);\n",
       "};\n",
       "\n",
       "mpl.figure.prototype.handle_resize = function (fig, msg) {\n",
       "    var size = msg['size'];\n",
       "    if (size[0] !== fig.canvas.width || size[1] !== fig.canvas.height) {\n",
       "        fig._resize_canvas(size[0], size[1], msg['forward']);\n",
       "        fig.send_message('refresh', {});\n",
       "    }\n",
       "};\n",
       "\n",
       "mpl.figure.prototype.handle_rubberband = function (fig, msg) {\n",
       "    var x0 = msg['x0'] / fig.ratio;\n",
       "    var y0 = (fig.canvas.height - msg['y0']) / fig.ratio;\n",
       "    var x1 = msg['x1'] / fig.ratio;\n",
       "    var y1 = (fig.canvas.height - msg['y1']) / fig.ratio;\n",
       "    x0 = Math.floor(x0) + 0.5;\n",
       "    y0 = Math.floor(y0) + 0.5;\n",
       "    x1 = Math.floor(x1) + 0.5;\n",
       "    y1 = Math.floor(y1) + 0.5;\n",
       "    var min_x = Math.min(x0, x1);\n",
       "    var min_y = Math.min(y0, y1);\n",
       "    var width = Math.abs(x1 - x0);\n",
       "    var height = Math.abs(y1 - y0);\n",
       "\n",
       "    fig.rubberband_context.clearRect(\n",
       "        0,\n",
       "        0,\n",
       "        fig.canvas.width / fig.ratio,\n",
       "        fig.canvas.height / fig.ratio\n",
       "    );\n",
       "\n",
       "    fig.rubberband_context.strokeRect(min_x, min_y, width, height);\n",
       "};\n",
       "\n",
       "mpl.figure.prototype.handle_figure_label = function (fig, msg) {\n",
       "    // Updates the figure title.\n",
       "    fig.header.textContent = msg['label'];\n",
       "};\n",
       "\n",
       "mpl.figure.prototype.handle_cursor = function (fig, msg) {\n",
       "    fig.rubberband_canvas.style.cursor = msg['cursor'];\n",
       "};\n",
       "\n",
       "mpl.figure.prototype.handle_message = function (fig, msg) {\n",
       "    fig.message.textContent = msg['message'];\n",
       "};\n",
       "\n",
       "mpl.figure.prototype.handle_draw = function (fig, _msg) {\n",
       "    // Request the server to send over a new figure.\n",
       "    fig.send_draw_message();\n",
       "};\n",
       "\n",
       "mpl.figure.prototype.handle_image_mode = function (fig, msg) {\n",
       "    fig.image_mode = msg['mode'];\n",
       "};\n",
       "\n",
       "mpl.figure.prototype.handle_history_buttons = function (fig, msg) {\n",
       "    for (var key in msg) {\n",
       "        if (!(key in fig.buttons)) {\n",
       "            continue;\n",
       "        }\n",
       "        fig.buttons[key].disabled = !msg[key];\n",
       "        fig.buttons[key].setAttribute('aria-disabled', !msg[key]);\n",
       "    }\n",
       "};\n",
       "\n",
       "mpl.figure.prototype.handle_navigate_mode = function (fig, msg) {\n",
       "    if (msg['mode'] === 'PAN') {\n",
       "        fig.buttons['Pan'].classList.add('active');\n",
       "        fig.buttons['Zoom'].classList.remove('active');\n",
       "    } else if (msg['mode'] === 'ZOOM') {\n",
       "        fig.buttons['Pan'].classList.remove('active');\n",
       "        fig.buttons['Zoom'].classList.add('active');\n",
       "    } else {\n",
       "        fig.buttons['Pan'].classList.remove('active');\n",
       "        fig.buttons['Zoom'].classList.remove('active');\n",
       "    }\n",
       "};\n",
       "\n",
       "mpl.figure.prototype.updated_canvas_event = function () {\n",
       "    // Called whenever the canvas gets updated.\n",
       "    this.send_message('ack', {});\n",
       "};\n",
       "\n",
       "// A function to construct a web socket function for onmessage handling.\n",
       "// Called in the figure constructor.\n",
       "mpl.figure.prototype._make_on_message_function = function (fig) {\n",
       "    return function socket_on_message(evt) {\n",
       "        if (evt.data instanceof Blob) {\n",
       "            var img = evt.data;\n",
       "            if (img.type !== 'image/png') {\n",
       "                /* FIXME: We get \"Resource interpreted as Image but\n",
       "                 * transferred with MIME type text/plain:\" errors on\n",
       "                 * Chrome.  But how to set the MIME type?  It doesn't seem\n",
       "                 * to be part of the websocket stream */\n",
       "                img.type = 'image/png';\n",
       "            }\n",
       "\n",
       "            /* Free the memory for the previous frames */\n",
       "            if (fig.imageObj.src) {\n",
       "                (window.URL || window.webkitURL).revokeObjectURL(\n",
       "                    fig.imageObj.src\n",
       "                );\n",
       "            }\n",
       "\n",
       "            fig.imageObj.src = (window.URL || window.webkitURL).createObjectURL(\n",
       "                img\n",
       "            );\n",
       "            fig.updated_canvas_event();\n",
       "            fig.waiting = false;\n",
       "            return;\n",
       "        } else if (\n",
       "            typeof evt.data === 'string' &&\n",
       "            evt.data.slice(0, 21) === 'data:image/png;base64'\n",
       "        ) {\n",
       "            fig.imageObj.src = evt.data;\n",
       "            fig.updated_canvas_event();\n",
       "            fig.waiting = false;\n",
       "            return;\n",
       "        }\n",
       "\n",
       "        var msg = JSON.parse(evt.data);\n",
       "        var msg_type = msg['type'];\n",
       "\n",
       "        // Call the  \"handle_{type}\" callback, which takes\n",
       "        // the figure and JSON message as its only arguments.\n",
       "        try {\n",
       "            var callback = fig['handle_' + msg_type];\n",
       "        } catch (e) {\n",
       "            console.log(\n",
       "                \"No handler for the '\" + msg_type + \"' message type: \",\n",
       "                msg\n",
       "            );\n",
       "            return;\n",
       "        }\n",
       "\n",
       "        if (callback) {\n",
       "            try {\n",
       "                // console.log(\"Handling '\" + msg_type + \"' message: \", msg);\n",
       "                callback(fig, msg);\n",
       "            } catch (e) {\n",
       "                console.log(\n",
       "                    \"Exception inside the 'handler_\" + msg_type + \"' callback:\",\n",
       "                    e,\n",
       "                    e.stack,\n",
       "                    msg\n",
       "                );\n",
       "            }\n",
       "        }\n",
       "    };\n",
       "};\n",
       "\n",
       "// from https://stackoverflow.com/questions/1114465/getting-mouse-location-in-canvas\n",
       "mpl.findpos = function (e) {\n",
       "    //this section is from http://www.quirksmode.org/js/events_properties.html\n",
       "    var targ;\n",
       "    if (!e) {\n",
       "        e = window.event;\n",
       "    }\n",
       "    if (e.target) {\n",
       "        targ = e.target;\n",
       "    } else if (e.srcElement) {\n",
       "        targ = e.srcElement;\n",
       "    }\n",
       "    if (targ.nodeType === 3) {\n",
       "        // defeat Safari bug\n",
       "        targ = targ.parentNode;\n",
       "    }\n",
       "\n",
       "    // pageX,Y are the mouse positions relative to the document\n",
       "    var boundingRect = targ.getBoundingClientRect();\n",
       "    var x = e.pageX - (boundingRect.left + document.body.scrollLeft);\n",
       "    var y = e.pageY - (boundingRect.top + document.body.scrollTop);\n",
       "\n",
       "    return { x: x, y: y };\n",
       "};\n",
       "\n",
       "/*\n",
       " * return a copy of an object with only non-object keys\n",
       " * we need this to avoid circular references\n",
       " * https://stackoverflow.com/a/24161582/3208463\n",
       " */\n",
       "function simpleKeys(original) {\n",
       "    return Object.keys(original).reduce(function (obj, key) {\n",
       "        if (typeof original[key] !== 'object') {\n",
       "            obj[key] = original[key];\n",
       "        }\n",
       "        return obj;\n",
       "    }, {});\n",
       "}\n",
       "\n",
       "mpl.figure.prototype.mouse_event = function (event, name) {\n",
       "    var canvas_pos = mpl.findpos(event);\n",
       "\n",
       "    if (name === 'button_press') {\n",
       "        this.canvas.focus();\n",
       "        this.canvas_div.focus();\n",
       "    }\n",
       "\n",
       "    var x = canvas_pos.x * this.ratio;\n",
       "    var y = canvas_pos.y * this.ratio;\n",
       "\n",
       "    this.send_message(name, {\n",
       "        x: x,\n",
       "        y: y,\n",
       "        button: event.button,\n",
       "        step: event.step,\n",
       "        guiEvent: simpleKeys(event),\n",
       "    });\n",
       "\n",
       "    /* This prevents the web browser from automatically changing to\n",
       "     * the text insertion cursor when the button is pressed.  We want\n",
       "     * to control all of the cursor setting manually through the\n",
       "     * 'cursor' event from matplotlib */\n",
       "    event.preventDefault();\n",
       "    return false;\n",
       "};\n",
       "\n",
       "mpl.figure.prototype._key_event_extra = function (_event, _name) {\n",
       "    // Handle any extra behaviour associated with a key event\n",
       "};\n",
       "\n",
       "mpl.figure.prototype.key_event = function (event, name) {\n",
       "    // Prevent repeat events\n",
       "    if (name === 'key_press') {\n",
       "        if (event.key === this._key) {\n",
       "            return;\n",
       "        } else {\n",
       "            this._key = event.key;\n",
       "        }\n",
       "    }\n",
       "    if (name === 'key_release') {\n",
       "        this._key = null;\n",
       "    }\n",
       "\n",
       "    var value = '';\n",
       "    if (event.ctrlKey && event.key !== 'Control') {\n",
       "        value += 'ctrl+';\n",
       "    }\n",
       "    else if (event.altKey && event.key !== 'Alt') {\n",
       "        value += 'alt+';\n",
       "    }\n",
       "    else if (event.shiftKey && event.key !== 'Shift') {\n",
       "        value += 'shift+';\n",
       "    }\n",
       "\n",
       "    value += 'k' + event.key;\n",
       "\n",
       "    this._key_event_extra(event, name);\n",
       "\n",
       "    this.send_message(name, { key: value, guiEvent: simpleKeys(event) });\n",
       "    return false;\n",
       "};\n",
       "\n",
       "mpl.figure.prototype.toolbar_button_onclick = function (name) {\n",
       "    if (name === 'download') {\n",
       "        this.handle_save(this, null);\n",
       "    } else {\n",
       "        this.send_message('toolbar_button', { name: name });\n",
       "    }\n",
       "};\n",
       "\n",
       "mpl.figure.prototype.toolbar_button_onmouseover = function (tooltip) {\n",
       "    this.message.textContent = tooltip;\n",
       "};\n",
       "\n",
       "///////////////// REMAINING CONTENT GENERATED BY embed_js.py /////////////////\n",
       "// prettier-ignore\n",
       "var _JSXTOOLS_RESIZE_OBSERVER=function(A){var t,i=new WeakMap,n=new WeakMap,a=new WeakMap,r=new WeakMap,o=new Set;function s(e){if(!(this instanceof s))throw new TypeError(\"Constructor requires 'new' operator\");i.set(this,e)}function h(){throw new TypeError(\"Function is not a constructor\")}function c(e,t,i,n){e=0 in arguments?Number(arguments[0]):0,t=1 in arguments?Number(arguments[1]):0,i=2 in arguments?Number(arguments[2]):0,n=3 in arguments?Number(arguments[3]):0,this.right=(this.x=this.left=e)+(this.width=i),this.bottom=(this.y=this.top=t)+(this.height=n),Object.freeze(this)}function d(){t=requestAnimationFrame(d);var s=new WeakMap,p=new Set;o.forEach((function(t){r.get(t).forEach((function(i){var r=t instanceof window.SVGElement,o=a.get(t),d=r?0:parseFloat(o.paddingTop),f=r?0:parseFloat(o.paddingRight),l=r?0:parseFloat(o.paddingBottom),u=r?0:parseFloat(o.paddingLeft),g=r?0:parseFloat(o.borderTopWidth),m=r?0:parseFloat(o.borderRightWidth),w=r?0:parseFloat(o.borderBottomWidth),b=u+f,F=d+l,v=(r?0:parseFloat(o.borderLeftWidth))+m,W=g+w,y=r?0:t.offsetHeight-W-t.clientHeight,E=r?0:t.offsetWidth-v-t.clientWidth,R=b+v,z=F+W,M=r?t.width:parseFloat(o.width)-R-E,O=r?t.height:parseFloat(o.height)-z-y;if(n.has(t)){var k=n.get(t);if(k[0]===M&&k[1]===O)return}n.set(t,[M,O]);var S=Object.create(h.prototype);S.target=t,S.contentRect=new c(u,d,M,O),s.has(i)||(s.set(i,[]),p.add(i)),s.get(i).push(S)}))})),p.forEach((function(e){i.get(e).call(e,s.get(e),e)}))}return s.prototype.observe=function(i){if(i instanceof window.Element){r.has(i)||(r.set(i,new Set),o.add(i),a.set(i,window.getComputedStyle(i)));var n=r.get(i);n.has(this)||n.add(this),cancelAnimationFrame(t),t=requestAnimationFrame(d)}},s.prototype.unobserve=function(i){if(i instanceof window.Element&&r.has(i)){var n=r.get(i);n.has(this)&&(n.delete(this),n.size||(r.delete(i),o.delete(i))),n.size||r.delete(i),o.size||cancelAnimationFrame(t)}},A.DOMRectReadOnly=c,A.ResizeObserver=s,A.ResizeObserverEntry=h,A}; // eslint-disable-line\n",
       "mpl.toolbar_items = [[\"Home\", \"Reset original view\", \"fa fa-home icon-home\", \"home\"], [\"Back\", \"Back to previous view\", \"fa fa-arrow-left icon-arrow-left\", \"back\"], [\"Forward\", \"Forward to next view\", \"fa fa-arrow-right icon-arrow-right\", \"forward\"], [\"\", \"\", \"\", \"\"], [\"Pan\", \"Left button pans, Right button zooms\\nx/y fixes axis, CTRL fixes aspect\", \"fa fa-arrows icon-move\", \"pan\"], [\"Zoom\", \"Zoom to rectangle\\nx/y fixes axis\", \"fa fa-square-o icon-check-empty\", \"zoom\"], [\"\", \"\", \"\", \"\"], [\"Download\", \"Download plot\", \"fa fa-floppy-o icon-save\", \"download\"]];\n",
       "\n",
       "mpl.extensions = [\"eps\", \"jpeg\", \"pgf\", \"pdf\", \"png\", \"ps\", \"raw\", \"svg\", \"tif\"];\n",
       "\n",
       "mpl.default_extension = \"png\";/* global mpl */\n",
       "\n",
       "var comm_websocket_adapter = function (comm) {\n",
       "    // Create a \"websocket\"-like object which calls the given IPython comm\n",
       "    // object with the appropriate methods. Currently this is a non binary\n",
       "    // socket, so there is still some room for performance tuning.\n",
       "    var ws = {};\n",
       "\n",
       "    ws.binaryType = comm.kernel.ws.binaryType;\n",
       "    ws.readyState = comm.kernel.ws.readyState;\n",
       "    function updateReadyState(_event) {\n",
       "        if (comm.kernel.ws) {\n",
       "            ws.readyState = comm.kernel.ws.readyState;\n",
       "        } else {\n",
       "            ws.readyState = 3; // Closed state.\n",
       "        }\n",
       "    }\n",
       "    comm.kernel.ws.addEventListener('open', updateReadyState);\n",
       "    comm.kernel.ws.addEventListener('close', updateReadyState);\n",
       "    comm.kernel.ws.addEventListener('error', updateReadyState);\n",
       "\n",
       "    ws.close = function () {\n",
       "        comm.close();\n",
       "    };\n",
       "    ws.send = function (m) {\n",
       "        //console.log('sending', m);\n",
       "        comm.send(m);\n",
       "    };\n",
       "    // Register the callback with on_msg.\n",
       "    comm.on_msg(function (msg) {\n",
       "        //console.log('receiving', msg['content']['data'], msg);\n",
       "        var data = msg['content']['data'];\n",
       "        if (data['blob'] !== undefined) {\n",
       "            data = {\n",
       "                data: new Blob(msg['buffers'], { type: data['blob'] }),\n",
       "            };\n",
       "        }\n",
       "        // Pass the mpl event to the overridden (by mpl) onmessage function.\n",
       "        ws.onmessage(data);\n",
       "    });\n",
       "    return ws;\n",
       "};\n",
       "\n",
       "mpl.mpl_figure_comm = function (comm, msg) {\n",
       "    // This is the function which gets called when the mpl process\n",
       "    // starts-up an IPython Comm through the \"matplotlib\" channel.\n",
       "\n",
       "    var id = msg.content.data.id;\n",
       "    // Get hold of the div created by the display call when the Comm\n",
       "    // socket was opened in Python.\n",
       "    var element = document.getElementById(id);\n",
       "    var ws_proxy = comm_websocket_adapter(comm);\n",
       "\n",
       "    function ondownload(figure, _format) {\n",
       "        window.open(figure.canvas.toDataURL());\n",
       "    }\n",
       "\n",
       "    var fig = new mpl.figure(id, ws_proxy, ondownload, element);\n",
       "\n",
       "    // Call onopen now - mpl needs it, as it is assuming we've passed it a real\n",
       "    // web socket which is closed, not our websocket->open comm proxy.\n",
       "    ws_proxy.onopen();\n",
       "\n",
       "    fig.parent_element = element;\n",
       "    fig.cell_info = mpl.find_output_cell(\"<div id='\" + id + \"'></div>\");\n",
       "    if (!fig.cell_info) {\n",
       "        console.error('Failed to find cell for figure', id, fig);\n",
       "        return;\n",
       "    }\n",
       "    fig.cell_info[0].output_area.element.on(\n",
       "        'cleared',\n",
       "        { fig: fig },\n",
       "        fig._remove_fig_handler\n",
       "    );\n",
       "};\n",
       "\n",
       "mpl.figure.prototype.handle_close = function (fig, msg) {\n",
       "    var width = fig.canvas.width / fig.ratio;\n",
       "    fig.cell_info[0].output_area.element.off(\n",
       "        'cleared',\n",
       "        fig._remove_fig_handler\n",
       "    );\n",
       "    fig.resizeObserverInstance.unobserve(fig.canvas_div);\n",
       "\n",
       "    // Update the output cell to use the data from the current canvas.\n",
       "    fig.push_to_output();\n",
       "    var dataURL = fig.canvas.toDataURL();\n",
       "    // Re-enable the keyboard manager in IPython - without this line, in FF,\n",
       "    // the notebook keyboard shortcuts fail.\n",
       "    IPython.keyboard_manager.enable();\n",
       "    fig.parent_element.innerHTML =\n",
       "        '<img src=\"' + dataURL + '\" width=\"' + width + '\">';\n",
       "    fig.close_ws(fig, msg);\n",
       "};\n",
       "\n",
       "mpl.figure.prototype.close_ws = function (fig, msg) {\n",
       "    fig.send_message('closing', msg);\n",
       "    // fig.ws.close()\n",
       "};\n",
       "\n",
       "mpl.figure.prototype.push_to_output = function (_remove_interactive) {\n",
       "    // Turn the data on the canvas into data in the output cell.\n",
       "    var width = this.canvas.width / this.ratio;\n",
       "    var dataURL = this.canvas.toDataURL();\n",
       "    this.cell_info[1]['text/html'] =\n",
       "        '<img src=\"' + dataURL + '\" width=\"' + width + '\">';\n",
       "};\n",
       "\n",
       "mpl.figure.prototype.updated_canvas_event = function () {\n",
       "    // Tell IPython that the notebook contents must change.\n",
       "    IPython.notebook.set_dirty(true);\n",
       "    this.send_message('ack', {});\n",
       "    var fig = this;\n",
       "    // Wait a second, then push the new image to the DOM so\n",
       "    // that it is saved nicely (might be nice to debounce this).\n",
       "    setTimeout(function () {\n",
       "        fig.push_to_output();\n",
       "    }, 1000);\n",
       "};\n",
       "\n",
       "mpl.figure.prototype._init_toolbar = function () {\n",
       "    var fig = this;\n",
       "\n",
       "    var toolbar = document.createElement('div');\n",
       "    toolbar.classList = 'btn-toolbar';\n",
       "    this.root.appendChild(toolbar);\n",
       "\n",
       "    function on_click_closure(name) {\n",
       "        return function (_event) {\n",
       "            return fig.toolbar_button_onclick(name);\n",
       "        };\n",
       "    }\n",
       "\n",
       "    function on_mouseover_closure(tooltip) {\n",
       "        return function (event) {\n",
       "            if (!event.currentTarget.disabled) {\n",
       "                return fig.toolbar_button_onmouseover(tooltip);\n",
       "            }\n",
       "        };\n",
       "    }\n",
       "\n",
       "    fig.buttons = {};\n",
       "    var buttonGroup = document.createElement('div');\n",
       "    buttonGroup.classList = 'btn-group';\n",
       "    var button;\n",
       "    for (var toolbar_ind in mpl.toolbar_items) {\n",
       "        var name = mpl.toolbar_items[toolbar_ind][0];\n",
       "        var tooltip = mpl.toolbar_items[toolbar_ind][1];\n",
       "        var image = mpl.toolbar_items[toolbar_ind][2];\n",
       "        var method_name = mpl.toolbar_items[toolbar_ind][3];\n",
       "\n",
       "        if (!name) {\n",
       "            /* Instead of a spacer, we start a new button group. */\n",
       "            if (buttonGroup.hasChildNodes()) {\n",
       "                toolbar.appendChild(buttonGroup);\n",
       "            }\n",
       "            buttonGroup = document.createElement('div');\n",
       "            buttonGroup.classList = 'btn-group';\n",
       "            continue;\n",
       "        }\n",
       "\n",
       "        button = fig.buttons[name] = document.createElement('button');\n",
       "        button.classList = 'btn btn-default';\n",
       "        button.href = '#';\n",
       "        button.title = name;\n",
       "        button.innerHTML = '<i class=\"fa ' + image + ' fa-lg\"></i>';\n",
       "        button.addEventListener('click', on_click_closure(method_name));\n",
       "        button.addEventListener('mouseover', on_mouseover_closure(tooltip));\n",
       "        buttonGroup.appendChild(button);\n",
       "    }\n",
       "\n",
       "    if (buttonGroup.hasChildNodes()) {\n",
       "        toolbar.appendChild(buttonGroup);\n",
       "    }\n",
       "\n",
       "    // Add the status bar.\n",
       "    var status_bar = document.createElement('span');\n",
       "    status_bar.classList = 'mpl-message pull-right';\n",
       "    toolbar.appendChild(status_bar);\n",
       "    this.message = status_bar;\n",
       "\n",
       "    // Add the close button to the window.\n",
       "    var buttongrp = document.createElement('div');\n",
       "    buttongrp.classList = 'btn-group inline pull-right';\n",
       "    button = document.createElement('button');\n",
       "    button.classList = 'btn btn-mini btn-primary';\n",
       "    button.href = '#';\n",
       "    button.title = 'Stop Interaction';\n",
       "    button.innerHTML = '<i class=\"fa fa-power-off icon-remove icon-large\"></i>';\n",
       "    button.addEventListener('click', function (_evt) {\n",
       "        fig.handle_close(fig, {});\n",
       "    });\n",
       "    button.addEventListener(\n",
       "        'mouseover',\n",
       "        on_mouseover_closure('Stop Interaction')\n",
       "    );\n",
       "    buttongrp.appendChild(button);\n",
       "    var titlebar = this.root.querySelector('.ui-dialog-titlebar');\n",
       "    titlebar.insertBefore(buttongrp, titlebar.firstChild);\n",
       "};\n",
       "\n",
       "mpl.figure.prototype._remove_fig_handler = function (event) {\n",
       "    var fig = event.data.fig;\n",
       "    if (event.target !== this) {\n",
       "        // Ignore bubbled events from children.\n",
       "        return;\n",
       "    }\n",
       "    fig.close_ws(fig, {});\n",
       "};\n",
       "\n",
       "mpl.figure.prototype._root_extra_style = function (el) {\n",
       "    el.style.boxSizing = 'content-box'; // override notebook setting of border-box.\n",
       "};\n",
       "\n",
       "mpl.figure.prototype._canvas_extra_style = function (el) {\n",
       "    // this is important to make the div 'focusable\n",
       "    el.setAttribute('tabindex', 0);\n",
       "    // reach out to IPython and tell the keyboard manager to turn it's self\n",
       "    // off when our div gets focus\n",
       "\n",
       "    // location in version 3\n",
       "    if (IPython.notebook.keyboard_manager) {\n",
       "        IPython.notebook.keyboard_manager.register_events(el);\n",
       "    } else {\n",
       "        // location in version 2\n",
       "        IPython.keyboard_manager.register_events(el);\n",
       "    }\n",
       "};\n",
       "\n",
       "mpl.figure.prototype._key_event_extra = function (event, _name) {\n",
       "    // Check for shift+enter\n",
       "    if (event.shiftKey && event.which === 13) {\n",
       "        this.canvas_div.blur();\n",
       "        // select the cell after this one\n",
       "        var index = IPython.notebook.find_cell_index(this.cell_info[0]);\n",
       "        IPython.notebook.select(index + 1);\n",
       "    }\n",
       "};\n",
       "\n",
       "mpl.figure.prototype.handle_save = function (fig, _msg) {\n",
       "    fig.ondownload(fig, null);\n",
       "};\n",
       "\n",
       "mpl.find_output_cell = function (html_output) {\n",
       "    // Return the cell and output element which can be found *uniquely* in the notebook.\n",
       "    // Note - this is a bit hacky, but it is done because the \"notebook_saving.Notebook\"\n",
       "    // IPython event is triggered only after the cells have been serialised, which for\n",
       "    // our purposes (turning an active figure into a static one), is too late.\n",
       "    var cells = IPython.notebook.get_cells();\n",
       "    var ncells = cells.length;\n",
       "    for (var i = 0; i < ncells; i++) {\n",
       "        var cell = cells[i];\n",
       "        if (cell.cell_type === 'code') {\n",
       "            for (var j = 0; j < cell.output_area.outputs.length; j++) {\n",
       "                var data = cell.output_area.outputs[j];\n",
       "                if (data.data) {\n",
       "                    // IPython >= 3 moved mimebundle to data attribute of output\n",
       "                    data = data.data;\n",
       "                }\n",
       "                if (data['text/html'] === html_output) {\n",
       "                    return [cell, data, j];\n",
       "                }\n",
       "            }\n",
       "        }\n",
       "    }\n",
       "};\n",
       "\n",
       "// Register the function which deals with the matplotlib target/channel.\n",
       "// The kernel may be null if the page has been refreshed.\n",
       "if (IPython.notebook.kernel !== null) {\n",
       "    IPython.notebook.kernel.comm_manager.register_target(\n",
       "        'matplotlib',\n",
       "        mpl.mpl_figure_comm\n",
       "    );\n",
       "}\n"
      ],
      "text/plain": [
       "<IPython.core.display.Javascript object>"
      ]
     },
     "metadata": {},
     "output_type": "display_data"
    },
    {
     "data": {
      "text/html": [
       "<img src=\"data:image/png;base64,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\" width=\"1400\">"
      ],
      "text/plain": [
       "<IPython.core.display.HTML object>"
      ]
     },
     "metadata": {},
     "output_type": "display_data"
    }
   ],
   "source": [
    "plot_satellites_in_exposure(1103448)"
   ]
  },
  {
   "cell_type": "code",
   "execution_count": null,
   "id": "c8b13a97",
   "metadata": {},
   "outputs": [],
   "source": []
  },
  {
   "cell_type": "code",
   "execution_count": null,
   "id": "766012cb",
   "metadata": {},
   "outputs": [],
   "source": []
  }
 ],
 "metadata": {
  "kernelspec": {
   "display_name": "Python 3 (ipykernel)",
   "language": "python",
   "name": "python3"
  },
  "language_info": {
   "codemirror_mode": {
    "name": "ipython",
    "version": 3
   },
   "file_extension": ".py",
   "mimetype": "text/x-python",
   "name": "python",
   "nbconvert_exporter": "python",
   "pygments_lexer": "ipython3",
   "version": "3.13.5"
  }
 },
 "nbformat": 4,
 "nbformat_minor": 5
}
