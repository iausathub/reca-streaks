{
 "cells": [
  {
   "cell_type": "code",
   "execution_count": 112,
   "id": "52a2dfea",
   "metadata": {},
   "outputs": [],
   "source": [
    "#Libraries\n",
    "import astropy.units as u\n",
    "from astropy.time import Time\n",
    "from astropy.coordinates import EarthLocation, Angle\n",
    "from astropy.coordinates import SkyCoord\n",
    "from astropy.wcs import WCS\n",
    "\n",
    "import matplotlib.pyplot as plt\n",
    "import numpy as np\n",
    "import requests\n",
    "from matplotlib.colors import Normalize\n",
    "from matplotlib.cm import ScalarMappable\n",
    "from matplotlib.patches import Polygon\n",
    "import plotly.graph_objects as go\n",
    "import plotly.io as pio\n",
    "pio.renderers.default = \"notebook\"\n",
    "import pandas as pd\n",
    "\n",
    "from tqdm import tqdm\n",
    "import requests\n",
    "\n"
   ]
  },
  {
   "cell_type": "code",
   "execution_count": 2,
   "id": "4803c4d5",
   "metadata": {},
   "outputs": [],
   "source": [
    "telemetry1 = pd.read_csv('decam_telemetry_20230817.csv.gz')\n",
    "streaks1 = pd.read_csv('streaks_augmented_20230817.csv.gz')"
   ]
  },
  {
   "cell_type": "code",
   "execution_count": 3,
   "id": "c7b31cf7",
   "metadata": {},
   "outputs": [
    {
     "data": {
      "text/html": [
       "<div>\n",
       "<style scoped>\n",
       "    .dataframe tbody tr th:only-of-type {\n",
       "        vertical-align: middle;\n",
       "    }\n",
       "\n",
       "    .dataframe tbody tr th {\n",
       "        vertical-align: top;\n",
       "    }\n",
       "\n",
       "    .dataframe thead th {\n",
       "        text-align: right;\n",
       "    }\n",
       "</style>\n",
       "<table border=\"1\" class=\"dataframe\">\n",
       "  <thead>\n",
       "    <tr style=\"text-align: right;\">\n",
       "      <th></th>\n",
       "      <th>EXPNUM</th>\n",
       "      <th>BAND</th>\n",
       "      <th>TELESCOP</th>\n",
       "      <th>OBSERVAT</th>\n",
       "      <th>INSTRUME</th>\n",
       "      <th>OBS-LONG</th>\n",
       "      <th>OBS-LAT</th>\n",
       "      <th>OBS-ELEV</th>\n",
       "      <th>TELEQUIN</th>\n",
       "      <th>TIMESYS</th>\n",
       "      <th>DATE-OBS</th>\n",
       "      <th>TIME-OBS</th>\n",
       "      <th>DARKTIME</th>\n",
       "      <th>EXPTIME</th>\n",
       "      <th>RA</th>\n",
       "      <th>DEC</th>\n",
       "      <th>AZ</th>\n",
       "      <th>ZD</th>\n",
       "    </tr>\n",
       "  </thead>\n",
       "  <tbody>\n",
       "    <tr>\n",
       "      <th>0</th>\n",
       "      <td>140520</td>\n",
       "      <td>r</td>\n",
       "      <td>CTIO 4.0-m telescope</td>\n",
       "      <td>CTIO</td>\n",
       "      <td>DECam</td>\n",
       "      <td>70.8149</td>\n",
       "      <td>-30.1661</td>\n",
       "      <td>2215</td>\n",
       "      <td>2000</td>\n",
       "      <td>UTC</td>\n",
       "      <td>2012-10-20 00:25:35.429106</td>\n",
       "      <td>00:25:35.429106</td>\n",
       "      <td>2.10353</td>\n",
       "      <td>1.0</td>\n",
       "      <td>22:08:24.000</td>\n",
       "      <td>-32:59:17.599</td>\n",
       "      <td>116.2500</td>\n",
       "      <td>7.09</td>\n",
       "    </tr>\n",
       "    <tr>\n",
       "      <th>1</th>\n",
       "      <td>140521</td>\n",
       "      <td>r</td>\n",
       "      <td>CTIO 4.0-m telescope</td>\n",
       "      <td>CTIO</td>\n",
       "      <td>DECam</td>\n",
       "      <td>70.8149</td>\n",
       "      <td>-30.1661</td>\n",
       "      <td>2215</td>\n",
       "      <td>2000</td>\n",
       "      <td>UTC</td>\n",
       "      <td>2012-10-20 00:29:50.667562</td>\n",
       "      <td>00:29:50.667562</td>\n",
       "      <td>2.09597</td>\n",
       "      <td>1.0</td>\n",
       "      <td>22:08:23.970</td>\n",
       "      <td>-32:55:57.799</td>\n",
       "      <td>118.9300</td>\n",
       "      <td>6.25</td>\n",
       "    </tr>\n",
       "    <tr>\n",
       "      <th>2</th>\n",
       "      <td>140522</td>\n",
       "      <td>u</td>\n",
       "      <td>CTIO 4.0-m telescope</td>\n",
       "      <td>CTIO</td>\n",
       "      <td>DECam</td>\n",
       "      <td>70.8149</td>\n",
       "      <td>-30.1661</td>\n",
       "      <td>2215</td>\n",
       "      <td>2000</td>\n",
       "      <td>UTC</td>\n",
       "      <td>2012-10-20 00:46:16.576959</td>\n",
       "      <td>00:46:16.576959</td>\n",
       "      <td>31.09820</td>\n",
       "      <td>30.0</td>\n",
       "      <td>18:03:35.240</td>\n",
       "      <td>-30:02:00.600</td>\n",
       "      <td>254.2700</td>\n",
       "      <td>50.20</td>\n",
       "    </tr>\n",
       "    <tr>\n",
       "      <th>3</th>\n",
       "      <td>140523</td>\n",
       "      <td>u</td>\n",
       "      <td>CTIO 4.0-m telescope</td>\n",
       "      <td>CTIO</td>\n",
       "      <td>DECam</td>\n",
       "      <td>70.8149</td>\n",
       "      <td>-30.1661</td>\n",
       "      <td>2215</td>\n",
       "      <td>2000</td>\n",
       "      <td>UTC</td>\n",
       "      <td>2012-10-20 00:47:44.370016</td>\n",
       "      <td>00:47:44.370016</td>\n",
       "      <td>31.09300</td>\n",
       "      <td>30.0</td>\n",
       "      <td>18:03:35.250</td>\n",
       "      <td>-30:02:00.802</td>\n",
       "      <td>254.1500</td>\n",
       "      <td>50.50</td>\n",
       "    </tr>\n",
       "    <tr>\n",
       "      <th>4</th>\n",
       "      <td>140524</td>\n",
       "      <td>u</td>\n",
       "      <td>CTIO 4.0-m telescope</td>\n",
       "      <td>CTIO</td>\n",
       "      <td>DECam</td>\n",
       "      <td>70.8149</td>\n",
       "      <td>-30.1661</td>\n",
       "      <td>2215</td>\n",
       "      <td>2000</td>\n",
       "      <td>UTC</td>\n",
       "      <td>2012-10-20 00:49:47.211636</td>\n",
       "      <td>00:49:47.211636</td>\n",
       "      <td>31.09170</td>\n",
       "      <td>30.0</td>\n",
       "      <td>18:03:35.240</td>\n",
       "      <td>-30:02:00.802</td>\n",
       "      <td>253.9900</td>\n",
       "      <td>50.93</td>\n",
       "    </tr>\n",
       "    <tr>\n",
       "      <th>...</th>\n",
       "      <td>...</td>\n",
       "      <td>...</td>\n",
       "      <td>...</td>\n",
       "      <td>...</td>\n",
       "      <td>...</td>\n",
       "      <td>...</td>\n",
       "      <td>...</td>\n",
       "      <td>...</td>\n",
       "      <td>...</td>\n",
       "      <td>...</td>\n",
       "      <td>...</td>\n",
       "      <td>...</td>\n",
       "      <td>...</td>\n",
       "      <td>...</td>\n",
       "      <td>...</td>\n",
       "      <td>...</td>\n",
       "      <td>...</td>\n",
       "      <td>...</td>\n",
       "    </tr>\n",
       "    <tr>\n",
       "      <th>506513</th>\n",
       "      <td>1228730</td>\n",
       "      <td>g</td>\n",
       "      <td>CTIO 4.0-m telescope</td>\n",
       "      <td>CTIO</td>\n",
       "      <td>DECam</td>\n",
       "      <td>70.8149</td>\n",
       "      <td>-30.1661</td>\n",
       "      <td>2215</td>\n",
       "      <td>2000</td>\n",
       "      <td>UTC</td>\n",
       "      <td>2023-08-03 08:42:53.917964</td>\n",
       "      <td>08:42:53.917964</td>\n",
       "      <td>81.10140</td>\n",
       "      <td>80.0</td>\n",
       "      <td>03:30:36.090</td>\n",
       "      <td>-28:05:58.200</td>\n",
       "      <td>97.1620</td>\n",
       "      <td>36.05</td>\n",
       "    </tr>\n",
       "    <tr>\n",
       "      <th>506514</th>\n",
       "      <td>1228731</td>\n",
       "      <td>r</td>\n",
       "      <td>CTIO 4.0-m telescope</td>\n",
       "      <td>CTIO</td>\n",
       "      <td>DECam</td>\n",
       "      <td>70.8149</td>\n",
       "      <td>-30.1661</td>\n",
       "      <td>2215</td>\n",
       "      <td>2000</td>\n",
       "      <td>UTC</td>\n",
       "      <td>2023-08-03 08:44:44.058111</td>\n",
       "      <td>08:44:44.058111</td>\n",
       "      <td>71.12170</td>\n",
       "      <td>70.0</td>\n",
       "      <td>03:30:36.079</td>\n",
       "      <td>-28:05:58.200</td>\n",
       "      <td>97.0003</td>\n",
       "      <td>35.66</td>\n",
       "    </tr>\n",
       "    <tr>\n",
       "      <th>506515</th>\n",
       "      <td>1228732</td>\n",
       "      <td>r</td>\n",
       "      <td>CTIO 4.0-m telescope</td>\n",
       "      <td>CTIO</td>\n",
       "      <td>DECam</td>\n",
       "      <td>70.8149</td>\n",
       "      <td>-30.1661</td>\n",
       "      <td>2215</td>\n",
       "      <td>2000</td>\n",
       "      <td>UTC</td>\n",
       "      <td>2023-08-03 08:46:22.681357</td>\n",
       "      <td>08:46:22.681357</td>\n",
       "      <td>71.10870</td>\n",
       "      <td>70.0</td>\n",
       "      <td>03:30:36.090</td>\n",
       "      <td>-28:05:58.200</td>\n",
       "      <td>96.8515</td>\n",
       "      <td>35.30</td>\n",
       "    </tr>\n",
       "    <tr>\n",
       "      <th>506516</th>\n",
       "      <td>1228733</td>\n",
       "      <td>i</td>\n",
       "      <td>CTIO 4.0-m telescope</td>\n",
       "      <td>CTIO</td>\n",
       "      <td>DECam</td>\n",
       "      <td>70.8149</td>\n",
       "      <td>-30.1661</td>\n",
       "      <td>2215</td>\n",
       "      <td>2000</td>\n",
       "      <td>UTC</td>\n",
       "      <td>2023-08-03 08:48:02.549261</td>\n",
       "      <td>08:48:02.549261</td>\n",
       "      <td>91.09020</td>\n",
       "      <td>90.0</td>\n",
       "      <td>03:30:36.112</td>\n",
       "      <td>-28:05:58.099</td>\n",
       "      <td>96.7036</td>\n",
       "      <td>34.94</td>\n",
       "    </tr>\n",
       "    <tr>\n",
       "      <th>506517</th>\n",
       "      <td>1228734</td>\n",
       "      <td>i</td>\n",
       "      <td>CTIO 4.0-m telescope</td>\n",
       "      <td>CTIO</td>\n",
       "      <td>DECam</td>\n",
       "      <td>70.8149</td>\n",
       "      <td>-30.1661</td>\n",
       "      <td>2215</td>\n",
       "      <td>2000</td>\n",
       "      <td>UTC</td>\n",
       "      <td>2023-08-03 08:50:01.864095</td>\n",
       "      <td>08:50:01.864095</td>\n",
       "      <td>91.12910</td>\n",
       "      <td>90.0</td>\n",
       "      <td>03:30:36.112</td>\n",
       "      <td>-28:05:58.099</td>\n",
       "      <td>96.5253</td>\n",
       "      <td>34.52</td>\n",
       "    </tr>\n",
       "  </tbody>\n",
       "</table>\n",
       "<p>506518 rows × 18 columns</p>\n",
       "</div>"
      ],
      "text/plain": [
       "         EXPNUM BAND              TELESCOP OBSERVAT INSTRUME  OBS-LONG  \\\n",
       "0        140520    r  CTIO 4.0-m telescope     CTIO    DECam   70.8149   \n",
       "1        140521    r  CTIO 4.0-m telescope     CTIO    DECam   70.8149   \n",
       "2        140522    u  CTIO 4.0-m telescope     CTIO    DECam   70.8149   \n",
       "3        140523    u  CTIO 4.0-m telescope     CTIO    DECam   70.8149   \n",
       "4        140524    u  CTIO 4.0-m telescope     CTIO    DECam   70.8149   \n",
       "...         ...  ...                   ...      ...      ...       ...   \n",
       "506513  1228730    g  CTIO 4.0-m telescope     CTIO    DECam   70.8149   \n",
       "506514  1228731    r  CTIO 4.0-m telescope     CTIO    DECam   70.8149   \n",
       "506515  1228732    r  CTIO 4.0-m telescope     CTIO    DECam   70.8149   \n",
       "506516  1228733    i  CTIO 4.0-m telescope     CTIO    DECam   70.8149   \n",
       "506517  1228734    i  CTIO 4.0-m telescope     CTIO    DECam   70.8149   \n",
       "\n",
       "        OBS-LAT  OBS-ELEV  TELEQUIN TIMESYS                    DATE-OBS  \\\n",
       "0      -30.1661      2215      2000     UTC  2012-10-20 00:25:35.429106   \n",
       "1      -30.1661      2215      2000     UTC  2012-10-20 00:29:50.667562   \n",
       "2      -30.1661      2215      2000     UTC  2012-10-20 00:46:16.576959   \n",
       "3      -30.1661      2215      2000     UTC  2012-10-20 00:47:44.370016   \n",
       "4      -30.1661      2215      2000     UTC  2012-10-20 00:49:47.211636   \n",
       "...         ...       ...       ...     ...                         ...   \n",
       "506513 -30.1661      2215      2000     UTC  2023-08-03 08:42:53.917964   \n",
       "506514 -30.1661      2215      2000     UTC  2023-08-03 08:44:44.058111   \n",
       "506515 -30.1661      2215      2000     UTC  2023-08-03 08:46:22.681357   \n",
       "506516 -30.1661      2215      2000     UTC  2023-08-03 08:48:02.549261   \n",
       "506517 -30.1661      2215      2000     UTC  2023-08-03 08:50:01.864095   \n",
       "\n",
       "               TIME-OBS  DARKTIME  EXPTIME            RA            DEC  \\\n",
       "0       00:25:35.429106   2.10353      1.0  22:08:24.000  -32:59:17.599   \n",
       "1       00:29:50.667562   2.09597      1.0  22:08:23.970  -32:55:57.799   \n",
       "2       00:46:16.576959  31.09820     30.0  18:03:35.240  -30:02:00.600   \n",
       "3       00:47:44.370016  31.09300     30.0  18:03:35.250  -30:02:00.802   \n",
       "4       00:49:47.211636  31.09170     30.0  18:03:35.240  -30:02:00.802   \n",
       "...                 ...       ...      ...           ...            ...   \n",
       "506513  08:42:53.917964  81.10140     80.0  03:30:36.090  -28:05:58.200   \n",
       "506514  08:44:44.058111  71.12170     70.0  03:30:36.079  -28:05:58.200   \n",
       "506515  08:46:22.681357  71.10870     70.0  03:30:36.090  -28:05:58.200   \n",
       "506516  08:48:02.549261  91.09020     90.0  03:30:36.112  -28:05:58.099   \n",
       "506517  08:50:01.864095  91.12910     90.0  03:30:36.112  -28:05:58.099   \n",
       "\n",
       "              AZ     ZD  \n",
       "0       116.2500   7.09  \n",
       "1       118.9300   6.25  \n",
       "2       254.2700  50.20  \n",
       "3       254.1500  50.50  \n",
       "4       253.9900  50.93  \n",
       "...          ...    ...  \n",
       "506513   97.1620  36.05  \n",
       "506514   97.0003  35.66  \n",
       "506515   96.8515  35.30  \n",
       "506516   96.7036  34.94  \n",
       "506517   96.5253  34.52  \n",
       "\n",
       "[506518 rows x 18 columns]"
      ]
     },
     "execution_count": 3,
     "metadata": {},
     "output_type": "execute_result"
    }
   ],
   "source": [
    "telemetry1"
   ]
  },
  {
   "cell_type": "code",
   "execution_count": 4,
   "id": "e7501d44",
   "metadata": {
    "scrolled": true
   },
   "outputs": [
    {
     "data": {
      "text/html": [
       "<div>\n",
       "<style scoped>\n",
       "    .dataframe tbody tr th:only-of-type {\n",
       "        vertical-align: middle;\n",
       "    }\n",
       "\n",
       "    .dataframe tbody tr th {\n",
       "        vertical-align: top;\n",
       "    }\n",
       "\n",
       "    .dataframe thead th {\n",
       "        text-align: right;\n",
       "    }\n",
       "</style>\n",
       "<table border=\"1\" class=\"dataframe\">\n",
       "  <thead>\n",
       "    <tr style=\"text-align: right;\">\n",
       "      <th></th>\n",
       "      <th>filename</th>\n",
       "      <th>rnum</th>\n",
       "      <th>ra_1</th>\n",
       "      <th>ra_2</th>\n",
       "      <th>ra_3</th>\n",
       "      <th>ra_4</th>\n",
       "      <th>dec_1</th>\n",
       "      <th>dec_2</th>\n",
       "      <th>dec_3</th>\n",
       "      <th>dec_4</th>\n",
       "      <th>expnum</th>\n",
       "      <th>ccdnum</th>\n",
       "      <th>band</th>\n",
       "    </tr>\n",
       "  </thead>\n",
       "  <tbody>\n",
       "    <tr>\n",
       "      <th>0</th>\n",
       "      <td>D00145425_g_c03_r4148p01_hstreak.fits</td>\n",
       "      <td>3</td>\n",
       "      <td>1.159330</td>\n",
       "      <td>1.160919</td>\n",
       "      <td>1.164310</td>\n",
       "      <td>1.162720</td>\n",
       "      <td>-28.724241</td>\n",
       "      <td>-28.724212</td>\n",
       "      <td>-28.857155</td>\n",
       "      <td>-28.857183</td>\n",
       "      <td>145425</td>\n",
       "      <td>3</td>\n",
       "      <td>g</td>\n",
       "    </tr>\n",
       "    <tr>\n",
       "      <th>1</th>\n",
       "      <td>D00145425_g_c06_r4148p01_hstreak.fits</td>\n",
       "      <td>1</td>\n",
       "      <td>0.986677</td>\n",
       "      <td>0.986711</td>\n",
       "      <td>0.644209</td>\n",
       "      <td>0.644186</td>\n",
       "      <td>-29.032018</td>\n",
       "      <td>-29.034283</td>\n",
       "      <td>-29.037208</td>\n",
       "      <td>-29.034944</td>\n",
       "      <td>145425</td>\n",
       "      <td>6</td>\n",
       "      <td>g</td>\n",
       "    </tr>\n",
       "    <tr>\n",
       "      <th>2</th>\n",
       "      <td>D00145425_g_c09_r4148p01_hstreak.fits</td>\n",
       "      <td>1</td>\n",
       "      <td>0.452852</td>\n",
       "      <td>0.452942</td>\n",
       "      <td>0.109842</td>\n",
       "      <td>0.109782</td>\n",
       "      <td>-29.193042</td>\n",
       "      <td>-29.199694</td>\n",
       "      <td>-29.203265</td>\n",
       "      <td>-29.196615</td>\n",
       "      <td>145425</td>\n",
       "      <td>9</td>\n",
       "      <td>g</td>\n",
       "    </tr>\n",
       "    <tr>\n",
       "      <th>3</th>\n",
       "      <td>D00145425_g_c15_r4148p01_hstreak.fits</td>\n",
       "      <td>1</td>\n",
       "      <td>0.286716</td>\n",
       "      <td>0.286812</td>\n",
       "      <td>0.630816</td>\n",
       "      <td>0.630741</td>\n",
       "      <td>-29.363308</td>\n",
       "      <td>-29.358405</td>\n",
       "      <td>-29.362739</td>\n",
       "      <td>-29.367644</td>\n",
       "      <td>145425</td>\n",
       "      <td>15</td>\n",
       "      <td>g</td>\n",
       "    </tr>\n",
       "    <tr>\n",
       "      <th>4</th>\n",
       "      <td>D00145425_g_c16_r4148p01_hstreak.fits</td>\n",
       "      <td>1</td>\n",
       "      <td>0.985852</td>\n",
       "      <td>0.987446</td>\n",
       "      <td>0.987211</td>\n",
       "      <td>0.985615</td>\n",
       "      <td>-29.216748</td>\n",
       "      <td>-29.216752</td>\n",
       "      <td>-29.366385</td>\n",
       "      <td>-29.366381</td>\n",
       "      <td>145425</td>\n",
       "      <td>16</td>\n",
       "      <td>g</td>\n",
       "    </tr>\n",
       "    <tr>\n",
       "      <th>...</th>\n",
       "      <td>...</td>\n",
       "      <td>...</td>\n",
       "      <td>...</td>\n",
       "      <td>...</td>\n",
       "      <td>...</td>\n",
       "      <td>...</td>\n",
       "      <td>...</td>\n",
       "      <td>...</td>\n",
       "      <td>...</td>\n",
       "      <td>...</td>\n",
       "      <td>...</td>\n",
       "      <td>...</td>\n",
       "      <td>...</td>\n",
       "    </tr>\n",
       "    <tr>\n",
       "      <th>879115</th>\n",
       "      <td>D01223535_g_c05_r6224p01_hstreak.fits</td>\n",
       "      <td>1</td>\n",
       "      <td>323.500201</td>\n",
       "      <td>323.502653</td>\n",
       "      <td>323.444690</td>\n",
       "      <td>323.442238</td>\n",
       "      <td>-17.828499</td>\n",
       "      <td>-17.830897</td>\n",
       "      <td>-17.884254</td>\n",
       "      <td>-17.881855</td>\n",
       "      <td>1223535</td>\n",
       "      <td>5</td>\n",
       "      <td>g</td>\n",
       "    </tr>\n",
       "    <tr>\n",
       "      <th>879116</th>\n",
       "      <td>D01223535_g_c31_r6224p01_hstreak.fits</td>\n",
       "      <td>1</td>\n",
       "      <td>324.355544</td>\n",
       "      <td>324.369908</td>\n",
       "      <td>324.372363</td>\n",
       "      <td>324.357994</td>\n",
       "      <td>-18.392109</td>\n",
       "      <td>-18.391941</td>\n",
       "      <td>-18.541070</td>\n",
       "      <td>-18.541235</td>\n",
       "      <td>1223535</td>\n",
       "      <td>31</td>\n",
       "      <td>g</td>\n",
       "    </tr>\n",
       "    <tr>\n",
       "      <th>879117</th>\n",
       "      <td>D01223535_g_c56_r6224p01_hstreak.fits</td>\n",
       "      <td>1</td>\n",
       "      <td>322.914589</td>\n",
       "      <td>322.934330</td>\n",
       "      <td>322.849385</td>\n",
       "      <td>322.829651</td>\n",
       "      <td>-19.193809</td>\n",
       "      <td>-19.210870</td>\n",
       "      <td>-19.298406</td>\n",
       "      <td>-19.281342</td>\n",
       "      <td>1223535</td>\n",
       "      <td>56</td>\n",
       "      <td>g</td>\n",
       "    </tr>\n",
       "    <tr>\n",
       "      <th>879118</th>\n",
       "      <td>D01223535_g_c58_r6224p01_hstreak.fits</td>\n",
       "      <td>1</td>\n",
       "      <td>323.771850</td>\n",
       "      <td>323.783894</td>\n",
       "      <td>323.835739</td>\n",
       "      <td>323.823696</td>\n",
       "      <td>-19.214779</td>\n",
       "      <td>-19.204086</td>\n",
       "      <td>-19.255903</td>\n",
       "      <td>-19.266598</td>\n",
       "      <td>1223535</td>\n",
       "      <td>58</td>\n",
       "      <td>g</td>\n",
       "    </tr>\n",
       "    <tr>\n",
       "      <th>879119</th>\n",
       "      <td>D01223535_g_c59_r6224p01_hstreak.fits</td>\n",
       "      <td>1</td>\n",
       "      <td>323.878330</td>\n",
       "      <td>323.890982</td>\n",
       "      <td>323.836373</td>\n",
       "      <td>323.823717</td>\n",
       "      <td>-19.203540</td>\n",
       "      <td>-19.214870</td>\n",
       "      <td>-19.269001</td>\n",
       "      <td>-19.257671</td>\n",
       "      <td>1223535</td>\n",
       "      <td>59</td>\n",
       "      <td>g</td>\n",
       "    </tr>\n",
       "  </tbody>\n",
       "</table>\n",
       "<p>879120 rows × 13 columns</p>\n",
       "</div>"
      ],
      "text/plain": [
       "                                     filename  rnum        ra_1        ra_2  \\\n",
       "0       D00145425_g_c03_r4148p01_hstreak.fits     3    1.159330    1.160919   \n",
       "1       D00145425_g_c06_r4148p01_hstreak.fits     1    0.986677    0.986711   \n",
       "2       D00145425_g_c09_r4148p01_hstreak.fits     1    0.452852    0.452942   \n",
       "3       D00145425_g_c15_r4148p01_hstreak.fits     1    0.286716    0.286812   \n",
       "4       D00145425_g_c16_r4148p01_hstreak.fits     1    0.985852    0.987446   \n",
       "...                                       ...   ...         ...         ...   \n",
       "879115  D01223535_g_c05_r6224p01_hstreak.fits     1  323.500201  323.502653   \n",
       "879116  D01223535_g_c31_r6224p01_hstreak.fits     1  324.355544  324.369908   \n",
       "879117  D01223535_g_c56_r6224p01_hstreak.fits     1  322.914589  322.934330   \n",
       "879118  D01223535_g_c58_r6224p01_hstreak.fits     1  323.771850  323.783894   \n",
       "879119  D01223535_g_c59_r6224p01_hstreak.fits     1  323.878330  323.890982   \n",
       "\n",
       "              ra_3        ra_4      dec_1      dec_2      dec_3      dec_4  \\\n",
       "0         1.164310    1.162720 -28.724241 -28.724212 -28.857155 -28.857183   \n",
       "1         0.644209    0.644186 -29.032018 -29.034283 -29.037208 -29.034944   \n",
       "2         0.109842    0.109782 -29.193042 -29.199694 -29.203265 -29.196615   \n",
       "3         0.630816    0.630741 -29.363308 -29.358405 -29.362739 -29.367644   \n",
       "4         0.987211    0.985615 -29.216748 -29.216752 -29.366385 -29.366381   \n",
       "...            ...         ...        ...        ...        ...        ...   \n",
       "879115  323.444690  323.442238 -17.828499 -17.830897 -17.884254 -17.881855   \n",
       "879116  324.372363  324.357994 -18.392109 -18.391941 -18.541070 -18.541235   \n",
       "879117  322.849385  322.829651 -19.193809 -19.210870 -19.298406 -19.281342   \n",
       "879118  323.835739  323.823696 -19.214779 -19.204086 -19.255903 -19.266598   \n",
       "879119  323.836373  323.823717 -19.203540 -19.214870 -19.269001 -19.257671   \n",
       "\n",
       "         expnum  ccdnum band  \n",
       "0        145425       3    g  \n",
       "1        145425       6    g  \n",
       "2        145425       9    g  \n",
       "3        145425      15    g  \n",
       "4        145425      16    g  \n",
       "...         ...     ...  ...  \n",
       "879115  1223535       5    g  \n",
       "879116  1223535      31    g  \n",
       "879117  1223535      56    g  \n",
       "879118  1223535      58    g  \n",
       "879119  1223535      59    g  \n",
       "\n",
       "[879120 rows x 13 columns]"
      ]
     },
     "execution_count": 4,
     "metadata": {},
     "output_type": "execute_result"
    }
   ],
   "source": [
    "streaks1"
   ]
  },
  {
   "cell_type": "code",
   "execution_count": 5,
   "id": "5a53bb90",
   "metadata": {},
   "outputs": [
    {
     "data": {
      "text/plain": [
       "Index(['EXPNUM', 'BAND', 'TELESCOP', 'OBSERVAT', 'INSTRUME', 'OBS-LONG',\n",
       "       'OBS-LAT', 'OBS-ELEV', 'TELEQUIN', 'TIMESYS', 'DATE-OBS', 'TIME-OBS',\n",
       "       'DARKTIME', 'EXPTIME', 'RA', 'DEC', 'AZ', 'ZD'],\n",
       "      dtype='object')"
      ]
     },
     "execution_count": 5,
     "metadata": {},
     "output_type": "execute_result"
    }
   ],
   "source": [
    "telemetry1.columns"
   ]
  },
  {
   "cell_type": "code",
   "execution_count": 6,
   "id": "943c1dfd",
   "metadata": {},
   "outputs": [],
   "source": [
    "expnum_counts = streaks1['expnum'].value_counts()\n",
    "expnums_mas_8 = expnum_counts[expnum_counts > 8].index\n",
    "streaks_filtradas = streaks1[streaks1['expnum'].isin(expnums_mas_8)]\n",
    "telemetry1_filtrado = telemetry1[telemetry1['EXPNUM'].isin(streaks_filtradas['expnum'])]"
   ]
  },
  {
   "cell_type": "code",
   "execution_count": 7,
   "id": "a1eca5a5",
   "metadata": {},
   "outputs": [
    {
     "data": {
      "text/html": [
       "<div>\n",
       "<style scoped>\n",
       "    .dataframe tbody tr th:only-of-type {\n",
       "        vertical-align: middle;\n",
       "    }\n",
       "\n",
       "    .dataframe tbody tr th {\n",
       "        vertical-align: top;\n",
       "    }\n",
       "\n",
       "    .dataframe thead th {\n",
       "        text-align: right;\n",
       "    }\n",
       "</style>\n",
       "<table border=\"1\" class=\"dataframe\">\n",
       "  <thead>\n",
       "    <tr style=\"text-align: right;\">\n",
       "      <th></th>\n",
       "      <th>filename</th>\n",
       "      <th>rnum</th>\n",
       "      <th>ra_1</th>\n",
       "      <th>ra_2</th>\n",
       "      <th>ra_3</th>\n",
       "      <th>ra_4</th>\n",
       "      <th>dec_1</th>\n",
       "      <th>dec_2</th>\n",
       "      <th>dec_3</th>\n",
       "      <th>dec_4</th>\n",
       "      <th>expnum</th>\n",
       "      <th>ccdnum</th>\n",
       "      <th>band</th>\n",
       "    </tr>\n",
       "  </thead>\n",
       "  <tbody>\n",
       "    <tr>\n",
       "      <th>0</th>\n",
       "      <td>D00145425_g_c03_r4148p01_hstreak.fits</td>\n",
       "      <td>3</td>\n",
       "      <td>1.159330</td>\n",
       "      <td>1.160919</td>\n",
       "      <td>1.164310</td>\n",
       "      <td>1.162720</td>\n",
       "      <td>-28.724241</td>\n",
       "      <td>-28.724212</td>\n",
       "      <td>-28.857155</td>\n",
       "      <td>-28.857183</td>\n",
       "      <td>145425</td>\n",
       "      <td>3</td>\n",
       "      <td>g</td>\n",
       "    </tr>\n",
       "    <tr>\n",
       "      <th>1</th>\n",
       "      <td>D00145425_g_c06_r4148p01_hstreak.fits</td>\n",
       "      <td>1</td>\n",
       "      <td>0.986677</td>\n",
       "      <td>0.986711</td>\n",
       "      <td>0.644209</td>\n",
       "      <td>0.644186</td>\n",
       "      <td>-29.032018</td>\n",
       "      <td>-29.034283</td>\n",
       "      <td>-29.037208</td>\n",
       "      <td>-29.034944</td>\n",
       "      <td>145425</td>\n",
       "      <td>6</td>\n",
       "      <td>g</td>\n",
       "    </tr>\n",
       "    <tr>\n",
       "      <th>2</th>\n",
       "      <td>D00145425_g_c09_r4148p01_hstreak.fits</td>\n",
       "      <td>1</td>\n",
       "      <td>0.452852</td>\n",
       "      <td>0.452942</td>\n",
       "      <td>0.109842</td>\n",
       "      <td>0.109782</td>\n",
       "      <td>-29.193042</td>\n",
       "      <td>-29.199694</td>\n",
       "      <td>-29.203265</td>\n",
       "      <td>-29.196615</td>\n",
       "      <td>145425</td>\n",
       "      <td>9</td>\n",
       "      <td>g</td>\n",
       "    </tr>\n",
       "    <tr>\n",
       "      <th>3</th>\n",
       "      <td>D00145425_g_c15_r4148p01_hstreak.fits</td>\n",
       "      <td>1</td>\n",
       "      <td>0.286716</td>\n",
       "      <td>0.286812</td>\n",
       "      <td>0.630816</td>\n",
       "      <td>0.630741</td>\n",
       "      <td>-29.363308</td>\n",
       "      <td>-29.358405</td>\n",
       "      <td>-29.362739</td>\n",
       "      <td>-29.367644</td>\n",
       "      <td>145425</td>\n",
       "      <td>15</td>\n",
       "      <td>g</td>\n",
       "    </tr>\n",
       "    <tr>\n",
       "      <th>4</th>\n",
       "      <td>D00145425_g_c16_r4148p01_hstreak.fits</td>\n",
       "      <td>1</td>\n",
       "      <td>0.985852</td>\n",
       "      <td>0.987446</td>\n",
       "      <td>0.987211</td>\n",
       "      <td>0.985615</td>\n",
       "      <td>-29.216748</td>\n",
       "      <td>-29.216752</td>\n",
       "      <td>-29.366385</td>\n",
       "      <td>-29.366381</td>\n",
       "      <td>145425</td>\n",
       "      <td>16</td>\n",
       "      <td>g</td>\n",
       "    </tr>\n",
       "    <tr>\n",
       "      <th>...</th>\n",
       "      <td>...</td>\n",
       "      <td>...</td>\n",
       "      <td>...</td>\n",
       "      <td>...</td>\n",
       "      <td>...</td>\n",
       "      <td>...</td>\n",
       "      <td>...</td>\n",
       "      <td>...</td>\n",
       "      <td>...</td>\n",
       "      <td>...</td>\n",
       "      <td>...</td>\n",
       "      <td>...</td>\n",
       "      <td>...</td>\n",
       "    </tr>\n",
       "    <tr>\n",
       "      <th>879102</th>\n",
       "      <td>D01223533_g_c21_r6224p01_hstreak.fits</td>\n",
       "      <td>1</td>\n",
       "      <td>322.350759</td>\n",
       "      <td>322.367974</td>\n",
       "      <td>322.430509</td>\n",
       "      <td>322.413294</td>\n",
       "      <td>-19.778872</td>\n",
       "      <td>-19.762994</td>\n",
       "      <td>-19.822898</td>\n",
       "      <td>-19.838787</td>\n",
       "      <td>1223533</td>\n",
       "      <td>21</td>\n",
       "      <td>g</td>\n",
       "    </tr>\n",
       "    <tr>\n",
       "      <th>879103</th>\n",
       "      <td>D01223533_g_c27_r6224p01_hstreak.fits</td>\n",
       "      <td>1</td>\n",
       "      <td>321.914442</td>\n",
       "      <td>321.929370</td>\n",
       "      <td>322.039930</td>\n",
       "      <td>322.024991</td>\n",
       "      <td>-19.992600</td>\n",
       "      <td>-19.979549</td>\n",
       "      <td>-20.091439</td>\n",
       "      <td>-20.104500</td>\n",
       "      <td>1223533</td>\n",
       "      <td>27</td>\n",
       "      <td>g</td>\n",
       "    </tr>\n",
       "    <tr>\n",
       "      <th>879104</th>\n",
       "      <td>D01223533_g_c33_r6224p01_hstreak.fits</td>\n",
       "      <td>2</td>\n",
       "      <td>321.914515</td>\n",
       "      <td>321.920861</td>\n",
       "      <td>321.868432</td>\n",
       "      <td>321.862089</td>\n",
       "      <td>-20.207886</td>\n",
       "      <td>-20.214118</td>\n",
       "      <td>-20.261253</td>\n",
       "      <td>-20.255020</td>\n",
       "      <td>1223533</td>\n",
       "      <td>33</td>\n",
       "      <td>g</td>\n",
       "    </tr>\n",
       "    <tr>\n",
       "      <th>879105</th>\n",
       "      <td>D01223533_g_c44_r6224p01_hstreak.fits</td>\n",
       "      <td>1</td>\n",
       "      <td>323.071804</td>\n",
       "      <td>323.087515</td>\n",
       "      <td>323.208026</td>\n",
       "      <td>323.192338</td>\n",
       "      <td>-20.367516</td>\n",
       "      <td>-20.345896</td>\n",
       "      <td>-20.422967</td>\n",
       "      <td>-20.444584</td>\n",
       "      <td>1223533</td>\n",
       "      <td>44</td>\n",
       "      <td>g</td>\n",
       "    </tr>\n",
       "    <tr>\n",
       "      <th>879106</th>\n",
       "      <td>D01223533_g_c54_r6224p01_hstreak.fits</td>\n",
       "      <td>1</td>\n",
       "      <td>322.679468</td>\n",
       "      <td>322.691395</td>\n",
       "      <td>322.589240</td>\n",
       "      <td>322.577308</td>\n",
       "      <td>-20.592385</td>\n",
       "      <td>-20.603303</td>\n",
       "      <td>-20.700661</td>\n",
       "      <td>-20.689741</td>\n",
       "      <td>1223533</td>\n",
       "      <td>54</td>\n",
       "      <td>g</td>\n",
       "    </tr>\n",
       "  </tbody>\n",
       "</table>\n",
       "<p>532326 rows × 13 columns</p>\n",
       "</div>"
      ],
      "text/plain": [
       "                                     filename  rnum        ra_1        ra_2  \\\n",
       "0       D00145425_g_c03_r4148p01_hstreak.fits     3    1.159330    1.160919   \n",
       "1       D00145425_g_c06_r4148p01_hstreak.fits     1    0.986677    0.986711   \n",
       "2       D00145425_g_c09_r4148p01_hstreak.fits     1    0.452852    0.452942   \n",
       "3       D00145425_g_c15_r4148p01_hstreak.fits     1    0.286716    0.286812   \n",
       "4       D00145425_g_c16_r4148p01_hstreak.fits     1    0.985852    0.987446   \n",
       "...                                       ...   ...         ...         ...   \n",
       "879102  D01223533_g_c21_r6224p01_hstreak.fits     1  322.350759  322.367974   \n",
       "879103  D01223533_g_c27_r6224p01_hstreak.fits     1  321.914442  321.929370   \n",
       "879104  D01223533_g_c33_r6224p01_hstreak.fits     2  321.914515  321.920861   \n",
       "879105  D01223533_g_c44_r6224p01_hstreak.fits     1  323.071804  323.087515   \n",
       "879106  D01223533_g_c54_r6224p01_hstreak.fits     1  322.679468  322.691395   \n",
       "\n",
       "              ra_3        ra_4      dec_1      dec_2      dec_3      dec_4  \\\n",
       "0         1.164310    1.162720 -28.724241 -28.724212 -28.857155 -28.857183   \n",
       "1         0.644209    0.644186 -29.032018 -29.034283 -29.037208 -29.034944   \n",
       "2         0.109842    0.109782 -29.193042 -29.199694 -29.203265 -29.196615   \n",
       "3         0.630816    0.630741 -29.363308 -29.358405 -29.362739 -29.367644   \n",
       "4         0.987211    0.985615 -29.216748 -29.216752 -29.366385 -29.366381   \n",
       "...            ...         ...        ...        ...        ...        ...   \n",
       "879102  322.430509  322.413294 -19.778872 -19.762994 -19.822898 -19.838787   \n",
       "879103  322.039930  322.024991 -19.992600 -19.979549 -20.091439 -20.104500   \n",
       "879104  321.868432  321.862089 -20.207886 -20.214118 -20.261253 -20.255020   \n",
       "879105  323.208026  323.192338 -20.367516 -20.345896 -20.422967 -20.444584   \n",
       "879106  322.589240  322.577308 -20.592385 -20.603303 -20.700661 -20.689741   \n",
       "\n",
       "         expnum  ccdnum band  \n",
       "0        145425       3    g  \n",
       "1        145425       6    g  \n",
       "2        145425       9    g  \n",
       "3        145425      15    g  \n",
       "4        145425      16    g  \n",
       "...         ...     ...  ...  \n",
       "879102  1223533      21    g  \n",
       "879103  1223533      27    g  \n",
       "879104  1223533      33    g  \n",
       "879105  1223533      44    g  \n",
       "879106  1223533      54    g  \n",
       "\n",
       "[532326 rows x 13 columns]"
      ]
     },
     "execution_count": 7,
     "metadata": {},
     "output_type": "execute_result"
    }
   ],
   "source": [
    "streaks_filtradas"
   ]
  },
  {
   "cell_type": "code",
   "execution_count": 8,
   "id": "a462b681",
   "metadata": {
    "scrolled": true
   },
   "outputs": [
    {
     "data": {
      "text/html": [
       "<div>\n",
       "<style scoped>\n",
       "    .dataframe tbody tr th:only-of-type {\n",
       "        vertical-align: middle;\n",
       "    }\n",
       "\n",
       "    .dataframe tbody tr th {\n",
       "        vertical-align: top;\n",
       "    }\n",
       "\n",
       "    .dataframe thead th {\n",
       "        text-align: right;\n",
       "    }\n",
       "</style>\n",
       "<table border=\"1\" class=\"dataframe\">\n",
       "  <thead>\n",
       "    <tr style=\"text-align: right;\">\n",
       "      <th></th>\n",
       "      <th>EXPNUM</th>\n",
       "      <th>BAND</th>\n",
       "      <th>TELESCOP</th>\n",
       "      <th>OBSERVAT</th>\n",
       "      <th>INSTRUME</th>\n",
       "      <th>OBS-LONG</th>\n",
       "      <th>OBS-LAT</th>\n",
       "      <th>OBS-ELEV</th>\n",
       "      <th>TELEQUIN</th>\n",
       "      <th>TIMESYS</th>\n",
       "      <th>DATE-OBS</th>\n",
       "      <th>TIME-OBS</th>\n",
       "      <th>DARKTIME</th>\n",
       "      <th>EXPTIME</th>\n",
       "      <th>RA</th>\n",
       "      <th>DEC</th>\n",
       "      <th>AZ</th>\n",
       "      <th>ZD</th>\n",
       "    </tr>\n",
       "  </thead>\n",
       "  <tbody>\n",
       "    <tr>\n",
       "      <th>1849</th>\n",
       "      <td>145434</td>\n",
       "      <td>z</td>\n",
       "      <td>CTIO 4.0-m telescope</td>\n",
       "      <td>CTIO</td>\n",
       "      <td>DECam</td>\n",
       "      <td>70.8149</td>\n",
       "      <td>-30.1661</td>\n",
       "      <td>2215</td>\n",
       "      <td>2000</td>\n",
       "      <td>UTC</td>\n",
       "      <td>2012-11-02 04:53:58.963709</td>\n",
       "      <td>04:53:58.963709</td>\n",
       "      <td>31.1660</td>\n",
       "      <td>30.0</td>\n",
       "      <td>00:03:06.361</td>\n",
       "      <td>-29:47:35.696</td>\n",
       "      <td>259.1000</td>\n",
       "      <td>37.55</td>\n",
       "    </tr>\n",
       "    <tr>\n",
       "      <th>1856</th>\n",
       "      <td>145505</td>\n",
       "      <td>r</td>\n",
       "      <td>CTIO 4.0-m telescope</td>\n",
       "      <td>CTIO</td>\n",
       "      <td>DECam</td>\n",
       "      <td>70.8149</td>\n",
       "      <td>-30.1661</td>\n",
       "      <td>2215</td>\n",
       "      <td>2000</td>\n",
       "      <td>UTC</td>\n",
       "      <td>2012-11-02 06:18:03.596634</td>\n",
       "      <td>06:18:03.596634</td>\n",
       "      <td>61.1374</td>\n",
       "      <td>60.0</td>\n",
       "      <td>02:24:27.068</td>\n",
       "      <td>-04:16:03.299</td>\n",
       "      <td>307.0800</td>\n",
       "      <td>37.89</td>\n",
       "    </tr>\n",
       "    <tr>\n",
       "      <th>1866</th>\n",
       "      <td>145555</td>\n",
       "      <td>i</td>\n",
       "      <td>CTIO 4.0-m telescope</td>\n",
       "      <td>CTIO</td>\n",
       "      <td>DECam</td>\n",
       "      <td>70.8149</td>\n",
       "      <td>-30.1661</td>\n",
       "      <td>2215</td>\n",
       "      <td>2000</td>\n",
       "      <td>UTC</td>\n",
       "      <td>2012-11-02 07:25:16.269456</td>\n",
       "      <td>07:25:16.269456</td>\n",
       "      <td>31.0896</td>\n",
       "      <td>30.0</td>\n",
       "      <td>04:34:13.969</td>\n",
       "      <td>15:11:05.500</td>\n",
       "      <td>341.6200</td>\n",
       "      <td>47.11</td>\n",
       "    </tr>\n",
       "    <tr>\n",
       "      <th>1867</th>\n",
       "      <td>145558</td>\n",
       "      <td>i</td>\n",
       "      <td>CTIO 4.0-m telescope</td>\n",
       "      <td>CTIO</td>\n",
       "      <td>DECam</td>\n",
       "      <td>70.8149</td>\n",
       "      <td>-30.1661</td>\n",
       "      <td>2215</td>\n",
       "      <td>2000</td>\n",
       "      <td>UTC</td>\n",
       "      <td>2012-11-02 07:32:27.251025</td>\n",
       "      <td>07:32:27.251025</td>\n",
       "      <td>91.0933</td>\n",
       "      <td>90.0</td>\n",
       "      <td>04:34:13.530</td>\n",
       "      <td>15:11:02.098</td>\n",
       "      <td>339.3600</td>\n",
       "      <td>47.63</td>\n",
       "    </tr>\n",
       "    <tr>\n",
       "      <th>1868</th>\n",
       "      <td>145559</td>\n",
       "      <td>i</td>\n",
       "      <td>CTIO 4.0-m telescope</td>\n",
       "      <td>CTIO</td>\n",
       "      <td>DECam</td>\n",
       "      <td>70.8149</td>\n",
       "      <td>-30.1661</td>\n",
       "      <td>2215</td>\n",
       "      <td>2000</td>\n",
       "      <td>UTC</td>\n",
       "      <td>2012-11-02 07:34:26.345592</td>\n",
       "      <td>07:34:26.345592</td>\n",
       "      <td>91.1038</td>\n",
       "      <td>90.0</td>\n",
       "      <td>04:35:39.350</td>\n",
       "      <td>14:51:01.199</td>\n",
       "      <td>339.0600</td>\n",
       "      <td>47.36</td>\n",
       "    </tr>\n",
       "    <tr>\n",
       "      <th>...</th>\n",
       "      <td>...</td>\n",
       "      <td>...</td>\n",
       "      <td>...</td>\n",
       "      <td>...</td>\n",
       "      <td>...</td>\n",
       "      <td>...</td>\n",
       "      <td>...</td>\n",
       "      <td>...</td>\n",
       "      <td>...</td>\n",
       "      <td>...</td>\n",
       "      <td>...</td>\n",
       "      <td>...</td>\n",
       "      <td>...</td>\n",
       "      <td>...</td>\n",
       "      <td>...</td>\n",
       "      <td>...</td>\n",
       "      <td>...</td>\n",
       "      <td>...</td>\n",
       "    </tr>\n",
       "    <tr>\n",
       "      <th>504509</th>\n",
       "      <td>1223518</td>\n",
       "      <td>g</td>\n",
       "      <td>CTIO 4.0-m telescope</td>\n",
       "      <td>CTIO</td>\n",
       "      <td>DECam</td>\n",
       "      <td>70.8149</td>\n",
       "      <td>-30.1661</td>\n",
       "      <td>2215</td>\n",
       "      <td>2000</td>\n",
       "      <td>UTC</td>\n",
       "      <td>2023-07-21 04:02:44.144925</td>\n",
       "      <td>04:02:44.144925</td>\n",
       "      <td>91.1284</td>\n",
       "      <td>90.0</td>\n",
       "      <td>20:12:31.741</td>\n",
       "      <td>-01:22:56.798</td>\n",
       "      <td>28.9529</td>\n",
       "      <td>32.15</td>\n",
       "    </tr>\n",
       "    <tr>\n",
       "      <th>504511</th>\n",
       "      <td>1223520</td>\n",
       "      <td>g</td>\n",
       "      <td>CTIO 4.0-m telescope</td>\n",
       "      <td>CTIO</td>\n",
       "      <td>DECam</td>\n",
       "      <td>70.8149</td>\n",
       "      <td>-30.1661</td>\n",
       "      <td>2215</td>\n",
       "      <td>2000</td>\n",
       "      <td>UTC</td>\n",
       "      <td>2023-07-21 04:07:18.281902</td>\n",
       "      <td>04:07:18.281902</td>\n",
       "      <td>91.0861</td>\n",
       "      <td>90.0</td>\n",
       "      <td>20:41:41.381</td>\n",
       "      <td>-07:41:56.699</td>\n",
       "      <td>45.5025</td>\n",
       "      <td>29.97</td>\n",
       "    </tr>\n",
       "    <tr>\n",
       "      <th>504519</th>\n",
       "      <td>1223528</td>\n",
       "      <td>g</td>\n",
       "      <td>CTIO 4.0-m telescope</td>\n",
       "      <td>CTIO</td>\n",
       "      <td>DECam</td>\n",
       "      <td>70.8149</td>\n",
       "      <td>-30.1661</td>\n",
       "      <td>2215</td>\n",
       "      <td>2000</td>\n",
       "      <td>UTC</td>\n",
       "      <td>2023-07-21 04:25:07.161563</td>\n",
       "      <td>04:25:07.161563</td>\n",
       "      <td>91.1412</td>\n",
       "      <td>90.0</td>\n",
       "      <td>21:22:27.278</td>\n",
       "      <td>-20:05:40.600</td>\n",
       "      <td>73.4940</td>\n",
       "      <td>26.26</td>\n",
       "    </tr>\n",
       "    <tr>\n",
       "      <th>504523</th>\n",
       "      <td>1223532</td>\n",
       "      <td>g</td>\n",
       "      <td>CTIO 4.0-m telescope</td>\n",
       "      <td>CTIO</td>\n",
       "      <td>DECam</td>\n",
       "      <td>70.8149</td>\n",
       "      <td>-30.1661</td>\n",
       "      <td>2215</td>\n",
       "      <td>2000</td>\n",
       "      <td>UTC</td>\n",
       "      <td>2023-07-21 04:33:18.720174</td>\n",
       "      <td>04:33:18.720174</td>\n",
       "      <td>91.0856</td>\n",
       "      <td>90.0</td>\n",
       "      <td>21:32:30.502</td>\n",
       "      <td>-21:38:18.200</td>\n",
       "      <td>77.0527</td>\n",
       "      <td>25.96</td>\n",
       "    </tr>\n",
       "    <tr>\n",
       "      <th>504524</th>\n",
       "      <td>1223533</td>\n",
       "      <td>g</td>\n",
       "      <td>CTIO 4.0-m telescope</td>\n",
       "      <td>CTIO</td>\n",
       "      <td>DECam</td>\n",
       "      <td>70.8149</td>\n",
       "      <td>-30.1661</td>\n",
       "      <td>2215</td>\n",
       "      <td>2000</td>\n",
       "      <td>UTC</td>\n",
       "      <td>2023-07-21 04:35:19.212277</td>\n",
       "      <td>04:35:19.212277</td>\n",
       "      <td>91.1041</td>\n",
       "      <td>90.0</td>\n",
       "      <td>21:29:40.132</td>\n",
       "      <td>-20:06:01.501</td>\n",
       "      <td>72.7274</td>\n",
       "      <td>25.63</td>\n",
       "    </tr>\n",
       "  </tbody>\n",
       "</table>\n",
       "<p>36287 rows × 18 columns</p>\n",
       "</div>"
      ],
      "text/plain": [
       "         EXPNUM BAND              TELESCOP OBSERVAT INSTRUME  OBS-LONG  \\\n",
       "1849     145434    z  CTIO 4.0-m telescope     CTIO    DECam   70.8149   \n",
       "1856     145505    r  CTIO 4.0-m telescope     CTIO    DECam   70.8149   \n",
       "1866     145555    i  CTIO 4.0-m telescope     CTIO    DECam   70.8149   \n",
       "1867     145558    i  CTIO 4.0-m telescope     CTIO    DECam   70.8149   \n",
       "1868     145559    i  CTIO 4.0-m telescope     CTIO    DECam   70.8149   \n",
       "...         ...  ...                   ...      ...      ...       ...   \n",
       "504509  1223518    g  CTIO 4.0-m telescope     CTIO    DECam   70.8149   \n",
       "504511  1223520    g  CTIO 4.0-m telescope     CTIO    DECam   70.8149   \n",
       "504519  1223528    g  CTIO 4.0-m telescope     CTIO    DECam   70.8149   \n",
       "504523  1223532    g  CTIO 4.0-m telescope     CTIO    DECam   70.8149   \n",
       "504524  1223533    g  CTIO 4.0-m telescope     CTIO    DECam   70.8149   \n",
       "\n",
       "        OBS-LAT  OBS-ELEV  TELEQUIN TIMESYS                    DATE-OBS  \\\n",
       "1849   -30.1661      2215      2000     UTC  2012-11-02 04:53:58.963709   \n",
       "1856   -30.1661      2215      2000     UTC  2012-11-02 06:18:03.596634   \n",
       "1866   -30.1661      2215      2000     UTC  2012-11-02 07:25:16.269456   \n",
       "1867   -30.1661      2215      2000     UTC  2012-11-02 07:32:27.251025   \n",
       "1868   -30.1661      2215      2000     UTC  2012-11-02 07:34:26.345592   \n",
       "...         ...       ...       ...     ...                         ...   \n",
       "504509 -30.1661      2215      2000     UTC  2023-07-21 04:02:44.144925   \n",
       "504511 -30.1661      2215      2000     UTC  2023-07-21 04:07:18.281902   \n",
       "504519 -30.1661      2215      2000     UTC  2023-07-21 04:25:07.161563   \n",
       "504523 -30.1661      2215      2000     UTC  2023-07-21 04:33:18.720174   \n",
       "504524 -30.1661      2215      2000     UTC  2023-07-21 04:35:19.212277   \n",
       "\n",
       "               TIME-OBS  DARKTIME  EXPTIME            RA            DEC  \\\n",
       "1849    04:53:58.963709   31.1660     30.0  00:03:06.361  -29:47:35.696   \n",
       "1856    06:18:03.596634   61.1374     60.0  02:24:27.068  -04:16:03.299   \n",
       "1866    07:25:16.269456   31.0896     30.0  04:34:13.969   15:11:05.500   \n",
       "1867    07:32:27.251025   91.0933     90.0  04:34:13.530   15:11:02.098   \n",
       "1868    07:34:26.345592   91.1038     90.0  04:35:39.350   14:51:01.199   \n",
       "...                 ...       ...      ...           ...            ...   \n",
       "504509  04:02:44.144925   91.1284     90.0  20:12:31.741  -01:22:56.798   \n",
       "504511  04:07:18.281902   91.0861     90.0  20:41:41.381  -07:41:56.699   \n",
       "504519  04:25:07.161563   91.1412     90.0  21:22:27.278  -20:05:40.600   \n",
       "504523  04:33:18.720174   91.0856     90.0  21:32:30.502  -21:38:18.200   \n",
       "504524  04:35:19.212277   91.1041     90.0  21:29:40.132  -20:06:01.501   \n",
       "\n",
       "              AZ     ZD  \n",
       "1849    259.1000  37.55  \n",
       "1856    307.0800  37.89  \n",
       "1866    341.6200  47.11  \n",
       "1867    339.3600  47.63  \n",
       "1868    339.0600  47.36  \n",
       "...          ...    ...  \n",
       "504509   28.9529  32.15  \n",
       "504511   45.5025  29.97  \n",
       "504519   73.4940  26.26  \n",
       "504523   77.0527  25.96  \n",
       "504524   72.7274  25.63  \n",
       "\n",
       "[36287 rows x 18 columns]"
      ]
     },
     "execution_count": 8,
     "metadata": {},
     "output_type": "execute_result"
    }
   ],
   "source": [
    "telemetry1_filtrado"
   ]
  },
  {
   "cell_type": "code",
   "execution_count": 9,
   "id": "8a3c86e6",
   "metadata": {},
   "outputs": [
    {
     "data": {
      "text/plain": [
       "619360     61\n",
       "189384     61\n",
       "646812     61\n",
       "1150145    61\n",
       "193580     61\n",
       "           ..\n",
       "220686      9\n",
       "915972      9\n",
       "907578      9\n",
       "420085      9\n",
       "1069083     9\n",
       "Name: expnum, Length: 38030, dtype: int64"
      ]
     },
     "execution_count": 9,
     "metadata": {},
     "output_type": "execute_result"
    }
   ],
   "source": [
    "expnum_counts[expnum_counts > 8] # How many times that exposure appear in the dataset"
   ]
  },
  {
   "cell_type": "code",
   "execution_count": 20,
   "id": "ec5157f5",
   "metadata": {},
   "outputs": [],
   "source": [
    "expnums_mas_8 = expnum_counts[expnum_counts > 8].index.tolist() # Which are those exposures that have more than 8 streaks\n",
    "#print(expnums_mas_8)"
   ]
  },
  {
   "cell_type": "code",
   "execution_count": 23,
   "id": "fa77ce3a",
   "metadata": {},
   "outputs": [],
   "source": [
    "#expnumtry = telemetry1_filtrado['EXPNUM'].unique()  # Usaria toooooodos los datos filtrados :p\n",
    "#expnumtry = telemetry1_filtrado['EXPNUM'].drop_duplicates().sample(10)     # Usando los datos filtrados\n",
    "                                                                      # , random_state=42) # Random exposures\n",
    "expnumtry = telemetry1['EXPNUM'].drop_duplicates().sample(100)  # Usando una muestra de los datos sin filtrar, para ver si hay mas starlinks con menos de 8 streaks"
   ]
  },
  {
   "cell_type": "code",
   "execution_count": 24,
   "id": "eadc5f4b",
   "metadata": {},
   "outputs": [],
   "source": [
    "site = EarthLocation.of_site('ctio')"
   ]
  },
  {
   "cell_type": "code",
   "execution_count": 25,
   "id": "58f347aa",
   "metadata": {},
   "outputs": [],
   "source": [
    "# Contenedores de resultados\n",
    "expnum_starlink   = []   # exposures que tuvieron al menos 1 STARLINK\n",
    "satmap_starlink   = []   # lista de nombres Starlink para cada exposure\n",
    "satmap_completo   = {}  \n",
    "todos_satelites = {} \n",
    "starlinks_en_exp = []\n",
    "fov_radius=1"
   ]
  },
  {
   "cell_type": "code",
   "execution_count": 26,
   "id": "9741bb48",
   "metadata": {},
   "outputs": [
    {
     "name": "stderr",
     "output_type": "stream",
     "text": [
      "Buscando STARLINKs:   0%|                                                                      | 0/100 [00:00<?, ?it/s]"
     ]
    },
    {
     "name": "stdout",
     "output_type": "stream",
     "text": [
      "Running query for expnum636949\n"
     ]
    },
    {
     "name": "stderr",
     "output_type": "stream",
     "text": [
      "Buscando STARLINKs:   1%|▌                                                             | 1/100 [00:14<24:09, 14.64s/it]"
     ]
    },
    {
     "name": "stdout",
     "output_type": "stream",
     "text": [
      "636949 []\n",
      "Running query for expnum153307\n"
     ]
    },
    {
     "name": "stderr",
     "output_type": "stream",
     "text": [
      "Buscando STARLINKs:   2%|█▏                                                            | 2/100 [00:20<15:34,  9.53s/it]"
     ]
    },
    {
     "name": "stdout",
     "output_type": "stream",
     "text": [
      "153307 []\n",
      "Running query for expnum1165186\n"
     ]
    },
    {
     "name": "stderr",
     "output_type": "stream",
     "text": [
      "Buscando STARLINKs:   3%|█▊                                                            | 3/100 [00:36<19:52, 12.30s/it]"
     ]
    },
    {
     "name": "stdout",
     "output_type": "stream",
     "text": [
      "1165186 ['STARLINK-4599 (53631)']\n",
      "Running query for expnum585202\n"
     ]
    },
    {
     "name": "stderr",
     "output_type": "stream",
     "text": [
      "Buscando STARLINKs:   4%|██▍                                                           | 4/100 [00:51<21:33, 13.47s/it]"
     ]
    },
    {
     "name": "stdout",
     "output_type": "stream",
     "text": [
      "585202 []\n",
      "Running query for expnum335559\n"
     ]
    },
    {
     "name": "stderr",
     "output_type": "stream",
     "text": [
      "Buscando STARLINKs:   5%|███                                                           | 5/100 [00:57<16:53, 10.67s/it]"
     ]
    },
    {
     "name": "stdout",
     "output_type": "stream",
     "text": [
      "335559 []\n",
      "Running query for expnum870595\n"
     ]
    },
    {
     "name": "stderr",
     "output_type": "stream",
     "text": [
      "Buscando STARLINKs:   6%|███▋                                                          | 6/100 [01:11<18:50, 12.02s/it]"
     ]
    },
    {
     "name": "stdout",
     "output_type": "stream",
     "text": [
      "870595 []\n",
      "Running query for expnum1021893\n"
     ]
    },
    {
     "name": "stderr",
     "output_type": "stream",
     "text": [
      "Buscando STARLINKs:   7%|████▎                                                         | 7/100 [01:24<18:57, 12.23s/it]"
     ]
    },
    {
     "name": "stdout",
     "output_type": "stream",
     "text": [
      "1021893 []\n",
      "Running query for expnum986426\n"
     ]
    },
    {
     "name": "stderr",
     "output_type": "stream",
     "text": [
      "Buscando STARLINKs:   8%|████▉                                                         | 8/100 [01:33<17:24, 11.36s/it]"
     ]
    },
    {
     "name": "stdout",
     "output_type": "stream",
     "text": [
      "986426 []\n",
      "Running query for expnum1090345\n"
     ]
    },
    {
     "name": "stderr",
     "output_type": "stream",
     "text": [
      "Buscando STARLINKs:   9%|█████▌                                                        | 9/100 [01:44<16:51, 11.11s/it]"
     ]
    },
    {
     "name": "stdout",
     "output_type": "stream",
     "text": [
      "1090345 []\n",
      "Running query for expnum981556\n"
     ]
    },
    {
     "name": "stderr",
     "output_type": "stream",
     "text": [
      "Buscando STARLINKs:  10%|██████                                                       | 10/100 [01:46<12:34,  8.38s/it]"
     ]
    },
    {
     "name": "stdout",
     "output_type": "stream",
     "text": [
      "981556 []\n",
      "Running query for expnum922772\n"
     ]
    },
    {
     "name": "stderr",
     "output_type": "stream",
     "text": [
      "Buscando STARLINKs:  11%|██████▋                                                      | 11/100 [02:06<17:29, 11.80s/it]"
     ]
    },
    {
     "name": "stdout",
     "output_type": "stream",
     "text": [
      "922772 []\n",
      "Running query for expnum611055\n"
     ]
    },
    {
     "name": "stderr",
     "output_type": "stream",
     "text": [
      "Buscando STARLINKs:  12%|███████▎                                                     | 12/100 [02:18<17:39, 12.03s/it]"
     ]
    },
    {
     "name": "stdout",
     "output_type": "stream",
     "text": [
      "611055 []\n",
      "Running query for expnum826084\n"
     ]
    },
    {
     "name": "stderr",
     "output_type": "stream",
     "text": [
      "Buscando STARLINKs:  13%|███████▉                                                     | 13/100 [02:38<20:40, 14.26s/it]"
     ]
    },
    {
     "name": "stdout",
     "output_type": "stream",
     "text": [
      "826084 []\n",
      "Running query for expnum606043\n"
     ]
    },
    {
     "name": "stderr",
     "output_type": "stream",
     "text": [
      "Buscando STARLINKs:  14%|████████▌                                                    | 14/100 [02:43<16:18, 11.38s/it]"
     ]
    },
    {
     "name": "stdout",
     "output_type": "stream",
     "text": [
      "606043 []\n",
      "Running query for expnum163519\n"
     ]
    },
    {
     "name": "stderr",
     "output_type": "stream",
     "text": [
      "Buscando STARLINKs:  15%|█████████▏                                                   | 15/100 [02:51<14:59, 10.58s/it]"
     ]
    },
    {
     "name": "stdout",
     "output_type": "stream",
     "text": [
      "163519 []\n",
      "Running query for expnum548311\n"
     ]
    },
    {
     "name": "stderr",
     "output_type": "stream",
     "text": [
      "Buscando STARLINKs:  16%|█████████▊                                                   | 16/100 [03:04<15:53, 11.35s/it]"
     ]
    },
    {
     "name": "stdout",
     "output_type": "stream",
     "text": [
      "548311 []\n",
      "Running query for expnum980395\n"
     ]
    },
    {
     "name": "stderr",
     "output_type": "stream",
     "text": [
      "Buscando STARLINKs:  17%|██████████▎                                                  | 17/100 [03:07<12:01,  8.69s/it]"
     ]
    },
    {
     "name": "stdout",
     "output_type": "stream",
     "text": [
      "980395 []\n",
      "Running query for expnum1112397\n"
     ]
    },
    {
     "name": "stderr",
     "output_type": "stream",
     "text": [
      "Buscando STARLINKs:  18%|██████████▉                                                  | 18/100 [03:22<14:21, 10.50s/it]"
     ]
    },
    {
     "name": "stdout",
     "output_type": "stream",
     "text": [
      "1112397 []\n",
      "Running query for expnum582830\n"
     ]
    },
    {
     "name": "stderr",
     "output_type": "stream",
     "text": [
      "Buscando STARLINKs:  19%|███████████▌                                                 | 19/100 [03:31<13:38, 10.10s/it]"
     ]
    },
    {
     "name": "stdout",
     "output_type": "stream",
     "text": [
      "582830 []\n",
      "Running query for expnum332882\n"
     ]
    },
    {
     "name": "stderr",
     "output_type": "stream",
     "text": [
      "Buscando STARLINKs:  20%|████████████▏                                                | 20/100 [03:38<12:31,  9.39s/it]"
     ]
    },
    {
     "name": "stdout",
     "output_type": "stream",
     "text": [
      "332882 []\n",
      "Running query for expnum258837\n"
     ]
    },
    {
     "name": "stderr",
     "output_type": "stream",
     "text": [
      "Buscando STARLINKs:  21%|████████████▊                                                | 21/100 [03:54<14:43, 11.19s/it]"
     ]
    },
    {
     "name": "stdout",
     "output_type": "stream",
     "text": [
      "258837 []\n",
      "Running query for expnum345332\n"
     ]
    },
    {
     "name": "stderr",
     "output_type": "stream",
     "text": [
      "Buscando STARLINKs:  22%|█████████████▍                                               | 22/100 [04:01<12:51,  9.89s/it]"
     ]
    },
    {
     "name": "stdout",
     "output_type": "stream",
     "text": [
      "345332 []\n",
      "Running query for expnum736724\n"
     ]
    },
    {
     "name": "stderr",
     "output_type": "stream",
     "text": [
      "Buscando STARLINKs:  23%|██████████████                                               | 23/100 [04:20<16:08, 12.58s/it]"
     ]
    },
    {
     "name": "stdout",
     "output_type": "stream",
     "text": [
      "736724 []\n",
      "Running query for expnum717345\n"
     ]
    },
    {
     "name": "stderr",
     "output_type": "stream",
     "text": [
      "Buscando STARLINKs:  24%|██████████████▋                                              | 24/100 [04:32<15:53, 12.55s/it]"
     ]
    },
    {
     "name": "stdout",
     "output_type": "stream",
     "text": [
      "717345 []\n",
      "Running query for expnum609047\n"
     ]
    },
    {
     "name": "stderr",
     "output_type": "stream",
     "text": [
      "Buscando STARLINKs:  25%|███████████████▎                                             | 25/100 [04:39<13:34, 10.86s/it]"
     ]
    },
    {
     "name": "stdout",
     "output_type": "stream",
     "text": [
      "609047 []\n",
      "Running query for expnum242046\n"
     ]
    },
    {
     "name": "stderr",
     "output_type": "stream",
     "text": [
      "Buscando STARLINKs:  26%|███████████████▊                                             | 26/100 [04:48<12:50, 10.41s/it]"
     ]
    },
    {
     "name": "stdout",
     "output_type": "stream",
     "text": [
      "242046 []\n",
      "Running query for expnum179580\n"
     ]
    },
    {
     "name": "stderr",
     "output_type": "stream",
     "text": [
      "Buscando STARLINKs:  27%|████████████████▍                                            | 27/100 [04:56<11:40,  9.60s/it]"
     ]
    },
    {
     "name": "stdout",
     "output_type": "stream",
     "text": [
      "179580 []\n",
      "Running query for expnum1019582\n"
     ]
    },
    {
     "name": "stderr",
     "output_type": "stream",
     "text": [
      "Buscando STARLINKs:  28%|█████████████████                                            | 28/100 [05:07<11:52,  9.90s/it]"
     ]
    },
    {
     "name": "stdout",
     "output_type": "stream",
     "text": [
      "1019582 []\n",
      "Running query for expnum415507\n"
     ]
    },
    {
     "name": "stderr",
     "output_type": "stream",
     "text": [
      "Buscando STARLINKs:  29%|█████████████████▋                                           | 29/100 [05:19<12:33, 10.62s/it]"
     ]
    },
    {
     "name": "stdout",
     "output_type": "stream",
     "text": [
      "415507 []\n",
      "Running query for expnum497856\n"
     ]
    },
    {
     "name": "stderr",
     "output_type": "stream",
     "text": [
      "Buscando STARLINKs:  30%|██████████████████▎                                          | 30/100 [05:36<14:33, 12.48s/it]"
     ]
    },
    {
     "name": "stdout",
     "output_type": "stream",
     "text": [
      "497856 []\n",
      "Running query for expnum921497\n"
     ]
    },
    {
     "name": "stderr",
     "output_type": "stream",
     "text": [
      "Buscando STARLINKs:  31%|██████████████████▉                                          | 31/100 [05:59<18:10, 15.80s/it]"
     ]
    },
    {
     "name": "stdout",
     "output_type": "stream",
     "text": [
      "921497 []\n",
      "Running query for expnum155705\n"
     ]
    },
    {
     "name": "stderr",
     "output_type": "stream",
     "text": [
      "Buscando STARLINKs:  32%|███████████████████▌                                         | 32/100 [06:07<15:01, 13.26s/it]"
     ]
    },
    {
     "name": "stdout",
     "output_type": "stream",
     "text": [
      "155705 []\n",
      "Running query for expnum744123\n"
     ]
    },
    {
     "name": "stderr",
     "output_type": "stream",
     "text": [
      "Buscando STARLINKs:  33%|████████████████████▏                                        | 33/100 [06:18<14:17, 12.80s/it]"
     ]
    },
    {
     "name": "stdout",
     "output_type": "stream",
     "text": [
      "744123 []\n",
      "Running query for expnum660402\n"
     ]
    },
    {
     "name": "stderr",
     "output_type": "stream",
     "text": [
      "Buscando STARLINKs:  34%|████████████████████▋                                        | 34/100 [06:37<16:00, 14.55s/it]"
     ]
    },
    {
     "name": "stdout",
     "output_type": "stream",
     "text": [
      "660402 []\n",
      "Running query for expnum1037913\n"
     ]
    },
    {
     "name": "stderr",
     "output_type": "stream",
     "text": [
      "Buscando STARLINKs:  35%|█████████████████████▎                                       | 35/100 [06:50<15:12, 14.03s/it]"
     ]
    },
    {
     "name": "stdout",
     "output_type": "stream",
     "text": [
      "1037913 []\n",
      "Running query for expnum840187\n"
     ]
    },
    {
     "name": "stderr",
     "output_type": "stream",
     "text": [
      "Buscando STARLINKs:  36%|█████████████████████▉                                       | 36/100 [07:09<16:40, 15.64s/it]"
     ]
    },
    {
     "name": "stdout",
     "output_type": "stream",
     "text": [
      "840187 []\n",
      "Running query for expnum275840\n"
     ]
    },
    {
     "name": "stderr",
     "output_type": "stream",
     "text": [
      "Buscando STARLINKs:  37%|██████████████████████▌                                      | 37/100 [07:22<15:29, 14.76s/it]"
     ]
    },
    {
     "name": "stdout",
     "output_type": "stream",
     "text": [
      "275840 []\n",
      "Running query for expnum336439\n"
     ]
    },
    {
     "name": "stderr",
     "output_type": "stream",
     "text": [
      "Buscando STARLINKs:  38%|███████████████████████▏                                     | 38/100 [07:35<14:41, 14.22s/it]"
     ]
    },
    {
     "name": "stdout",
     "output_type": "stream",
     "text": [
      "336439 []\n",
      "Running query for expnum248774\n"
     ]
    },
    {
     "name": "stderr",
     "output_type": "stream",
     "text": [
      "Buscando STARLINKs:  39%|███████████████████████▊                                     | 39/100 [07:45<13:10, 12.95s/it]"
     ]
    },
    {
     "name": "stdout",
     "output_type": "stream",
     "text": [
      "248774 []\n",
      "Running query for expnum1161606\n"
     ]
    },
    {
     "name": "stderr",
     "output_type": "stream",
     "text": [
      "Buscando STARLINKs:  40%|████████████████████████▍                                    | 40/100 [07:59<13:12, 13.21s/it]"
     ]
    },
    {
     "name": "stdout",
     "output_type": "stream",
     "text": [
      "1161606 ['STARLINK-4045 (53152)']\n",
      "Running query for expnum1027021\n"
     ]
    },
    {
     "name": "stderr",
     "output_type": "stream",
     "text": [
      "Buscando STARLINKs:  41%|█████████████████████████                                    | 41/100 [08:03<10:29, 10.68s/it]"
     ]
    },
    {
     "name": "stdout",
     "output_type": "stream",
     "text": [
      "1027021 []\n",
      "Running query for expnum567860\n"
     ]
    },
    {
     "name": "stderr",
     "output_type": "stream",
     "text": [
      "Buscando STARLINKs:  42%|█████████████████████████▌                                   | 42/100 [08:18<11:28, 11.87s/it]"
     ]
    },
    {
     "name": "stdout",
     "output_type": "stream",
     "text": [
      "567860 []\n",
      "Running query for expnum852866\n"
     ]
    },
    {
     "name": "stderr",
     "output_type": "stream",
     "text": [
      "Buscando STARLINKs:  43%|██████████████████████████▏                                  | 43/100 [08:33<12:14, 12.88s/it]"
     ]
    },
    {
     "name": "stdout",
     "output_type": "stream",
     "text": [
      "852866 []\n",
      "Running query for expnum1053329\n"
     ]
    },
    {
     "name": "stderr",
     "output_type": "stream",
     "text": [
      "Buscando STARLINKs:  44%|██████████████████████████▊                                  | 44/100 [08:45<11:46, 12.62s/it]"
     ]
    },
    {
     "name": "stdout",
     "output_type": "stream",
     "text": [
      "1053329 []\n",
      "Running query for expnum277331\n"
     ]
    },
    {
     "name": "stderr",
     "output_type": "stream",
     "text": [
      "Buscando STARLINKs:  45%|███████████████████████████▍                                 | 45/100 [08:49<09:06,  9.93s/it]"
     ]
    },
    {
     "name": "stdout",
     "output_type": "stream",
     "text": [
      "277331 []\n",
      "Running query for expnum731840\n"
     ]
    },
    {
     "name": "stderr",
     "output_type": "stream",
     "text": [
      "Buscando STARLINKs:  46%|████████████████████████████                                 | 46/100 [09:09<11:42, 13.01s/it]"
     ]
    },
    {
     "name": "stdout",
     "output_type": "stream",
     "text": [
      "731840 []\n",
      "Running query for expnum1199116\n"
     ]
    },
    {
     "name": "stderr",
     "output_type": "stream",
     "text": [
      "Buscando STARLINKs:  47%|████████████████████████████▋                                | 47/100 [09:22<11:32, 13.06s/it]"
     ]
    },
    {
     "name": "stdout",
     "output_type": "stream",
     "text": [
      "1199116 []\n",
      "Running query for expnum497764\n"
     ]
    },
    {
     "name": "stderr",
     "output_type": "stream",
     "text": [
      "Buscando STARLINKs:  48%|█████████████████████████████▎                               | 48/100 [09:40<12:35, 14.52s/it]"
     ]
    },
    {
     "name": "stdout",
     "output_type": "stream",
     "text": [
      "497764 []\n",
      "Running query for expnum512542\n"
     ]
    },
    {
     "name": "stderr",
     "output_type": "stream",
     "text": [
      "Buscando STARLINKs:  49%|█████████████████████████████▉                               | 49/100 [09:54<12:09, 14.31s/it]"
     ]
    },
    {
     "name": "stdout",
     "output_type": "stream",
     "text": [
      "512542 []\n",
      "Running query for expnum844131\n"
     ]
    },
    {
     "name": "stderr",
     "output_type": "stream",
     "text": [
      "Buscando STARLINKs:  50%|██████████████████████████████▌                              | 50/100 [10:10<12:20, 14.82s/it]"
     ]
    },
    {
     "name": "stdout",
     "output_type": "stream",
     "text": [
      "844131 []\n",
      "Running query for expnum632309\n"
     ]
    },
    {
     "name": "stderr",
     "output_type": "stream",
     "text": [
      "Buscando STARLINKs:  51%|███████████████████████████████                              | 51/100 [10:28<12:52, 15.76s/it]"
     ]
    },
    {
     "name": "stdout",
     "output_type": "stream",
     "text": [
      "632309 []\n",
      "Running query for expnum771604\n"
     ]
    },
    {
     "name": "stderr",
     "output_type": "stream",
     "text": [
      "Buscando STARLINKs:  52%|███████████████████████████████▋                             | 52/100 [10:45<12:47, 15.99s/it]"
     ]
    },
    {
     "name": "stdout",
     "output_type": "stream",
     "text": [
      "771604 []\n",
      "Running query for expnum1049586\n"
     ]
    },
    {
     "name": "stderr",
     "output_type": "stream",
     "text": [
      "Buscando STARLINKs:  53%|████████████████████████████████▎                            | 53/100 [10:48<09:38, 12.30s/it]"
     ]
    },
    {
     "name": "stdout",
     "output_type": "stream",
     "text": [
      "1049586 []\n",
      "Running query for expnum886454\n"
     ]
    },
    {
     "name": "stderr",
     "output_type": "stream",
     "text": [
      "Buscando STARLINKs:  54%|████████████████████████████████▉                            | 54/100 [11:09<11:22, 14.84s/it]"
     ]
    },
    {
     "name": "stdout",
     "output_type": "stream",
     "text": [
      "886454 []\n",
      "Running query for expnum409227\n"
     ]
    },
    {
     "name": "stderr",
     "output_type": "stream",
     "text": [
      "Buscando STARLINKs:  55%|█████████████████████████████████▌                           | 55/100 [11:24<11:11, 14.92s/it]"
     ]
    },
    {
     "name": "stdout",
     "output_type": "stream",
     "text": [
      "409227 []\n",
      "Running query for expnum193880\n"
     ]
    },
    {
     "name": "stderr",
     "output_type": "stream",
     "text": [
      "Buscando STARLINKs:  56%|██████████████████████████████████▏                          | 56/100 [11:41<11:18, 15.41s/it]"
     ]
    },
    {
     "name": "stdout",
     "output_type": "stream",
     "text": [
      "193880 []\n",
      "Running query for expnum1035581\n"
     ]
    },
    {
     "name": "stderr",
     "output_type": "stream",
     "text": [
      "Buscando STARLINKs:  57%|██████████████████████████████████▊                          | 57/100 [11:47<09:01, 12.60s/it]"
     ]
    },
    {
     "name": "stdout",
     "output_type": "stream",
     "text": [
      "1035581 []\n",
      "Running query for expnum496501\n"
     ]
    },
    {
     "name": "stderr",
     "output_type": "stream",
     "text": [
      "Buscando STARLINKs:  58%|███████████████████████████████████▍                         | 58/100 [11:50<06:57,  9.93s/it]"
     ]
    },
    {
     "name": "stdout",
     "output_type": "stream",
     "text": [
      "496501 []\n",
      "Running query for expnum407785\n"
     ]
    },
    {
     "name": "stderr",
     "output_type": "stream",
     "text": [
      "Buscando STARLINKs:  59%|███████████████████████████████████▉                         | 59/100 [11:55<05:44,  8.41s/it]"
     ]
    },
    {
     "name": "stdout",
     "output_type": "stream",
     "text": [
      "407785 []\n",
      "Running query for expnum481380\n"
     ]
    },
    {
     "name": "stderr",
     "output_type": "stream",
     "text": [
      "Buscando STARLINKs:  60%|████████████████████████████████████▌                        | 60/100 [12:02<05:13,  7.83s/it]"
     ]
    },
    {
     "name": "stdout",
     "output_type": "stream",
     "text": [
      "481380 []\n",
      "Running query for expnum417439\n"
     ]
    },
    {
     "name": "stderr",
     "output_type": "stream",
     "text": [
      "Buscando STARLINKs:  61%|█████████████████████████████████████▏                       | 61/100 [12:06<04:20,  6.69s/it]"
     ]
    },
    {
     "name": "stdout",
     "output_type": "stream",
     "text": [
      "417439 []\n",
      "Running query for expnum977176\n"
     ]
    },
    {
     "name": "stderr",
     "output_type": "stream",
     "text": [
      "Buscando STARLINKs:  62%|█████████████████████████████████████▊                       | 62/100 [12:13<04:24,  6.95s/it]"
     ]
    },
    {
     "name": "stdout",
     "output_type": "stream",
     "text": [
      "977176 []\n",
      "Running query for expnum449803\n"
     ]
    },
    {
     "name": "stderr",
     "output_type": "stream",
     "text": [
      "Buscando STARLINKs:  63%|██████████████████████████████████████▍                      | 63/100 [12:27<05:28,  8.88s/it]"
     ]
    },
    {
     "name": "stdout",
     "output_type": "stream",
     "text": [
      "449803 []\n",
      "Running query for expnum446249\n"
     ]
    },
    {
     "name": "stderr",
     "output_type": "stream",
     "text": [
      "Buscando STARLINKs:  64%|███████████████████████████████████████                      | 64/100 [12:29<04:11,  6.98s/it]"
     ]
    },
    {
     "name": "stdout",
     "output_type": "stream",
     "text": [
      "446249 []\n",
      "Running query for expnum664603\n"
     ]
    },
    {
     "name": "stderr",
     "output_type": "stream",
     "text": [
      "Buscando STARLINKs:  65%|███████████████████████████████████████▋                     | 65/100 [12:47<05:55, 10.17s/it]"
     ]
    },
    {
     "name": "stdout",
     "output_type": "stream",
     "text": [
      "664603 []\n",
      "Running query for expnum241812\n"
     ]
    },
    {
     "name": "stderr",
     "output_type": "stream",
     "text": [
      "Buscando STARLINKs:  66%|████████████████████████████████████████▎                    | 66/100 [12:56<05:38,  9.95s/it]"
     ]
    },
    {
     "name": "stdout",
     "output_type": "stream",
     "text": [
      "241812 []\n",
      "Running query for expnum874602\n"
     ]
    },
    {
     "name": "stderr",
     "output_type": "stream",
     "text": [
      "Buscando STARLINKs:  67%|████████████████████████████████████████▊                    | 67/100 [13:05<05:15,  9.55s/it]"
     ]
    },
    {
     "name": "stdout",
     "output_type": "stream",
     "text": [
      "874602 []\n",
      "Running query for expnum869896\n"
     ]
    },
    {
     "name": "stderr",
     "output_type": "stream",
     "text": [
      "Buscando STARLINKs:  68%|█████████████████████████████████████████▍                   | 68/100 [13:14<05:00,  9.40s/it]"
     ]
    },
    {
     "name": "stdout",
     "output_type": "stream",
     "text": [
      "869896 []\n",
      "Running query for expnum815536\n"
     ]
    },
    {
     "name": "stderr",
     "output_type": "stream",
     "text": [
      "Buscando STARLINKs:  69%|██████████████████████████████████████████                   | 69/100 [13:28<05:35, 10.81s/it]"
     ]
    },
    {
     "name": "stdout",
     "output_type": "stream",
     "text": [
      "815536 []\n",
      "Running query for expnum1180245\n"
     ]
    },
    {
     "name": "stderr",
     "output_type": "stream",
     "text": [
      "Buscando STARLINKs:  70%|██████████████████████████████████████████▋                  | 70/100 [13:48<06:43, 13.45s/it]"
     ]
    },
    {
     "name": "stdout",
     "output_type": "stream",
     "text": [
      "1180245 ['STARLINK-4137 (53031)']\n",
      "Running query for expnum1045186\n"
     ]
    },
    {
     "name": "stderr",
     "output_type": "stream",
     "text": [
      "Buscando STARLINKs:  71%|███████████████████████████████████████████▎                 | 71/100 [13:55<05:39, 11.72s/it]"
     ]
    },
    {
     "name": "stdout",
     "output_type": "stream",
     "text": [
      "1045186 []\n",
      "Running query for expnum158715\n"
     ]
    },
    {
     "name": "stderr",
     "output_type": "stream",
     "text": [
      "Buscando STARLINKs:  72%|███████████████████████████████████████████▉                 | 72/100 [14:05<05:08, 11.01s/it]"
     ]
    },
    {
     "name": "stdout",
     "output_type": "stream",
     "text": [
      "158715 []\n",
      "Running query for expnum690030\n"
     ]
    },
    {
     "name": "stderr",
     "output_type": "stream",
     "text": [
      "Buscando STARLINKs:  73%|████████████████████████████████████████████▌                | 73/100 [14:23<05:56, 13.20s/it]"
     ]
    },
    {
     "name": "stdout",
     "output_type": "stream",
     "text": [
      "690030 []\n",
      "Running query for expnum1065294\n"
     ]
    },
    {
     "name": "stderr",
     "output_type": "stream",
     "text": [
      "Buscando STARLINKs:  74%|█████████████████████████████████████████████▏               | 74/100 [14:35<05:35, 12.89s/it]"
     ]
    },
    {
     "name": "stdout",
     "output_type": "stream",
     "text": [
      "1065294 []\n",
      "Running query for expnum334960\n"
     ]
    },
    {
     "name": "stderr",
     "output_type": "stream",
     "text": [
      "Buscando STARLINKs:  75%|█████████████████████████████████████████████▊               | 75/100 [14:49<05:29, 13.16s/it]"
     ]
    },
    {
     "name": "stdout",
     "output_type": "stream",
     "text": [
      "334960 []\n",
      "Running query for expnum362531\n"
     ]
    },
    {
     "name": "stderr",
     "output_type": "stream",
     "text": [
      "Buscando STARLINKs:  76%|██████████████████████████████████████████████▎              | 76/100 [15:01<05:05, 12.73s/it]"
     ]
    },
    {
     "name": "stdout",
     "output_type": "stream",
     "text": [
      "362531 []\n",
      "Running query for expnum185522\n"
     ]
    },
    {
     "name": "stderr",
     "output_type": "stream",
     "text": [
      "Buscando STARLINKs:  77%|██████████████████████████████████████████████▉              | 77/100 [15:11<04:35, 11.99s/it]"
     ]
    },
    {
     "name": "stdout",
     "output_type": "stream",
     "text": [
      "185522 []\n",
      "Running query for expnum1150865\n"
     ]
    },
    {
     "name": "stderr",
     "output_type": "stream",
     "text": [
      "Buscando STARLINKs:  78%|███████████████████████████████████████████████▌             | 78/100 [15:25<04:35, 12.52s/it]"
     ]
    },
    {
     "name": "stdout",
     "output_type": "stream",
     "text": [
      "1150865 []\n",
      "Running query for expnum239289\n"
     ]
    },
    {
     "name": "stderr",
     "output_type": "stream",
     "text": [
      "Buscando STARLINKs:  79%|████████████████████████████████████████████████▏            | 79/100 [15:31<03:41, 10.55s/it]"
     ]
    },
    {
     "name": "stdout",
     "output_type": "stream",
     "text": [
      "239289 []\n",
      "Running query for expnum1021815\n"
     ]
    },
    {
     "name": "stderr",
     "output_type": "stream",
     "text": [
      "Buscando STARLINKs:  80%|████████████████████████████████████████████████▊            | 80/100 [15:40<03:21, 10.07s/it]"
     ]
    },
    {
     "name": "stdout",
     "output_type": "stream",
     "text": [
      "1021815 ['STARLINK-1133 (45064)']\n",
      "Running query for expnum509119\n"
     ]
    },
    {
     "name": "stderr",
     "output_type": "stream",
     "text": [
      "Buscando STARLINKs:  81%|█████████████████████████████████████████████████▍           | 81/100 [15:56<03:44, 11.81s/it]"
     ]
    },
    {
     "name": "stdout",
     "output_type": "stream",
     "text": [
      "509119 []\n",
      "Running query for expnum157026\n"
     ]
    },
    {
     "name": "stderr",
     "output_type": "stream",
     "text": [
      "Buscando STARLINKs:  82%|██████████████████████████████████████████████████           | 82/100 [16:00<02:55,  9.73s/it]"
     ]
    },
    {
     "name": "stdout",
     "output_type": "stream",
     "text": [
      "157026 []\n",
      "Running query for expnum524049\n"
     ]
    },
    {
     "name": "stderr",
     "output_type": "stream",
     "text": [
      "Buscando STARLINKs:  83%|██████████████████████████████████████████████████▋          | 83/100 [16:16<03:13, 11.38s/it]"
     ]
    },
    {
     "name": "stdout",
     "output_type": "stream",
     "text": [
      "524049 []\n",
      "Running query for expnum778766\n"
     ]
    },
    {
     "name": "stderr",
     "output_type": "stream",
     "text": [
      "Buscando STARLINKs:  84%|███████████████████████████████████████████████████▏         | 84/100 [16:34<03:33, 13.36s/it]"
     ]
    },
    {
     "name": "stdout",
     "output_type": "stream",
     "text": [
      "778766 []\n",
      "Running query for expnum880806\n"
     ]
    },
    {
     "name": "stderr",
     "output_type": "stream",
     "text": [
      "Buscando STARLINKs:  85%|███████████████████████████████████████████████████▊         | 85/100 [16:47<03:22, 13.50s/it]"
     ]
    },
    {
     "name": "stdout",
     "output_type": "stream",
     "text": [
      "880806 []\n",
      "Running query for expnum274743\n"
     ]
    },
    {
     "name": "stderr",
     "output_type": "stream",
     "text": [
      "Buscando STARLINKs:  86%|████████████████████████████████████████████████████▍        | 86/100 [16:58<02:57, 12.69s/it]"
     ]
    },
    {
     "name": "stdout",
     "output_type": "stream",
     "text": [
      "274743 []\n",
      "Running query for expnum173781\n"
     ]
    },
    {
     "name": "stderr",
     "output_type": "stream",
     "text": [
      "Buscando STARLINKs:  87%|█████████████████████████████████████████████████████        | 87/100 [17:06<02:27, 11.33s/it]"
     ]
    },
    {
     "name": "stdout",
     "output_type": "stream",
     "text": [
      "173781 []\n",
      "Running query for expnum925114\n"
     ]
    },
    {
     "name": "stderr",
     "output_type": "stream",
     "text": [
      "Buscando STARLINKs:  88%|█████████████████████████████████████████████████████▋       | 88/100 [17:29<02:54, 14.57s/it]"
     ]
    },
    {
     "name": "stdout",
     "output_type": "stream",
     "text": [
      "925114 []\n",
      "Running query for expnum1037170\n"
     ]
    },
    {
     "name": "stderr",
     "output_type": "stream",
     "text": [
      "Buscando STARLINKs:  89%|██████████████████████████████████████████████████████▎      | 89/100 [17:41<02:32, 13.86s/it]"
     ]
    },
    {
     "name": "stdout",
     "output_type": "stream",
     "text": [
      "1037170 []\n",
      "Running query for expnum188173\n"
     ]
    },
    {
     "name": "stderr",
     "output_type": "stream",
     "text": [
      "Buscando STARLINKs:  90%|██████████████████████████████████████████████████████▉      | 90/100 [17:45<01:48, 10.84s/it]"
     ]
    },
    {
     "name": "stdout",
     "output_type": "stream",
     "text": [
      "188173 []\n",
      "Running query for expnum815182\n"
     ]
    },
    {
     "name": "stderr",
     "output_type": "stream",
     "text": [
      "Buscando STARLINKs:  91%|███████████████████████████████████████████████████████▌     | 91/100 [18:04<01:59, 13.32s/it]"
     ]
    },
    {
     "name": "stdout",
     "output_type": "stream",
     "text": [
      "815182 []\n",
      "Running query for expnum512936\n"
     ]
    },
    {
     "name": "stderr",
     "output_type": "stream",
     "text": [
      "Buscando STARLINKs:  92%|████████████████████████████████████████████████████████     | 92/100 [18:07<01:22, 10.36s/it]"
     ]
    },
    {
     "name": "stdout",
     "output_type": "stream",
     "text": [
      "512936 []\n",
      "Running query for expnum246911\n"
     ]
    },
    {
     "name": "stderr",
     "output_type": "stream",
     "text": [
      "Buscando STARLINKs:  93%|████████████████████████████████████████████████████████▋    | 93/100 [18:11<00:58,  8.36s/it]"
     ]
    },
    {
     "name": "stdout",
     "output_type": "stream",
     "text": [
      "246911 []\n",
      "Running query for expnum644683\n"
     ]
    },
    {
     "name": "stderr",
     "output_type": "stream",
     "text": [
      "Buscando STARLINKs:  94%|█████████████████████████████████████████████████████████▎   | 94/100 [18:27<01:03, 10.61s/it]"
     ]
    },
    {
     "name": "stdout",
     "output_type": "stream",
     "text": [
      "644683 []\n",
      "Running query for expnum388167\n"
     ]
    },
    {
     "name": "stderr",
     "output_type": "stream",
     "text": [
      "Buscando STARLINKs:  95%|█████████████████████████████████████████████████████████▉   | 95/100 [18:39<00:56, 11.21s/it]"
     ]
    },
    {
     "name": "stdout",
     "output_type": "stream",
     "text": [
      "388167 []\n",
      "Running query for expnum225262\n"
     ]
    },
    {
     "name": "stderr",
     "output_type": "stream",
     "text": [
      "Buscando STARLINKs:  96%|██████████████████████████████████████████████████████████▌  | 96/100 [18:46<00:39,  9.93s/it]"
     ]
    },
    {
     "name": "stdout",
     "output_type": "stream",
     "text": [
      "225262 []\n",
      "Running query for expnum528600\n"
     ]
    },
    {
     "name": "stderr",
     "output_type": "stream",
     "text": [
      "Buscando STARLINKs:  97%|███████████████████████████████████████████████████████████▏ | 97/100 [19:02<00:34, 11.65s/it]"
     ]
    },
    {
     "name": "stdout",
     "output_type": "stream",
     "text": [
      "528600 []\n",
      "Running query for expnum1078652\n"
     ]
    },
    {
     "name": "stderr",
     "output_type": "stream",
     "text": [
      "Buscando STARLINKs:  98%|███████████████████████████████████████████████████████████▊ | 98/100 [19:12<00:22, 11.27s/it]"
     ]
    },
    {
     "name": "stdout",
     "output_type": "stream",
     "text": [
      "1078652 []\n",
      "Running query for expnum447174\n"
     ]
    },
    {
     "name": "stderr",
     "output_type": "stream",
     "text": [
      "Buscando STARLINKs:  99%|████████████████████████████████████████████████████████████▍| 99/100 [19:24<00:11, 11.52s/it]"
     ]
    },
    {
     "name": "stdout",
     "output_type": "stream",
     "text": [
      "447174 []\n",
      "Running query for expnum579135\n"
     ]
    },
    {
     "name": "stderr",
     "output_type": "stream",
     "text": [
      "Buscando STARLINKs: 100%|████████████████████████████████████████████████████████████| 100/100 [19:41<00:00, 11.82s/it]"
     ]
    },
    {
     "name": "stdout",
     "output_type": "stream",
     "text": [
      "579135 []\n",
      "    EXPNUM                starlinks\n",
      "0  1165186  [STARLINK-4599 (53631)]\n",
      "1  1161606  [STARLINK-4045 (53152)]\n",
      "2  1180245  [STARLINK-4137 (53031)]\n",
      "3  1021815  [STARLINK-1133 (45064)]\n"
     ]
    },
    {
     "name": "stderr",
     "output_type": "stream",
     "text": [
      "\n"
     ]
    }
   ],
   "source": [
    "for exp in tqdm(expnumtry, desc=\"Buscando STARLINKs\"):\n",
    "    #fila = telemetry1_filtrado[telemetry1_filtrado['EXPNUM'] == exp].iloc[0] #row\n",
    "    fila = telemetry1[telemetry1['EXPNUM'] == exp].iloc[0] #row\n",
    "\n",
    "    #print(fila)\n",
    "    try:\n",
    "        ra = fila['RA']\n",
    "        dec = fila['DEC']\n",
    "        latitude = fila ['OBS-LAT']\n",
    "        longitude = fila['OBS-LONG']\n",
    "        elevation = fila['OBS-ELEV']\n",
    "        exptime = fila['EXPTIME']\n",
    "        timeobs = fila['TIME-OBS']\n",
    "        dateobs = fila['DATE-OBS']\n",
    "        duration = fila['EXPTIME']\n",
    "        start_time_jd = Time(fila['DATE-OBS']).jd\n",
    "\n",
    "        # Conversión de coordenadas y fecha\n",
    "        coord = SkyCoord(ra=fila['RA'], dec=fila['DEC'], unit=u.deg)\n",
    "        ra_center = coord.icrs.ra.value\n",
    "        dec_center = coord.icrs.dec.value\n",
    "        print(f\"Running query for expnum{exp}\")\n",
    "        \n",
    "        # URL para la API\n",
    "        url = f\"https://dev.satchecker.cps.iau.noirlab.edu/fov/satellite-passes/?latitude={latitude}&longitude={longitude}&elevation={elevation}&start_time_jd={start_time_jd}&duration={duration}&ra={ra_center}&dec={dec_center}&fov_radius={fov_radius}&group_by=satellite\"\n",
    "        response = requests.get(url, timeout=60)\n",
    "        response.raise_for_status()\n",
    "        data = response.json()['data']['satellites']            \n",
    "        \n",
    "        # Guardar todos los satélites si quieres\n",
    "        todos_satelites[exp] = list(data.keys())\n",
    "\n",
    "        # Filtrar Starlink\n",
    "        starlinks = [sat for sat in data if 'STARLINK' in sat.upper()]  # It was hard to find STARLINKs in a small sample, so I tried with COSMOS instead, they seem more common\n",
    "        print(exp, starlinks)\n",
    "        if starlinks:\n",
    "            expnum_starlink.append(exp)\n",
    "            starlinks_en_exp.append(starlinks)\n",
    "\n",
    "    except Exception as e:\n",
    "        print(f\"⚠️ Error en expnum {exp}: {e}\")\n",
    "        continue\n",
    "\n",
    "# Crear DataFrame con resultados\n",
    "df_starlink = pd.DataFrame({\n",
    "    'EXPNUM': expnum_starlink,\n",
    "    'starlinks': starlinks_en_exp\n",
    "})\n",
    "\n",
    "# Vista rápida\n",
    "print(df_starlink.head())"
   ]
  },
  {
   "cell_type": "code",
   "execution_count": 27,
   "id": "2997dec0",
   "metadata": {
    "scrolled": true
   },
   "outputs": [
    {
     "data": {
      "text/html": [
       "<div>\n",
       "<style scoped>\n",
       "    .dataframe tbody tr th:only-of-type {\n",
       "        vertical-align: middle;\n",
       "    }\n",
       "\n",
       "    .dataframe tbody tr th {\n",
       "        vertical-align: top;\n",
       "    }\n",
       "\n",
       "    .dataframe thead th {\n",
       "        text-align: right;\n",
       "    }\n",
       "</style>\n",
       "<table border=\"1\" class=\"dataframe\">\n",
       "  <thead>\n",
       "    <tr style=\"text-align: right;\">\n",
       "      <th></th>\n",
       "      <th>EXPNUM</th>\n",
       "      <th>starlinks</th>\n",
       "    </tr>\n",
       "  </thead>\n",
       "  <tbody>\n",
       "    <tr>\n",
       "      <th>0</th>\n",
       "      <td>1165186</td>\n",
       "      <td>[STARLINK-4599 (53631)]</td>\n",
       "    </tr>\n",
       "    <tr>\n",
       "      <th>1</th>\n",
       "      <td>1161606</td>\n",
       "      <td>[STARLINK-4045 (53152)]</td>\n",
       "    </tr>\n",
       "    <tr>\n",
       "      <th>2</th>\n",
       "      <td>1180245</td>\n",
       "      <td>[STARLINK-4137 (53031)]</td>\n",
       "    </tr>\n",
       "    <tr>\n",
       "      <th>3</th>\n",
       "      <td>1021815</td>\n",
       "      <td>[STARLINK-1133 (45064)]</td>\n",
       "    </tr>\n",
       "  </tbody>\n",
       "</table>\n",
       "</div>"
      ],
      "text/plain": [
       "    EXPNUM                starlinks\n",
       "0  1165186  [STARLINK-4599 (53631)]\n",
       "1  1161606  [STARLINK-4045 (53152)]\n",
       "2  1180245  [STARLINK-4137 (53031)]\n",
       "3  1021815  [STARLINK-1133 (45064)]"
      ]
     },
     "execution_count": 27,
     "metadata": {},
     "output_type": "execute_result"
    }
   ],
   "source": [
    "df_starlink"
   ]
  },
  {
   "cell_type": "code",
   "execution_count": 21,
   "id": "54d3362f",
   "metadata": {},
   "outputs": [],
   "source": [
    "#todos_satelites"
   ]
  },
  {
   "attachments": {},
   "cell_type": "markdown",
   "id": "21e680b3",
   "metadata": {},
   "source": [
    "#### Some exposures with Starlinks(from the more than 8 streaks)\n",
    "\n",
    "\t1011967\t[STARLINK-1963 (47564)] Not sure... Doesn't appear with the plot as STARLINK (At Alex's image, there are two satellites)\n",
    "\n",
    "\t1220859\t[STARLINK-3954 (52558)] Confirmed!  (Nothing at Alex's images)\n",
    "\n",
    "\t1103448\t[STARLINK-3738 (52117)] Not sure... Doesn't appear with the plot as STARLINK (At Alex's images looks amazing. 5 satellites)\n",
    "    \n",
    "    1114861 [STARLINK-1422 (45696)]\n",
    "    \n",
    "    1218180\t[STARLINK-3210 (49755)]\n",
    "    \n",
    "  #### news (using the full telemetry data)\n",
    "\n",
    "    1157371 [STARLINK-1569 (46039)',  'STARLINK-4093 (53157)',  'STARLINK-4257 (53184)']  Doesn't appear at the plot\n",
    "     \n",
    "    949790     [STARLINK-1255 (45399)]  Nothing at the plot\n",
    "\n",
    "    1170668\t[STARLINK-1601 (46120)]\n",
    " \n",
    "    1106509\t[STARLINK-3872 (52453)]\n",
    " \n",
    "    1033925\t[STARLINK-2559 (48298)]\n",
    "    \n",
    "    1132514\t[STARLINK-3106 (49164)]\n",
    "    \n",
    "\t1037961\t[STARLINK-1712 (46581)]\n",
    "    \n",
    "\t1226457\t[STARLINK-5145 (54008)]  One Starlink at the plot!\n",
    "        \n",
    "\t1085358\t[STARLINK-2176 (47758)]\n",
    "    \n",
    "\t1040356\t[STARLINK-2566 (48287), STARLINK-2605 (48392)]  Doesn't appear at the plot\n",
    "    \n",
    "\t1061946\t[STARLINK-1324 (45574)]\n",
    "    \n",
    "    1165186  [STARLINK-4599 (53631)]\n",
    "    \n",
    "    1161606  [STARLINK-4045 (53152)]\n",
    "    \n",
    "    1180245  [STARLINK-4137 (53031)]\n",
    "    \n",
    "    1021815  [STARLINK-1133 (45064)]\n",
    "    \n",
    "  \n",
    "    \n",
    "#### Errors    \n",
    "    \n",
    "Exposure 157280 have an error with the url\n",
    "\n",
    "Exposure 166858 have an error with the url\n",
    "\n",
    "#### Questions\n",
    "\n",
    "- It's possible that we are making a big restriction with the streaks restriction? (more than 8 streaks) \n",
    "- Are the STARLINK named with a different ID? Like SL?\n",
    "- What's the meaning of the numbers of each satellite? STARLINK - ##### (*****)\n",
    "\n",
    "\n",
    "Link of Search Satellite Database (it's correct?)\n",
    "\n",
    "https://www.n2yo.com/satellites/?c=52"
   ]
  },
  {
   "cell_type": "markdown",
   "id": "93d44228",
   "metadata": {},
   "source": [
    "## Implementing as function"
   ]
  },
  {
   "cell_type": "code",
   "execution_count": 32,
   "id": "ba4c9ef1",
   "metadata": {},
   "outputs": [
    {
     "name": "stdout",
     "output_type": "stream",
     "text": [
      "EarthLocation\t Normalize\t Polygon\t ScalarMappable\t SkyCoord\t Time\t WCS\t coord\t data\t \n",
      "dateobs\t dec\t dec_center\t df_starlink\t duration\t elevation\t exp\t expnum_counts\t expnum_starlink\t \n",
      "expnums_mas_8\t expnumtry\t exptime\t fila\t find_satellites_in_decam_exp\t fov_radius\t go\t latitude\t longitude\t \n",
      "np\t pd\t pio\t plt\t ra\t ra_center\t requests\t response\t run_satchecker_fov_query\t \n",
      "satmap_completo\t satmap_starlink\t site\t starlinks\t starlinks_en_exp\t start_time_jd\t streaks1\t streaks_filtradas\t telemetry1\t \n",
      "telemetry1_filtrado\t timeobs\t todos_satelites\t tqdm\t u\t url\t \n"
     ]
    }
   ],
   "source": [
    "%who  \n",
    "\n",
    "#all variables avaiables"
   ]
  },
  {
   "cell_type": "code",
   "execution_count": 103,
   "id": "ab8903d8",
   "metadata": {},
   "outputs": [
    {
     "data": {
      "text/html": [
       "<div>\n",
       "<style scoped>\n",
       "    .dataframe tbody tr th:only-of-type {\n",
       "        vertical-align: middle;\n",
       "    }\n",
       "\n",
       "    .dataframe tbody tr th {\n",
       "        vertical-align: top;\n",
       "    }\n",
       "\n",
       "    .dataframe thead th {\n",
       "        text-align: right;\n",
       "    }\n",
       "</style>\n",
       "<table border=\"1\" class=\"dataframe\">\n",
       "  <thead>\n",
       "    <tr style=\"text-align: right;\">\n",
       "      <th></th>\n",
       "      <th>EXPNUM</th>\n",
       "      <th>BAND</th>\n",
       "      <th>TELESCOP</th>\n",
       "      <th>OBSERVAT</th>\n",
       "      <th>INSTRUME</th>\n",
       "      <th>OBS-LONG</th>\n",
       "      <th>OBS-LAT</th>\n",
       "      <th>OBS-ELEV</th>\n",
       "      <th>TELEQUIN</th>\n",
       "      <th>TIMESYS</th>\n",
       "      <th>DATE-OBS</th>\n",
       "      <th>TIME-OBS</th>\n",
       "      <th>DARKTIME</th>\n",
       "      <th>EXPTIME</th>\n",
       "      <th>RA</th>\n",
       "      <th>DEC</th>\n",
       "      <th>AZ</th>\n",
       "      <th>ZD</th>\n",
       "    </tr>\n",
       "  </thead>\n",
       "  <tbody>\n",
       "    <tr>\n",
       "      <th>0</th>\n",
       "      <td>140520</td>\n",
       "      <td>r</td>\n",
       "      <td>CTIO 4.0-m telescope</td>\n",
       "      <td>CTIO</td>\n",
       "      <td>DECam</td>\n",
       "      <td>70.8149</td>\n",
       "      <td>-30.1661</td>\n",
       "      <td>2215</td>\n",
       "      <td>2000</td>\n",
       "      <td>UTC</td>\n",
       "      <td>2012-10-20 00:25:35.429106</td>\n",
       "      <td>00:25:35.429106</td>\n",
       "      <td>2.10353</td>\n",
       "      <td>1.0</td>\n",
       "      <td>22:08:24.000</td>\n",
       "      <td>-32:59:17.599</td>\n",
       "      <td>116.2500</td>\n",
       "      <td>7.09</td>\n",
       "    </tr>\n",
       "    <tr>\n",
       "      <th>1</th>\n",
       "      <td>140521</td>\n",
       "      <td>r</td>\n",
       "      <td>CTIO 4.0-m telescope</td>\n",
       "      <td>CTIO</td>\n",
       "      <td>DECam</td>\n",
       "      <td>70.8149</td>\n",
       "      <td>-30.1661</td>\n",
       "      <td>2215</td>\n",
       "      <td>2000</td>\n",
       "      <td>UTC</td>\n",
       "      <td>2012-10-20 00:29:50.667562</td>\n",
       "      <td>00:29:50.667562</td>\n",
       "      <td>2.09597</td>\n",
       "      <td>1.0</td>\n",
       "      <td>22:08:23.970</td>\n",
       "      <td>-32:55:57.799</td>\n",
       "      <td>118.9300</td>\n",
       "      <td>6.25</td>\n",
       "    </tr>\n",
       "    <tr>\n",
       "      <th>2</th>\n",
       "      <td>140522</td>\n",
       "      <td>u</td>\n",
       "      <td>CTIO 4.0-m telescope</td>\n",
       "      <td>CTIO</td>\n",
       "      <td>DECam</td>\n",
       "      <td>70.8149</td>\n",
       "      <td>-30.1661</td>\n",
       "      <td>2215</td>\n",
       "      <td>2000</td>\n",
       "      <td>UTC</td>\n",
       "      <td>2012-10-20 00:46:16.576959</td>\n",
       "      <td>00:46:16.576959</td>\n",
       "      <td>31.09820</td>\n",
       "      <td>30.0</td>\n",
       "      <td>18:03:35.240</td>\n",
       "      <td>-30:02:00.600</td>\n",
       "      <td>254.2700</td>\n",
       "      <td>50.20</td>\n",
       "    </tr>\n",
       "    <tr>\n",
       "      <th>3</th>\n",
       "      <td>140523</td>\n",
       "      <td>u</td>\n",
       "      <td>CTIO 4.0-m telescope</td>\n",
       "      <td>CTIO</td>\n",
       "      <td>DECam</td>\n",
       "      <td>70.8149</td>\n",
       "      <td>-30.1661</td>\n",
       "      <td>2215</td>\n",
       "      <td>2000</td>\n",
       "      <td>UTC</td>\n",
       "      <td>2012-10-20 00:47:44.370016</td>\n",
       "      <td>00:47:44.370016</td>\n",
       "      <td>31.09300</td>\n",
       "      <td>30.0</td>\n",
       "      <td>18:03:35.250</td>\n",
       "      <td>-30:02:00.802</td>\n",
       "      <td>254.1500</td>\n",
       "      <td>50.50</td>\n",
       "    </tr>\n",
       "    <tr>\n",
       "      <th>4</th>\n",
       "      <td>140524</td>\n",
       "      <td>u</td>\n",
       "      <td>CTIO 4.0-m telescope</td>\n",
       "      <td>CTIO</td>\n",
       "      <td>DECam</td>\n",
       "      <td>70.8149</td>\n",
       "      <td>-30.1661</td>\n",
       "      <td>2215</td>\n",
       "      <td>2000</td>\n",
       "      <td>UTC</td>\n",
       "      <td>2012-10-20 00:49:47.211636</td>\n",
       "      <td>00:49:47.211636</td>\n",
       "      <td>31.09170</td>\n",
       "      <td>30.0</td>\n",
       "      <td>18:03:35.240</td>\n",
       "      <td>-30:02:00.802</td>\n",
       "      <td>253.9900</td>\n",
       "      <td>50.93</td>\n",
       "    </tr>\n",
       "    <tr>\n",
       "      <th>...</th>\n",
       "      <td>...</td>\n",
       "      <td>...</td>\n",
       "      <td>...</td>\n",
       "      <td>...</td>\n",
       "      <td>...</td>\n",
       "      <td>...</td>\n",
       "      <td>...</td>\n",
       "      <td>...</td>\n",
       "      <td>...</td>\n",
       "      <td>...</td>\n",
       "      <td>...</td>\n",
       "      <td>...</td>\n",
       "      <td>...</td>\n",
       "      <td>...</td>\n",
       "      <td>...</td>\n",
       "      <td>...</td>\n",
       "      <td>...</td>\n",
       "      <td>...</td>\n",
       "    </tr>\n",
       "    <tr>\n",
       "      <th>506513</th>\n",
       "      <td>1228730</td>\n",
       "      <td>g</td>\n",
       "      <td>CTIO 4.0-m telescope</td>\n",
       "      <td>CTIO</td>\n",
       "      <td>DECam</td>\n",
       "      <td>70.8149</td>\n",
       "      <td>-30.1661</td>\n",
       "      <td>2215</td>\n",
       "      <td>2000</td>\n",
       "      <td>UTC</td>\n",
       "      <td>2023-08-03 08:42:53.917964</td>\n",
       "      <td>08:42:53.917964</td>\n",
       "      <td>81.10140</td>\n",
       "      <td>80.0</td>\n",
       "      <td>03:30:36.090</td>\n",
       "      <td>-28:05:58.200</td>\n",
       "      <td>97.1620</td>\n",
       "      <td>36.05</td>\n",
       "    </tr>\n",
       "    <tr>\n",
       "      <th>506514</th>\n",
       "      <td>1228731</td>\n",
       "      <td>r</td>\n",
       "      <td>CTIO 4.0-m telescope</td>\n",
       "      <td>CTIO</td>\n",
       "      <td>DECam</td>\n",
       "      <td>70.8149</td>\n",
       "      <td>-30.1661</td>\n",
       "      <td>2215</td>\n",
       "      <td>2000</td>\n",
       "      <td>UTC</td>\n",
       "      <td>2023-08-03 08:44:44.058111</td>\n",
       "      <td>08:44:44.058111</td>\n",
       "      <td>71.12170</td>\n",
       "      <td>70.0</td>\n",
       "      <td>03:30:36.079</td>\n",
       "      <td>-28:05:58.200</td>\n",
       "      <td>97.0003</td>\n",
       "      <td>35.66</td>\n",
       "    </tr>\n",
       "    <tr>\n",
       "      <th>506515</th>\n",
       "      <td>1228732</td>\n",
       "      <td>r</td>\n",
       "      <td>CTIO 4.0-m telescope</td>\n",
       "      <td>CTIO</td>\n",
       "      <td>DECam</td>\n",
       "      <td>70.8149</td>\n",
       "      <td>-30.1661</td>\n",
       "      <td>2215</td>\n",
       "      <td>2000</td>\n",
       "      <td>UTC</td>\n",
       "      <td>2023-08-03 08:46:22.681357</td>\n",
       "      <td>08:46:22.681357</td>\n",
       "      <td>71.10870</td>\n",
       "      <td>70.0</td>\n",
       "      <td>03:30:36.090</td>\n",
       "      <td>-28:05:58.200</td>\n",
       "      <td>96.8515</td>\n",
       "      <td>35.30</td>\n",
       "    </tr>\n",
       "    <tr>\n",
       "      <th>506516</th>\n",
       "      <td>1228733</td>\n",
       "      <td>i</td>\n",
       "      <td>CTIO 4.0-m telescope</td>\n",
       "      <td>CTIO</td>\n",
       "      <td>DECam</td>\n",
       "      <td>70.8149</td>\n",
       "      <td>-30.1661</td>\n",
       "      <td>2215</td>\n",
       "      <td>2000</td>\n",
       "      <td>UTC</td>\n",
       "      <td>2023-08-03 08:48:02.549261</td>\n",
       "      <td>08:48:02.549261</td>\n",
       "      <td>91.09020</td>\n",
       "      <td>90.0</td>\n",
       "      <td>03:30:36.112</td>\n",
       "      <td>-28:05:58.099</td>\n",
       "      <td>96.7036</td>\n",
       "      <td>34.94</td>\n",
       "    </tr>\n",
       "    <tr>\n",
       "      <th>506517</th>\n",
       "      <td>1228734</td>\n",
       "      <td>i</td>\n",
       "      <td>CTIO 4.0-m telescope</td>\n",
       "      <td>CTIO</td>\n",
       "      <td>DECam</td>\n",
       "      <td>70.8149</td>\n",
       "      <td>-30.1661</td>\n",
       "      <td>2215</td>\n",
       "      <td>2000</td>\n",
       "      <td>UTC</td>\n",
       "      <td>2023-08-03 08:50:01.864095</td>\n",
       "      <td>08:50:01.864095</td>\n",
       "      <td>91.12910</td>\n",
       "      <td>90.0</td>\n",
       "      <td>03:30:36.112</td>\n",
       "      <td>-28:05:58.099</td>\n",
       "      <td>96.5253</td>\n",
       "      <td>34.52</td>\n",
       "    </tr>\n",
       "  </tbody>\n",
       "</table>\n",
       "<p>506518 rows × 18 columns</p>\n",
       "</div>"
      ],
      "text/plain": [
       "         EXPNUM BAND              TELESCOP OBSERVAT INSTRUME  OBS-LONG  \\\n",
       "0        140520    r  CTIO 4.0-m telescope     CTIO    DECam   70.8149   \n",
       "1        140521    r  CTIO 4.0-m telescope     CTIO    DECam   70.8149   \n",
       "2        140522    u  CTIO 4.0-m telescope     CTIO    DECam   70.8149   \n",
       "3        140523    u  CTIO 4.0-m telescope     CTIO    DECam   70.8149   \n",
       "4        140524    u  CTIO 4.0-m telescope     CTIO    DECam   70.8149   \n",
       "...         ...  ...                   ...      ...      ...       ...   \n",
       "506513  1228730    g  CTIO 4.0-m telescope     CTIO    DECam   70.8149   \n",
       "506514  1228731    r  CTIO 4.0-m telescope     CTIO    DECam   70.8149   \n",
       "506515  1228732    r  CTIO 4.0-m telescope     CTIO    DECam   70.8149   \n",
       "506516  1228733    i  CTIO 4.0-m telescope     CTIO    DECam   70.8149   \n",
       "506517  1228734    i  CTIO 4.0-m telescope     CTIO    DECam   70.8149   \n",
       "\n",
       "        OBS-LAT  OBS-ELEV  TELEQUIN TIMESYS                    DATE-OBS  \\\n",
       "0      -30.1661      2215      2000     UTC  2012-10-20 00:25:35.429106   \n",
       "1      -30.1661      2215      2000     UTC  2012-10-20 00:29:50.667562   \n",
       "2      -30.1661      2215      2000     UTC  2012-10-20 00:46:16.576959   \n",
       "3      -30.1661      2215      2000     UTC  2012-10-20 00:47:44.370016   \n",
       "4      -30.1661      2215      2000     UTC  2012-10-20 00:49:47.211636   \n",
       "...         ...       ...       ...     ...                         ...   \n",
       "506513 -30.1661      2215      2000     UTC  2023-08-03 08:42:53.917964   \n",
       "506514 -30.1661      2215      2000     UTC  2023-08-03 08:44:44.058111   \n",
       "506515 -30.1661      2215      2000     UTC  2023-08-03 08:46:22.681357   \n",
       "506516 -30.1661      2215      2000     UTC  2023-08-03 08:48:02.549261   \n",
       "506517 -30.1661      2215      2000     UTC  2023-08-03 08:50:01.864095   \n",
       "\n",
       "               TIME-OBS  DARKTIME  EXPTIME            RA            DEC  \\\n",
       "0       00:25:35.429106   2.10353      1.0  22:08:24.000  -32:59:17.599   \n",
       "1       00:29:50.667562   2.09597      1.0  22:08:23.970  -32:55:57.799   \n",
       "2       00:46:16.576959  31.09820     30.0  18:03:35.240  -30:02:00.600   \n",
       "3       00:47:44.370016  31.09300     30.0  18:03:35.250  -30:02:00.802   \n",
       "4       00:49:47.211636  31.09170     30.0  18:03:35.240  -30:02:00.802   \n",
       "...                 ...       ...      ...           ...            ...   \n",
       "506513  08:42:53.917964  81.10140     80.0  03:30:36.090  -28:05:58.200   \n",
       "506514  08:44:44.058111  71.12170     70.0  03:30:36.079  -28:05:58.200   \n",
       "506515  08:46:22.681357  71.10870     70.0  03:30:36.090  -28:05:58.200   \n",
       "506516  08:48:02.549261  91.09020     90.0  03:30:36.112  -28:05:58.099   \n",
       "506517  08:50:01.864095  91.12910     90.0  03:30:36.112  -28:05:58.099   \n",
       "\n",
       "              AZ     ZD  \n",
       "0       116.2500   7.09  \n",
       "1       118.9300   6.25  \n",
       "2       254.2700  50.20  \n",
       "3       254.1500  50.50  \n",
       "4       253.9900  50.93  \n",
       "...          ...    ...  \n",
       "506513   97.1620  36.05  \n",
       "506514   97.0003  35.66  \n",
       "506515   96.8515  35.30  \n",
       "506516   96.7036  34.94  \n",
       "506517   96.5253  34.52  \n",
       "\n",
       "[506518 rows x 18 columns]"
      ]
     },
     "execution_count": 103,
     "metadata": {},
     "output_type": "execute_result"
    }
   ],
   "source": [
    "telemetry1"
   ]
  },
  {
   "cell_type": "code",
   "execution_count": 104,
   "id": "9229642b",
   "metadata": {},
   "outputs": [
    {
     "data": {
      "text/html": [
       "<div>\n",
       "<style scoped>\n",
       "    .dataframe tbody tr th:only-of-type {\n",
       "        vertical-align: middle;\n",
       "    }\n",
       "\n",
       "    .dataframe tbody tr th {\n",
       "        vertical-align: top;\n",
       "    }\n",
       "\n",
       "    .dataframe thead th {\n",
       "        text-align: right;\n",
       "    }\n",
       "</style>\n",
       "<table border=\"1\" class=\"dataframe\">\n",
       "  <thead>\n",
       "    <tr style=\"text-align: right;\">\n",
       "      <th></th>\n",
       "      <th>filename</th>\n",
       "      <th>rnum</th>\n",
       "      <th>ra_1</th>\n",
       "      <th>ra_2</th>\n",
       "      <th>ra_3</th>\n",
       "      <th>ra_4</th>\n",
       "      <th>dec_1</th>\n",
       "      <th>dec_2</th>\n",
       "      <th>dec_3</th>\n",
       "      <th>dec_4</th>\n",
       "      <th>expnum</th>\n",
       "      <th>ccdnum</th>\n",
       "      <th>band</th>\n",
       "    </tr>\n",
       "  </thead>\n",
       "  <tbody>\n",
       "    <tr>\n",
       "      <th>0</th>\n",
       "      <td>D00145425_g_c03_r4148p01_hstreak.fits</td>\n",
       "      <td>3</td>\n",
       "      <td>1.159330</td>\n",
       "      <td>1.160919</td>\n",
       "      <td>1.164310</td>\n",
       "      <td>1.162720</td>\n",
       "      <td>-28.724241</td>\n",
       "      <td>-28.724212</td>\n",
       "      <td>-28.857155</td>\n",
       "      <td>-28.857183</td>\n",
       "      <td>145425</td>\n",
       "      <td>3</td>\n",
       "      <td>g</td>\n",
       "    </tr>\n",
       "    <tr>\n",
       "      <th>1</th>\n",
       "      <td>D00145425_g_c06_r4148p01_hstreak.fits</td>\n",
       "      <td>1</td>\n",
       "      <td>0.986677</td>\n",
       "      <td>0.986711</td>\n",
       "      <td>0.644209</td>\n",
       "      <td>0.644186</td>\n",
       "      <td>-29.032018</td>\n",
       "      <td>-29.034283</td>\n",
       "      <td>-29.037208</td>\n",
       "      <td>-29.034944</td>\n",
       "      <td>145425</td>\n",
       "      <td>6</td>\n",
       "      <td>g</td>\n",
       "    </tr>\n",
       "    <tr>\n",
       "      <th>2</th>\n",
       "      <td>D00145425_g_c09_r4148p01_hstreak.fits</td>\n",
       "      <td>1</td>\n",
       "      <td>0.452852</td>\n",
       "      <td>0.452942</td>\n",
       "      <td>0.109842</td>\n",
       "      <td>0.109782</td>\n",
       "      <td>-29.193042</td>\n",
       "      <td>-29.199694</td>\n",
       "      <td>-29.203265</td>\n",
       "      <td>-29.196615</td>\n",
       "      <td>145425</td>\n",
       "      <td>9</td>\n",
       "      <td>g</td>\n",
       "    </tr>\n",
       "    <tr>\n",
       "      <th>3</th>\n",
       "      <td>D00145425_g_c15_r4148p01_hstreak.fits</td>\n",
       "      <td>1</td>\n",
       "      <td>0.286716</td>\n",
       "      <td>0.286812</td>\n",
       "      <td>0.630816</td>\n",
       "      <td>0.630741</td>\n",
       "      <td>-29.363308</td>\n",
       "      <td>-29.358405</td>\n",
       "      <td>-29.362739</td>\n",
       "      <td>-29.367644</td>\n",
       "      <td>145425</td>\n",
       "      <td>15</td>\n",
       "      <td>g</td>\n",
       "    </tr>\n",
       "    <tr>\n",
       "      <th>4</th>\n",
       "      <td>D00145425_g_c16_r4148p01_hstreak.fits</td>\n",
       "      <td>1</td>\n",
       "      <td>0.985852</td>\n",
       "      <td>0.987446</td>\n",
       "      <td>0.987211</td>\n",
       "      <td>0.985615</td>\n",
       "      <td>-29.216748</td>\n",
       "      <td>-29.216752</td>\n",
       "      <td>-29.366385</td>\n",
       "      <td>-29.366381</td>\n",
       "      <td>145425</td>\n",
       "      <td>16</td>\n",
       "      <td>g</td>\n",
       "    </tr>\n",
       "    <tr>\n",
       "      <th>...</th>\n",
       "      <td>...</td>\n",
       "      <td>...</td>\n",
       "      <td>...</td>\n",
       "      <td>...</td>\n",
       "      <td>...</td>\n",
       "      <td>...</td>\n",
       "      <td>...</td>\n",
       "      <td>...</td>\n",
       "      <td>...</td>\n",
       "      <td>...</td>\n",
       "      <td>...</td>\n",
       "      <td>...</td>\n",
       "      <td>...</td>\n",
       "    </tr>\n",
       "    <tr>\n",
       "      <th>879115</th>\n",
       "      <td>D01223535_g_c05_r6224p01_hstreak.fits</td>\n",
       "      <td>1</td>\n",
       "      <td>323.500201</td>\n",
       "      <td>323.502653</td>\n",
       "      <td>323.444690</td>\n",
       "      <td>323.442238</td>\n",
       "      <td>-17.828499</td>\n",
       "      <td>-17.830897</td>\n",
       "      <td>-17.884254</td>\n",
       "      <td>-17.881855</td>\n",
       "      <td>1223535</td>\n",
       "      <td>5</td>\n",
       "      <td>g</td>\n",
       "    </tr>\n",
       "    <tr>\n",
       "      <th>879116</th>\n",
       "      <td>D01223535_g_c31_r6224p01_hstreak.fits</td>\n",
       "      <td>1</td>\n",
       "      <td>324.355544</td>\n",
       "      <td>324.369908</td>\n",
       "      <td>324.372363</td>\n",
       "      <td>324.357994</td>\n",
       "      <td>-18.392109</td>\n",
       "      <td>-18.391941</td>\n",
       "      <td>-18.541070</td>\n",
       "      <td>-18.541235</td>\n",
       "      <td>1223535</td>\n",
       "      <td>31</td>\n",
       "      <td>g</td>\n",
       "    </tr>\n",
       "    <tr>\n",
       "      <th>879117</th>\n",
       "      <td>D01223535_g_c56_r6224p01_hstreak.fits</td>\n",
       "      <td>1</td>\n",
       "      <td>322.914589</td>\n",
       "      <td>322.934330</td>\n",
       "      <td>322.849385</td>\n",
       "      <td>322.829651</td>\n",
       "      <td>-19.193809</td>\n",
       "      <td>-19.210870</td>\n",
       "      <td>-19.298406</td>\n",
       "      <td>-19.281342</td>\n",
       "      <td>1223535</td>\n",
       "      <td>56</td>\n",
       "      <td>g</td>\n",
       "    </tr>\n",
       "    <tr>\n",
       "      <th>879118</th>\n",
       "      <td>D01223535_g_c58_r6224p01_hstreak.fits</td>\n",
       "      <td>1</td>\n",
       "      <td>323.771850</td>\n",
       "      <td>323.783894</td>\n",
       "      <td>323.835739</td>\n",
       "      <td>323.823696</td>\n",
       "      <td>-19.214779</td>\n",
       "      <td>-19.204086</td>\n",
       "      <td>-19.255903</td>\n",
       "      <td>-19.266598</td>\n",
       "      <td>1223535</td>\n",
       "      <td>58</td>\n",
       "      <td>g</td>\n",
       "    </tr>\n",
       "    <tr>\n",
       "      <th>879119</th>\n",
       "      <td>D01223535_g_c59_r6224p01_hstreak.fits</td>\n",
       "      <td>1</td>\n",
       "      <td>323.878330</td>\n",
       "      <td>323.890982</td>\n",
       "      <td>323.836373</td>\n",
       "      <td>323.823717</td>\n",
       "      <td>-19.203540</td>\n",
       "      <td>-19.214870</td>\n",
       "      <td>-19.269001</td>\n",
       "      <td>-19.257671</td>\n",
       "      <td>1223535</td>\n",
       "      <td>59</td>\n",
       "      <td>g</td>\n",
       "    </tr>\n",
       "  </tbody>\n",
       "</table>\n",
       "<p>879120 rows × 13 columns</p>\n",
       "</div>"
      ],
      "text/plain": [
       "                                     filename  rnum        ra_1        ra_2  \\\n",
       "0       D00145425_g_c03_r4148p01_hstreak.fits     3    1.159330    1.160919   \n",
       "1       D00145425_g_c06_r4148p01_hstreak.fits     1    0.986677    0.986711   \n",
       "2       D00145425_g_c09_r4148p01_hstreak.fits     1    0.452852    0.452942   \n",
       "3       D00145425_g_c15_r4148p01_hstreak.fits     1    0.286716    0.286812   \n",
       "4       D00145425_g_c16_r4148p01_hstreak.fits     1    0.985852    0.987446   \n",
       "...                                       ...   ...         ...         ...   \n",
       "879115  D01223535_g_c05_r6224p01_hstreak.fits     1  323.500201  323.502653   \n",
       "879116  D01223535_g_c31_r6224p01_hstreak.fits     1  324.355544  324.369908   \n",
       "879117  D01223535_g_c56_r6224p01_hstreak.fits     1  322.914589  322.934330   \n",
       "879118  D01223535_g_c58_r6224p01_hstreak.fits     1  323.771850  323.783894   \n",
       "879119  D01223535_g_c59_r6224p01_hstreak.fits     1  323.878330  323.890982   \n",
       "\n",
       "              ra_3        ra_4      dec_1      dec_2      dec_3      dec_4  \\\n",
       "0         1.164310    1.162720 -28.724241 -28.724212 -28.857155 -28.857183   \n",
       "1         0.644209    0.644186 -29.032018 -29.034283 -29.037208 -29.034944   \n",
       "2         0.109842    0.109782 -29.193042 -29.199694 -29.203265 -29.196615   \n",
       "3         0.630816    0.630741 -29.363308 -29.358405 -29.362739 -29.367644   \n",
       "4         0.987211    0.985615 -29.216748 -29.216752 -29.366385 -29.366381   \n",
       "...            ...         ...        ...        ...        ...        ...   \n",
       "879115  323.444690  323.442238 -17.828499 -17.830897 -17.884254 -17.881855   \n",
       "879116  324.372363  324.357994 -18.392109 -18.391941 -18.541070 -18.541235   \n",
       "879117  322.849385  322.829651 -19.193809 -19.210870 -19.298406 -19.281342   \n",
       "879118  323.835739  323.823696 -19.214779 -19.204086 -19.255903 -19.266598   \n",
       "879119  323.836373  323.823717 -19.203540 -19.214870 -19.269001 -19.257671   \n",
       "\n",
       "         expnum  ccdnum band  \n",
       "0        145425       3    g  \n",
       "1        145425       6    g  \n",
       "2        145425       9    g  \n",
       "3        145425      15    g  \n",
       "4        145425      16    g  \n",
       "...         ...     ...  ...  \n",
       "879115  1223535       5    g  \n",
       "879116  1223535      31    g  \n",
       "879117  1223535      56    g  \n",
       "879118  1223535      58    g  \n",
       "879119  1223535      59    g  \n",
       "\n",
       "[879120 rows x 13 columns]"
      ]
     },
     "execution_count": 104,
     "metadata": {},
     "output_type": "execute_result"
    }
   ],
   "source": [
    "streaks1"
   ]
  },
  {
   "cell_type": "code",
   "execution_count": 115,
   "id": "cc107d5a",
   "metadata": {},
   "outputs": [],
   "source": [
    "def run_satchecker_fov_query(latitude, longitude, elevation, duration, start_time_jd, fov_radius, ra, dec):\n",
    "    \"\"\"Consulta SatChecker para satélites en el campo de visión/field of view(fov).\"\"\"\n",
    "    url = (\n",
    "        f\"https://dev.satchecker.cps.iau.noirlab.edu/fov/satellite-passes/?\"\n",
    "        f\"latitude={latitude}&longitude={longitude}&elevation={elevation}&\"\n",
    "        f\"start_time_jd={start_time_jd}&duration={duration}&ra={ra}&dec={dec}&\"\n",
    "        f\"fov_radius={fov_radius}&group_by=satellite\"\n",
    "    )\n",
    "\n",
    "    print(f\"\\nConsultando SatChecker con la siguiente URL:\\n{url}\") \n",
    "\n",
    "    try:\n",
    "        response = requests.get(url, timeout=60)\n",
    "        response.raise_for_status()\n",
    "        data = response.json()\n",
    "    except Exception as e:\n",
    "        print(\"Error al consultar el API:\", e)\n",
    "        return {}\n",
    "\n",
    "    if 'data' not in data or 'satellites' not in data['data']:\n",
    "        print(\"Respuesta sin datos de satélites.\")\n",
    "        return {}\n",
    "\n",
    "    sats = {\n",
    "        k: [[p['ra'], p['dec'], p['julian_date']] for p in v['positions']]\n",
    "        for k, v in data['data']['satellites'].items()\n",
    "    }\n",
    "\n",
    "    print(f\"Satélites encontrados: {list(sats.keys())}\")\n",
    "    return sats\n"
   ]
  },
  {
   "cell_type": "code",
   "execution_count": 132,
   "id": "1760ec21",
   "metadata": {},
   "outputs": [],
   "source": [
    "def find_satellites_in_decam_exp(EXPNUM, name='STARLINK', fov=1.0, verbose=True):\n",
    "    \"\"\"\n",
    "    Dada una exposición DECam (EXPNUM), consulta SatChecker y devuelve los satélites\n",
    "    cuyo nombre contenga 'name' (por defecto STARLINK) que cruzan el campo de visión.\n",
    "    \"\"\"\n",
    "    if EXPNUM not in telemetry1['EXPNUM'].values:  #verifica que exista el expnum\n",
    "        print(f\"EXPNUM {EXPNUM} no encontrado.\")\n",
    "        return {}\n",
    "\n",
    "    row = telemetry1[telemetry1['EXPNUM'] == EXPNUM].iloc[0]\n",
    "\n",
    "    #ubication and duration\n",
    "    latitude = row['OBS-LAT']\n",
    "    longitude = row['OBS-LONG']\n",
    "    elevation = row['OBS-ELEV']\n",
    "    duration = max(float(row['EXPTIME']), 1)\n",
    "    start_time_jd = Time(row['DATE-OBS']).jd\n",
    "\n",
    "    # Convierte automaticamente horas a grados, si se deja como hora, da error\n",
    "    try:\n",
    "        ra = Angle(row['RA'], unit='hourangle').degree if isinstance(row['RA'], str) else float(row['RA'])\n",
    "    except:\n",
    "        ra = float(row['RA'])\n",
    "\n",
    "    try:\n",
    "        dec = Angle(row['DEC'], unit='deg').degree if isinstance(row['DEC'], str) else float(row['DEC'])\n",
    "    except:\n",
    "        dec = float(row['DEC'])\n",
    "\n",
    "        \n",
    "    #SatChecker consult (defined previously)    \n",
    "    sats = run_satchecker_fov_query(latitude, longitude, elevation, duration, start_time_jd, fov, ra, dec)\n",
    "    if name:\n",
    "        named = {k: v for k, v in sats.items() if name.upper() in k.upper()}\n",
    "    else:\n",
    "        named = sats\n",
    "    \n",
    "    #Filtrando por nombres del satelite, each satelite is called k\n",
    "    named = {k: v for k, v in sats.items() if name.upper() in k.upper()}  # .upper para ponerlo todo en mayusculas\n",
    "        \n",
    "\n",
    "    # data resume\n",
    "    if verbose:\n",
    "        print(f\"\\nEXPNUM: {EXPNUM}\")\n",
    "        print(f\"DATE-OBS: {row['DATE-OBS']} | Duración: {duration:.1f} s\")\n",
    "        print(f\"RA: {ra:.3f} deg | DEC: {dec:.3f} deg | FOV: {fov}°\")\n",
    "        print(f\"{len(named)} satélites con nombre '{name}' encontrados.\\n\")\n",
    "\n",
    "    return named\n"
   ]
  },
  {
   "cell_type": "code",
   "execution_count": 133,
   "id": "08344762",
   "metadata": {},
   "outputs": [],
   "source": [
    "def plot_satellites_in_exposure(EXPNUM, name='STARLINK', fov_radius=1.0):\n",
    "    sats = find_satellites_in_decam_exp(EXPNUM, name=name, fov=fov_radius, verbose=True) # va a filtrar solo los starlink\n",
    "    \n",
    "    if not sats:   #si no hay starlinks, no los grafica\n",
    "        print(\"No se encontraron satélites para graficar.\")\n",
    "        return\n",
    "    \n",
    "    row = telemetry1[telemetry1['EXPNUM'] == EXPNUM].iloc[0]\n",
    "    \n",
    "    \n",
    "    #ra y dec en coordenadas amigables\n",
    "    coord = SkyCoord(ra=row['RA'], dec=row['DEC'], unit=(u.hourangle, u.deg)) if ':' in str(row['RA']) else SkyCoord(ra=float(row['RA'])*u.deg, dec=float(row['DEC'])*u.deg)\n",
    "    ra_center = coord.ra.deg\n",
    "    dec_center = coord.dec.deg\n",
    "    duration = float(row['EXPTIME'])\n",
    "    start_time_jd = Time(row['DATE-OBS']).jd\n",
    "\n",
    "    # Configuración de WCS (proyección del cielo en la gráfica)\n",
    "    wcs = WCS(naxis=2)\n",
    "    wcs.wcs.crpix = [0, 0]\n",
    "    wcs.wcs.crval = [ra_center, dec_center] #centro de la imagen\n",
    "    wcs.wcs.cdelt = [0.1, 0.1]  # zoom de la imagen/tamaño de pixel\n",
    "    wcs.wcs.ctype = ['RA---TAN', 'DEC--TAN']\n",
    "\n",
    "    # Plot\n",
    "    fig = plt.figure(figsize=(14, 10))\n",
    "    ax = fig.add_subplot(1, 1, 1, projection=wcs)\n",
    "\n",
    "    # Campo de visión\n",
    "    center = SkyCoord(ra=ra_center * u.deg, dec=dec_center * u.deg, frame='icrs')\n",
    "    angles = np.linspace(0, 360, 360) * u.deg\n",
    "    circle = center.directional_offset_by(angles, fov_radius * u.deg)\n",
    "    ax.plot(circle.ra.deg, circle.dec.deg, c='0.75', ls='--', label='FOV', transform=ax.get_transform('world'))\n",
    "\n",
    "    # Trayectorias de los satélites\n",
    "    for sat_name, path in sats.items():\n",
    "        ra = [p[0] for p in path]\n",
    "        dec = [p[1] for p in path]\n",
    "        times = [p[2] for p in path]\n",
    "\n",
    "        coords = SkyCoord(ra=ra * u.deg, dec=dec * u.deg)\n",
    "        ax.plot(coords.ra.deg, coords.dec.deg, transform=ax.get_transform('world'), label=sat_name)\n",
    "        ax.scatter(coords.ra.deg, coords.dec.deg, transform=ax.get_transform('world'), s=6)\n",
    "\n",
    "        # Etiquetar cada satélite\n",
    "        if coords.ra.deg[0] < coords.ra.deg[-1]:\n",
    "            ax.text(coords.ra.deg[0], coords.dec.deg[0], sat_name, transform=ax.get_transform('world'), fontsize=6)\n",
    "        else:\n",
    "            ax.text(coords.ra.deg[-1], coords.dec.deg[-1], sat_name, transform=ax.get_transform('world'), fontsize=6)\n",
    "\n",
    "    ax.set_aspect('equal')\n",
    "    ax.legend(bbox_to_anchor=(0.95, 1), loc='upper left', fontsize=6)\n",
    "    ax.set_xlabel('Right Ascension')\n",
    "    ax.set_ylabel('Declination')\n",
    "    ax.set_title(f'Satellite Passes at JD {start_time_jd:.4f} (duration {duration:.1f} s)')\n",
    "    ax.invert_xaxis()\n",
    "    ax.grid(True, linestyle='--', color='lightgray')\n",
    "\n",
    "    plt.show()\n"
   ]
  },
  {
   "cell_type": "code",
   "execution_count": 134,
   "id": "42c45704",
   "metadata": {
    "scrolled": false
   },
   "outputs": [
    {
     "name": "stdout",
     "output_type": "stream",
     "text": [
      "\n",
      "Consultando SatChecker con la siguiente URL:\n",
      "https://dev.satchecker.cps.iau.noirlab.edu/fov/satellite-passes/?latitude=-30.1661&longitude=70.8149&elevation=2215&start_time_jd=2460155.4759624195&duration=142.0&ra=190.69321666666664&dec=-20.17613888888889&fov_radius=1.0&group_by=satellite\n",
      "Satélites encontrados: ['CANX-6 (32784)', 'COSMOS 1703 (16262)', 'NOAA 13 (22739)', 'SL-14 R/B (19337)', 'STARLINK-4330 (53080)', 'STARLINK-5077 (55391)']\n",
      "\n",
      "EXPNUM: 1226457\n",
      "DATE-OBS: 2023-07-29 23:25:23.153033 | Duración: 142.0 s\n",
      "RA: 190.693 deg | DEC: -20.176 deg | FOV: 1.0°\n",
      "2 satélites con nombre 'STARLINK' encontrados.\n",
      "\n"
     ]
    },
    {
     "data": {
      "image/png": "[encoded data removed]",
      "text/plain": [
       "<Figure size 1400x1000 with 1 Axes>"
      ]
     },
     "metadata": {},
     "output_type": "display_data"
    }
   ],
   "source": [
    "plot_satellites_in_exposure(1226457)"
   ]
  },
  {
   "cell_type": "code",
   "execution_count": 135,
   "id": "2856fdfd",
   "metadata": {},
   "outputs": [
    {
     "name": "stdout",
     "output_type": "stream",
     "text": [
      "\n",
      "Consultando SatChecker con la siguiente URL:\n",
      "https://dev.satchecker.cps.iau.noirlab.edu/fov/satellite-passes/?latitude=-30.1661&longitude=70.8149&elevation=2215&start_time_jd=2459492.783420907&duration=50.0&ra=35.660533333333326&dec=-7.5966661111111105&fov_radius=1.0&group_by=satellite\n",
      "Satélites encontrados: ['ONEWEB-0214 (48788)', 'ONEWEB-0224 (48794)', 'SL-3 R/B (4420)', 'STARLINK-1237 (45192)', 'STARLINK-2464 (48123)']\n",
      "\n",
      "EXPNUM: 1040356\n",
      "DATE-OBS: 2021-10-05 06:48:07.566372 | Duración: 50.0 s\n",
      "RA: 35.661 deg | DEC: -7.597 deg | FOV: 1.0°\n",
      "2 satélites con nombre 'STARLINK' encontrados.\n",
      "\n"
     ]
    },
    {
     "data": {
      "image/png": "[encoded data removed]",
      "text/plain": [
       "<Figure size 1400x1000 with 1 Axes>"
      ]
     },
     "metadata": {},
     "output_type": "display_data"
    }
   ],
   "source": [
    "plot_satellites_in_exposure(1040356)"
   ]
  },
  {
   "cell_type": "code",
   "execution_count": 136,
   "id": "3f7bcc43",
   "metadata": {},
   "outputs": [
    {
     "name": "stdout",
     "output_type": "stream",
     "text": [
      "\n",
      "Consultando SatChecker con la siguiente URL:\n",
      "https://dev.satchecker.cps.iau.noirlab.edu/fov/satellite-passes/?latitude=-30.1661&longitude=70.8149&elevation=2215&start_time_jd=2459947.7147467905&duration=50.0&ra=115.81062083333332&dec=-1.098806111111111&fov_radius=1.0&group_by=satellite\n",
      "Satélites encontrados: ['SL-14 R/B (15100)', 'STARLINK-3048 (49148)', 'STARLINK-3194 (49758)']\n",
      "\n",
      "EXPNUM: 1161606\n",
      "DATE-OBS: 2023-01-03 05:09:14.122691 | Duración: 50.0 s\n",
      "RA: 115.811 deg | DEC: -1.099 deg | FOV: 1.0°\n",
      "2 satélites con nombre 'STARLINK' encontrados.\n",
      "\n"
     ]
    },
    {
     "data": {
      "image/png": "[encoded data removed]",
      "text/plain": [
       "<Figure size 1400x1000 with 1 Axes>"
      ]
     },
     "metadata": {},
     "output_type": "display_data"
    }
   ],
   "source": [
    "plot_satellites_in_exposure(1161606)"
   ]
  },
  {
   "cell_type": "code",
   "execution_count": 137,
   "id": "a3470c3e",
   "metadata": {},
   "outputs": [
    {
     "name": "stdout",
     "output_type": "stream",
     "text": [
      "\n",
      "Consultando SatChecker con la siguiente URL:\n",
      "https://dev.satchecker.cps.iau.noirlab.edu/fov/satellite-passes/?latitude=-30.1661&longitude=70.8149&elevation=2215&start_time_jd=2459642.554146692&duration=100.0&ra=158.21890416666665&dec=-58.679386944444445&fov_radius=1.0&group_by=satellite\n",
      "Satélites encontrados: ['STARLINK-1700 (46549)', 'STARLINK-2344 (47885)']\n",
      "\n",
      "EXPNUM: 1085358\n",
      "DATE-OBS: 2022-03-04 01:17:58.27419 | Duración: 100.0 s\n",
      "RA: 158.219 deg | DEC: -58.679 deg | FOV: 1.0°\n",
      "2 satélites con nombre 'STARLINK' encontrados.\n",
      "\n"
     ]
    },
    {
     "data": {
      "image/png": "[encoded data removed]",
      "text/plain": [
       "<Figure size 1400x1000 with 1 Axes>"
      ]
     },
     "metadata": {},
     "output_type": "display_data"
    }
   ],
   "source": [
    "plot_satellites_in_exposure(1085358)"
   ]
  },
  {
   "cell_type": "code",
   "execution_count": null,
   "id": "d9daaaea",
   "metadata": {},
   "outputs": [],
   "source": []
  }
 ],
 "metadata": {
  "kernelspec": {
   "display_name": "Python 3 (ipykernel)",
   "language": "python",
   "name": "python3"
  },
  "language_info": {
   "codemirror_mode": {
    "name": "ipython",
    "version": 3
   },
   "file_extension": ".py",
   "mimetype": "text/x-python",
   "name": "python",
   "nbconvert_exporter": "python",
   "pygments_lexer": "ipython3",
   "version": "3.9.13"
  }
 },
 "nbformat": 4,
 "nbformat_minor": 5
}
